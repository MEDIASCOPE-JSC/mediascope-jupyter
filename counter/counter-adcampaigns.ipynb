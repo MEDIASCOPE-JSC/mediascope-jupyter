{
 "cells": [
  {
   "cell_type": "markdown",
   "id": "b59f7113",
   "metadata": {},
   "source": [
    "# Counter AdCampaigns\n",
    "\n",
    "Шаблон для расчета статистик по данным счетчика Mediascope"
   ]
  },
  {
   "cell_type": "markdown",
   "id": "e6ab5ea0",
   "metadata": {},
   "source": [
    "## Инициализация\n",
    "\n",
    "При построении отчета первый шаг в любом ноутбуке - загрузка библиотек, которые помогут обращаться к Counter API и работать с данными.\n",
    "\n",
    "Выполните следующую ячейку, для этого перейдите в нее и нажмите Ctrl+Enter"
   ]
  },
  {
   "cell_type": "code",
   "execution_count": null,
   "id": "42cdae98-9083-4717-9030-46b09fb927b2",
   "metadata": {
    "ExecuteTime": {
     "end_time": null,
     "start_time": null
    }
   },
   "outputs": [],
   "source": [
    "%reload_ext autoreload\n",
    "%autoreload 2\n",
    "\n",
    "import pandas as pd\n",
    "from mediascope_api.counter import tasks, catalogs\n",
    "\n",
    "counter_task = tasks.CounterTask()\n",
    "counter_cats = catalogs.CounterCats()"
   ]
  },
  {
   "cell_type": "markdown",
   "id": "4cbb8b817c0ae5d0",
   "metadata": {},
   "source": [
    "## Работа со справочником AdCampaigns"
   ]
  },
  {
   "cell_type": "code",
   "execution_count": null,
   "id": "53d0d83ff3b2a1f5",
   "metadata": {
    "ExecuteTime": {
     "end_time": null,
     "start_time": null
    }
   },
   "outputs": [],
   "source": [
    "# поиск по имени рекламного агентства (можно искать по нескольким именам)\n",
    "counter_cats.get_adcampaigns(advertisement_agency_names=['Agency1'])\n",
    "# пример поиска по нескольким именам\n",
    "#counter_cats.get_adcampaigns(advertisement_agency_names=['Agency1', 'Agency2'])"
   ]
  },
  {
   "cell_type": "code",
   "execution_count": null,
   "id": "242eb035c4e2827f",
   "metadata": {},
   "outputs": [],
   "source": [
    "# поиск по имени бренда (можно искать по нескольким именам)\n",
    "counter_cats.get_adcampaigns(brand_names=['Brand1'])\n",
    "# пример поиска по нескольким именам\n",
    "#counter_cats.get_adcampaigns(brand_names=['Brand1', 'Brand2'])"
   ]
  },
  {
   "cell_type": "code",
   "execution_count": null,
   "id": "875e917b4bee6621",
   "metadata": {},
   "outputs": [],
   "source": [
    "# поиск по имени рекламной кампании (можно искать по нескольким именам)\n",
    "counter_cats.get_adcampaigns(advertisement_campaign_names=['Campaign1'])\n",
    "# пример поиска по нескольким именам\n",
    "#counter_cats.get_adcampaigns(advertisement_campaign_names=['Campaign1', 'Campaign2'])"
   ]
  },
  {
   "cell_type": "code",
   "execution_count": null,
   "id": "3520f644abdc156b",
   "metadata": {
    "ExecuteTime": {
     "end_time": null,
     "start_time": null
    }
   },
   "outputs": [],
   "source": [
    "# поиск по имени рекламной позиции (можно искать по нескольким именам)\n",
    "counter_cats.get_adcampaigns(advertisement_names=['Advertisement1'])\n",
    "# пример поиска по нескольким именам\n",
    "#counter_cats.get_adcampaigns(advertisement_names=['Advertisement1', 'Advertisement2'])"
   ]
  },
  {
   "cell_type": "code",
   "execution_count": null,
   "id": "26417fe622607403",
   "metadata": {
    "ExecuteTime": {
     "end_time": null,
     "start_time": null
    }
   },
   "outputs": [],
   "source": [
    "# поиск по id (можно искать по нескольким id)\n",
    "counter_cats.get_adcampaigns(advertisement_agency_ids=[123])\n",
    "#counter_cats.get_adcampaigns(brand_ids=[123])\n",
    "#counter_cats.get_adcampaigns(advertisement_campaign_ids=[123])\n",
    "#counter_cats.get_adcampaigns(advertisement_ids=[123])"
   ]
  },
  {
   "cell_type": "code",
   "execution_count": null,
   "id": "a2e6201f8cbc21f8",
   "metadata": {},
   "outputs": [],
   "source": [
    "# поиск по tmsec (можно искать по нескольким tmsec)\n",
    "counter_cats.get_adcampaigns(tmsecs=['123_123-1'])\n",
    "#counter_cats.get_adcampaigns(tmsecs=['123_123-1', '123_123-2'])"
   ]
  },
  {
   "cell_type": "code",
   "execution_count": null,
   "id": "b5da813f-1479-43c1-97f1-a02bdf5b504f",
   "metadata": {},
   "outputs": [],
   "source": [
    "# поиск по дате создания счетчика\n",
    "counter_cats.get_adcampaigns(created_date='2025-01-01')"
   ]
  },
  {
   "cell_type": "code",
   "execution_count": null,
   "id": "45108d88-1026-4151-b0ec-e8026bf16df6",
   "metadata": {},
   "outputs": [],
   "source": [
    "# поиск по дате старта срабатывания счетчика\n",
    "counter_cats.get_adcampaigns(start_date='2025-01-01')"
   ]
  },
  {
   "cell_type": "code",
   "execution_count": null,
   "id": "8032886d-c40e-4b5c-9c9b-e094c3b73b15",
   "metadata": {},
   "outputs": [],
   "source": [
    "# поиск по дате окончания срабатывания счетчика\n",
    "counter_cats.get_adcampaigns(end_date='2025-01-01')"
   ]
  },
  {
   "cell_type": "code",
   "execution_count": null,
   "id": "99d66ccc-fac4-405a-b768-da38d4d16150",
   "metadata": {},
   "outputs": [],
   "source": [
    "# поиск по кастомному описанию рекламы. Допускается задавать часть названия.\n",
    "counter_cats.get_adcampaigns(advertisement_description='Description1')"
   ]
  },
  {
   "cell_type": "code",
   "execution_count": null,
   "id": "500a5519",
   "metadata": {},
   "outputs": [],
   "source": [
    "# получение всего справочника\n",
    "#counter_cats.get_adcampaigns()"
   ]
  },
  {
   "cell_type": "markdown",
   "id": "69c9c80f2bdab335",
   "metadata": {},
   "source": [
    "## Работа со справочником AreaType (типы размещения счетчика)"
   ]
  },
  {
   "cell_type": "code",
   "execution_count": null,
   "id": "ad6e257bd3fcf41c",
   "metadata": {
    "ExecuteTime": {
     "end_time": null,
     "start_time": null
    }
   },
   "outputs": [],
   "source": [
    "counter_cats.get_areatype()"
   ]
  },
  {
   "cell_type": "markdown",
   "id": "29be8b5775bcba82",
   "metadata": {},
   "source": [
    "## Работа с фильтрами"
   ]
  },
  {
   "cell_type": "markdown",
   "id": "a639e2ba515e1ea9",
   "metadata": {},
   "source": [
    "**Обязательный фильтр по периоду**\n",
    "Период указывается в виде списка ('Начало', 'Конец') в формате 'YYYY-MM-DD'. \n",
    "```\n",
    "date_filter = [('2024-01-01', '2024-01-01')] # 1 января 2024\n",
    "date_filter = [('2024-01-01', '2024-01-31')] # январь 2024\n",
    "```"
   ]
  },
  {
   "cell_type": "markdown",
   "id": "baefbf21-da2c-4b82-a331-7af1c0feedcc",
   "metadata": {},
   "source": [
    "**Обязательный фильтр по типу клиента**\n",
    "Задается списком из следующих значений:\n",
    "- advertisingCampaign - рекламные кампании\n",
    "- advertisingNetwork - рекламные сети\n",
    "```\n",
    "area_type_filter = [\"advertisingCampaign\", \"advertisingNetwork\"]\n",
    "```"
   ]
  },
  {
   "cell_type": "markdown",
   "id": "a358317dd85ab9f7",
   "metadata": {},
   "source": [
    "**НЕобязательный фильтр по гео**\n",
    "Задается строкой с логическим выражением для следующих объектов:\n",
    "- countryName - название страны (возможные значения - РОССИЯ или двухбуквенный код страны, согласно ISO 3166-1 https://ru.wikipedia.org/wiki/ISO_3166-1, прописными буквами. Например, KZ для Казахстана\n",
    "- cityName - название города \n",
    "- provinceName - название области\n",
    "```\n",
    "geo_filter = \"countryName = 'РОССИЯ'\"\n",
    "geo_filter = \"countryName = 'KZ'\"\n",
    "geo_filter = \"cityName = 'Москва'\"\n",
    "```"
   ]
  },
  {
   "cell_type": "markdown",
   "id": "df9bfe1b4706d606",
   "metadata": {},
   "source": [
    "**НЕобязательный фильтр по рекламе**\n",
    "Задается строкой с логическим выражением для следующих объектов:\n",
    "- advertisementAgencyId - id рекламного агенства\n",
    "- brandId - id бренда\n",
    "- advertisementCampaignId - id рекламной кампании\n",
    "- advertisementId - id рекламы\n",
    "- tmsec - название tmsec\n",
    "```\n",
    "mart_filter = \"advertisementAgencyId = 1\"\n",
    "mart_filter = \"advertisementAgencyId IN (1, 2)\"\n",
    "mart_filter = \"tmsec = '123_123-1'\"\n",
    "mart_filter = \"advertisementAgencyId NIN (1, 2)\"\n",
    "```"
   ]
  },
  {
   "cell_type": "markdown",
   "id": "fe819fa1c9a91411",
   "metadata": {},
   "source": [
    "Создавать логические выражения для фильтров по гео и профилю можно с помощью следующих операторов:\n",
    "```\n",
    "= (равно)\n",
    "!= (не равно)\n",
    "> (больше)\n",
    "< (меньше)\n",
    ">= (больше или равно)\n",
    "<= (меньше или равно)\n",
    "AND (И)\n",
    "OR (ИЛИ)\n",
    "IN() (вхождение в список значений)\n",
    "NIN() (невхождние в список значений)\n",
    "```"
   ]
  },
  {
   "cell_type": "markdown",
   "id": "883d33130a717609",
   "metadata": {},
   "source": [
    "**НЕобязательный фильтр по типу устройства**\n",
    "Задается списком из следующих строковых значений:\n",
    "- \"ALL\" - все типы (значение по умолчанию)\n",
    "- \"MOBILE\" - мобильные устройства\n",
    "- \"DESKTOP\" - десктопы (настольные компьютеры)\n",
    "- \"OTHER\" - остальные устройства (не мобильные и не десктопы, например смарт ТВ)\n",
    "```\n",
    "device_type_filter = [\"MOBILE\"]\n",
    "```"
   ]
  },
  {
   "cell_type": "markdown",
   "id": "6512a6f4e7dda209",
   "metadata": {},
   "source": [
    "**НЕобязательный фильтр по partner_name**\n",
    "Задается списком из строк - имен партнеров. Можно указывать несколько значений\n",
    "```\n",
    "partner_filter = [\"ar_ru\"]\n",
    "```"
   ]
  },
  {
   "cell_type": "markdown",
   "id": "3bd24ee99873972b",
   "metadata": {},
   "source": [
    "**НЕобязательный фильтр по tmsec**\n",
    "Задается списком из строк - названий tmsec. Можно указывать несколько значений\n",
    "```\n",
    "tmsec_filter = [\"123_123-1\"]\n",
    "```"
   ]
  },
  {
   "cell_type": "markdown",
   "id": "b47b07ccb7a9049c",
   "metadata": {},
   "source": [
    "Если фильтр не используется в задании, ему необходимо передать значение None"
   ]
  },
  {
   "cell_type": "markdown",
   "id": "7470d41016429566",
   "metadata": {},
   "source": [
    "### Работа со срезами данных\n",
    "Позволяют разбить отчет на составляющие. Задаются в виде списка.\n",
    "Возможные значения:\n",
    "- researchYear - год\n",
    "- researchQuarter - квартал\n",
    "- researchMonth - месяц\n",
    "- researchWeek - неделя\n",
    "- researchDate - день\n",
    "\n",
    "- advertisementAgencyId - id рекламного агенства\n",
    "- advertisementAgencyName - название рекламного агенства\n",
    "- brandId - id рекламного бренда\n",
    "- brandName - название рекламного бренда\n",
    "- advertisementCampaignId - id рекламной кампании\n",
    "- advertisementCampaignName - название рекламной кампании\n",
    "- advertisementId - id рекламы\n",
    "- advertisementName - название рекламы\n",
    "- advertisementDescription - описание счетчика\n",
    "- createdDate - дата создания счетчика\n",
    "- startDate - дата начала срабатывания счетчика\n",
    "- endDate - дата окончания срабатывания счетчика\n",
    "- tmsec - название tmsec\n",
    "- partnerName - имя партнера\n",
    "\n",
    "- countryName - название страны\n",
    "- cityName - название города\n",
    "- provinceName - название области\n",
    "\n",
    "- deviceTypeName - тип устройства\n",
    "\n",
    "\n",
    "```\n",
    "slices = [\"partnerName\", \"tmsec\", \"researchDate\"]\n",
    "```"
   ]
  },
  {
   "cell_type": "markdown",
   "id": "0a34ccf2-e001-4be4-93b2-0a5847cdd69e",
   "metadata": {},
   "source": [
    "## Пример расчета"
   ]
  },
  {
   "cell_type": "markdown",
   "id": "0092d4e5",
   "metadata": {},
   "source": [
    "Рассчитаем количество хитов (срабатываний счетчика) за январь 2024 с детализацией до tmsec"
   ]
  },
  {
   "cell_type": "code",
   "execution_count": null,
   "id": "1ae2cc6a-1b64-493f-a00f-512c51a8bb1d",
   "metadata": {
    "ExecuteTime": {
     "end_time": null,
     "start_time": null
    }
   },
   "outputs": [],
   "source": [
    "# Задаем название ресурса для отображения в DataFrame\n",
    "project_name = 'sample_report'\n",
    "\n",
    "# Задаем период. Фильтр обязательный\n",
    "date_filter = [('2024-01-01', '2024-01-31')]\n",
    "\n",
    "# Задаем фильтр по типу клиента (партнера). Фильтр обязательный, в нашем случае перечисляем все\n",
    "area_type_filter = [\"advertisingCampaign\", \"advertisingNetwork\"]\n",
    "\n",
    "# Задаем фильтр по рекламе, в нашем случае не требуется\n",
    "mart_filter = None #\"advertisementAgencyId = 1\"\n",
    "\n",
    "# Задаем список партнеров, в нашем случае не требуется\n",
    "partner_filter = None #[\"ar_ru\"]\n",
    "\n",
    "# Фильтр по tmsec, задается списком, в нашем случае не требуется\n",
    "tmsec_filter = None #['123_123-1', '123_123-2']\n",
    "\n",
    "# Задаем фильтр по географии, в нашем случае не требуется\n",
    "geo_filter = None #\"countryName = 'РОССИЯ'\"\n",
    "\n",
    "# Фильтр по типам устройств, в нашем случае не требуется\n",
    "device_type_filter = None #[\"MOBILE\"]\n",
    "\n",
    "# Указываем список срезов, чтобы сформировать структуру расчета\n",
    "slices = [\"researchMonth\",\n",
    "          \"advertisementAgencyName\", \"advertisementAgencyId\",\n",
    "          \"brandName\", \"brandId\",\n",
    "          \"advertisementCampaignName\", \"advertisementCampaignId\",\n",
    "          \"advertisementName\", \"advertisementId\",\n",
    "          \"tmsec\"]\n",
    "\n",
    "# Указываем список статистик для расчета\n",
    "#statistics = [\"hitsVisits\"] \n",
    "statistics = [\"hitsVisits\"] \n",
    "\n",
    "# Формируем задание для API Cross Web в формате JSON\n",
    "task_json = counter_task.build_task(task_name=project_name, \n",
    "                                    date_filter=date_filter,\n",
    "                                    area_type_filter=area_type_filter,\n",
    "                                    partner_filter=partner_filter, \n",
    "                                    tmsec_filter=tmsec_filter,\n",
    "                                    geo_filter=geo_filter,\n",
    "                                    device_type_filter=device_type_filter,\n",
    "                                    mart_filter=mart_filter,\n",
    "                                    slices=slices,\n",
    "                                    statistics=statistics)\n",
    "\n",
    "# Отправляем задание на расчет и ждем выполнения\n",
    "task = counter_task.wait_task(counter_task.send_task(task_json))\n",
    "\n",
    "# Получаем результат\n",
    "df_result = counter_task.result2table(counter_task.get_result(task), project_name = project_name)\n",
    "df_result"
   ]
  },
  {
   "cell_type": "markdown",
   "id": "923d746ef7ebb737",
   "metadata": {},
   "source": [
    "## Сохранение отчета"
   ]
  },
  {
   "cell_type": "markdown",
   "id": "a9b05698e58d3eeb",
   "metadata": {},
   "source": [
    "Сохраняем в Excel (по умолчанию в папку excel в родительской папке)"
   ]
  },
  {
   "cell_type": "code",
   "execution_count": null,
   "id": "406ebfd3183412fe",
   "metadata": {
    "ExecuteTime": {
     "end_time": null,
     "start_time": null
    }
   },
   "outputs": [],
   "source": [
    "df_info = counter_task.task_builder.get_report_info()\n",
    "\n",
    "with pd.ExcelWriter(counter_task.task_builder.get_excel_filename('sample_report')) as writer:\n",
    "    df_result.to_excel(writer, sheet_name='Raw', index=False)  \n",
    "    df_info.to_excel(writer, sheet_name='Info', index=False)"
   ]
  },
  {
   "cell_type": "markdown",
   "id": "95f5290de8543b98",
   "metadata": {},
   "source": [
    "Сохраняем в CSV (по умолчанию в папку csv в родительской папке)"
   ]
  },
  {
   "cell_type": "code",
   "execution_count": null,
   "id": "c9e2844bfb26be50",
   "metadata": {
    "ExecuteTime": {
     "end_time": null,
     "start_time": null
    }
   },
   "outputs": [],
   "source": [
    "df_result.to_csv(counter_task.task_builder.get_csv_filename('sample_report'), index=False)"
   ]
  }
 ],
 "metadata": {
  "kernelspec": {
   "display_name": "Python 3 (ipykernel)",
   "language": "python",
   "name": "python3"
  },
  "language_info": {
   "codemirror_mode": {
    "name": "ipython",
    "version": 3
   },
   "file_extension": ".py",
   "mimetype": "text/x-python",
   "name": "python",
   "nbconvert_exporter": "python",
   "pygments_lexer": "ipython3",
   "version": "3.9.7"
  },
  "widgets": {
   "application/vnd.jupyter.widget-state+json": {
    "state": {},
    "version_major": 2,
    "version_minor": 0
   }
  }
 },
 "nbformat": 4,
 "nbformat_minor": 5
}
