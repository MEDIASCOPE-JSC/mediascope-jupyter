{
 "cells": [
  {
   "cell_type": "markdown",
   "metadata": {},
   "source": [
    "# Города: выгрузка роликов по рекламодателю\n",
    "Пример выгрузки рекламных роликов по рекламодателю\n",
    "\n",
    "## Описание задачи и условий расчета\n",
    "- Регион: Самара\n",
    "- Период: 08.03.2023\n",
    "- ЦА: Все 4+\n",
    "- Место просмотра: дом\n",
    "- Каналы: все каналы проекта TV Index\n",
    "- Ролики: Рекламодатель - ВТБ; Блок распространение - сетевой, орибтальный; Ролик тип - ролик \n",
    "- Статистики: Rtg(000), Duration, Reach(000), Reach%"
   ]
  },
  {
   "cell_type": "markdown",
   "metadata": {},
   "source": [
    "## Инициализация\n",
    "\n",
    "При построении отчета первый шаг в любом ноутбуке - загрузка библиотек, которые помогут обращаться к TVI API и работать с данными.\n",
    "\n",
    "Выполните следующую ячейку, для этого перейдите в нее и нажмите Ctrl+Enter"
   ]
  },
  {
   "cell_type": "code",
   "execution_count": null,
   "metadata": {},
   "outputs": [],
   "source": [
    "%reload_ext autoreload\n",
    "%autoreload 2\n",
    "\n",
    "import sys\n",
    "import os\n",
    "import re\n",
    "import json\n",
    "import datetime\n",
    "import time\n",
    "import pandas as pd\n",
    "#import matplotlib.pyplot as plt\n",
    "from IPython.display import JSON\n",
    "\n",
    "from mediascope_api.core import net as mscore\n",
    "from mediascope_api.mediavortex import tasks as cwt\n",
    "from mediascope_api.mediavortex import catalogs as cwc\n",
    "\n",
    "# Настраиваем отображение\n",
    "\n",
    "# Включаем отображение всех колонок\n",
    "pd.set_option('display.max_columns', None)\n",
    "\n",
    "# Задаем ширину столбцов по контенту\n",
    "pd.set_option('display.max_colwidth', None)\n",
    "\n",
    "# Задаем максимальное количество выводимых строк. Раскомментируйте нужную строку\n",
    "# 200 строк\n",
    "# pd.set_option(\"display.max_rows\", 200)\n",
    "# Отображаем все строки. ВАЖНО! Отображение большого DataFrame требует много ресурсов\n",
    "# pd.set_option(\"display.max_rows\", None)\n",
    "\n",
    "# Cоздаем объекты для работы с TVI API\n",
    "mnet = mscore.MediascopeApiNetwork()\n",
    "mtask = cwt.MediaVortexTask()\n",
    "cats = cwc.MediaVortexCats()"
   ]
  },
  {
   "cell_type": "markdown",
   "metadata": {},
   "source": [
    "## Справочники\n",
    "Получим идентификаторы, которые будут использоваться для формирования условий расчета"
   ]
  },
  {
   "cell_type": "code",
   "execution_count": null,
   "metadata": {},
   "outputs": [],
   "source": [
    "# В справочнике регионов найдем id региона Самара\n",
    "cats.get_tv_region(name=['Самара'])\n",
    "\n",
    "# Это id 6"
   ]
  },
  {
   "cell_type": "code",
   "execution_count": null,
   "metadata": {},
   "outputs": [],
   "source": [
    "# В справочнике мест просмотра найдем идентификатор для домашнего смотрения\n",
    "cats.get_tv_location(name=['дом'])\n",
    "\n",
    "# Это id 1"
   ]
  },
  {
   "cell_type": "code",
   "execution_count": null,
   "metadata": {},
   "outputs": [],
   "source": [
    "# В справочнике рекламодателей найдем идентификатор ВТБ\n",
    "cats.get_tv_advertiser(name=['ВТБ'])\n",
    "\n",
    "#Это id 3373"
   ]
  },
  {
   "cell_type": "code",
   "execution_count": null,
   "metadata": {},
   "outputs": [],
   "source": [
    "# Обратимся к справочнику типов распространения блоков\n",
    "cats.get_tv_breaks_distribution()\n",
    "\n",
    "# Сетевой - N, Орбитальный - O"
   ]
  },
  {
   "cell_type": "code",
   "execution_count": null,
   "metadata": {},
   "outputs": [],
   "source": [
    "# В словаре типов рекламы получим id нужного нам типа\n",
    "cats.get_tv_ad_type(name=['ролик'])\n",
    "\n",
    "# Для Ролик, это id 1"
   ]
  },
  {
   "cell_type": "markdown",
   "metadata": {},
   "source": [
    "## Формирование задания\n",
    "Зададим условия расчета"
   ]
  },
  {
   "cell_type": "code",
   "execution_count": null,
   "metadata": {},
   "outputs": [],
   "source": [
    "# Задаем период\n",
    "# Период указывается в виде списка ('Начало', 'Конец') в формате 'YYYY-MM-DD'. Можно указать несколько периодов\n",
    "date_filter = [('2023-03-08', '2023-03-08')]\n",
    "\n",
    "# Задаем дни недели\n",
    "weekday_filter = None\n",
    "\n",
    "# Задаем тип дня\n",
    "daytype_filter = None\n",
    "\n",
    "# Задаем ЦА\n",
    "basedemo_filter = None\n",
    "\n",
    "# Доп фильтр ЦА, нужен только в случае расчета отношения между ЦА, например, при расчете Affinity Index\n",
    "targetdemo_filter = None\n",
    "\n",
    "# Задаем место просмотра: дом\n",
    "location_filter = 'locationId = 1'\n",
    "\n",
    "# Задаем каналы\n",
    "company_filter = None\n",
    "\n",
    "# Фильтр программ\n",
    "program_filter = None\n",
    "\n",
    "# Фильтр блоков: Блок распространение - сетевой, орибтальный\n",
    "break_filter = 'breaksDistributionType IN (N,O)'\n",
    "\n",
    "# Фильтр роликов: Рекламодатель - Сбер; Ролик тип - ролик\n",
    "ad_filter = 'advertiserId = 3373 and adTypeId = 1'\n",
    "\n",
    "# Указываем список срезов\n",
    "slices = [\n",
    "    'regionName', #Регион\n",
    "    'tvCompanyName', #Телекомпания\n",
    "    'advertiserName', #Рекламодатель\n",
    "    'adName', #Ролик\n",
    "    'adSpotId', #Ролик ID выхода, обязательный атрибут! \n",
    "    'researchDate', #Дата, обязательный атрибут! \n",
    "    'adStartTime', #Ролик время начала\n",
    "    'adStandardDuration', #Ролик ожидаемая длительность\n",
    "    'adDistributionTypeName', #Ролик распространение\n",
    "]\n",
    "\n",
    "# Указываем список статистик для расчета\n",
    "statistics = ['Rtg000','Duration','Reach000','ReachPer']\n",
    "\n",
    "# Задаем условия сортировки\n",
    "sortings = None\n",
    "\n",
    "# Задаем опции расчета\n",
    "options = {\n",
    "    \"kitId\": 3 #TV Index Cities\n",
    "}"
   ]
  },
  {
   "cell_type": "markdown",
   "metadata": {},
   "source": [
    "## Расчет задания\n",
    "В одной задаче можно рассчитать данные только по одному региону. Сформируем словарь регионов, которые по очереди будем передавать на расчет. "
   ]
  },
  {
   "cell_type": "code",
   "execution_count": null,
   "metadata": {},
   "outputs": [],
   "source": [
    "# Раскомментируйте строки для тех регионов, которые должны участвовать в расчете\n",
    "\n",
    "regions_dict = {\n",
    "    #40: 'БАРНАУЛ',\n",
    "    #18: 'ВЛАДИВОСТОК',\n",
    "    #5: 'ВОЛГОГРАД',\n",
    "    #8: 'ВОРОНЕЖ',\n",
    "    #12: 'ЕКАТЕРИНБУРГ',\n",
    "    #25: 'ИРКУТСК',\n",
    "    #19: 'КАЗАНЬ',\n",
    "    #45: 'КЕМЕРОВО',\n",
    "    #23: 'КРАСНОДАР',\n",
    "    #17: 'КРАСНОЯРСК',\n",
    "    #1: 'МОСКВА',\n",
    "    #4: 'НИЖНИЙ НОВГОРОД',\n",
    "    #15: 'НОВОСИБИРСК',\n",
    "    #21: 'ОМСК',\n",
    "    #14: 'ПЕРМЬ',\n",
    "    #9: 'РОСТОВ-НА-ДОНУ',\n",
    "    6: 'САМАРА',\n",
    "    #2: 'САНКТ-ПЕТЕРБУРГ',\n",
    "    #10: 'САРАТОВ',\n",
    "    #39: 'СТАВРОПОЛЬ',\n",
    "    #3: 'ТВЕРЬ',\n",
    "    #55: 'ТОМСК',\n",
    "    #16: 'ТЮМЕНЬ',\n",
    "    #20: 'УФА',\n",
    "    #26: 'ХАБАРОВСК',\n",
    "    #13: 'ЧЕЛЯБИНСК',\n",
    "    #7: 'ЯРОСЛАВЛЬ'\n",
    "}"
   ]
  },
  {
   "cell_type": "markdown",
   "metadata": {},
   "source": [
    "### Посчитаем задания в цикле\n",
    "\n",
    "> ⚠️ Для корректного расчета статистик по регионам, в методе `build_task` должны быть активированы параметры `add_city_to_basedemo_from_region` и `add_city_to_targetdemo_from_region`"
   ]
  },
  {
   "cell_type": "code",
   "execution_count": null,
   "metadata": {
    "scrolled": true
   },
   "outputs": [],
   "source": [
    "# Посчитаем задания в цикле\n",
    "tasks = []\n",
    "print(\"Отправляем задания на расчет\")\n",
    "\n",
    "# Для каждого региона формируем задание и отправляем на расчет\n",
    "for reg_id, reg_name in regions_dict.items():\n",
    "    \n",
    "    #Передаем id региона в company_filter:\n",
    "    init_company_filter = company_filter\n",
    "    \n",
    "    if company_filter is not None:\n",
    "        company_filter = company_filter + f' AND regionId IN ({reg_id})'\n",
    "        \n",
    "    else:\n",
    "        company_filter = f'regionId IN ({reg_id})'\n",
    "      \n",
    "    # Формируем задание для API TV Index в формате JSON\n",
    "    task_json = mtask.build_simple_task(date_filter=date_filter, weekday_filter=weekday_filter, \n",
    "                                        daytype_filter=daytype_filter, company_filter=company_filter, \n",
    "                                        location_filter=location_filter, basedemo_filter=basedemo_filter, \n",
    "                                        targetdemo_filter=targetdemo_filter,program_filter=program_filter, \n",
    "                                        break_filter=break_filter, ad_filter=ad_filter, \n",
    "                                        slices=slices, statistics=statistics, sortings=sortings, options=options,\n",
    "                                        add_city_to_basedemo_from_region=True,\n",
    "                                        add_city_to_targetdemo_from_region=True)\n",
    "\n",
    "    # Для каждого этапа цикла формируем словарь с параметрами и отправленным заданием на расчет\n",
    "    tsk = {}    \n",
    "    tsk['task'] = mtask.send_simple_task(task_json)\n",
    "    tasks.append(tsk)\n",
    "    time.sleep(2)\n",
    "    print('.', end = '')\n",
    "    \n",
    "    company_filter = init_company_filter\n",
    "    \n",
    "print(f\"\\nid: {[i['task']['taskId'] for i in tasks]}\") \n",
    "\n",
    "print('')\n",
    "# Ждем выполнения\n",
    "print('Ждем выполнения')\n",
    "tsks = mtask.wait_task(tasks)\n",
    "print('Расчет завершен, получаем результат')\n",
    "\n",
    "# Получаем результат\n",
    "results = []\n",
    "print('Собираем таблицу')\n",
    "for t in tasks:\n",
    "    tsk = t['task'] \n",
    "    df_result = mtask.result2table(mtask.get_result(tsk), to_lists=True)        \n",
    "    results.append(df_result)\n",
    "    print('.', end = '')\n",
    "df = pd.concat(results)\n",
    "\n",
    "# Приводим порядок столбцов в соответствие с условиями расчета\n",
    "df = df[slices+statistics]\n",
    "\n",
    "df"
   ]
  },
  {
   "cell_type": "markdown",
   "metadata": {},
   "source": [
    "## Сохраняем в Excel\n",
    "По умолчанию файл сохраняется в папку `excel`"
   ]
  },
  {
   "cell_type": "code",
   "execution_count": null,
   "metadata": {},
   "outputs": [],
   "source": [
    "df_info = mtask.task_builder.get_report_info()\n",
    "\n",
    "with pd.ExcelWriter(mtask.task_builder.get_excel_filename('cities_01_advertiser_filter')) as writer:\n",
    "    df.to_excel(writer, 'Report', index=True)\n",
    "    df_info.to_excel(writer, 'Info', index=False)"
   ]
  }
 ],
 "metadata": {
  "kernelspec": {
   "display_name": "Python 3",
   "language": "python",
   "name": "python3"
  },
  "language_info": {
   "codemirror_mode": {
    "name": "ipython",
    "version": 3
   },
   "file_extension": ".py",
   "mimetype": "text/x-python",
   "name": "python",
   "nbconvert_exporter": "python",
   "pygments_lexer": "ipython3",
   "version": "3.8.8"
  }
 },
 "nbformat": 4,
 "nbformat_minor": 4
}
