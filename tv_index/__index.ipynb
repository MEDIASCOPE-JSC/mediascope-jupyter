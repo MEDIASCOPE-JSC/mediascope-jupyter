{
 "cells": [
  {
   "cell_type": "markdown",
   "metadata": {},
   "source": [
    "# TV Index API Jupyter\n",
    "\n",
    "## [Справка](_help.ipynb)\n",
    "Начните работу с этого ноутбука"
   ]
  },
  {
   "cell_type": "markdown",
   "metadata": {},
   "source": [
    "## Примеры работы со справочниками TV Index API\n",
    "\n",
    "- [Справочники](catalogs.ipynb)\n",
    "\n",
    "## Примеры отчетов Timeband\n",
    "\n",
    "- Общие показатели:\n",
    "    - [Базовые показатели каналов](timeband_overall_figures_01_basic_channels_figures.ipynb)\n",
    "    - [Показатели ТТВ по нескольким ЦА](timeband_overall_figures_02_TTV_figures.ipynb)\n",
    "    - [Показатели каналов объединенных в группу](timeband_overall_figures_03_joined_channels.ipynb)\n",
    "    - [Доля аудитории по баинговым группам в 100+](timeband_overall_figures_04_share_buying_targets.ipynb)\n",
    "    - [Сложный временной интервал](timeband_overall_figures_05_complex_timeband.ipynb)\n",
    "    \n",
    "\n",
    "- Разбивка по периодам/таймбендам:\n",
    "    - [Динамика основных показателей по кварталам и месяцам](timeband_periods&intervals_01_months&quarters.ipynb)\n",
    "    - [Разбивка на типы дней и недели](timeband_periods&intervals_02_daytypes&weeks.ipynb)\n",
    "    - [Динамика показателей канала Дома и на Дачах](timeband_periods&intervals_03_locations_by_months.ipynb)\n",
    "    - [Динамика Universe и Sample](timeband_periods&intervals_04_universe&sample_by_months.ipynb)\n",
    "    - [Динамика доли каналов в течение дня](timeband_periods&intervals_05_share_during_the_day.ipynb)\n",
    "    - [ТТВ рейтинг в течение дня](timeband_periods&intervals_06_TTVRtg%_during_the_day.ipynb)\n",
    "    - [Доля аудитории каналов за день и в прайм-тайм](timeband_periods&intervals_07_share_totalday_primetime.ipynb)\n",
    "    \n",
    "\n",
    "- Социально-демографические атрибуты:\n",
    "    - [Cтруктура аудитории и доля](timeband_soc-dem_01_audience_structure.ipynb)\n",
    "    - [Накопленный охват в динамике по ФО](timeband_soc-dem_02_reach_by_federal_okrug.ipynb)\n",
    "    - [Индекс аффинитивности по соц-дем](timeband_soc-dem_03_affinity.ipynb)\n"
   ]
  }
 ],
 "metadata": {
  "kernelspec": {
   "display_name": "Python 3",
   "language": "python",
   "name": "python3"
  },
  "language_info": {
   "codemirror_mode": {
    "name": "ipython",
    "version": 3
   },
   "file_extension": ".py",
   "mimetype": "text/x-python",
   "name": "python",
   "nbconvert_exporter": "python",
   "pygments_lexer": "ipython3",
   "version": "3.8.8"
  }
 },
 "nbformat": 4,
 "nbformat_minor": 4
}
