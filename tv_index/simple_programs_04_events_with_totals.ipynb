{
 "cells": [
  {
   "cell_type": "markdown",
   "metadata": {},
   "source": [
    "# Повыходный отчет с расчетом итоговых значений\n",
    "Пример расчета повыходных и агрегированных показателей по эфирным событиям и объединение результата в одну таблицу\n",
    "\n",
    "## Описание задачи и условий расчета\n",
    "- Регион: Россия 0+\n",
    "- Период: 17.01.2022 - 23.01.2022\n",
    "- ЦА: Все 4+, Все 14-44, M 25-34\n",
    "- Место просмотра: Все места (дом+дача)\n",
    "- Каналы: ТНТ\n",
    "- Программы: категория - Игра-викторина, соревнование\n",
    "- Статистики: Rtg000, RtgPer, Share"
   ]
  },
  {
   "cell_type": "markdown",
   "metadata": {},
   "source": [
    "## Инициализация\n",
    "\n",
    "При построении отчета первый шаг в любом ноутбуке - загрузка библиотек, которые помогут обращаться к TVI API и работать с данными.\n",
    "\n",
    "Выполните следующую ячейку, для этого перейдите в нее и нажмите Ctrl+Enter"
   ]
  },
  {
   "cell_type": "code",
   "execution_count": null,
   "metadata": {},
   "outputs": [],
   "source": [
    "%reload_ext autoreload\n",
    "%autoreload 2\n",
    "\n",
    "import sys\n",
    "import os\n",
    "import re\n",
    "import json\n",
    "import datetime\n",
    "import time\n",
    "import pandas as pd\n",
    "#import matplotlib.pyplot as plt\n",
    "from IPython.display import JSON\n",
    "\n",
    "from mediascope_api.core import net as mscore\n",
    "from mediascope_api.mediavortex import tasks as cwt\n",
    "from mediascope_api.mediavortex import catalogs as cwc\n",
    "\n",
    "# Настраиваем отображение\n",
    "\n",
    "# Включаем отображение всех колонок\n",
    "pd.set_option('display.max_columns', None)\n",
    "# Задаем максимальное количество выводимых строк. Раскомментируйте нужную строку\n",
    "# 200 строк\n",
    "# pd.set_option(\"display.max_rows\", 200)\n",
    "# Отображаем все строки. ВАЖНО! Отображение большого DataFrame требует много ресурсов\n",
    "# pd.set_option(\"display.max_rows\", None)\n",
    "\n",
    "# Cоздаем объекты для работы с TVI API\n",
    "mnet = mscore.MediascopeApiNetwork()\n",
    "mtask = cwt.MediaVortexTask()\n",
    "cats = cwc.MediaVortexCats()"
   ]
  },
  {
   "cell_type": "markdown",
   "metadata": {},
   "source": [
    "## Справочники\n",
    "\n",
    "Получим идентификаторы, которые будут использоваться для формирования условий расчета"
   ]
  },
  {
   "cell_type": "code",
   "execution_count": null,
   "metadata": {},
   "outputs": [],
   "source": [
    "# В справочнике категорий программ найдем id категории Игра-викторина, соревнование\n",
    "cats.get_tv_program_category(name=['Игра-викторина, соревнование'])\n",
    "\n",
    "# Это id 6"
   ]
  },
  {
   "cell_type": "code",
   "execution_count": null,
   "metadata": {},
   "outputs": [],
   "source": [
    "# Найдем id телекомпании ТНТ (СЕТЕВОЕ ВЕЩАНИЕ)\n",
    "cats.get_tv_company(name=['ТНТ (СЕТЕВОЕ ВЕЩАНИЕ)'])\n",
    "\n",
    "# id = 1870"
   ]
  },
  {
   "cell_type": "markdown",
   "metadata": {},
   "source": [
    "## Расчет отдельных событий\n",
    "Для расчета показателей по отдельным выходам посчитаем отчет События (Simple)"
   ]
  },
  {
   "cell_type": "code",
   "execution_count": null,
   "metadata": {},
   "outputs": [],
   "source": [
    "# Задаем период\n",
    "# Период указывается в виде списка ('Начало', 'Конец') в формате 'YYYY-MM-DD'. Можно указать несколько периодов\n",
    "date_filter = [('2022-01-17', '2022-01-23')]\n",
    "\n",
    "# Задаем дни недели\n",
    "weekday_filter = None\n",
    "\n",
    "# Задаем тип дня\n",
    "daytype_filter = None\n",
    "\n",
    "# Задаем ЦА\n",
    "basedemo_filter = None\n",
    "\n",
    "# Доп фильтр ЦА, нужен только в случае расчета отношения между ЦА, например, при расчете Affinity Index\n",
    "targetdemo_filter = None\n",
    "\n",
    "# Задаем место просмотра\n",
    "location_filter=None\n",
    "\n",
    "# Задаем каналы: ТНТ\n",
    "company_filter = 'tvCompanyId = 1870'\n",
    "\n",
    "# Указываем фильтр программ: категория - Игра-викторина, соревнование\n",
    "program_filter = 'programCategoryId = 6'\n",
    "\n",
    "# Фильтр блоков\n",
    "break_filter = None\n",
    "\n",
    "# Фильтр роликов\n",
    "ad_filter = None\n",
    "\n",
    "# Указываем список срезов (группировок)\n",
    "slices = [\n",
    "    'programTypeName',\n",
    "    'programName',\n",
    "    'programSpotId',\n",
    "    'researchDate',\n",
    "    'programStartTime',\n",
    "    'programFinishTime'\n",
    "]\n",
    "\n",
    "# Указываем список статистик для расчета\n",
    "statistics = ['Rtg000', 'RtgPer','Share']\n",
    "\n",
    "# Задаем условия сортировки\n",
    "sortings = None\n",
    "\n",
    "# Задаем опции расчета\n",
    "options = {\n",
    "    \"kitId\": 1, #TV Index Russia all\n",
    "}"
   ]
  },
  {
   "cell_type": "markdown",
   "metadata": {},
   "source": [
    "Сформируем словарь с целевыми аудиториями"
   ]
  },
  {
   "cell_type": "code",
   "execution_count": null,
   "metadata": {},
   "outputs": [],
   "source": [
    "# Задаем необходимые группы\n",
    "targets = {\n",
    "    'a. Все 4+':'age >= 4',\n",
    "    'b. Все 14-44':'age >= 14 and age <= 44',\n",
    "    'c. M 25-34':'sex = 1 and age >= 25 and age <= 34'\n",
    "}"
   ]
  },
  {
   "cell_type": "markdown",
   "metadata": {},
   "source": [
    "Посчитаем задания в цикле"
   ]
  },
  {
   "cell_type": "code",
   "execution_count": null,
   "metadata": {},
   "outputs": [],
   "source": [
    "tasks = []\n",
    "print(\"Отправляем задания на расчет\")\n",
    "\n",
    "# Для каждой ЦА формируем задание и отправляем на расчет\n",
    "for target, syntax in targets.items():\n",
    "    \n",
    "    # Подставляем значения словаря в параметры\n",
    "    project_name = target \n",
    "    basedemo_filter = syntax\n",
    "      \n",
    "    # Формируем задание для API TV Index в формате JSON\n",
    "    task_json = mtask.build_simple_task(date_filter=date_filter, weekday_filter=weekday_filter, \n",
    "                                        daytype_filter=daytype_filter, company_filter=company_filter, \n",
    "                                        location_filter=location_filter, basedemo_filter=basedemo_filter, \n",
    "                                        targetdemo_filter=targetdemo_filter,program_filter=program_filter, \n",
    "                                        break_filter=break_filter, ad_filter=ad_filter, \n",
    "                                        slices=slices, statistics=statistics, sortings=sortings, options=options)\n",
    "\n",
    "    # Для каждого этапа цикла формируем словарь с параметрами и отправленным заданием на расчет\n",
    "    tsk = {}\n",
    "    tsk['project_name'] = project_name    \n",
    "    tsk['task'] = mtask.send_simple_task(task_json)\n",
    "    tasks.append(tsk)\n",
    "    time.sleep(2)\n",
    "    print('.', end = '')\n",
    "    \n",
    "print(f\"\\nid: {[i['task']['taskId'] for i in tasks]}\") \n",
    "\n",
    "print('')\n",
    "# Ждем выполнения\n",
    "print('Ждем выполнения')\n",
    "tsks = mtask.wait_task(tasks)\n",
    "print('Расчет завершен, получаем результат')\n",
    "\n",
    "# Получаем результат\n",
    "results = []\n",
    "print('Собираем таблицу')\n",
    "for t in tasks:\n",
    "    tsk = t['task'] \n",
    "    df_result = mtask.result2table(mtask.get_result(tsk), project_name = t['project_name'])        \n",
    "    results.append(df_result)\n",
    "    print('.', end = '')\n",
    "df = pd.concat(results)\n",
    "\n",
    "# Приводим порядок столбцов в соответствие с условиями расчета\n",
    "df = df[['prj_name']+slices+statistics]\n",
    "\n",
    "df"
   ]
  },
  {
   "cell_type": "markdown",
   "metadata": {},
   "source": [
    "## Итоги\n",
    "Агрегированные показатели посчитаем при помощи отчета Кросс-таблица (Crosstab)"
   ]
  },
  {
   "cell_type": "markdown",
   "metadata": {},
   "source": [
    "### Итоги по программе\n",
    "Фильтры идентичны повыходному расчету. Меняются срезы, статистики и опции расчета:"
   ]
  },
  {
   "cell_type": "code",
   "execution_count": null,
   "metadata": {},
   "outputs": [],
   "source": [
    "# Указываем список срезов (группировок)\n",
    "slices = [\n",
    "    'programTypeName', #Программа жанр\n",
    "    'programName' #Название программы\n",
    "]\n",
    "\n",
    "# Указываем список статистик для расчета\n",
    "statistics = ['Rtg000Sum', 'RtgPerSum','ShareAvg']\n",
    "\n",
    "# Задаем опции расчета\n",
    "options = {\n",
    "    \"kitId\": 1, #TV Index Russia all\n",
    "    \"issueType\": \"PROGRAM\", #Тип события - Программы\n",
    "}"
   ]
  },
  {
   "cell_type": "markdown",
   "metadata": {},
   "source": [
    "Посчитаем задания в цикле"
   ]
  },
  {
   "cell_type": "code",
   "execution_count": null,
   "metadata": {},
   "outputs": [],
   "source": [
    "tasks = []\n",
    "print(\"Отправляем задания на расчет\")\n",
    "\n",
    "# Для каждой ЦА формируем задание и отправляем на расчет\n",
    "for target, syntax in targets.items():\n",
    "    \n",
    "    # Подставляем значения словаря в параметры\n",
    "    project_name = target \n",
    "    basedemo_filter = syntax\n",
    "      \n",
    "    # Формируем задание для API TV Index в формате JSON\n",
    "    task_json = mtask.build_crosstab_task(date_filter=date_filter, weekday_filter=weekday_filter, \n",
    "                                        daytype_filter=daytype_filter, company_filter=company_filter, \n",
    "                                        location_filter=location_filter, basedemo_filter=basedemo_filter, \n",
    "                                        targetdemo_filter=targetdemo_filter,program_filter=program_filter, \n",
    "                                        break_filter=break_filter, ad_filter=ad_filter, \n",
    "                                        slices=slices, statistics=statistics, sortings=sortings, options=options)\n",
    "\n",
    "    # Для каждого этапа цикла формируем словарь с параметрами и отправленным заданием на расчет\n",
    "    tsk = {}\n",
    "    tsk['project_name'] = project_name    \n",
    "    tsk['task'] = mtask.send_crosstab_task(task_json)\n",
    "    tasks.append(tsk)\n",
    "    time.sleep(2)\n",
    "    print('.', end = '')\n",
    "    \n",
    "print(f\"\\nid: {[i['task']['taskId'] for i in tasks]}\") \n",
    "\n",
    "print('')\n",
    "# Ждем выполнения\n",
    "print('Ждем выполнения')\n",
    "tsks = mtask.wait_task(tasks)\n",
    "print('Расчет завершен, получаем результат')\n",
    "\n",
    "# Получаем результат\n",
    "results = []\n",
    "print('Собираем таблицу')\n",
    "for t in tasks:\n",
    "    tsk = t['task'] \n",
    "    df_result = mtask.result2table(mtask.get_result(tsk), project_name = t['project_name'])        \n",
    "    results.append(df_result)\n",
    "    print('.', end = '')\n",
    "df_prog = pd.concat(results)\n",
    "\n",
    "# Приводим порядок столбцов в соответствие с условиями расчета\n",
    "df_prog = df_prog[['prj_name']+slices+statistics]\n",
    "\n",
    "df_prog"
   ]
  },
  {
   "cell_type": "code",
   "execution_count": null,
   "metadata": {},
   "outputs": [],
   "source": [
    "# Приведем названия статистик к названиям в simple отчете для корректного последующего объединения\n",
    "df_prog.rename({'Rtg000Sum':'Rtg000', 'RtgPerSum':'RtgPer', 'ShareAvg':'Share'}, axis=1, inplace=True)\n",
    "df_prog"
   ]
  },
  {
   "cell_type": "markdown",
   "metadata": {},
   "source": [
    "### Итоги по жанру\n",
    "В срезах оставляем только группировку по жанру:"
   ]
  },
  {
   "cell_type": "code",
   "execution_count": null,
   "metadata": {},
   "outputs": [],
   "source": [
    "# Указываем список срезов (группировок)\n",
    "slices = [\n",
    "    'programTypeName', #Программа жанр\n",
    "]"
   ]
  },
  {
   "cell_type": "markdown",
   "metadata": {},
   "source": [
    "Посчитаем задания в цикле"
   ]
  },
  {
   "cell_type": "code",
   "execution_count": null,
   "metadata": {},
   "outputs": [],
   "source": [
    "tasks = []\n",
    "print(\"Отправляем задания на расчет\")\n",
    "\n",
    "# Для каждой ЦА формируем задание и отправляем на расчет\n",
    "for target, syntax in targets.items():\n",
    "    \n",
    "    # Подставляем значения словаря в параметры\n",
    "    project_name = target \n",
    "    basedemo_filter = syntax\n",
    "      \n",
    "    # Формируем задание для API TV Index в формате JSON\n",
    "    task_json = mtask.build_crosstab_task(date_filter=date_filter, weekday_filter=weekday_filter, \n",
    "                                        daytype_filter=daytype_filter, company_filter=company_filter, \n",
    "                                        location_filter=location_filter, basedemo_filter=basedemo_filter, \n",
    "                                        targetdemo_filter=targetdemo_filter,program_filter=program_filter, \n",
    "                                        break_filter=break_filter, ad_filter=ad_filter, \n",
    "                                        slices=slices, statistics=statistics, sortings=sortings, options=options)\n",
    "\n",
    "    # Для каждого этапа цикла формируем словарь с параметрами и отправленным заданием на расчет\n",
    "    tsk = {}\n",
    "    tsk['project_name'] = project_name    \n",
    "    tsk['task'] = mtask.send_crosstab_task(task_json)\n",
    "    tasks.append(tsk)\n",
    "    time.sleep(2)\n",
    "    print('.', end = '')\n",
    "    \n",
    "print(f\"\\nid: {[i['task']['taskId'] for i in tasks]}\") \n",
    "\n",
    "print('')\n",
    "# Ждем выполнения\n",
    "print('Ждем выполнения')\n",
    "tsks = mtask.wait_task(tasks)\n",
    "print('Расчет завершен, получаем результат')\n",
    "\n",
    "# Получаем результат\n",
    "results = []\n",
    "print('Собираем таблицу')\n",
    "for t in tasks:\n",
    "    tsk = t['task'] \n",
    "    df_result = mtask.result2table(mtask.get_result(tsk), project_name = t['project_name'])        \n",
    "    results.append(df_result)\n",
    "    print('.', end = '')\n",
    "df_genre = pd.concat(results)\n",
    "\n",
    "# Приводим порядок столбцов в соответствие с условиями расчета\n",
    "df_genre = df_genre[['prj_name']+slices+statistics]\n",
    "\n",
    "df_genre"
   ]
  },
  {
   "cell_type": "code",
   "execution_count": null,
   "metadata": {},
   "outputs": [],
   "source": [
    "# Приведем названия статистик к названиям в simple отчете для корректного последующего объединения\n",
    "df_genre.rename({'Rtg000Sum':'Rtg000', 'RtgPerSum':'RtgPer', 'ShareAvg':'Share'}, axis=1, inplace=True)\n",
    "df_genre"
   ]
  },
  {
   "cell_type": "markdown",
   "metadata": {},
   "source": [
    "## Объединение в одну таблицу"
   ]
  },
  {
   "cell_type": "code",
   "execution_count": null,
   "metadata": {},
   "outputs": [],
   "source": [
    "# Соединяем три таблицы в одну\n",
    "df_res = pd.concat([df, df_prog, df_genre], axis=0, join='outer')\n",
    "\n",
    "# Задаем сортировку: ЦА, Программа, Дата, Время начала\n",
    "df_res.sort_values(by=['prj_name','programName','researchDate','programStartTime'], inplace=True)\n",
    "\n",
    "# Заменяем NaN на пустые ячейки\n",
    "df_res = df_res.fillna('')\n",
    "\n",
    "df_res"
   ]
  },
  {
   "cell_type": "markdown",
   "metadata": {},
   "source": [
    "### Настройка внешнего вида таблицы\n",
    "Пропустите этот шаг, если хотите экспортировать таблицу в ее текущем виде"
   ]
  },
  {
   "cell_type": "code",
   "execution_count": null,
   "metadata": {},
   "outputs": [],
   "source": [
    "# Формируем сводную таблицу: строки - срезы, столбцы - ЦА, значения - статистики\n",
    "df_res = pd.pivot_table(df_res, values=['Rtg000','RtgPer','Share'],\n",
    "                        index=['programTypeName','programName','programSpotId','researchDate','programStartTime','programFinishTime'], \n",
    "                        columns=['prj_name'])\n",
    "df_res"
   ]
  },
  {
   "cell_type": "code",
   "execution_count": null,
   "metadata": {
    "scrolled": true
   },
   "outputs": [],
   "source": [
    "# Опционально: поменять местами уровни в столбцах\n",
    "df_res = df_res.swaplevel(0,1, axis=1).sort_index(axis=1)\n",
    "\n",
    "df_res"
   ]
  },
  {
   "cell_type": "markdown",
   "metadata": {},
   "source": [
    "## Сохраняем в Excel\n",
    "По умолчанию файл сохраняется в папку `excel`"
   ]
  },
  {
   "cell_type": "code",
   "execution_count": null,
   "metadata": {},
   "outputs": [],
   "source": [
    "df_info = mtask.task_builder.get_report_info()\n",
    "\n",
    "with pd.ExcelWriter(mtask.task_builder.get_excel_filename('04_events_with_totals')) as writer:\n",
    "    df_res.to_excel(writer, 'Report', index=True)\n",
    "    df_info.to_excel(writer, 'Info', index=False)"
   ]
  }
 ],
 "metadata": {
  "kernelspec": {
   "display_name": "Python 3",
   "language": "python",
   "name": "python3"
  },
  "language_info": {
   "codemirror_mode": {
    "name": "ipython",
    "version": 3
   },
   "file_extension": ".py",
   "mimetype": "text/x-python",
   "name": "python",
   "nbconvert_exporter": "python",
   "pygments_lexer": "ipython3",
   "version": "3.8.8"
  }
 },
 "nbformat": 4,
 "nbformat_minor": 4
}
