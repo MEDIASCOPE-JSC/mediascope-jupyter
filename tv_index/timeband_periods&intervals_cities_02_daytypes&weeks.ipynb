{
 "cells": [
  {
   "cell_type": "markdown",
   "metadata": {},
   "source": [
    "# Города: разбивка на типы дней и недели\n",
    "Пример расчета показателей телеканалов в городах в разбивке по типам дней и неделям\n",
    "\n",
    "## Описание задачи и условий расчета\n",
    "- Регион: Города\n",
    "- Период: 01.09.2022 - 31.10.2022, отдельно рабочие и не рабочие дни с разбивкой по неделям\n",
    "- Временной интервал: 05:00-29:00\n",
    "- ЦА: Все 4+\n",
    "- Место просмотра: дом\n",
    "- Каналы: НТВ, ПЯТЫЙ КАНАЛ, РЕН ТВ\n",
    "- Статистики: Share, AvReach%"
   ]
  },
  {
   "cell_type": "markdown",
   "metadata": {},
   "source": [
    "## Инициализация\n",
    "\n",
    "При построении отчета первый шаг в любом ноутбуке - загрузка библиотек, которые помогут обращаться к TVI API и работать с данными.\n",
    "\n",
    "Выполните следующую ячейку, для этого перейдите в нее и нажмите Ctrl+Enter"
   ]
  },
  {
   "cell_type": "code",
   "execution_count": null,
   "metadata": {},
   "outputs": [],
   "source": [
    "%reload_ext autoreload\n",
    "%autoreload 2\n",
    "\n",
    "import sys\n",
    "import os\n",
    "import re\n",
    "import json\n",
    "import datetime\n",
    "import time\n",
    "import pandas as pd\n",
    "from IPython.display import JSON\n",
    "\n",
    "from mediascope_api.core import net as mscore\n",
    "from mediascope_api.mediavortex import tasks as cwt\n",
    "from mediascope_api.mediavortex import catalogs as cwc\n",
    "\n",
    "# Настраиваем отображение\n",
    "\n",
    "# Включаем отображение всех колонок\n",
    "pd.set_option('display.max_columns', None)\n",
    "# Задаем максимальное количество выводимых строк. Раскомментируйте нужную строку\n",
    "# 200 строк\n",
    "# pd.set_option(\"display.max_rows\", 200)\n",
    "# Отображаем все строки. ВАЖНО! Отображение большого DataFrame требует много ресурсов\n",
    "# pd.set_option(\"display.max_rows\", None)\n",
    "\n",
    "# Cоздаем объекты для работы с TVI API\n",
    "mnet = mscore.MediascopeApiNetwork()\n",
    "mtask = cwt.MediaVortexTask()\n",
    "cats = cwc.MediaVortexCats()"
   ]
  },
  {
   "cell_type": "markdown",
   "metadata": {},
   "source": [
    "## Справочники\n",
    "\n",
    "Получим идентификаторы, которые будут использоваться для формирования условий расчета"
   ]
  },
  {
   "cell_type": "code",
   "execution_count": null,
   "metadata": {},
   "outputs": [],
   "source": [
    "# Справочник регионов\n",
    "cats.get_tv_region()"
   ]
  },
  {
   "cell_type": "code",
   "execution_count": null,
   "metadata": {},
   "outputs": [],
   "source": [
    "# В справочнике мест просмотра найдем идентификатор для домашнего смотрения\n",
    "cats.get_tv_location(name=['дом'])\n",
    "\n",
    "# Это id 1"
   ]
  },
  {
   "cell_type": "code",
   "execution_count": null,
   "metadata": {
    "scrolled": true
   },
   "outputs": [],
   "source": [
    "# В справочнике телесетей получим id нужных нам каналов\n",
    "cats.get_tv_net(name=[\"НТВ\", \"ПЯТЫЙ КАНАЛ\", \"РЕН ТВ\"])\n",
    "\n",
    "# Это id 4, 60, 259"
   ]
  },
  {
   "cell_type": "code",
   "execution_count": null,
   "metadata": {},
   "outputs": [],
   "source": [
    "# В справочнике типов дней недели найдем id нужных нам типов\n",
    "cats.get_tv_research_day_type()\n",
    "\n",
    "# Рабочие дни: W, выходные: E"
   ]
  },
  {
   "cell_type": "markdown",
   "metadata": {},
   "source": [
    "## Формирование задания\n",
    "Зададим условия расчета"
   ]
  },
  {
   "cell_type": "code",
   "execution_count": null,
   "metadata": {},
   "outputs": [],
   "source": [
    "# Период указывается в виде списка ('Начало', 'Конец') в формате 'YYYY-MM-DD'. \n",
    "date_filter = [('2022-09-01', '2022-10-31')]\n",
    "\n",
    "# Задаем дни недели\n",
    "weekday_filter = None\n",
    "\n",
    "# Задаем тип дня: рабочие и выходные\n",
    "daytype_filter = 'researchDayType IN (W, E)'\n",
    "\n",
    "# Задаем временной интервал\n",
    "time_filter = None\n",
    "\n",
    "# Задаем ЦА\n",
    "basedemo_filter = None\n",
    "\n",
    "# Доп фильтр ЦА, нужен только в случае расчета отношения между ЦА, например, при расчете Affinity Index\n",
    "targetdemo_filter = None\n",
    "\n",
    "# Задаем место просмотра: дом\n",
    "location_filter = 'locationId = 1'\n",
    "\n",
    "# Задаем каналы: НТВ, ПЯТЫЙ КАНАЛ, РЕН ТВ\n",
    "company_filter = 'tvNetId IN (4, 60, 259)'\n",
    "\n",
    "# Указываем список статистик для расчета\n",
    "statistics = ['Share', 'AvReachPer']\n",
    "\n",
    "# Указываем срезы\n",
    "slices = [\n",
    "    'regionName', #регион\n",
    "    'researchDayTypeName', #тип дня\n",
    "    'researchWeek', #неделя\n",
    "    'tvNetName' #телесеть\n",
    "]\n",
    "\n",
    "# Задаем условия сортировки: тип дня (от а до я), неделя (по возр.), телесеть (от а до я)\n",
    "sortings = {'researchDayTypeName':'ASC', 'researchWeek':'ASC', 'tvNetName':'ASC'}\n",
    "\n",
    "# Задаем опции расчета\n",
    "options = {\n",
    "    \"kitId\": 3, #TV Index Cities  \n",
    "    \"totalType\": \"TotalChannels\" #база расчета Share: Total Channels. Возможны опции: TotalTVSet, TotalChannelsThem\n",
    "}"
   ]
  },
  {
   "cell_type": "markdown",
   "metadata": {},
   "source": [
    "## Расчет задания\n",
    "В одной задаче можно рассчитать данные только по одному региону. Сформируем словарь регионов, которые по очереди будем передавать на расчет. "
   ]
  },
  {
   "cell_type": "code",
   "execution_count": null,
   "metadata": {},
   "outputs": [],
   "source": [
    "# Закомментируйте строки для тех регионов, которые не должны участвовать в расчете\n",
    "\n",
    "regions_dict = {\n",
    "    40: 'БАРНАУЛ',\n",
    "    18: 'ВЛАДИВОСТОК',\n",
    "    5: 'ВОЛГОГРАД',\n",
    "    8: 'ВОРОНЕЖ',\n",
    "    12: 'ЕКАТЕРИНБУРГ',\n",
    "    25: 'ИРКУТСК',\n",
    "    19: 'КАЗАНЬ',\n",
    "    45: 'КЕМЕРОВО',\n",
    "    23: 'КРАСНОДАР',\n",
    "    17: 'КРАСНОЯРСК',\n",
    "    1: 'МОСКВА',\n",
    "    4: 'НИЖНИЙ НОВГОРОД',\n",
    "    15: 'НОВОСИБИРСК',\n",
    "    21: 'ОМСК',\n",
    "    14: 'ПЕРМЬ',\n",
    "    9: 'РОСТОВ-НА-ДОНУ',\n",
    "    6: 'САМАРА',\n",
    "    2: 'САНКТ-ПЕТЕРБУРГ',\n",
    "    10: 'САРАТОВ',\n",
    "    39: 'СТАВРОПОЛЬ',\n",
    "    3: 'ТВЕРЬ',\n",
    "    55: 'ТОМСК',\n",
    "    16: 'ТЮМЕНЬ',\n",
    "    20: 'УФА',\n",
    "    26: 'ХАБАРОВСК',\n",
    "    13: 'ЧЕЛЯБИНСК',\n",
    "    7: 'ЯРОСЛАВЛЬ'\n",
    "}"
   ]
  },
  {
   "cell_type": "markdown",
   "metadata": {},
   "source": [
    "### Посчитаем задания в цикле\n",
    "\n",
    "> ⚠️ Для корректного расчета статистик по регионам, в методе `build_task` должны быть активированы параметры `add_city_to_basedemo_from_region` и `add_city_to_targetdemo_from_region`"
   ]
  },
  {
   "cell_type": "code",
   "execution_count": null,
   "metadata": {
    "scrolled": true
   },
   "outputs": [],
   "source": [
    "tasks = []\n",
    "print(\"Отправляем задания на расчет\")\n",
    "\n",
    "# Для каждого региона формируем задание и отправляем на расчет\n",
    "for reg_id, reg_name in regions_dict.items():\n",
    "    \n",
    "    #Передаем id региона в company_filter\n",
    "    init_company_filter = company_filter\n",
    "    \n",
    "    if company_filter is not None:\n",
    "        company_filter = company_filter + f' AND regionId IN ({reg_id})'\n",
    "        \n",
    "    else:\n",
    "        company_filter = f'regionId IN ({reg_id})'\n",
    "      \n",
    "    # Формируем задание для API TV Index в формате JSON\n",
    "    task_json = mtask.build_timeband_task(date_filter=date_filter, \n",
    "                                 weekday_filter=weekday_filter, daytype_filter=daytype_filter, \n",
    "                                 company_filter=company_filter, time_filter=time_filter, \n",
    "                                 basedemo_filter=basedemo_filter, targetdemo_filter=targetdemo_filter,\n",
    "                                 location_filter=location_filter, slices=slices, sortings=sortings,\n",
    "                                 statistics=statistics, options=options, \n",
    "                                 add_city_to_basedemo_from_region=True,\n",
    "                                 add_city_to_targetdemo_from_region=True\n",
    "                                )\n",
    "\n",
    "    # Для каждого этапа цикла формируем словарь с параметрами и отправленным заданием на расчет\n",
    "    tsk = {}    \n",
    "    tsk['task'] = mtask.send_timeband_task(task_json)\n",
    "    tasks.append(tsk)\n",
    "    time.sleep(2)\n",
    "    print('.', end = '')\n",
    "    \n",
    "    company_filter = init_company_filter\n",
    "    \n",
    "print(f\"\\nid: {[i['task']['taskId'] for i in tasks]}\") \n",
    "\n",
    "print('')\n",
    "# Ждем выполнения\n",
    "print('Ждем выполнения')\n",
    "tsks = mtask.wait_task(tasks)\n",
    "print('Расчет завершен, получаем результат')\n",
    "\n",
    "# Получаем результат\n",
    "results = []\n",
    "print('Собираем таблицу')\n",
    "for t in tasks:\n",
    "    tsk = t['task'] \n",
    "    df_result = mtask.result2table(mtask.get_result(tsk))        \n",
    "    results.append(df_result)\n",
    "    print('.', end = '')\n",
    "df = pd.concat(results)\n",
    "\n",
    "# Приводим порядок столбцов в соответствие с условиями расчета\n",
    "df = df[slices+statistics]\n",
    "\n",
    "df"
   ]
  },
  {
   "cell_type": "markdown",
   "metadata": {},
   "source": [
    "## Настройка внешнего вида таблицы\n",
    "Пропустите этот шаг, если хотите экспортировать таблицу в ее текущем виде"
   ]
  },
  {
   "cell_type": "code",
   "execution_count": null,
   "metadata": {},
   "outputs": [],
   "source": [
    "# Формируем сводную таблицу: строки - типы дней, недели, столбцы - регионы, каналы, значения - статистики\n",
    "df = pd.pivot_table(df, values=statistics,\n",
    "                        index=['researchDayTypeName','researchWeek'], \n",
    "                        columns=['regionName','tvNetName'])\n",
    "df"
   ]
  },
  {
   "cell_type": "markdown",
   "metadata": {},
   "source": [
    "## Экспорт в Excel\n",
    "По умолчанию файл сохраняется в папку `excel`"
   ]
  },
  {
   "cell_type": "code",
   "execution_count": null,
   "metadata": {},
   "outputs": [],
   "source": [
    "df_info = mtask.task_builder.get_report_info()\n",
    "\n",
    "with pd.ExcelWriter(mtask.task_builder.get_excel_filename('cities_02_daytypes&weeks')) as writer:\n",
    "    df.to_excel(writer, 'Report', index=True)\n",
    "    df_info.to_excel(writer, 'Info', index=False)"
   ]
  }
 ],
 "metadata": {
  "kernelspec": {
   "display_name": "Python 3",
   "language": "python",
   "name": "python3"
  },
  "language_info": {
   "codemirror_mode": {
    "name": "ipython",
    "version": 3
   },
   "file_extension": ".py",
   "mimetype": "text/x-python",
   "name": "python",
   "nbconvert_exporter": "python",
   "pygments_lexer": "ipython3",
   "version": "3.8.8"
  }
 },
 "nbformat": 4,
 "nbformat_minor": 4
}
