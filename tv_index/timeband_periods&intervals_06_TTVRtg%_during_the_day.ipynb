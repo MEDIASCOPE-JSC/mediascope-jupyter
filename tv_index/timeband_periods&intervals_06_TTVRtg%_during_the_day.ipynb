{
 "cells": [
  {
   "cell_type": "markdown",
   "metadata": {},
   "source": [
    "# ТТВ рейтинг в течение дня\n",
    "Пример расчета показателей TTV в разбивке по часу.\n",
    "\n",
    "## Описание задачи и условий расчета\n",
    "- Период: 01.09.2022 - 30.09.2022 по рабочим и выходным отдельно\n",
    "- Временной интервал: 05:00-29:00 с разбивкой по часу\n",
    "- ЦА: Россия 100+\n",
    "- Место просмотра: Все места (дом+дача)\n",
    "- Каналы: Total Channels\t\t\t\t\t\t\t\t\t\n",
    "- Статистики: TTV Rtg%"
   ]
  },
  {
   "cell_type": "markdown",
   "metadata": {},
   "source": [
    "## Инициализация\n",
    "\n",
    "При построении отчета первый шаг в любом ноутбуке - загрузка библиотек, которые помогут обращаться к TVI API и работать с данными.\n",
    "\n",
    "Выполните следующую ячейку, для этого перейдите в нее и нажмите Ctrl+Enter"
   ]
  },
  {
   "cell_type": "code",
   "execution_count": 1,
   "metadata": {
    "scrolled": true
   },
   "outputs": [
    {
     "name": "stdout",
     "output_type": "stream",
     "text": [
      "Запрошены записи: 0 - 257\n",
      "Всего найдено записей: 257\n",
      "\n",
      "Запрошены записи: 0 - 257\n",
      "Всего найдено записей: 257\n",
      "\n"
     ]
    }
   ],
   "source": [
    "%reload_ext autoreload\n",
    "%autoreload 2\n",
    "\n",
    "import sys\n",
    "import os\n",
    "import re\n",
    "import json\n",
    "import datetime\n",
    "import time\n",
    "import pandas as pd\n",
    "from IPython.display import JSON\n",
    "\n",
    "from mediascope_api.core import net as mscore\n",
    "from mediascope_api.mediavortex import tasks as cwt\n",
    "from mediascope_api.mediavortex import catalogs as cwc\n",
    "\n",
    "# Настраиваем отображение\n",
    "\n",
    "# Включаем отображение всех колонок\n",
    "pd.set_option('display.max_columns', None)\n",
    "# Задаем максимальное количество выводимых строк. Раскомментируйте нужную строку\n",
    "# 200 строк\n",
    "# pd.set_option(\"display.max_rows\", 200)\n",
    "# Отображаем все строки. ВАЖНО! Отображение большого DataFrame требует много ресурсов\n",
    "# pd.set_option(\"display.max_rows\", None)\n",
    "\n",
    "# Cоздаем объекты для работы с TVI API\n",
    "mnet = mscore.MediascopeApiNetwork()\n",
    "mtask = cwt.MediaVortexTask()\n",
    "cats = cwc.MediaVortexCats()"
   ]
  },
  {
   "cell_type": "markdown",
   "metadata": {},
   "source": [
    "## Справочники"
   ]
  },
  {
   "cell_type": "code",
   "execution_count": 2,
   "metadata": {},
   "outputs": [
    {
     "name": "stdout",
     "output_type": "stream",
     "text": [
      "Запрошены записи: 0 - 4\n",
      "Всего найдено записей: 4\n",
      "\n"
     ]
    },
    {
     "data": {
      "text/html": [
       "<div>\n",
       "<style scoped>\n",
       "    .dataframe tbody tr th:only-of-type {\n",
       "        vertical-align: middle;\n",
       "    }\n",
       "\n",
       "    .dataframe tbody tr th {\n",
       "        vertical-align: top;\n",
       "    }\n",
       "\n",
       "    .dataframe thead th {\n",
       "        text-align: right;\n",
       "    }\n",
       "</style>\n",
       "<table border=\"1\" class=\"dataframe\">\n",
       "  <thead>\n",
       "    <tr style=\"text-align: right;\">\n",
       "      <th></th>\n",
       "      <th>id</th>\n",
       "      <th>name</th>\n",
       "      <th>ename</th>\n",
       "    </tr>\n",
       "  </thead>\n",
       "  <tbody>\n",
       "    <tr>\n",
       "      <th>0</th>\n",
       "      <td>W</td>\n",
       "      <td>рабочий день</td>\n",
       "      <td>working day</td>\n",
       "    </tr>\n",
       "    <tr>\n",
       "      <th>1</th>\n",
       "      <td>H</td>\n",
       "      <td>праздничный день</td>\n",
       "      <td>public holiday</td>\n",
       "    </tr>\n",
       "    <tr>\n",
       "      <th>2</th>\n",
       "      <td>E</td>\n",
       "      <td>выходной день</td>\n",
       "      <td>weekend</td>\n",
       "    </tr>\n",
       "    <tr>\n",
       "      <th>3</th>\n",
       "      <td>A</td>\n",
       "      <td>день траура</td>\n",
       "      <td>day of mourning</td>\n",
       "    </tr>\n",
       "  </tbody>\n",
       "</table>\n",
       "</div>"
      ],
      "text/plain": [
       "  id              name            ename\n",
       "0  W      рабочий день      working day\n",
       "1  H  праздничный день   public holiday\n",
       "2  E     выходной день          weekend\n",
       "3  A       день траура  day of mourning"
      ]
     },
     "execution_count": 2,
     "metadata": {},
     "output_type": "execute_result"
    }
   ],
   "source": [
    "# Найдем идентификаторы нужных нам типов дней\n",
    "cats.get_tv_research_day_type()"
   ]
  },
  {
   "cell_type": "code",
   "execution_count": 3,
   "metadata": {},
   "outputs": [
    {
     "name": "stdout",
     "output_type": "stream",
     "text": [
      "Запрошены записи: 0 - 2\n",
      "Всего найдено записей: 2\n",
      "\n"
     ]
    },
    {
     "data": {
      "text/html": [
       "<div>\n",
       "<style scoped>\n",
       "    .dataframe tbody tr th:only-of-type {\n",
       "        vertical-align: middle;\n",
       "    }\n",
       "\n",
       "    .dataframe tbody tr th {\n",
       "        vertical-align: top;\n",
       "    }\n",
       "\n",
       "    .dataframe thead th {\n",
       "        text-align: right;\n",
       "    }\n",
       "</style>\n",
       "<table border=\"1\" class=\"dataframe\">\n",
       "  <thead>\n",
       "    <tr style=\"text-align: right;\">\n",
       "      <th></th>\n",
       "      <th>id</th>\n",
       "      <th>valueId</th>\n",
       "      <th>name</th>\n",
       "      <th>colName</th>\n",
       "      <th>valueName</th>\n",
       "    </tr>\n",
       "  </thead>\n",
       "  <tbody>\n",
       "    <tr>\n",
       "      <th>0</th>\n",
       "      <td>118</td>\n",
       "      <td>1</td>\n",
       "      <td>Население 100+</td>\n",
       "      <td>Cube100Plus100Minus</td>\n",
       "      <td>100+</td>\n",
       "    </tr>\n",
       "    <tr>\n",
       "      <th>1</th>\n",
       "      <td>118</td>\n",
       "      <td>2</td>\n",
       "      <td>Население 100+</td>\n",
       "      <td>Cube100Plus100Minus</td>\n",
       "      <td>100-</td>\n",
       "    </tr>\n",
       "  </tbody>\n",
       "</table>\n",
       "</div>"
      ],
      "text/plain": [
       "    id  valueId            name              colName valueName\n",
       "0  118        1  Население 100+  Cube100Plus100Minus      100+\n",
       "1  118        2  Население 100+  Cube100Plus100Minus      100-"
      ]
     },
     "execution_count": 3,
     "metadata": {},
     "output_type": "execute_result"
    }
   ],
   "source": [
    "# Найдем названия нужных нам демографических переменных\n",
    "cats.get_tv_demo_attribute(names=['100+'])"
   ]
  },
  {
   "cell_type": "markdown",
   "metadata": {},
   "source": [
    "## Формирование задания\n",
    "Зададим условия расчета"
   ]
  },
  {
   "cell_type": "code",
   "execution_count": 4,
   "metadata": {},
   "outputs": [],
   "source": [
    "# Период указывается в виде списка ('Начало', 'Конец'). \n",
    "date_filter = [('2022-09-01', '2022-09-30')]\n",
    "\n",
    "# Задаем дни недели\n",
    "weekday_filter = None\n",
    "\n",
    "# Задаем тип дня\n",
    "daytype_filter = 'researchDayType IN (W, E)'\n",
    "\n",
    "# Задаем временной интервал\n",
    "time_filter = None\n",
    "\n",
    "# Задаем ЦА\n",
    "basedemo_filter = 'cube100Plus100Minus = 1'\n",
    "\n",
    "# Доп фильтр ЦА, нужен только в случае расчета отношения между ЦА, например, при расчете Affinity Index\n",
    "targetdemo_filter = None\n",
    "\n",
    "# Задаем место просмотра\n",
    "location_filter = None\n",
    "\n",
    "# Задаем каналы\n",
    "company_filter = None\n",
    "\n",
    "# Указываем список статистик для расчета\n",
    "statistics = ['TTVRtgPer']\n",
    "\n",
    "# Указываем срезы\n",
    "slices = ['researchDayType', 'timeBand60']\n",
    "\n",
    "# Задаем опции расчета\n",
    "options = {\n",
    "    \"kitId\": 1, #TV Index Russia all \n",
    "}"
   ]
  },
  {
   "cell_type": "markdown",
   "metadata": {},
   "source": [
    "## Расчет задания"
   ]
  },
  {
   "cell_type": "code",
   "execution_count": 5,
   "metadata": {},
   "outputs": [
    {
     "name": "stdout",
     "output_type": "stream",
     "text": [
      "Расчет задачи (id: e2cf641b-926f-463e-b697-e2d008fa39fb) [= = = = = = = = ] время расчета: 0:00:30.968810\n"
     ]
    }
   ],
   "source": [
    "# Формируем задание для TV API в формате JSON\n",
    "task_json = mtask.build_task('timeband', date_filter=date_filter, \n",
    "                                 weekday_filter=weekday_filter, daytype_filter=daytype_filter, \n",
    "                                 company_filter=company_filter, time_filter=time_filter, \n",
    "                                 basedemo_filter=basedemo_filter, targetdemo_filter=targetdemo_filter,\n",
    "                                 location_filter=location_filter, slices=slices, \n",
    "                                 statistics=statistics, options=options)\n",
    "\n",
    "# Отправляем задание на расчет и ждем выполнения\n",
    "task_timeband = mtask.wait_task(mtask.send_timeband_task(task_json))\n",
    "\n",
    "# Получаем результат\n",
    "df_timeband = mtask.result2table(mtask.get_result(task_timeband))"
   ]
  },
  {
   "cell_type": "markdown",
   "metadata": {},
   "source": [
    "Настраиваем внешний вид таблицы"
   ]
  },
  {
   "cell_type": "code",
   "execution_count": 6,
   "metadata": {},
   "outputs": [
    {
     "data": {
      "text/html": [
       "<div>\n",
       "<style scoped>\n",
       "    .dataframe tbody tr th:only-of-type {\n",
       "        vertical-align: middle;\n",
       "    }\n",
       "\n",
       "    .dataframe tbody tr th {\n",
       "        vertical-align: top;\n",
       "    }\n",
       "\n",
       "    .dataframe thead tr th {\n",
       "        text-align: left;\n",
       "    }\n",
       "\n",
       "    .dataframe thead tr:last-of-type th {\n",
       "        text-align: right;\n",
       "    }\n",
       "</style>\n",
       "<table border=\"1\" class=\"dataframe\">\n",
       "  <thead>\n",
       "    <tr>\n",
       "      <th></th>\n",
       "      <th colspan=\"2\" halign=\"left\">TTVRtgPer</th>\n",
       "    </tr>\n",
       "    <tr>\n",
       "      <th>researchDayType</th>\n",
       "      <th>E</th>\n",
       "      <th>W</th>\n",
       "    </tr>\n",
       "    <tr>\n",
       "      <th>timeBand60</th>\n",
       "      <th></th>\n",
       "      <th></th>\n",
       "    </tr>\n",
       "  </thead>\n",
       "  <tbody>\n",
       "    <tr>\n",
       "      <th>50000</th>\n",
       "      <td>2.959879</td>\n",
       "      <td>3.012725</td>\n",
       "    </tr>\n",
       "    <tr>\n",
       "      <th>60000</th>\n",
       "      <td>4.022613</td>\n",
       "      <td>5.244354</td>\n",
       "    </tr>\n",
       "    <tr>\n",
       "      <th>70000</th>\n",
       "      <td>6.000277</td>\n",
       "      <td>7.460177</td>\n",
       "    </tr>\n",
       "    <tr>\n",
       "      <th>80000</th>\n",
       "      <td>9.203692</td>\n",
       "      <td>8.326921</td>\n",
       "    </tr>\n",
       "    <tr>\n",
       "      <th>90000</th>\n",
       "      <td>12.216830</td>\n",
       "      <td>9.771041</td>\n",
       "    </tr>\n",
       "    <tr>\n",
       "      <th>100000</th>\n",
       "      <td>14.475483</td>\n",
       "      <td>10.569377</td>\n",
       "    </tr>\n",
       "    <tr>\n",
       "      <th>110000</th>\n",
       "      <td>15.345393</td>\n",
       "      <td>11.477584</td>\n",
       "    </tr>\n",
       "    <tr>\n",
       "      <th>120000</th>\n",
       "      <td>15.861817</td>\n",
       "      <td>12.283134</td>\n",
       "    </tr>\n",
       "    <tr>\n",
       "      <th>130000</th>\n",
       "      <td>16.222483</td>\n",
       "      <td>12.647207</td>\n",
       "    </tr>\n",
       "    <tr>\n",
       "      <th>140000</th>\n",
       "      <td>16.869255</td>\n",
       "      <td>13.074837</td>\n",
       "    </tr>\n",
       "    <tr>\n",
       "      <th>150000</th>\n",
       "      <td>18.066413</td>\n",
       "      <td>13.977750</td>\n",
       "    </tr>\n",
       "    <tr>\n",
       "      <th>160000</th>\n",
       "      <td>19.153364</td>\n",
       "      <td>14.777870</td>\n",
       "    </tr>\n",
       "    <tr>\n",
       "      <th>170000</th>\n",
       "      <td>20.476772</td>\n",
       "      <td>16.801896</td>\n",
       "    </tr>\n",
       "    <tr>\n",
       "      <th>180000</th>\n",
       "      <td>23.280404</td>\n",
       "      <td>20.310693</td>\n",
       "    </tr>\n",
       "    <tr>\n",
       "      <th>190000</th>\n",
       "      <td>26.454624</td>\n",
       "      <td>23.714317</td>\n",
       "    </tr>\n",
       "    <tr>\n",
       "      <th>200000</th>\n",
       "      <td>28.556109</td>\n",
       "      <td>26.653814</td>\n",
       "    </tr>\n",
       "    <tr>\n",
       "      <th>210000</th>\n",
       "      <td>28.091255</td>\n",
       "      <td>26.599967</td>\n",
       "    </tr>\n",
       "    <tr>\n",
       "      <th>220000</th>\n",
       "      <td>24.260792</td>\n",
       "      <td>22.729935</td>\n",
       "    </tr>\n",
       "    <tr>\n",
       "      <th>230000</th>\n",
       "      <td>17.584367</td>\n",
       "      <td>16.270910</td>\n",
       "    </tr>\n",
       "    <tr>\n",
       "      <th>240000</th>\n",
       "      <td>11.455740</td>\n",
       "      <td>9.822293</td>\n",
       "    </tr>\n",
       "    <tr>\n",
       "      <th>250000</th>\n",
       "      <td>7.001630</td>\n",
       "      <td>5.877568</td>\n",
       "    </tr>\n",
       "    <tr>\n",
       "      <th>260000</th>\n",
       "      <td>4.403675</td>\n",
       "      <td>3.701053</td>\n",
       "    </tr>\n",
       "    <tr>\n",
       "      <th>270000</th>\n",
       "      <td>3.110648</td>\n",
       "      <td>2.780097</td>\n",
       "    </tr>\n",
       "    <tr>\n",
       "      <th>280000</th>\n",
       "      <td>2.652309</td>\n",
       "      <td>2.466464</td>\n",
       "    </tr>\n",
       "  </tbody>\n",
       "</table>\n",
       "</div>"
      ],
      "text/plain": [
       "                 TTVRtgPer           \n",
       "researchDayType          E          W\n",
       "timeBand60                           \n",
       "50000             2.959879   3.012725\n",
       "60000             4.022613   5.244354\n",
       "70000             6.000277   7.460177\n",
       "80000             9.203692   8.326921\n",
       "90000            12.216830   9.771041\n",
       "100000           14.475483  10.569377\n",
       "110000           15.345393  11.477584\n",
       "120000           15.861817  12.283134\n",
       "130000           16.222483  12.647207\n",
       "140000           16.869255  13.074837\n",
       "150000           18.066413  13.977750\n",
       "160000           19.153364  14.777870\n",
       "170000           20.476772  16.801896\n",
       "180000           23.280404  20.310693\n",
       "190000           26.454624  23.714317\n",
       "200000           28.556109  26.653814\n",
       "210000           28.091255  26.599967\n",
       "220000           24.260792  22.729935\n",
       "230000           17.584367  16.270910\n",
       "240000           11.455740   9.822293\n",
       "250000            7.001630   5.877568\n",
       "260000            4.403675   3.701053\n",
       "270000            3.110648   2.780097\n",
       "280000            2.652309   2.466464"
      ]
     },
     "execution_count": 6,
     "metadata": {},
     "output_type": "execute_result"
    }
   ],
   "source": [
    "df_timeband = df_timeband.astype(dtype={'timeBand60':int}) #меняем формат для корректной сортировки\n",
    "\n",
    "df_res = pd.pivot_table(df_timeband, values=['TTVRtgPer'],\n",
    "                        index=['timeBand60'], \n",
    "                        columns=['researchDayType'])\n",
    "df_res"
   ]
  },
  {
   "cell_type": "markdown",
   "metadata": {},
   "source": [
    "## Экспорт в Excel\n",
    "По умолчанию файл сохраняется в директорию `mediascope-jupyter\\mediascope-notebooks\\excel`"
   ]
  },
  {
   "cell_type": "code",
   "execution_count": 7,
   "metadata": {},
   "outputs": [],
   "source": [
    "writer = pd.ExcelWriter(mtask.task_builder.get_excel_filename('06_TTVRtg%_during_the_day'))\n",
    "df_info = mtask.task_builder.get_report_info()\n",
    "df_res.to_excel(writer, 'Report', index=True)\n",
    "df_info.to_excel(writer, 'Info', index=False)\n",
    "writer.save()"
   ]
  }
 ],
 "metadata": {
  "kernelspec": {
   "display_name": "Python 3",
   "language": "python",
   "name": "python3"
  },
  "language_info": {
   "codemirror_mode": {
    "name": "ipython",
    "version": 3
   },
   "file_extension": ".py",
   "mimetype": "text/x-python",
   "name": "python",
   "nbconvert_exporter": "python",
   "pygments_lexer": "ipython3",
   "version": "3.8.8"
  }
 },
 "nbformat": 4,
 "nbformat_minor": 4
}
