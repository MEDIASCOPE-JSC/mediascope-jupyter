{
 "cells": [
  {
   "cell_type": "markdown",
   "metadata": {},
   "source": [
    "# Индекс аффинитивности по соц-дем\n",
    "Пример расчета аффинитивности целевых аудиторий\n",
    "\n",
    "## Описание задачи и условий расчета\n",
    "- Период: 01.01.2022 - 31.01.2022\n",
    "- Временной интервал: 05:00-29:00\n",
    "- ЦА: Все 4+ в разбивке на целевые аудитории\n",
    "- Место просмотра: Все места (дом+дача)\n",
    "- Каналы: ТНТ и СТС\t\t\t\t\t\t\t\t\t\n",
    "- Статистики: TgAffin%"
   ]
  },
  {
   "cell_type": "markdown",
   "metadata": {},
   "source": [
    "## Инициализация\n",
    "\n",
    "При построении отчета первый шаг в любом ноутбуке - загрузка библиотек, которые помогут обращаться к TVI API и работать с данными.\n",
    "\n",
    "Выполните следующую ячейку, для этого перейдите в нее и нажмите Ctrl+Enter"
   ]
  },
  {
   "cell_type": "code",
   "execution_count": null,
   "metadata": {},
   "outputs": [],
   "source": [
    "%reload_ext autoreload\n",
    "%autoreload 2\n",
    "\n",
    "import sys\n",
    "import os\n",
    "import re\n",
    "import json\n",
    "import datetime\n",
    "import time\n",
    "import pandas as pd\n",
    "from IPython.display import JSON\n",
    "\n",
    "from mediascope_api.core import net as mscore\n",
    "from mediascope_api.mediavortex import tasks as cwt\n",
    "from mediascope_api.mediavortex import catalogs as cwc\n",
    "\n",
    "# Настраиваем отображение\n",
    "\n",
    "# Включаем отображение всех колонок\n",
    "pd.set_option('display.max_columns', None)\n",
    "# Задаем максимальное количество выводимых строк. Раскомментируйте нужную строку\n",
    "# 200 строк\n",
    "# pd.set_option(\"display.max_rows\", 200)\n",
    "# Отображаем все строки. ВАЖНО! Отображение большого DataFrame требует много ресурсов\n",
    "# pd.set_option(\"display.max_rows\", None)\n",
    "\n",
    "# Cоздаем объекты для работы с TVI API\n",
    "mnet = mscore.MediascopeApiNetwork()\n",
    "mtask = cwt.MediaVortexTask()\n",
    "cats = cwc.MediaVortexCats()"
   ]
  },
  {
   "cell_type": "markdown",
   "metadata": {},
   "source": [
    "## Справочники"
   ]
  },
  {
   "cell_type": "markdown",
   "metadata": {
    "tags": []
   },
   "source": [
    "Получим id нужных нам компаний"
   ]
  },
  {
   "cell_type": "code",
   "execution_count": null,
   "metadata": {},
   "outputs": [],
   "source": [
    "# выберем телесети по имени (части имени)\n",
    "cats.get_tv_net(name=[\"ТНТ\", \"СТС\"])\n",
    "\n",
    "# далее в запросах будем использовать id телесетей."
   ]
  },
  {
   "cell_type": "code",
   "execution_count": null,
   "metadata": {},
   "outputs": [],
   "source": [
    "# Найдем названия нужных нам демографических переменных\n",
    "cats.get_tv_demo_attribute(names=['пол','возраст','образование','род занятий','уровень дохода','питание'])"
   ]
  },
  {
   "cell_type": "markdown",
   "metadata": {},
   "source": [
    "## Формирование задания\n",
    "Зададим условия расчета"
   ]
  },
  {
   "cell_type": "code",
   "execution_count": null,
   "metadata": {},
   "outputs": [],
   "source": [
    "# Период указывается в виде списка ('Начало', 'Конец'). \n",
    "date_filter = [('2022-01-01', '2022-01-31')]\n",
    "\n",
    "# Задаем дни недели\n",
    "weekday_filter = None\n",
    "\n",
    "# Задаем тип дня\n",
    "daytype_filter = None\n",
    "\n",
    "# Задаем временной интервал\n",
    "time_filter = None\n",
    "\n",
    "# Задаем ЦА\n",
    "basedemo_filter = None\n",
    "\n",
    "# Доп фильтр ЦА, нужен только в случае расчета отношения между ЦА, например, при расчете Affinity Index\n",
    "targetdemo_filter = None\n",
    "\n",
    "# Задаем место просмотра\n",
    "location_filter = None\n",
    "\n",
    "# Задаем каналы\n",
    "company_filter = 'tvNetId IN (83, 11)'\n",
    "\n",
    "# Указываем список статистик для расчета\n",
    "statistics = ['TgAffinPer']\n",
    "\n",
    "# Указываем срезы\n",
    "slices = ['tvNetName']\n",
    "\n",
    "# Задаем опции расчета\n",
    "options = {\n",
    "    \"kitId\": 1, #TV Index Russia all \n",
    "}"
   ]
  },
  {
   "cell_type": "markdown",
   "metadata": {},
   "source": [
    "Формируем группу значений параметров для различных ЦА"
   ]
  },
  {
   "cell_type": "code",
   "execution_count": null,
   "metadata": {
    "scrolled": true
   },
   "outputs": [],
   "source": [
    "# Задаем необходимые группы\n",
    "targets = {\n",
    "    'Тотал':{'prj_name': '4+', 'targetdemo': 'age >= 4'},\n",
    "    'Мужчины':{'prj_name': 'Пол', 'targetdemo': 'sex = 1'},\n",
    "    'Женщины':{'prj_name': 'Пол', 'targetdemo': 'sex = 2'},\n",
    "    '4-17':{'prj_name': 'Возраст', 'targetdemo': 'age >= 4 AND age <= 17'},\n",
    "    '18-34':{'prj_name': 'Возраст', 'targetdemo': 'age >= 18 AND age <= 34'},\n",
    "    '35-44':{'prj_name': 'Возраст', 'targetdemo': 'age >= 35 AND age <= 44'},\n",
    "    '45-54':{'prj_name': 'Возраст', 'targetdemo': 'age >= 45 AND age <= 54'},\n",
    "    '55+':{'prj_name': 'Возраст', 'targetdemo': 'age >= 55'},\n",
    "    'Начальное, среднее':{'prj_name': 'Образование', 'targetdemo': 'education IN (1, 2)'},\n",
    "    'Высшее':{'prj_name': 'Образование', 'targetdemo': 'education = 3'},\n",
    "    'Руководитель':{'prj_name': 'Род занятий', 'targetdemo': 'status IN (1,9,10)'},\n",
    "    'Рабочий':{'prj_name': 'Род занятий', 'targetdemo': 'status = 4'},\n",
    "    'Дошкольник, студент, учащийся':{'prj_name': 'Род занятий', 'targetdemo': 'status = 5'},\n",
    "    'Домохозяйка, молодая мать':{'prj_name': 'Род занятий', 'targetdemo': 'status = 8'},\n",
    "    'Специалист, служащий':{'prj_name': 'Род занятий', 'targetdemo': 'status IN (2, 3)'},\n",
    "    'Другое':{'prj_name': 'Род занятий', 'targetdemo': 'status IN (6,7,11)'},\n",
    "    'Имеют возможность покупать только самое необходимое':{'prj_name': 'Уровень дохода', 'targetdemo': 'incLevel IN (1,2)'},\n",
    "    'Хватает на еду и одежду, но не на дорогие вещи':{'prj_name': 'Уровень дохода', 'targetdemo': 'incLevel = 3'},\n",
    "    'Имеют возможность покупать дорогие вещи':{'prj_name': 'Уровень дохода', 'targetdemo': 'incLevel IN (4,5)'},\n",
    "    'Меньше четверти':{'prj_name': 'Затраты на питание', 'targetdemo': 'spendingsOnFood = 1'},\n",
    "    'От четверти до половины':{'prj_name': 'Затраты на питание', 'targetdemo': 'spendingsOnFood = 2'},\n",
    "    'От половины до трех четвертей':{'prj_name': 'Затраты на питание', 'targetdemo': 'spendingsOnFood = 3'},\n",
    "    'Более трех четвертей':{'prj_name': 'Затраты на питание', 'targetdemo': 'spendingsOnFood = 4'},\n",
    "    'Нет ответа':{'prj_name': 'Затраты на питание', 'targetdemo': 'spendingsOnFood = 5'}\n",
    "}"
   ]
  },
  {
   "cell_type": "markdown",
   "metadata": {},
   "source": [
    "## Расчет задания"
   ]
  },
  {
   "cell_type": "code",
   "execution_count": null,
   "metadata": {},
   "outputs": [],
   "source": [
    "# Посчитаем задания в цикле\n",
    "tasks = []\n",
    "print(\"Отправляем задания на расчет\")\n",
    "\n",
    "# Для каждой ЦА формируем задания и отправляем на расчет\n",
    "for target, logical in targets.items():\n",
    "    \n",
    "    # Формируем задание на расчет ЦА\n",
    "    project_name = f\"{logical['prj_name']}&{target}\" \n",
    "    targetdemo_filter = f\"{logical['targetdemo']}\"\n",
    "      \n",
    "    # Формируем из указанных параметров задание для API TV Index в формате JSON для каждого из этапов цикла\n",
    "    task_json = mtask.build_task('timeband', task_name=project_name, date_filter=date_filter, \n",
    "                                 weekday_filter=weekday_filter, daytype_filter=daytype_filter, \n",
    "                                 company_filter=company_filter, time_filter=time_filter, \n",
    "                                 basedemo_filter=basedemo_filter, targetdemo_filter=targetdemo_filter,\n",
    "                                 location_filter=location_filter, slices=slices, \n",
    "                                 statistics=statistics, options=options)\n",
    "\n",
    "    # Для каждого этапа цикла формируем словарь с параметрами и отправленным заданием на расчет\n",
    "    tsk = {}\n",
    "    tsk['project_name'] = project_name    \n",
    "    tsk['task'] = mtask.send_timeband_task(task_json)\n",
    "    tasks.append(tsk)\n",
    "    time.sleep(2)\n",
    "    print('.', end = '')\n",
    "\n",
    "print('')\n",
    "# Ждем выполнения\n",
    "print('Ждем выполнения')\n",
    "tsks = mtask.wait_task(tasks)\n",
    "print('Расчет завершен, получаем результат')\n",
    "\n",
    "# Получаем результат\n",
    "results = []\n",
    "print('Собираем таблицу')\n",
    "for t in tasks:\n",
    "    tsk = t['task'] \n",
    "    df_result = mtask.result2table(mtask.get_result(tsk), project_name = t['project_name'])        \n",
    "    results.append(df_result)\n",
    "    print('.', end = '')\n",
    "df = pd.concat(results)"
   ]
  },
  {
   "cell_type": "markdown",
   "metadata": {},
   "source": [
    "Настраиваем внешний вид таблицы"
   ]
  },
  {
   "cell_type": "code",
   "execution_count": null,
   "metadata": {},
   "outputs": [],
   "source": [
    "# Разделяем колонку с именем проекта на имя параметра и значение параметра\n",
    "df[['Параметр', 'Значение']] = df['prj_name'].str.split('&', 1, expand=True)\n",
    "\n",
    "# Удаляем исходную колонку\n",
    "df = df.drop(columns=['prj_name'])\n",
    "\n",
    "df_res = pd.pivot_table(df, values=['TgAffinPer'],\n",
    "                        index=['Параметр', 'Значение'], \n",
    "                        columns=['tvNetName'])\n",
    "df_res"
   ]
  },
  {
   "cell_type": "markdown",
   "metadata": {},
   "source": [
    "## Экспорт в Excel\n",
    "По умолчанию файл сохраняется в папку `excel`"
   ]
  },
  {
   "cell_type": "code",
   "execution_count": null,
   "metadata": {},
   "outputs": [],
   "source": [
    "df_info = mtask.task_builder.get_report_info()\n",
    "\n",
    "with pd.ExcelWriter(mtask.task_builder.get_excel_filename('03_affinity')) as writer:\n",
    "    df_res.to_excel(writer, 'Report', index=True)\n",
    "    df_info.to_excel(writer, 'Info', index=False)"
   ]
  }
 ],
 "metadata": {
  "kernelspec": {
   "display_name": "Python 3 (ipykernel)",
   "language": "python",
   "name": "python3"
  },
  "language_info": {
   "codemirror_mode": {
    "name": "ipython",
    "version": 3
   },
   "file_extension": ".py",
   "mimetype": "text/x-python",
   "name": "python",
   "nbconvert_exporter": "python",
   "pygments_lexer": "ipython3",
   "version": "3.9.13"
  }
 },
 "nbformat": 4,
 "nbformat_minor": 4
}
