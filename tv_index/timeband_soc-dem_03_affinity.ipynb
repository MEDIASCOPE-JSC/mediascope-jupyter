{
 "cells": [
  {
   "cell_type": "markdown",
   "metadata": {},
   "source": [
    "# Индекс аффинитивности по соц-дем\n",
    "Пример расчета аффинитивности целевых аудиторий\n",
    "\n",
    "## Описание задачи и условий расчета\n",
    "- Период: 01.01.2022 - 31.01.2022\n",
    "- Временной интервал: 05:00-29:00\n",
    "- ЦА: Все 4+ в разбивке на целевые аудитории\n",
    "- Место просмотра: Все места (дом+дача)\n",
    "- Каналы: ТНТ и СТС\t\t\t\t\t\t\t\t\t\n",
    "- Статистики: TgSat%, TgAffin%, TgSatReach%, TgAffinReach%"
   ]
  },
  {
   "cell_type": "markdown",
   "metadata": {},
   "source": [
    "## Инициализация\n",
    "\n",
    "При построении отчета первый шаг в любом ноутбуке - загрузка библиотек, которые помогут обращаться к TVI API и работать с данными.\n",
    "\n",
    "Выполните следующую ячейку, для этого перейдите в нее и нажмите Ctrl+Enter"
   ]
  },
  {
   "cell_type": "code",
   "execution_count": null,
   "metadata": {},
   "outputs": [],
   "source": [
    "%reload_ext autoreload\n",
    "%autoreload 2\n",
    "\n",
    "import sys\n",
    "import os\n",
    "import re\n",
    "import json\n",
    "import datetime\n",
    "import time\n",
    "import pandas as pd\n",
    "from IPython.display import JSON\n",
    "\n",
    "from mediascope_api.core import net as mscore\n",
    "from mediascope_api.mediavortex import tasks as cwt\n",
    "from mediascope_api.mediavortex import catalogs as cwc\n",
    "\n",
    "# Настраиваем отображение\n",
    "\n",
    "# Включаем отображение всех колонок\n",
    "pd.set_option('display.max_columns', None)\n",
    "# Задаем максимальное количество выводимых строк. Раскомментируйте нужную строку\n",
    "# 200 строк\n",
    "# pd.set_option(\"display.max_rows\", 200)\n",
    "# Отображаем все строки. ВАЖНО! Отображение большого DataFrame требует много ресурсов\n",
    "# pd.set_option(\"display.max_rows\", None)\n",
    "\n",
    "# Cоздаем объекты для работы с TVI API\n",
    "mnet = mscore.MediascopeApiNetwork()\n",
    "mtask = cwt.MediaVortexTask()\n",
    "cats = cwc.MediaVortexCats()"
   ]
  },
  {
   "cell_type": "markdown",
   "metadata": {},
   "source": [
    "## Справочники\n",
    "\n",
    "Получим идентификаторы, которые будут использоваться для формирования условий расчета"
   ]
  },
  {
   "cell_type": "code",
   "execution_count": null,
   "metadata": {},
   "outputs": [],
   "source": [
    "# В справочнике телесетей получим id нужных нам каналов\n",
    "cats.get_tv_net(name=[\"ТНТ\", \"СТС\"])\n",
    "\n",
    "# Это id: 83, 11"
   ]
  },
  {
   "cell_type": "code",
   "execution_count": null,
   "metadata": {},
   "outputs": [],
   "source": [
    "# В справочнике демографических атрибутов найдем необходимые нам переменные\n",
    "cats.get_tv_demo_attribute(names=['пол','возраст','образование','род занятий','уровень дохода','питание'])\n",
    "\n",
    "# Для формирования условий запроса нам понадобятся значения столбца entityName: sex, age, education, status, incLevel, spendingsOnFood"
   ]
  },
  {
   "cell_type": "markdown",
   "metadata": {},
   "source": [
    "## Формирование задания\n",
    "Зададим условия расчета"
   ]
  },
  {
   "cell_type": "code",
   "execution_count": null,
   "metadata": {},
   "outputs": [],
   "source": [
    "# Период указывается в виде списка ('Начало', 'Конец') в формате 'YYYY-MM-DD'. \n",
    "date_filter = [('2022-01-01', '2022-01-31')]\n",
    "\n",
    "# Задаем дни недели\n",
    "weekday_filter = None\n",
    "\n",
    "# Задаем тип дня\n",
    "daytype_filter = None\n",
    "\n",
    "# Задаем временной интервал\n",
    "time_filter = None\n",
    "\n",
    "# Задаем ЦА\n",
    "basedemo_filter = None\n",
    "\n",
    "# Доп фильтр ЦА, нужен только в случае расчета отношения между ЦА, например, при расчете Affinity Index\n",
    "targetdemo_filter = None\n",
    "\n",
    "# Задаем место просмотра\n",
    "location_filter = None\n",
    "\n",
    "# Задаем каналы: ТНТ и СТС\n",
    "company_filter = 'tvNetId IN (83, 11)'\n",
    "\n",
    "# Указываем список статистик для расчета\n",
    "statistics = ['TgSatPer','TgAffinPer','TgSatReachPer','TgAffinReachPer']\n",
    "\n",
    "# Указываем срезы: телесеть\n",
    "slices = ['tvNetName']\n",
    "\n",
    "# Задаем условия сортировки\n",
    "sortings = None\n",
    "\n",
    "# Задаем опции расчета\n",
    "options = {\n",
    "    \"kitId\": 1, #TV Index Russia all \n",
    "}"
   ]
  },
  {
   "cell_type": "markdown",
   "metadata": {},
   "source": [
    "Сформируем словарь с целевыми аудиториями"
   ]
  },
  {
   "cell_type": "code",
   "execution_count": null,
   "metadata": {
    "scrolled": true
   },
   "outputs": [],
   "source": [
    "# Задаем необходимые группы\n",
    "targets = {\n",
    "    'Тотал':{'var_name': '4+', 'syntax': 'age >= 4', 'order':1},\n",
    "    'Мужчины':{'var_name': 'Пол', 'syntax': 'sex = 1', 'order':2},\n",
    "    'Женщины':{'var_name': 'Пол', 'syntax': 'sex = 2', 'order':3},\n",
    "    '4-17':{'var_name': 'Возраст', 'syntax': 'age >= 4 AND age <= 17', 'order':4},\n",
    "    '18-34':{'var_name': 'Возраст', 'syntax': 'age >= 18 AND age <= 34', 'order':5},\n",
    "    '35-44':{'var_name': 'Возраст', 'syntax': 'age >= 35 AND age <= 44', 'order':6},\n",
    "    '45-54':{'var_name': 'Возраст', 'syntax': 'age >= 45 AND age <= 54', 'order':7},\n",
    "    '55+':{'var_name': 'Возраст', 'syntax': 'age >= 55', 'order':8},\n",
    "    'Начальное, среднее':{'var_name': 'Образование', 'syntax': 'education IN (1, 2)', 'order':9},\n",
    "    'Высшее':{'var_name': 'Образование', 'syntax': 'education = 3', 'order':10},\n",
    "    'Руководитель':{'var_name': 'Род занятий', 'syntax': 'status IN (1,9,10)', 'order':11},\n",
    "    'Рабочий':{'var_name': 'Род занятий', 'syntax': 'status = 4', 'order':12},\n",
    "    'Дошкольник, студент, учащийся':{'var_name': 'Род занятий', 'syntax': 'status = 5', 'order':13},\n",
    "    'Домохозяйка, молодая мать':{'var_name': 'Род занятий', 'syntax': 'status = 8', 'order':14},\n",
    "    'Специалист, служащий':{'var_name': 'Род занятий', 'syntax': 'status IN (2, 3)', 'order':15},\n",
    "    'Другое':{'var_name': 'Род занятий', 'syntax': 'status IN (6,7,11)', 'order':16},\n",
    "    'Имеют возможность покупать только самое необходимое':{'var_name': 'Уровень дохода', 'syntax': 'incLevel IN (1,2)', 'order':17},\n",
    "    'Хватает на еду и одежду, но не на дорогие вещи':{'var_name': 'Уровень дохода', 'syntax': 'incLevel = 3', 'order':18},\n",
    "    'Имеют возможность покупать дорогие вещи':{'var_name': 'Уровень дохода', 'syntax': 'incLevel IN (4,5)', 'order':19},\n",
    "    'Меньше четверти':{'var_name': 'Затраты на питание', 'syntax': 'spendingsOnFood = 1', 'order':20},\n",
    "    'От четверти до половины':{'var_name': 'Затраты на питание', 'syntax': 'spendingsOnFood = 2', 'order':21},\n",
    "    'От половины до трех четвертей':{'var_name': 'Затраты на питание', 'syntax': 'spendingsOnFood = 3', 'order':22},\n",
    "    'Более трех четвертей':{'var_name': 'Затраты на питание', 'syntax': 'spendingsOnFood = 4', 'order':23},\n",
    "    'Нет ответа':{'var_name': 'Затраты на питание', 'syntax': 'spendingsOnFood = 5', 'order':24}\n",
    "}"
   ]
  },
  {
   "cell_type": "markdown",
   "metadata": {},
   "source": [
    "## Расчет задания"
   ]
  },
  {
   "cell_type": "code",
   "execution_count": null,
   "metadata": {},
   "outputs": [],
   "source": [
    "# Посчитаем задания в цикле\n",
    "tasks = []\n",
    "print(\"Отправляем задания на расчет\")\n",
    "\n",
    "# Для каждой ЦА формируем задания и отправляем на расчет\n",
    "for category, variable in targets.items():\n",
    "    \n",
    "    # Формируем задание на расчет ЦА\n",
    "    project_name = f\"{variable['order']}&{variable['var_name']}&{category}\" \n",
    "    targetdemo_filter = f\"{variable['syntax']}\"\n",
    "      \n",
    "    # Формируем задание для API TV Index в формате JSON\n",
    "    task_json = mtask.build_timeband_task(task_name=project_name, date_filter=date_filter, \n",
    "                                          weekday_filter=weekday_filter, daytype_filter=daytype_filter, \n",
    "                                          company_filter=company_filter, time_filter=time_filter, \n",
    "                                          basedemo_filter=basedemo_filter, targetdemo_filter=targetdemo_filter,\n",
    "                                          location_filter=location_filter, slices=slices, \n",
    "                                          statistics=statistics, sortings=sortings, options=options)\n",
    "\n",
    "    # Для каждого этапа цикла формируем словарь с параметрами и отправленным заданием на расчет\n",
    "    tsk = {}\n",
    "    tsk['project_name'] = project_name    \n",
    "    tsk['task'] = mtask.send_timeband_task(task_json)\n",
    "    tasks.append(tsk)\n",
    "    time.sleep(2)\n",
    "    print('.', end = '')\n",
    "    \n",
    "print(f\"\\nid: {[i['task']['taskId'] for i in tasks]}\") \n",
    "\n",
    "print('')\n",
    "# Ждем выполнения\n",
    "print('Ждем выполнения')\n",
    "tsks = mtask.wait_task(tasks)\n",
    "print('Расчет завершен, получаем результат')\n",
    "\n",
    "# Получаем результат\n",
    "results = []\n",
    "print('Собираем таблицу')\n",
    "for t in tasks:\n",
    "    tsk = t['task'] \n",
    "    df_result = mtask.result2table(mtask.get_result(tsk), project_name = t['project_name'])        \n",
    "    results.append(df_result)\n",
    "    print('.', end = '')\n",
    "df = pd.concat(results)"
   ]
  },
  {
   "cell_type": "markdown",
   "metadata": {},
   "source": [
    "## Настройка внешнего вида таблицы"
   ]
  },
  {
   "cell_type": "code",
   "execution_count": null,
   "metadata": {},
   "outputs": [],
   "source": [
    "# Разделим колонку с именем проекта на составные части: номер для сортировки, имя переменной и категорию\n",
    "df[['Порядок','Переменная','Категория']] = df['prj_name'].str.split('&', 2, expand=True)\n",
    "\n",
    "# Переведем формат колонки порядок в числовой для корректной сортировки\n",
    "df = df.astype({'Порядок':int})"
   ]
  },
  {
   "cell_type": "code",
   "execution_count": null,
   "metadata": {
    "scrolled": true
   },
   "outputs": [],
   "source": [
    "# Формируем сводную таблицу: строки - ЦА, столбцы - каналы, значения - статистики\n",
    "df = pd.pivot_table(df, values = statistics,\n",
    "                        index=['Порядок','Переменная', 'Категория'], \n",
    "                        columns=['tvNetName'])\n",
    "\n",
    "# Удаляем сортировочный столбец\n",
    "df.index = df.index.droplevel(0)\n",
    "\n",
    "df"
   ]
  },
  {
   "cell_type": "code",
   "execution_count": null,
   "metadata": {},
   "outputs": [],
   "source": [
    "# Опционально: поменять местами уровни в столбцах\n",
    "df = df.swaplevel(0,1, axis=1).sort_index(axis=1)\n",
    "\n",
    "df"
   ]
  },
  {
   "cell_type": "markdown",
   "metadata": {},
   "source": [
    "## Экспорт в Excel\n",
    "По умолчанию файл сохраняется в папку `excel`"
   ]
  },
  {
   "cell_type": "code",
   "execution_count": null,
   "metadata": {},
   "outputs": [],
   "source": [
    "df_info = mtask.task_builder.get_report_info()\n",
    "\n",
    "with pd.ExcelWriter(mtask.task_builder.get_excel_filename('03_affinity')) as writer:\n",
    "    df.to_excel(writer, 'Report', index=True)\n",
    "    df_info.to_excel(writer, 'Info', index=False)"
   ]
  }
 ],
 "metadata": {
  "kernelspec": {
   "display_name": "Python 3",
   "language": "python",
   "name": "python3"
  },
  "language_info": {
   "codemirror_mode": {
    "name": "ipython",
    "version": 3
   },
   "file_extension": ".py",
   "mimetype": "text/x-python",
   "name": "python",
   "nbconvert_exporter": "python",
   "pygments_lexer": "ipython3",
   "version": "3.8.8"
  }
 },
 "nbformat": 4,
 "nbformat_minor": 4
}
