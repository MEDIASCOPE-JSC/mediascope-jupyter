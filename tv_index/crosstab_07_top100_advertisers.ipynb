{
 "cells": [
  {
   "cell_type": "markdown",
   "metadata": {},
   "source": [
    "# Топ рекламодателей по рейтингу\n",
    "Пример расчета топ-100 рекламодателей за период по рейтингу\n",
    "\n",
    "## Описание задачи и условий расчета\n",
    "- Период: 01.06.2023-30.06.2023\n",
    "- ЦА: Все 18+, Все 4+\n",
    "- Место просмотра: Все места (Дом+Дача)\n",
    "- Каналы: все каналы проекта TV Index\n",
    "- Ролики: ролик статус - Реальный\n",
    "- Статистики: Rtg% (тотал)"
   ]
  },
  {
   "cell_type": "markdown",
   "metadata": {},
   "source": [
    "## Инициализация\n",
    "\n",
    "При построении отчета первый шаг в любом ноутбуке - загрузка библиотек, которые помогут обращаться к TVI API и работать с данными.\n",
    "\n",
    "Выполните следующую ячейку, для этого перейдите в нее и нажмите Ctrl+Enter"
   ]
  },
  {
   "cell_type": "code",
   "execution_count": null,
   "metadata": {},
   "outputs": [],
   "source": [
    "%reload_ext autoreload\n",
    "%autoreload 2\n",
    "\n",
    "import sys\n",
    "import os\n",
    "import re\n",
    "import json\n",
    "import datetime\n",
    "import time\n",
    "import pandas as pd\n",
    "#import matplotlib.pyplot as plt\n",
    "from IPython.display import JSON\n",
    "\n",
    "from mediascope_api.core import net as mscore\n",
    "from mediascope_api.mediavortex import tasks as cwt\n",
    "from mediascope_api.mediavortex import catalogs as cwc\n",
    "\n",
    "# Настраиваем отображение\n",
    "\n",
    "# Включаем отображение всех колонок\n",
    "pd.set_option('display.max_columns', None)\n",
    "# Задаем максимальное количество выводимых строк. Раскомментируйте нужную строку\n",
    "# 200 строк\n",
    "# pd.set_option(\"display.max_rows\", 200)\n",
    "# Отображаем все строки. ВАЖНО! Отображение большого DataFrame требует много ресурсов\n",
    "# pd.set_option(\"display.max_rows\", None)\n",
    "\n",
    "# Cоздаем объекты для работы с TVI API\n",
    "mnet = mscore.MediascopeApiNetwork()\n",
    "mtask = cwt.MediaVortexTask()\n",
    "cats = cwc.MediaVortexCats()"
   ]
  },
  {
   "cell_type": "markdown",
   "metadata": {},
   "source": [
    "## Справочники\n",
    "\n",
    "Получим идентификаторы, которые будут использоваться для формирования условий расчета"
   ]
  },
  {
   "cell_type": "code",
   "execution_count": null,
   "metadata": {},
   "outputs": [],
   "source": [
    "# В справочнике демографических атрибутов найдем нужные нам переменные\n",
    "cats.get_tv_demo_attribute(names=['возраст'])\n",
    "\n",
    "# Для формирования условий запроса нам понадобятся значения столбца entityName: age"
   ]
  },
  {
   "cell_type": "code",
   "execution_count": null,
   "metadata": {},
   "outputs": [],
   "source": [
    "# Обратимся к словарю статусов события\n",
    "cats.get_tv_issue_status()\n",
    "\n",
    "# Для \"Реальный\" будем использовать id R"
   ]
  },
  {
   "cell_type": "markdown",
   "metadata": {},
   "source": [
    "## Формирование задания\n",
    "Зададим условия расчета"
   ]
  },
  {
   "cell_type": "code",
   "execution_count": null,
   "metadata": {},
   "outputs": [],
   "source": [
    "# Задаем период\n",
    "# Период указывается в виде списка ('Начало', 'Конец') в формате 'YYYY-MM-DD'. Можно указать несколько периодов\n",
    "date_filter = [('2023-06-01', '2023-06-30')]\n",
    "\n",
    "# Задаем дни недели\n",
    "weekday_filter = None\n",
    "\n",
    "# Задаем тип дня\n",
    "daytype_filter = None\n",
    "\n",
    "# Задаем ЦА\n",
    "basedemo_filter = None\n",
    "\n",
    "# Доп фильтр ЦА, нужен только в случае расчета отношения между ЦА, например, при расчете Affinity Index\n",
    "targetdemo_filter = None\n",
    "\n",
    "# Задаем место просмотра\n",
    "location_filter=None\n",
    "\n",
    "# Задаем каналы\n",
    "company_filter = 'tvNetId IN (1,2,4,10,11,12,13,16,40,60,83,84,86,204,205,206,255,257,258,259,260,286,326,329,340,356,376,393,502,545,348)'\n",
    "\n",
    "# Указываем фильтр программ\n",
    "program_filter = None\n",
    "\n",
    "# Фильтр блоков\n",
    "break_filter = None\n",
    "\n",
    "# Фильтр роликов: статус - реальный и типы роликов классической базы\n",
    "ad_filter = 'adIssueStatusId = R and adTypeId IN (1,10,23,25,5,15,24)'\n",
    "\n",
    "# Указываем список срезов (группировок)\n",
    "slices = [\n",
    "    'advertiserName' #Рекламодатель\n",
    "]\n",
    "\n",
    "# Указываем список статистик для расчета\n",
    "statistics = ['SpotByBreaksRtgPerSum']\n",
    "\n",
    "# Задаем условия сортировки: Телекомпания (от а до я), рекламодатель (от а до я), Бренд (от а до я)\n",
    "sortings = None\n",
    "\n",
    "# Задаем опции расчета\n",
    "options = {\n",
    "    \"kitId\": 1, #TV Index Russia all\n",
    "    \"issueType\": \"AD\" #Тип события - Ролики\n",
    "}"
   ]
  },
  {
   "cell_type": "markdown",
   "metadata": {},
   "source": [
    "Сформируем словарь с целевыми аудиториями"
   ]
  },
  {
   "cell_type": "code",
   "execution_count": null,
   "metadata": {},
   "outputs": [],
   "source": [
    "# Задаем необходимые группы\n",
    "targets = {\n",
    "    'a. Все 18+':'age >= 18',\n",
    "    'b. Все 4+':'age >= 4'\n",
    "}"
   ]
  },
  {
   "cell_type": "markdown",
   "metadata": {},
   "source": [
    "## Расчет задания"
   ]
  },
  {
   "cell_type": "code",
   "execution_count": null,
   "metadata": {
    "scrolled": true
   },
   "outputs": [],
   "source": [
    "# Посчитаем задания в цикле\n",
    "tasks = []\n",
    "print(\"Отправляем задания на расчет\")\n",
    "\n",
    "# Для каждой ЦА формируем задание и отправляем на расчет\n",
    "for target, syntax in targets.items():\n",
    "    \n",
    "    # Подставляем значения словаря в параметры\n",
    "    project_name = target \n",
    "    basedemo_filter = syntax\n",
    "      \n",
    "    # Формируем задание для API TV Index в формате JSON\n",
    "    task_json = mtask.build_crosstab_task(date_filter=date_filter, weekday_filter=weekday_filter, \n",
    "                                        daytype_filter=daytype_filter, company_filter=company_filter, \n",
    "                                        location_filter=location_filter, basedemo_filter=basedemo_filter, \n",
    "                                        targetdemo_filter=targetdemo_filter,program_filter=program_filter, \n",
    "                                        break_filter=break_filter, ad_filter=ad_filter, \n",
    "                                        slices=slices, statistics=statistics, sortings=sortings, options=options)\n",
    "\n",
    "    # Для каждого этапа цикла формируем словарь с параметрами и отправленным заданием на расчет\n",
    "    tsk = {}\n",
    "    tsk['project_name'] = project_name    \n",
    "    tsk['task'] = mtask.send_crosstab_task(task_json)\n",
    "    tasks.append(tsk)\n",
    "    time.sleep(2)\n",
    "    print('.', end = '')\n",
    "    \n",
    "print(f\"\\nid: {[i['task']['taskId'] for i in tasks]}\") \n",
    "\n",
    "print('')\n",
    "# Ждем выполнения\n",
    "print('Ждем выполнения')\n",
    "tsks = mtask.wait_task(tasks)\n",
    "print('Расчет завершен, получаем результат')\n",
    "\n",
    "# Получаем результат\n",
    "results = []\n",
    "print('Собираем таблицу')\n",
    "for t in tasks:\n",
    "    tsk = t['task'] \n",
    "    df_result = mtask.result2table(mtask.get_result(tsk), project_name = t['project_name'])        \n",
    "    results.append(df_result)\n",
    "    print('.', end = '')\n",
    "df = pd.concat(results)\n",
    "\n",
    "# Приводим порядок столбцов в соответствие с условиями расчета\n",
    "df = df[['prj_name']+slices+statistics]\n",
    "\n",
    "df"
   ]
  },
  {
   "cell_type": "code",
   "execution_count": null,
   "metadata": {
    "scrolled": true
   },
   "outputs": [],
   "source": [
    "# Формируем сводную таблицу: строки - срезы, столбцы - ЦА, значения - статистики\n",
    "df = pd.pivot_table(df, values=statistics,\n",
    "                        index=slices, \n",
    "                        columns=['prj_name'])\n",
    "df"
   ]
  },
  {
   "cell_type": "code",
   "execution_count": null,
   "metadata": {},
   "outputs": [],
   "source": [
    "#Сортируем по убыванию рейтинга 4+\n",
    "df.sort_values([('SpotByBreaksRtgPerSum', 'b. Все 4+')], ascending=False, inplace=True)\n",
    "\n",
    "# Выводим первые 100 строк\n",
    "df = df.head(100)\n",
    "\n",
    "df"
   ]
  },
  {
   "cell_type": "markdown",
   "metadata": {},
   "source": [
    "## Сохраняем в Excel\n",
    "По умолчанию файл сохраняется в папку `excel`"
   ]
  },
  {
   "cell_type": "code",
   "execution_count": null,
   "metadata": {},
   "outputs": [],
   "source": [
    "df_info = mtask.task_builder.get_report_info()\n",
    "\n",
    "with pd.ExcelWriter(mtask.task_builder.get_excel_filename('07_top100_advertisers')) as writer:\n",
    "    df.to_excel(writer, 'Report', index=True)\n",
    "    df_info.to_excel(writer, 'Info', index=False)"
   ]
  },
  {
   "cell_type": "code",
   "execution_count": null,
   "metadata": {},
   "outputs": [],
   "source": []
  },
  {
   "cell_type": "code",
   "execution_count": null,
   "metadata": {},
   "outputs": [],
   "source": [
    "# Задаем период\n",
    "# Период указывается в виде списка ('Начало', 'Конец') в формате 'YYYY-MM-DD'. Можно указать несколько периодов\n",
    "date_filter = [('2023-06-01', '2023-06-30')]\n",
    "\n",
    "# Задаем дни недели\n",
    "weekday_filter = None\n",
    "\n",
    "# Задаем тип дня\n",
    "daytype_filter = None\n",
    "\n",
    "# Задаем ЦА\n",
    "basedemo_filter = 'age >= 18'\n",
    "\n",
    "# Доп фильтр ЦА, нужен только в случае расчета отношения между ЦА, например, при расчете Affinity Index\n",
    "targetdemo_filter = None\n",
    "\n",
    "# Задаем место просмотра\n",
    "location_filter=None\n",
    "\n",
    "# Задаем каналы\n",
    "company_filter = 'tvNetId IN (1,2,4,10,11,12,13,16,40,60,83,84,86,204,205,206,255,257,258,259,260,286,326,329,340,356,376,393,502,545,348)'\n",
    "\n",
    "# Указываем фильтр программ\n",
    "program_filter = None\n",
    "\n",
    "# Фильтр блоков\n",
    "break_filter = None\n",
    "\n",
    "# Фильтр роликов: статус - реальный и типы роликов классической базы\n",
    "ad_filter = 'adIssueStatusId = R and adTypeId IN (1,10,23,25,5,15,24) and advertiserId = 1110'\n",
    "\n",
    "# Указываем список срезов (группировок)\n",
    "slices = [\n",
    "    'adSpotId', #Программа ID выхода, обязательный атрибут! \n",
    "    'researchDate', #Дата, обязательный атрибут! \n",
    "    'tvCompanyName',\n",
    "    'advertiserName' #Рекламодатель\n",
    "]\n",
    "\n",
    "# Указываем список статистик для расчета\n",
    "statistics = ['SpotByBreaksRtgPer']\n",
    "\n",
    "# Задаем условия сортировки: Телекомпания (от а до я), рекламодатель (от а до я), Бренд (от а до я)\n",
    "sortings = None\n",
    "\n",
    "# Задаем опции расчета\n",
    "options = {\n",
    "    \"kitId\": 1, #TV Index Russia all\n",
    "}"
   ]
  },
  {
   "cell_type": "code",
   "execution_count": null,
   "metadata": {},
   "outputs": [],
   "source": [
    "# Формируем задание для API TV Index в формате JSON\n",
    "task_json = mtask.build_simple_task(date_filter=date_filter, weekday_filter=weekday_filter, \n",
    "                                        daytype_filter=daytype_filter, company_filter=company_filter, \n",
    "                                        location_filter=location_filter, basedemo_filter=basedemo_filter, \n",
    "                                        targetdemo_filter=targetdemo_filter,program_filter=program_filter, \n",
    "                                        break_filter=break_filter, ad_filter=ad_filter, \n",
    "                                        slices=slices, statistics=statistics, sortings=sortings, options=options)\n",
    "\n",
    "# Отправляем задание на расчет и ждем выполнения\n",
    "task_timeband = mtask.wait_task(mtask.send_simple_task(task_json))\n",
    "\n",
    "# Получаем результат\n",
    "df = mtask.result2table(mtask.get_result(task_timeband))"
   ]
  },
  {
   "cell_type": "code",
   "execution_count": null,
   "metadata": {},
   "outputs": [],
   "source": [
    "# Приводим порядок столбцов в соответствие с условиями расчета\n",
    "df = df[slices+statistics]\n",
    "df"
   ]
  },
  {
   "cell_type": "code",
   "execution_count": null,
   "metadata": {},
   "outputs": [],
   "source": [
    "df_info = mtask.task_builder.get_report_info()\n",
    "\n",
    "with pd.ExcelWriter(mtask.task_builder.get_excel_filename('07_top100_advertisers')) as writer:\n",
    "    df.to_excel(writer, 'Report', index=True)\n",
    "    df_info.to_excel(writer, 'Info', index=False)"
   ]
  },
  {
   "cell_type": "code",
   "execution_count": null,
   "metadata": {},
   "outputs": [],
   "source": []
  }
 ],
 "metadata": {
  "kernelspec": {
   "display_name": "Python 3",
   "language": "python",
   "name": "python3"
  },
  "language_info": {
   "codemirror_mode": {
    "name": "ipython",
    "version": 3
   },
   "file_extension": ".py",
   "mimetype": "text/x-python",
   "name": "python",
   "nbconvert_exporter": "python",
   "pygments_lexer": "ipython3",
   "version": "3.8.8"
  }
 },
 "nbformat": 4,
 "nbformat_minor": 4
}
