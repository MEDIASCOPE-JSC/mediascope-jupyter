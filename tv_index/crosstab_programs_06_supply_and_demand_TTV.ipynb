{
 "cells": [
  {
   "cell_type": "markdown",
   "metadata": {},
   "source": [
    "# % в просмотре и % в вещании жанров на ТВ\n",
    "Пример расчета просмотра и показа жанров на ТВ\n",
    "\n",
    "## Описание задачи и условий расчета\n",
    "- Регион: Россия 0+\n",
    "- Период: 2024 год\n",
    "- ЦА: Все 4+\n",
    "- Место просмотра: Все места (Дом+Дача)\n",
    "- Каналы: все каналы проекта TV Index\n",
    "- Программы: группировка по жанрам\n",
    "- Статистики:\n",
    "    - % в просмотре (спрос) - % просмотра определённого жанра от всего времени просмотра программ всех жанров\n",
    "    - % в вещании (предложение) - % времени вещания определённого жанра от общего времени вещания программ всех жанров"
   ]
  },
  {
   "cell_type": "markdown",
   "metadata": {},
   "source": [
    "## Инициализация\n",
    "\n",
    "При построении отчета первый шаг в любом ноутбуке - загрузка библиотек, которые помогут обращаться к TVI API и работать с данными.\n",
    "\n",
    "Выполните следующую ячейку, для этого перейдите в нее и нажмите Ctrl+Enter"
   ]
  },
  {
   "cell_type": "code",
   "execution_count": null,
   "metadata": {},
   "outputs": [],
   "source": [
    "%reload_ext autoreload\n",
    "%autoreload 2\n",
    "\n",
    "import sys\n",
    "import os\n",
    "import re\n",
    "import json\n",
    "import datetime\n",
    "import time\n",
    "import pandas as pd\n",
    "#import matplotlib.pyplot as plt\n",
    "from IPython.display import JSON\n",
    "\n",
    "from mediascope_api.core import net as mscore\n",
    "from mediascope_api.mediavortex import tasks as cwt\n",
    "from mediascope_api.mediavortex import catalogs as cwc\n",
    "\n",
    "# Настраиваем отображение\n",
    "\n",
    "# Включаем отображение всех колонок\n",
    "pd.set_option('display.max_columns', None)\n",
    "# Задаем максимальное количество выводимых строк. Раскомментируйте нужную строку\n",
    "# 200 строк\n",
    "# pd.set_option(\"display.max_rows\", 200)\n",
    "# Отображаем все строки. ВАЖНО! Отображение большого DataFrame требует много ресурсов\n",
    "# pd.set_option(\"display.max_rows\", None)\n",
    "\n",
    "# Cоздаем объекты для работы с TVI API\n",
    "mnet = mscore.MediascopeApiNetwork()\n",
    "mtask = cwt.MediaVortexTask()\n",
    "cats = cwc.MediaVortexCats()"
   ]
  },
  {
   "cell_type": "markdown",
   "metadata": {},
   "source": [
    "## Время просмотра и длительность\n",
    "Рассчитаем время просмотра и длительность (отдельно по жанрам и тотал)"
   ]
  },
  {
   "cell_type": "markdown",
   "metadata": {},
   "source": [
    "### По жанрам\n",
    "#### Формирование задания\n",
    "Зададим условия расчета"
   ]
  },
  {
   "cell_type": "code",
   "execution_count": null,
   "metadata": {},
   "outputs": [],
   "source": [
    "# Задаем период\n",
    "# Период указывается в виде списка ('Начало', 'Конец') в формате 'YYYY-MM-DD'. Можно указать несколько периодов\n",
    "date_filter = [('2024-01-01', '2024-12-31')]\n",
    "\n",
    "# Задаем дни недели\n",
    "weekday_filter = None\n",
    "\n",
    "# Задаем тип дня\n",
    "daytype_filter = None\n",
    "\n",
    "# Задаем ЦА\n",
    "basedemo_filter = None\n",
    "\n",
    "# Доп фильтр ЦА, нужен только в случае расчета отношения между ЦА, например, при расчете Affinity Index\n",
    "targetdemo_filter = None\n",
    "\n",
    "# Задаем место просмотра\n",
    "location_filter=None\n",
    "\n",
    "# Задаем каналы: без учета рекламных каналов\n",
    "company_filter = 'tvThematicId != 19'\n",
    "\n",
    "# Указываем фильтр программ\n",
    "program_filter = None\n",
    "\n",
    "# Фильтр блоков\n",
    "break_filter = None\n",
    "\n",
    "# Фильтр роликов\n",
    "ad_filter = None\n",
    "\n",
    "# Указываем список срезов (группировок)\n",
    "slices = [\n",
    "    'programTypeName', #Программа жанр\n",
    "]\n",
    "\n",
    "# Указываем список статистик для расчета\n",
    "statistics = [\n",
    "    'ATVSum', \n",
    "    'DurationSum'\n",
    "]\n",
    "\n",
    "# Задаем условия сортировки: жанр (по алф.)\n",
    "sortings = {'programTypeName':'ASC'}\n",
    "\n",
    "# Задаем опции расчета\n",
    "options = {\n",
    "    \"kitId\": 1, #TV Index Russia all\n",
    "    \"issueType\": \"PROGRAM\", #Тип события - Программы\n",
    "}"
   ]
  },
  {
   "cell_type": "markdown",
   "metadata": {},
   "source": [
    "#### Расчет задания"
   ]
  },
  {
   "cell_type": "code",
   "execution_count": null,
   "metadata": {
    "scrolled": true
   },
   "outputs": [],
   "source": [
    "# Формируем задание для API TV Index в формате JSON\n",
    "task_json = mtask.build_crosstab_task(date_filter=date_filter, weekday_filter=weekday_filter, \n",
    "                                        daytype_filter=daytype_filter, company_filter=company_filter, \n",
    "                                        location_filter=location_filter, basedemo_filter=basedemo_filter, \n",
    "                                        targetdemo_filter=targetdemo_filter,program_filter=program_filter, \n",
    "                                        break_filter=break_filter, ad_filter=ad_filter, \n",
    "                                        slices=slices, statistics=statistics, sortings=sortings, options=options)\n",
    "\n",
    "# Отправляем задание на расчет и ждем выполнения\n",
    "task_crosstab = mtask.wait_task(mtask.send_crosstab_task(task_json))\n",
    "\n",
    "# Получаем результат\n",
    "df = mtask.result2table(mtask.get_result(task_crosstab))"
   ]
  },
  {
   "cell_type": "code",
   "execution_count": null,
   "metadata": {},
   "outputs": [],
   "source": [
    "# Приводим порядок столбцов в соответствие с условиями расчета\n",
    "df = df[slices+statistics]\n",
    "df"
   ]
  },
  {
   "cell_type": "markdown",
   "metadata": {},
   "source": [
    "### Тотал\n",
    "#### Формирование задания\n",
    "Зададим условия расчета"
   ]
  },
  {
   "cell_type": "code",
   "execution_count": null,
   "metadata": {},
   "outputs": [],
   "source": [
    "# убираем из срезов жанры\n",
    "slices = []\n",
    "\n",
    "# Очищаем условие сортировки\n",
    "sortings = None"
   ]
  },
  {
   "cell_type": "code",
   "execution_count": null,
   "metadata": {},
   "outputs": [],
   "source": [
    "# Формируем задание для API TV Index в формате JSON\n",
    "task_json = mtask.build_crosstab_task(date_filter=date_filter, weekday_filter=weekday_filter, \n",
    "                                        daytype_filter=daytype_filter, company_filter=company_filter, \n",
    "                                        location_filter=location_filter, basedemo_filter=basedemo_filter, \n",
    "                                        targetdemo_filter=targetdemo_filter,program_filter=program_filter, \n",
    "                                        break_filter=break_filter, ad_filter=ad_filter, \n",
    "                                        slices=slices, statistics=statistics, sortings=sortings, options=options)\n",
    "\n",
    "# Отправляем задание на расчет и ждем выполнения\n",
    "task_crosstab = mtask.wait_task(mtask.send_crosstab_task(task_json))\n",
    "\n",
    "# Получаем результат\n",
    "df_totals = mtask.result2table(mtask.get_result(task_crosstab))"
   ]
  },
  {
   "cell_type": "code",
   "execution_count": null,
   "metadata": {},
   "outputs": [],
   "source": [
    "# Приводим порядок столбцов в соответствие с условиями расчета\n",
    "df_totals = df_totals[slices+statistics]\n",
    "\n",
    "# Добавляем колонку для корректного объединения с таблицей жанров\n",
    "df_totals.insert(0, 'programTypeName', 'Total')\n",
    "df_totals"
   ]
  },
  {
   "cell_type": "markdown",
   "metadata": {},
   "source": [
    "### Объединяем таблицы"
   ]
  },
  {
   "cell_type": "code",
   "execution_count": null,
   "metadata": {},
   "outputs": [],
   "source": [
    "# Добавляем тотал вниз таблицы с жанрами\n",
    "df = pd.concat([df, df_totals], ignore_index=True)\n",
    "df"
   ]
  },
  {
   "cell_type": "markdown",
   "metadata": {},
   "source": [
    "## Расчет процентов\n",
    "Рассчитаем проценты по жанрам от тотал показателей"
   ]
  },
  {
   "cell_type": "code",
   "execution_count": null,
   "metadata": {},
   "outputs": [],
   "source": [
    "df.set_index('programTypeName', inplace=True)\n",
    "\n",
    "# Рассчитаем спрос\n",
    "df['% в просмотре'] = df['ATVSum']/df.loc['Total','ATVSum']*100\n",
    "\n",
    "# Рассчитаем предложение\n",
    "df['% в вещании'] = df['DurationSum']/df.loc['Total','DurationSum']*100"
   ]
  },
  {
   "cell_type": "code",
   "execution_count": null,
   "metadata": {},
   "outputs": [],
   "source": [
    "df"
   ]
  },
  {
   "cell_type": "code",
   "execution_count": null,
   "metadata": {},
   "outputs": [],
   "source": [
    "# Округляем значения в таблице до 2 знаков\n",
    "df = df.round(2)"
   ]
  },
  {
   "cell_type": "code",
   "execution_count": null,
   "metadata": {},
   "outputs": [],
   "source": [
    "df"
   ]
  },
  {
   "cell_type": "markdown",
   "metadata": {},
   "source": [
    "## Сохраняем в Excel\n",
    "По умолчанию файл сохраняется в папку `excel`"
   ]
  },
  {
   "cell_type": "code",
   "execution_count": null,
   "metadata": {},
   "outputs": [],
   "source": [
    "df_info = mtask.task_builder.get_report_info()\n",
    "\n",
    "with pd.ExcelWriter(mtask.task_builder.get_excel_filename('06_supply_and_demand_TTV')) as writer:\n",
    "    df.to_excel(writer, 'Report', index=True)\n",
    "    df_info.to_excel(writer, 'Info', index=False)"
   ]
  }
 ],
 "metadata": {
  "kernelspec": {
   "display_name": "Python 3",
   "language": "python",
   "name": "python3"
  },
  "language_info": {
   "codemirror_mode": {
    "name": "ipython",
    "version": 3
   },
   "file_extension": ".py",
   "mimetype": "text/x-python",
   "name": "python",
   "nbconvert_exporter": "python",
   "pygments_lexer": "ipython3",
   "version": "3.8.8"
  }
 },
 "nbformat": 4,
 "nbformat_minor": 4
}
