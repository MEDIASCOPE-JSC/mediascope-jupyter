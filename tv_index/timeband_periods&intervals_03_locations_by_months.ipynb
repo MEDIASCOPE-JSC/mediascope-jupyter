{
 "cells": [
  {
   "cell_type": "markdown",
   "metadata": {},
   "source": [
    "# Динамика показателей канала дома и на даче\n",
    "Пример расчета показателей телеканалов в разбивке по месту просмотра.\n",
    "\n",
    "## Описание задачи и условий расчета\n",
    "- Период: 01.01.2022 - 31.03.2022 по месяцам + тотал за период\n",
    "- Временной интервал: 05:00-29:00\n",
    "- ЦА: Все 14-44\n",
    "- Место просмотра: Все места с разбивкой на места\n",
    "- Каналы: ТНТ\t\t\t\t\t\t\t\t\t\n",
    "- Статистики: Share, Rtg(000)"
   ]
  },
  {
   "cell_type": "markdown",
   "metadata": {},
   "source": [
    "## Инициализация\n",
    "\n",
    "При построении отчета первый шаг в любом ноутбуке - загрузка библиотек, которые помогут обращаться к TVI API и работать с данными.\n",
    "\n",
    "Выполните следующую ячейку, для этого перейдите в нее и нажмите Ctrl+Enter"
   ]
  },
  {
   "cell_type": "code",
   "execution_count": null,
   "metadata": {},
   "outputs": [],
   "source": [
    "%reload_ext autoreload\n",
    "%autoreload 2\n",
    "\n",
    "import sys\n",
    "import os\n",
    "import re\n",
    "import json\n",
    "import datetime\n",
    "import time\n",
    "import pandas as pd\n",
    "from IPython.display import JSON\n",
    "\n",
    "from mediascope_api.core import net as mscore\n",
    "from mediascope_api.mediavortex import tasks as cwt\n",
    "from mediascope_api.mediavortex import catalogs as cwc\n",
    "\n",
    "# Настраиваем отображение\n",
    "\n",
    "# Включаем отображение всех колонок\n",
    "pd.set_option('display.max_columns', None)\n",
    "# Задаем максимальное количество выводимых строк. Раскомментируйте нужную строку\n",
    "# 200 строк\n",
    "# pd.set_option(\"display.max_rows\", 200)\n",
    "# Отображаем все строки. ВАЖНО! Отображение большого DataFrame требует много ресурсов\n",
    "# pd.set_option(\"display.max_rows\", None)\n",
    "\n",
    "# Cоздаем объекты для работы с TVI API\n",
    "mnet = mscore.MediascopeApiNetwork()\n",
    "mtask = cwt.MediaVortexTask()\n",
    "cats = cwc.MediaVortexCats()"
   ]
  },
  {
   "cell_type": "markdown",
   "metadata": {},
   "source": [
    "## Справочники"
   ]
  },
  {
   "cell_type": "code",
   "execution_count": null,
   "metadata": {},
   "outputs": [],
   "source": [
    "# выберем телесети по имени (части имени)\n",
    "cats.get_tv_net(name=[\"ТНТ\"])\n",
    "\n",
    "# далее в запросах будем использовать id телесетей."
   ]
  },
  {
   "cell_type": "code",
   "execution_count": null,
   "metadata": {
    "scrolled": true
   },
   "outputs": [],
   "source": [
    "# Найдем названия нужных нам демографических переменных\n",
    "cats.get_tv_demo_attribute(names=['возраст'])"
   ]
  },
  {
   "cell_type": "code",
   "execution_count": null,
   "metadata": {},
   "outputs": [],
   "source": [
    "# Справочник мест просмотра\n",
    "cats.get_tv_location()"
   ]
  },
  {
   "cell_type": "markdown",
   "metadata": {},
   "source": [
    "## Формирование задания\n",
    "Зададим условия расчета"
   ]
  },
  {
   "cell_type": "code",
   "execution_count": null,
   "metadata": {},
   "outputs": [],
   "source": [
    "# Период указывается в виде списка ('Начало', 'Конец'). \n",
    "date_filter = [('2022-01-01', '2022-03-31')]\n",
    "\n",
    "# Задаем дни недели\n",
    "weekday_filter = None\n",
    "\n",
    "# Задаем тип дня\n",
    "daytype_filter = None\n",
    "\n",
    "# Задаем временной интервал\n",
    "time_filter = None\n",
    "\n",
    "# Задаем ЦА\n",
    "basedemo_filter = 'age >= 14 AND age <= 44'\n",
    "\n",
    "# Доп фильтр ЦА, нужен только в случае расчета отношения между ЦА, например, при расчете Affinity Index\n",
    "targetdemo_filter = None\n",
    "\n",
    "# Задаем место просмотра\n",
    "location_filter = None\n",
    "\n",
    "# Задаем каналы\n",
    "company_filter = 'tvNetId IN (83)'\n",
    "\n",
    "# Указываем список статистик для расчета\n",
    "statistics = ['Share', 'Rtg000']\n",
    "\n",
    "# Указываем срезы\n",
    "slices = ['researchMonth']\n",
    "\n",
    "# Задаем опции расчета\n",
    "options = {\n",
    "    \"kitId\": 1, #TV Index Russia all \n",
    "}"
   ]
  },
  {
   "cell_type": "markdown",
   "metadata": {},
   "source": [
    "Зададим группу требуемых мест просмотра"
   ]
  },
  {
   "cell_type": "code",
   "execution_count": null,
   "metadata": {},
   "outputs": [],
   "source": [
    "locs = {\n",
    "    # Если в фильтре не задавать location_filter, то расчет будет сделан по дом+дача\n",
    "    \"Все места\": {\"location\": None},\n",
    "    # Дача\n",
    "    \"Дача\": {\"location\": \"locationId = 2\"},\n",
    "    # Дом\n",
    "    \"Дом\": {\"location\": \"locationId = 1\"}\n",
    "}"
   ]
  },
  {
   "cell_type": "markdown",
   "metadata": {},
   "source": [
    "## Расчет задания"
   ]
  },
  {
   "cell_type": "code",
   "execution_count": null,
   "metadata": {},
   "outputs": [],
   "source": [
    "# Посчитаем задания в цикле\n",
    "tasks = []\n",
    "print(\"Отправляем задания на расчет\")\n",
    "\n",
    "# Для каждой группы срезов формируем задания и отправляем на расчет\n",
    "for loc, logical in locs.items():\n",
    "    \n",
    "    # Формируем задание на расчет\n",
    "    project_name = f\"{loc}\" \n",
    "    location_filter = logical['location']\n",
    "          \n",
    "    # Формируем из указанных параметров задание для TVI API в формате JSON для каждого из этапов цикла\n",
    "    task_json = mtask.build_task('timeband', task_name=project_name, date_filter=date_filter, \n",
    "                                 weekday_filter=weekday_filter, daytype_filter=daytype_filter, \n",
    "                                 company_filter=company_filter, time_filter=time_filter, \n",
    "                                 basedemo_filter=basedemo_filter, targetdemo_filter=targetdemo_filter,\n",
    "                                 location_filter=location_filter, slices=slices, \n",
    "                                 statistics=statistics, options=options)\n",
    "\n",
    "    # Для каждого этапа цикла формируем словарь с параметрами и отправленным заданием на расчет\n",
    "    tsk = {}\n",
    "    tsk['project_name'] = project_name    \n",
    "    tsk['task'] = mtask.send_timeband_task(task_json)\n",
    "    tasks.append(tsk)\n",
    "    time.sleep(2)\n",
    "    print('.', end = '')\n",
    "\n",
    "print('')\n",
    "# Ждем выполнения\n",
    "print('Ждем выполнения')\n",
    "tsks = mtask.wait_task(tasks)\n",
    "print('Расчет завершен, получаем результат')\n",
    "\n",
    "# Получаем результат\n",
    "results = []\n",
    "print('Собираем таблицу')\n",
    "for t in tasks:\n",
    "    tsk = t['task'] \n",
    "    df_result = mtask.result2table(mtask.get_result(tsk), project_name = t['project_name'])        \n",
    "    results.append(df_result)\n",
    "    print('.', end = '')\n",
    "df_months = pd.concat(results)\n",
    "df_months"
   ]
  },
  {
   "cell_type": "markdown",
   "metadata": {},
   "source": [
    "Теперь посчитаем тотал значение за весь период"
   ]
  },
  {
   "cell_type": "code",
   "execution_count": null,
   "metadata": {},
   "outputs": [],
   "source": [
    "# для этого уберем разбивку по месяцам - оставим параметр slices пустым\n",
    "slices = []"
   ]
  },
  {
   "cell_type": "markdown",
   "metadata": {},
   "source": [
    "Прогоним цикл еще раз"
   ]
  },
  {
   "cell_type": "code",
   "execution_count": null,
   "metadata": {},
   "outputs": [],
   "source": [
    "# Посчитаем задания в цикле\n",
    "tasks = []\n",
    "print(\"Отправляем задания на расчет\")\n",
    "\n",
    "# Для каждой группы срезов формируем задания и отправляем на расчет\n",
    "for loc, logical in locs.items():\n",
    "    \n",
    "    # Формируем задание на расчет\n",
    "    project_name = f\"{loc}\" \n",
    "    location_filter = logical['location']\n",
    "          \n",
    "    # Формируем из указанных параметров задание для TVI API в формате JSON для каждого из этапов цикла\n",
    "    task_json = mtask.build_task('timeband', task_name=project_name, date_filter=date_filter, \n",
    "                                 weekday_filter=weekday_filter, daytype_filter=daytype_filter, \n",
    "                                 company_filter=company_filter, time_filter=time_filter, \n",
    "                                 basedemo_filter=basedemo_filter, targetdemo_filter=targetdemo_filter,\n",
    "                                 location_filter=location_filter, slices=slices, \n",
    "                                 statistics=statistics, options=options)\n",
    "\n",
    "    # Для каждого этапа цикла формируем словарь с параметрами и отправленным заданием на расчет\n",
    "    tsk = {}\n",
    "    tsk['project_name'] = project_name    \n",
    "    tsk['task'] = mtask.send_timeband_task(task_json)\n",
    "    tasks.append(tsk)\n",
    "    time.sleep(2)\n",
    "    print('.', end = '')\n",
    "\n",
    "print('')\n",
    "# Ждем выполнения\n",
    "print('Ждем выполнения')\n",
    "tsks = mtask.wait_task(tasks)\n",
    "print('Расчет завершен, получаем результат')\n",
    "\n",
    "# Получаем результат\n",
    "results = []\n",
    "print('Собираем таблицу')\n",
    "for t in tasks:\n",
    "    tsk = t['task'] \n",
    "    df_result = mtask.result2table(mtask.get_result(tsk), project_name = t['project_name'])        \n",
    "    results.append(df_result)\n",
    "    print('.', end = '')\n",
    "df_total = pd.concat(results)\n",
    "df_total"
   ]
  },
  {
   "cell_type": "code",
   "execution_count": null,
   "metadata": {},
   "outputs": [],
   "source": [
    "# добавим колонку с периодом\n",
    "df_total.insert(1, 'researchMonth', 'total_period')"
   ]
  },
  {
   "cell_type": "markdown",
   "metadata": {},
   "source": [
    "Объединяем две таблицы в одну"
   ]
  },
  {
   "cell_type": "code",
   "execution_count": null,
   "metadata": {},
   "outputs": [],
   "source": [
    "df = pd.concat([df_months, df_total])\n",
    "df"
   ]
  },
  {
   "cell_type": "markdown",
   "metadata": {},
   "source": [
    "Настраиваем внешний вид таблицы"
   ]
  },
  {
   "cell_type": "code",
   "execution_count": null,
   "metadata": {},
   "outputs": [],
   "source": [
    "df_res = pd.pivot_table(df, values=['Share', 'Rtg000'],\n",
    "                        index=['researchMonth'], \n",
    "                        columns=['prj_name'])\n",
    "df_res"
   ]
  },
  {
   "cell_type": "markdown",
   "metadata": {},
   "source": [
    "## Экспорт в Excel\n",
    "По умолчанию файл сохраняется в папку `excel`"
   ]
  },
  {
   "cell_type": "code",
   "execution_count": null,
   "metadata": {},
   "outputs": [],
   "source": [
    "df_info = mtask.task_builder.get_report_info()\n",
    "\n",
    "with pd.ExcelWriter(mtask.task_builder.get_excel_filename('03_locations_by_months')) as writer:\n",
    "    df_res.to_excel(writer, 'Report', index=True)\n",
    "    df_info.to_excel(writer, 'Info', index=False)"
   ]
  }
 ],
 "metadata": {
  "kernelspec": {
   "display_name": "Python 3 (ipykernel)",
   "language": "python",
   "name": "python3"
  },
  "language_info": {
   "codemirror_mode": {
    "name": "ipython",
    "version": 3
   },
   "file_extension": ".py",
   "mimetype": "text/x-python",
   "name": "python",
   "nbconvert_exporter": "python",
   "pygments_lexer": "ipython3",
   "version": "3.9.13"
  }
 },
 "nbformat": 4,
 "nbformat_minor": 4
}
