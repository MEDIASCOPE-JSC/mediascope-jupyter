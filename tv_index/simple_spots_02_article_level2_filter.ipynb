{
 "cells": [
  {
   "cell_type": "markdown",
   "metadata": {},
   "source": [
    "# Выгрузка роликов по товарной категории\n",
    "Пример выгрузки рекламных роликов по товарной категории\n",
    "\n",
    "## Описание задачи и условий расчета\n",
    "- Период: 01.02.2022-03.02.2022\n",
    "- ЦА: Все 4+\n",
    "- Место просмотра: Все места (Дом+Дача)\n",
    "- Каналы: все каналы проекта TV Index\n",
    "- Ролики: Товарная категория 2 - УСЛУГИ ФИНАНСОВЫЕ; Ролик распространение - Сетевой; Статус события - Реальный\n",
    "- Статистики: Rtg%"
   ]
  },
  {
   "cell_type": "markdown",
   "metadata": {},
   "source": [
    "## Инициализация\n",
    "\n",
    "При построении отчета первый шаг в любом ноутбуке - загрузка библиотек, которые помогут обращаться к TVI API и работать с данными.\n",
    "\n",
    "Выполните следующую ячейку, для этого перейдите в нее и нажмите Ctrl+Enter"
   ]
  },
  {
   "cell_type": "code",
   "execution_count": null,
   "metadata": {},
   "outputs": [],
   "source": [
    "%reload_ext autoreload\n",
    "%autoreload 2\n",
    "\n",
    "import sys\n",
    "import os\n",
    "import re\n",
    "import json\n",
    "import datetime\n",
    "import time\n",
    "import pandas as pd\n",
    "#import matplotlib.pyplot as plt\n",
    "from IPython.display import JSON\n",
    "\n",
    "from mediascope_api.core import net as mscore\n",
    "from mediascope_api.mediavortex import tasks as cwt\n",
    "from mediascope_api.mediavortex import catalogs as cwc\n",
    "\n",
    "# Настраиваем отображение\n",
    "\n",
    "# Включаем отображение всех колонок\n",
    "pd.set_option('display.max_columns', None)\n",
    "\n",
    "# Задаем ширину столбцов по контенту\n",
    "pd.set_option('display.max_colwidth', None)\n",
    "\n",
    "# Задаем максимальное количество выводимых строк. Раскомментируйте нужную строку\n",
    "# 200 строк\n",
    "# pd.set_option(\"display.max_rows\", 200)\n",
    "# Отображаем все строки. ВАЖНО! Отображение большого DataFrame требует много ресурсов\n",
    "# pd.set_option(\"display.max_rows\", None)\n",
    "\n",
    "# Cоздаем объекты для работы с TVI API\n",
    "mnet = mscore.MediascopeApiNetwork()\n",
    "mtask = cwt.MediaVortexTask()\n",
    "cats = cwc.MediaVortexCats()"
   ]
  },
  {
   "cell_type": "markdown",
   "metadata": {},
   "source": [
    "## Справочники\n",
    "Получим идентификаторы, которые будут использоваться для формирования условий расчета"
   ]
  },
  {
   "cell_type": "code",
   "execution_count": null,
   "metadata": {},
   "outputs": [],
   "source": [
    "# Найдем id товарная категория 2-го уровня - \"УСЛУГИ ФИНАНСОВЫЕ\"\n",
    "# Для этого в параметр level передадим 2, в параметр name - название категории\n",
    "cats.get_tv_article(levels=[2], name=['УСЛУГИ ФИНАНСОВЫЕ'])"
   ]
  },
  {
   "cell_type": "code",
   "execution_count": null,
   "metadata": {},
   "outputs": [],
   "source": [
    "# Обратимся к словарю типов распространения\n",
    "cats.get_tv_breaks_distribution()\n",
    "\n",
    "# Для типа распространения \"Сетевой\" идентификатор - N"
   ]
  },
  {
   "cell_type": "code",
   "execution_count": null,
   "metadata": {},
   "outputs": [],
   "source": [
    "# Обратимся к словарю статусов события\n",
    "cats.get_tv_issue_status()\n",
    "\n",
    "# Для \"Реальный\", будем использовать id R"
   ]
  },
  {
   "cell_type": "markdown",
   "metadata": {},
   "source": [
    "## Формирование задания\n",
    "Зададим условия расчета"
   ]
  },
  {
   "cell_type": "code",
   "execution_count": null,
   "metadata": {},
   "outputs": [],
   "source": [
    "# Задаем период\n",
    "# Период указывается в виде списка ('Начало', 'Конец') в формате 'YYYY-MM-DD'. Можно указать несколько периодов\n",
    "date_filter = [('2022-02-01', '2022-02-03')]\n",
    "\n",
    "# Задаем дни недели\n",
    "weekday_filter = None\n",
    "\n",
    "# Задаем тип дня\n",
    "daytype_filter = None\n",
    "\n",
    "# Задаем ЦА\n",
    "basedemo_filter = None\n",
    "\n",
    "# Доп фильтр ЦА, нужен только в случае расчета отношения между ЦА, например, при расчете Affinity Index\n",
    "targetdemo_filter = None\n",
    "\n",
    "# Задаем место просмотра\n",
    "location_filter=None\n",
    "\n",
    "# Задаем каналы\n",
    "company_filter = None\n",
    "\n",
    "# Фильтр программ\n",
    "program_filter = None\n",
    "\n",
    "# Фильтр блоков\n",
    "break_filter = None\n",
    "\n",
    "# Фильтр роликов: Товарная категория 2 - УСЛУГИ ФИНАНСОВЫЕ; Ролик распространение - Сетевой; Статус события - Реальный\n",
    "ad_filter = 'articleLevel2Id = 2272 and adDistributionType = N and adIssueStatusId = R'\n",
    "\n",
    "# Указываем список срезов\n",
    "slices = ['adSpotId', #Ролик ID выхода, обязательный атрибут! \n",
    "          'researchDate', #Дата, обязательный атрибут!\n",
    "          'advertiserName', #Рекламодатель\n",
    "          'brandName', #Бренд\n",
    "          'adStartTime', #Ролик время начала\n",
    "          'adFinishTime', #Ролик время окончания\n",
    "          'tvCompanyName', #Телекомпания\n",
    "          'adName', #Ролик\n",
    "          'adTypeName' #Ролик тип\n",
    "         ]\n",
    "# Указываем список статистик для расчета\n",
    "statistics = ['RtgPer']\n",
    "\n",
    "# Задаем условия сортировки: Ролик ID выхода (по возр.)\n",
    "sortings = {'adSpotId':'ASC'}\n",
    "\n",
    "# Задаем опции расчета\n",
    "options = {\n",
    "    \"kitId\": 1 #TV Index Russia all\n",
    "}"
   ]
  },
  {
   "cell_type": "markdown",
   "metadata": {},
   "source": [
    "## Расчет задания"
   ]
  },
  {
   "cell_type": "code",
   "execution_count": null,
   "metadata": {},
   "outputs": [],
   "source": [
    "# Формируем задание для API TV Index в формате JSON\n",
    "task_json = mtask.build_simple_task(date_filter=date_filter, weekday_filter=weekday_filter, \n",
    "                                        daytype_filter=daytype_filter, company_filter=company_filter, \n",
    "                                        location_filter=location_filter, basedemo_filter=basedemo_filter, \n",
    "                                        targetdemo_filter=targetdemo_filter,program_filter=program_filter, \n",
    "                                        break_filter=break_filter, ad_filter=ad_filter, \n",
    "                                        slices=slices, statistics=statistics, sortings=sortings, options=options)\n",
    "\n",
    "# Отправляем задание на расчет и ждем выполнения\n",
    "task_timeband = mtask.wait_task(mtask.send_simple_task(task_json))"
   ]
  },
  {
   "cell_type": "markdown",
   "metadata": {},
   "source": [
    "## Получение результата"
   ]
  },
  {
   "cell_type": "markdown",
   "metadata": {},
   "source": [
    "В случае многотоварной рекламы у одного ролика может быть несколько продуктов, саббрендов, брендов и т.д. По умолчанию каждое значение выгружается отдельной строкой, поэтому в результате расчета возможны дубли по полю **adSpotId**\n",
    "\n",
    "Для объединения атрибутов в списки необходимо в настройках метода `result2table` указать `to_lists=True`. В этом случае в поле **adSpotId** будут только уникальные значения. "
   ]
  },
  {
   "cell_type": "code",
   "execution_count": null,
   "metadata": {},
   "outputs": [],
   "source": [
    "# Получаем результат \n",
    "df = mtask.result2table(mtask.get_result(task_timeband), to_lists=True)\n",
    "\n",
    "# Приводим порядок столбцов в соответствие с условиями расчета\n",
    "df = df[slices+statistics]\n",
    "\n",
    "df"
   ]
  },
  {
   "cell_type": "markdown",
   "metadata": {},
   "source": [
    "## Сохраняем в Excel\n",
    "По умолчанию файл сохраняется в папку `excel`"
   ]
  },
  {
   "cell_type": "code",
   "execution_count": null,
   "metadata": {},
   "outputs": [],
   "source": [
    "df_info = mtask.task_builder.get_report_info()\n",
    "\n",
    "with pd.ExcelWriter(mtask.task_builder.get_excel_filename('02_article_level2_filter')) as writer:\n",
    "    df.to_excel(writer, 'Report', index=True)\n",
    "    df_info.to_excel(writer, 'Info', index=False)"
   ]
  }
 ],
 "metadata": {
  "kernelspec": {
   "display_name": "Python 3",
   "language": "python",
   "name": "python3"
  },
  "language_info": {
   "codemirror_mode": {
    "name": "ipython",
    "version": 3
   },
   "file_extension": ".py",
   "mimetype": "text/x-python",
   "name": "python",
   "nbconvert_exporter": "python",
   "pygments_lexer": "ipython3",
   "version": "3.8.8"
  }
 },
 "nbformat": 4,
 "nbformat_minor": 4
}
