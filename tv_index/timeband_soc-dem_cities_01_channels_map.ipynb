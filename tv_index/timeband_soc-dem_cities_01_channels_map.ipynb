{
 "cells": [
  {
   "cell_type": "markdown",
   "metadata": {},
   "source": [
    "# Города: карта каналов\n",
    "Пример расчета половозрастной структуры каналов в городе с построением графика\n",
    "\n",
    "## Описание задачи и условий расчета\n",
    "- Регион: Санкт-Петербург\n",
    "- Период: 01.11.2022 - 30.11.2022\n",
    "- Временной интервал: 05:00-29:00\n",
    "- Место просмотра: дом\n",
    "- Каналы: все каналы 1 и 2 мультиплексов\n",
    "- Статистики: TgSat%, WAgeAverage, Share"
   ]
  },
  {
   "cell_type": "markdown",
   "metadata": {},
   "source": [
    "Для работы с данным ноутбуком нам потребуется библиотека **plotly**. Выполните следующую ячейку для установки:"
   ]
  },
  {
   "cell_type": "code",
   "execution_count": null,
   "metadata": {},
   "outputs": [],
   "source": [
    "!pip install plotly"
   ]
  },
  {
   "cell_type": "markdown",
   "metadata": {},
   "source": [
    "Библиотека устанавливается один раз. При последующих сессиях ячейку с установкой можно пропускать (или вообще удалить)"
   ]
  },
  {
   "cell_type": "markdown",
   "metadata": {},
   "source": [
    "## Инициализация\n",
    "\n",
    "При построении отчета первый шаг в любом ноутбуке - загрузка библиотек, которые помогут обращаться к TVI API и работать с данными.\n",
    "\n",
    "Выполните следующую ячейку, для этого перейдите в нее и нажмите Ctrl+Enter"
   ]
  },
  {
   "cell_type": "code",
   "execution_count": null,
   "metadata": {
    "scrolled": false
   },
   "outputs": [],
   "source": [
    "%reload_ext autoreload\n",
    "%autoreload 2\n",
    "\n",
    "import sys\n",
    "import os\n",
    "import re\n",
    "import json\n",
    "import datetime\n",
    "import time\n",
    "import pandas as pd\n",
    "from IPython.display import JSON\n",
    "\n",
    "import plotly.express as px\n",
    "\n",
    "from mediascope_api.core import net as mscore\n",
    "from mediascope_api.mediavortex import tasks as cwt\n",
    "from mediascope_api.mediavortex import catalogs as cwc\n",
    "\n",
    "# Настраиваем отображение\n",
    "\n",
    "# Включаем отображение всех колонок\n",
    "pd.set_option('display.max_columns', None)\n",
    "# Задаем максимальное количество выводимых строк. Раскомментируйте нужную строку\n",
    "# 200 строк\n",
    "# pd.set_option(\"display.max_rows\", 200)\n",
    "# Отображаем все строки. ВАЖНО! Отображение большого DataFrame требует много ресурсов\n",
    "# pd.set_option(\"display.max_rows\", None)\n",
    "\n",
    "# Cоздаем объекты для работы с TVI API\n",
    "mnet = mscore.MediascopeApiNetwork()\n",
    "mtask = cwt.MediaVortexTask()\n",
    "cats = cwc.MediaVortexCats()"
   ]
  },
  {
   "cell_type": "markdown",
   "metadata": {},
   "source": [
    "## Справочники\n",
    "\n",
    "Получим идентификаторы, которые будут использоваться для формирования условий расчета"
   ]
  },
  {
   "cell_type": "code",
   "execution_count": null,
   "metadata": {},
   "outputs": [],
   "source": [
    "# В справочнике регионов найдем id региона Санкт-Петербург\n",
    "cats.get_tv_region(name=['САНКТ-ПЕТЕРБУРГ'])\n",
    "\n",
    "# Это id 2"
   ]
  },
  {
   "cell_type": "code",
   "execution_count": null,
   "metadata": {},
   "outputs": [],
   "source": [
    "# В справочнике мест просмотра найдем идентификатор для домашнего смотрения\n",
    "cats.get_tv_location(name=['дом'])\n",
    "\n",
    "# Это id 1"
   ]
  },
  {
   "cell_type": "code",
   "execution_count": null,
   "metadata": {},
   "outputs": [],
   "source": [
    "# В справочнике демографических атрибутов найдем необходимые нам переменные\n",
    "cats.get_tv_demo_attribute(names=['пол'])\n",
    "\n",
    "# Для формирования демо фильтра нам понадобится значение столбца entityName: sex"
   ]
  },
  {
   "cell_type": "code",
   "execution_count": null,
   "metadata": {},
   "outputs": [],
   "source": [
    "# В справочнике телесетей получим необходимые идентификаторы\n",
    "\n",
    "# Загружаем справочник\n",
    "nets = cats.get_tv_net()\n",
    "\n",
    "# Фильтруем по каналам и выводим список id\n",
    "nets[nets['name'].isin(['ДОМАШНИЙ','ЗВЕЗДА','КАРУСЕЛЬ','МАТЧ ТВ','МИР','МУЗ ТВ','НТВ','ПЕРВЫЙ КАНАЛ','ПЯТНИЦА',\n",
    "                       'ПЯТЫЙ КАНАЛ','РЕН ТВ','РОССИЯ 1','РОССИЯ 24','РОССИЯ К','СТС','ТВ-3','ТВ ЦЕНТР',\n",
    "                       'ТНТ','СПАС'])]['id'].values"
   ]
  },
  {
   "cell_type": "markdown",
   "metadata": {},
   "source": [
    "## Расчет заданий\n",
    "Нам потребуется два расчета:"
   ]
  },
  {
   "cell_type": "markdown",
   "metadata": {},
   "source": [
    "### 1. Средний возраст и доля\n",
    "Посчитаем средний возраст и долю для каждого канала\n",
    "\n",
    "#### Формирование задания\n",
    "Обратите внимание: регион задается в company_filter"
   ]
  },
  {
   "cell_type": "code",
   "execution_count": null,
   "metadata": {},
   "outputs": [],
   "source": [
    "# Период указывается в виде списка ('Начало', 'Конец') в формате 'YYYY-MM-DD'. \n",
    "date_filter = [('2022-11-01', '2022-11-30')]\n",
    "\n",
    "# Задаем дни недели\n",
    "weekday_filter = None\n",
    "\n",
    "# Задаем тип дня\n",
    "daytype_filter = None\n",
    "\n",
    "# Задаем временной интервал\n",
    "time_filter = None\n",
    "\n",
    "# Задаем ЦА\n",
    "basedemo_filter = None\n",
    "\n",
    "# Доп фильтр ЦА, нужен только в случае расчета отношения между ЦА, например, при расчете Affinity Index\n",
    "targetdemo_filter = None\n",
    "\n",
    "# Задаем место просмотра: дом\n",
    "location_filter = 'locationId = 1'\n",
    "\n",
    "# Задаем каналы: 1 и 2 мультиплексы в регионе Санкт-Перербург\n",
    "company_filter = 'tvNetId IN (1,2,4,10,11,12,13,40,60,83,86,204,206,257,258,259,260,326,393,430) and regionId IN (2)'\n",
    "\n",
    "# Указываем список статистик для расчета\n",
    "statistics = ['WAgeAverage', 'Share']\n",
    "\n",
    "# Указываем срезы: телесети\n",
    "slices = ['tvNetName']\n",
    "\n",
    "# Задаем условия сортировки: телесеть (от а до я)\n",
    "sortings = {\"tvNetName\":\"ASC\"}\n",
    "\n",
    "# Задаем опции расчета\n",
    "options = {\n",
    "    \"kitId\": 3, #TV Index Cities\n",
    "    \"totalType\": \"TotalChannels\" #база расчета Share: Total Channels. Возможны опции: TotalTVSet, TotalChannelsThem\n",
    "}"
   ]
  },
  {
   "cell_type": "markdown",
   "metadata": {},
   "source": [
    "#### Расчет задания\n",
    "> ⚠️ Для корректного расчета статистик по регионам, в методе `build_task` должны быть активированы параметры `add_city_to_basedemo_from_region` и `add_city_to_targetdemo_from_region`"
   ]
  },
  {
   "cell_type": "code",
   "execution_count": null,
   "metadata": {},
   "outputs": [],
   "source": [
    "# Формируем задание для API TV Index в формате JSON\n",
    "task_json = mtask.build_timeband_task(date_filter=date_filter, weekday_filter=weekday_filter, \n",
    "                                      daytype_filter=daytype_filter, company_filter=company_filter, \n",
    "                                      time_filter=time_filter, basedemo_filter=basedemo_filter, \n",
    "                                      targetdemo_filter=targetdemo_filter,location_filter=location_filter, \n",
    "                                      slices=slices, statistics=statistics, sortings=sortings, options=options,\n",
    "                                      add_city_to_basedemo_from_region=True, \n",
    "                                      add_city_to_targetdemo_from_region=True)\n",
    "\n",
    "# Отправляем задание на расчет и ждем выполнения\n",
    "task_timeband = mtask.wait_task(mtask.send_timeband_task(task_json))\n",
    "\n",
    "# Получаем результат\n",
    "df_1 = mtask.result2table(mtask.get_result(task_timeband), project_name='Total. Ind')\n",
    "\n",
    "# Приводим порядок столбцов в соответствие с условиями расчета\n",
    "df_1 = df_1[['prj_name']+slices+statistics]\n",
    "\n",
    "# Округляем значения статистик\n",
    "df_1 = df_1.round({'WAgeAverage':0, 'Share':3})\n",
    "df_1"
   ]
  },
  {
   "cell_type": "markdown",
   "metadata": {},
   "source": [
    "### 2. Процент женской аудитории\n",
    "Посчитаем процент женщин в аудитории каждого канала\n",
    "\n",
    "#### Формирование задания\n",
    "Обратите внимание: регион задается в company_filter"
   ]
  },
  {
   "cell_type": "code",
   "execution_count": null,
   "metadata": {},
   "outputs": [],
   "source": [
    "# Период указывается в виде списка ('Начало', 'Конец') в формате 'YYYY-MM-DD'. \n",
    "date_filter = [('2022-11-01', '2022-11-30')]\n",
    "\n",
    "# Задаем дни недели\n",
    "weekday_filter = None\n",
    "\n",
    "# Задаем тип дня\n",
    "daytype_filter = None\n",
    "\n",
    "# Задаем временной интервал\n",
    "time_filter = None\n",
    "\n",
    "# Задаем ЦА\n",
    "basedemo_filter = None\n",
    "\n",
    "# Доп фильтр ЦА: женщины\n",
    "targetdemo_filter = 'sex = 2'\n",
    "\n",
    "# Задаем место просмотра: дом\n",
    "location_filter = 'locationId = 1'\n",
    "\n",
    "# Задаем каналы: 1 и 2 мультиплексы в регионе Санкт-Перербург\n",
    "company_filter = 'tvNetId IN (1,2,4,10,11,12,13,40,60,83,86,204,206,257,258,259,260,326,393,430) and regionId = 2'\n",
    "\n",
    "# Указываем список статистик для расчета\n",
    "statistics = ['TgSatPer']\n",
    "\n",
    "# Указываем срезы: телесети\n",
    "slices = ['tvNetName']\n",
    "\n",
    "# Задаем условия сортировки: телесеть (от а до я)\n",
    "sortings = {\"tvNetName\":\"ASC\"}\n",
    "\n",
    "# Задаем опции расчета\n",
    "options = {\n",
    "    \"kitId\": 3, #TV Index Cities\n",
    "}"
   ]
  },
  {
   "cell_type": "markdown",
   "metadata": {},
   "source": [
    "#### Расчет задания\n",
    "> ⚠️ Для корректного расчета статистик по регионам, в методе `build_task` должны быть активированы параметры `add_city_to_basedemo_from_region` и `add_city_to_targetdemo_from_region`"
   ]
  },
  {
   "cell_type": "code",
   "execution_count": null,
   "metadata": {},
   "outputs": [],
   "source": [
    "# Формируем задание для API TV Index в формате JSON\n",
    "task_json = mtask.build_timeband_task(date_filter=date_filter, weekday_filter=weekday_filter, \n",
    "                                      daytype_filter=daytype_filter, company_filter=company_filter, \n",
    "                                      time_filter=time_filter, basedemo_filter=basedemo_filter, \n",
    "                                      targetdemo_filter=targetdemo_filter,location_filter=location_filter, \n",
    "                                      slices=slices, statistics=statistics, sortings=sortings, options=options,\n",
    "                                      add_city_to_basedemo_from_region=True, \n",
    "                                      add_city_to_targetdemo_from_region=True)\n",
    "\n",
    "# Отправляем задание на расчет и ждем выполнения\n",
    "task_timeband = mtask.wait_task(mtask.send_timeband_task(task_json))\n",
    "\n",
    "# Получаем результат\n",
    "df_2 = mtask.result2table(mtask.get_result(task_timeband), project_name='Пол(женский)')\n",
    "\n",
    "# Приводим порядок столбцов в соответствие с условиями расчета\n",
    "df_2 = df_2[['prj_name']+slices+statistics]\n",
    "\n",
    "# Округляем значения статистик\n",
    "df_2 = df_2.round({'TgSatPer':1})\n",
    "df_2"
   ]
  },
  {
   "cell_type": "markdown",
   "metadata": {},
   "source": [
    "### Объединим в одну таблицу"
   ]
  },
  {
   "cell_type": "code",
   "execution_count": null,
   "metadata": {},
   "outputs": [],
   "source": [
    "df = pd.concat([df_2, df_1])"
   ]
  },
  {
   "cell_type": "code",
   "execution_count": null,
   "metadata": {},
   "outputs": [],
   "source": [
    "# Формируем сводную таблицу: строки - каналы, столбцы - ЦА, значения - статистики\n",
    "df = pd.pivot_table(df, values = ['TgSatPer','WAgeAverage','Share'],\n",
    "                        index=['tvNetName'], \n",
    "                        columns=['prj_name'])\n",
    "\n",
    "# Меняем местами уровни в столбцах\n",
    "df = df.swaplevel(0,1, axis=1)\n",
    "\n",
    "# подготовим датафрейм (он не должен быть мультииндексным - с обычными плоскими колонками)\n",
    "df = df.reset_index()\n",
    "df.columns = [' '.join(col).strip() for col in df.columns.values]\n",
    "df"
   ]
  },
  {
   "cell_type": "markdown",
   "metadata": {},
   "source": [
    "### Построим график карты каналов"
   ]
  },
  {
   "cell_type": "code",
   "execution_count": null,
   "metadata": {},
   "outputs": [],
   "source": [
    "# указываем названия полей из датасета и сам датафрейм\n",
    "dataframe = df\n",
    "X = \"Пол(женский) TgSatPer\"\n",
    "Y = \"Total. Ind WAgeAverage\"\n",
    "SIZE = \"Total. Ind Share\"\n",
    "NAMES = \"tvNetName\"\n",
    "\n",
    "fig = px.scatter(dataframe,\n",
    "                 x=X,\n",
    "                 y=Y,\n",
    "                 size=SIZE,\n",
    "                 hover_name=NAMES,\n",
    "                 text=NAMES,\n",
    "                 size_max=80,\n",
    "                 title=\"Половозрастная структура телеканалов мультиплекса по доле аудитории\",\n",
    "                 labels={\n",
    "                     X: \"% женщин в аудитории\",\n",
    "                     Y: \"средний возраст зрителей\",\n",
    "                     SIZE: \"Share\",\n",
    "                     NAMES: \"Телеканал\"\n",
    "                 },\n",
    "                 range_x=[20, 90], #минимальное и максимальное значение оси x (% женщин)\n",
    "                 range_y=[20, 70], #минимальное и максимальное значение оси y (средний возраст)\n",
    "                 height=600 #размер графика\n",
    "                 )\n",
    "\n",
    "# меняем цвет\n",
    "fig.update_traces(marker=dict(color='#22a98b'))\n",
    "\n",
    "# добавляем линии средних значений\n",
    "fig.add_hline(y=41.6, line_color='gray', line_width=0.5)\n",
    "fig.add_vline(x=53.7, line_color='gray', line_width=0.5)\n",
    "\n",
    "fig.update_traces(textposition='middle center')\n",
    "\n",
    "fig.update_layout(\n",
    "    xaxis = dict(\n",
    "        tickmode = 'linear',\n",
    "        dtick = 10, #шаг значений по оси x (% женщин)\n",
    "        showgrid = False\n",
    "    ),\n",
    "    yaxis = dict(\n",
    "        tickmode = 'linear',\n",
    "        dtick = 5, #шаг значений по оси y (средний возраст)\n",
    "        showgrid = False\n",
    "    )\n",
    ")\n",
    "\n",
    "fig.update_layout(\n",
    "    plot_bgcolor='white'\n",
    ")\n",
    "\n",
    "fig.show()"
   ]
  },
  {
   "cell_type": "markdown",
   "metadata": {},
   "source": [
    "#### Как читать график:\n",
    "- Горизонтальная ось показывает % женщин в аудитории, а вертикальная ось – средний возраст зрителей всего ТВ\n",
    "\n",
    "- Точка пересечения линий на графике соответствует среднему половозрастному распределению генеральной совокупности: 53,7% женщин в населении, средний возраст – 41,6 год\n",
    "\n",
    "- Чем выше на графике расположен шар, тем старше аудитория соответствующего ему жанра\n",
    "\n",
    "- Чем правее расположен шар, тем больше женщин в его аудитории\n",
    "\n",
    "- Размер шара соответствует доле аудитории соответствующего канала"
   ]
  },
  {
   "cell_type": "markdown",
   "metadata": {},
   "source": [
    "График интерактивный: \n",
    "- при наведении на шар канала появляется тултип с данными\n",
    "- возможно изменение масштаба (zoom in, zoom out)\n",
    "- для сохранения графика в png нажмите на иконку фотоаппарата "
   ]
  },
  {
   "cell_type": "markdown",
   "metadata": {},
   "source": [
    "## Экспорт в Excel\n",
    "Сохраним таблицу с данными\n",
    "\n",
    "По умолчанию файл сохраняется в папку `excel`"
   ]
  },
  {
   "cell_type": "code",
   "execution_count": null,
   "metadata": {},
   "outputs": [],
   "source": [
    "df_info = mtask.task_builder.get_report_info()\n",
    "\n",
    "with pd.ExcelWriter(mtask.task_builder.get_excel_filename('cities_01_channels_map')) as writer:\n",
    "    df.to_excel(writer, 'Report', index=True)\n",
    "    df_info.to_excel(writer, 'Info', index=False)"
   ]
  }
 ],
 "metadata": {
  "kernelspec": {
   "display_name": "Python 3",
   "language": "python",
   "name": "python3"
  },
  "language_info": {
   "codemirror_mode": {
    "name": "ipython",
    "version": 3
   },
   "file_extension": ".py",
   "mimetype": "text/x-python",
   "name": "python",
   "nbconvert_exporter": "python",
   "pygments_lexer": "ipython3",
   "version": "3.8.8"
  }
 },
 "nbformat": 4,
 "nbformat_minor": 4
}
