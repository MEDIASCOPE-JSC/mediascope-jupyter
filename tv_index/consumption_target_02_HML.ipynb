{
 "cells": [
  {
   "cell_type": "markdown",
   "metadata": {},
   "source": [
    "# Heavy, Medium и Light зрители\n",
    "Пример формирования трех целевых аудиторий по объему просмотра и их использование в расчете\n",
    "\n",
    "## Описание задачи и условий расчета\n",
    "- Регион: Россия 0+\n",
    "- Период: 19-22 декабря 2022 года\n",
    "- Временной интервал: 21:00-23:00\n",
    "- ЦА: все 18+, смотревшие телеканал Россия 1 с 12 по 15 декабря 2022 года с 21:00 до 23:00, разделенные на три группы. \n",
    "- Место просмотра: все места (дом и дача)\n",
    "- Каналы: все каналы проекта TV Index\n",
    "- Статистики: Share"
   ]
  },
  {
   "cell_type": "markdown",
   "metadata": {},
   "source": [
    "## Инициализация\n",
    "\n",
    "При построении отчета первый шаг в любом ноутбуке - загрузка библиотек, которые помогут обращаться к TVI API и работать с данными.\n",
    "\n",
    "Выполните следующую ячейку, для этого перейдите в нее и нажмите Ctrl+Enter"
   ]
  },
  {
   "cell_type": "code",
   "execution_count": null,
   "metadata": {
    "ExecuteTime": {
     "end_time": null,
     "start_time": null
    },
    "scrolled": false
   },
   "outputs": [],
   "source": [
    "%reload_ext autoreload\n",
    "%autoreload 2\n",
    "\n",
    "import pandas as pd\n",
    "import json\n",
    "import time\n",
    "\n",
    "from mediascope_api.core import net as mscore\n",
    "from mediascope_api.mediavortex import tasks as cwt\n",
    "from mediascope_api.mediavortex import catalogs as cwc\n",
    "\n",
    "# Настраиваем отображение\n",
    "\n",
    "# Включаем отображение всех колонок\n",
    "pd.set_option('display.max_columns', None)\n",
    "# Задаем максимальное количество выводимых строк. Раскомментируйте нужную строку\n",
    "# 200 строк\n",
    "# pd.set_option(\"display.max_rows\", 200)\n",
    "# Отображаем все строки. ВАЖНО! Отображение большого DataFrame требует много ресурсов\n",
    "# pd.set_option(\"display.max_rows\", None)\n",
    "\n",
    "# Cоздаем объекты для работы с TVI API\n",
    "mnet = mscore.MediascopeApiNetwork()\n",
    "mtask = cwt.MediaVortexTask()\n",
    "cats = cwc.MediaVortexCats()"
   ]
  },
  {
   "cell_type": "markdown",
   "metadata": {},
   "source": [
    "## Справочники\n",
    "\n",
    "Получим идентификаторы, которые будут использоваться для формирования условий расчета"
   ]
  },
  {
   "cell_type": "code",
   "execution_count": null,
   "metadata": {},
   "outputs": [],
   "source": [
    "# В справочнике телекомпаний получим id РОССИЯ 1\n",
    "cats.get_tv_company(name=[\"РОССИЯ 1 (СЕТЕВОЕ ВЕЩАНИЕ)\"])"
   ]
  },
  {
   "cell_type": "markdown",
   "metadata": {},
   "source": [
    "## Отбор зрителей\n",
    "Отберем респондентов на основе их телепросмотра, разделим на группы и сохраним в переменные. Для этого посчитаем специальный отчет Consumption Target.\n",
    "\n",
    "### Формирование задания\n",
    "На этом этапе зададим все характеристики аудитории: возраст 18+, смотрели канал Россия 1 с 12 по 15 декабря 2022 года с 21:00 до 23:00."
   ]
  },
  {
   "cell_type": "code",
   "execution_count": null,
   "metadata": {},
   "outputs": [],
   "source": [
    "# Период указывается в виде списка ('Начало', 'Конец') в формате 'YYYY-MM-DD'. \n",
    "date_filter = [('2022-12-12', '2022-12-15')]\n",
    "\n",
    "# Задаем дни недели\n",
    "weekday_filter = None\n",
    "\n",
    "# Задаем тип дня\n",
    "daytype_filter = None\n",
    "\n",
    "# Задаем временной интервал: с 21:00 до 23:00\n",
    "time_filter = 'timeBand1 >= 210000 AND timeBand1 < 230000'\n",
    "\n",
    "# Задаем ЦА: Все 18+\n",
    "basedemo_filter = 'age >= 18'\n",
    "\n",
    "# Доп фильтр ЦА, нужен только в случае расчета отношения между ЦА, например, при расчете Affinity Index\n",
    "targetdemo_filter = None\n",
    "\n",
    "# Задаем место просмотра\n",
    "location_filter = None\n",
    "\n",
    "# Задаем каналы: Россия 1\n",
    "company_filter = 'tvCompanyId IN (1859)'\n",
    "\n",
    "# Фильтр программ\n",
    "program_filter = None\n",
    "\n",
    "# Фильтр блоков\n",
    "break_filter = None\n",
    "\n",
    "# Фильтр роликов\n",
    "ad_filter = None\n",
    "\n",
    "# Указываем срезы\n",
    "slices = []\n",
    "\n",
    "# Задаем опции расчета\n",
    "options = {\n",
    "    \"kitId\": 1, #TV Index Russia all \n",
    "}"
   ]
  },
  {
   "cell_type": "markdown",
   "metadata": {},
   "source": [
    "Статистики в отчете Consumption Target представляют собой тип просмотра, по которому отбираются зрители:\n",
    "- CommonWatchers: просто зрители, смотрели телеканал хотя бы 1 минуту за отчетный период\n",
    "- CommonNotWatchers: не зрители, не смотрели канал за отчетный период\n",
    "- NGroupResp: зрители сортируются по длительности просмотра и разбиваются на n равных по количеству респондентов групп\n",
    "- NGroupDur: зрители сортируются по длительности просмотра и разбиваются на n групп по длительности. В этом случае количество респондентов в группах будет разным. \n",
    "        \n",
    "В данном примере мы разобъем всех зрителей на группы равные по выборке:"
   ]
  },
  {
   "cell_type": "code",
   "execution_count": null,
   "metadata": {},
   "outputs": [],
   "source": [
    "# Указываем список статистик для расчета\n",
    "statistics = [\"NGroupResp\"]"
   ]
  },
  {
   "cell_type": "markdown",
   "metadata": {},
   "source": [
    "Дополнительные настройки - consumption_target_options. Здесь можно указать:\n",
    "\n",
    "- \"groupsCount\" - количество групп, на которое необходимо поделить отобранных респондентов. Работает в связке со статистиками NGroupResp и NGroupDur\n",
    "- \"intervalConditions\" - длительность просмотра (в минутах). Можно указывать без конечной или начальной границы.\n",
    "- \"viewingType\" - тип просмотра\n",
    "    - \"NONCONSECUTIVE\" - непоследовательный просмотр, с переключениями\n",
    "    - \"CONSECUTIVE\" - последовательный просмотр (без переключений)\n",
    "\n",
    "Пример:\n",
    "\n",
    "`\n",
    "consumption_target_options = {\n",
    "    \"groupsCount\": \"5\",\n",
    "    \"intervalConditions\": {\n",
    "        \"intervals\": [\n",
    "            {\n",
    "                \"from\":\"5\",\n",
    "                \"to\": \"100\"\n",
    "            }\n",
    "        ],\n",
    "    \"viewingType\": \"CONSECUTIVE\"\n",
    "    }\n",
    "}\n",
    "`"
   ]
  },
  {
   "cell_type": "markdown",
   "metadata": {},
   "source": [
    "Нам нужно разбить всех зрителей на три группы, поэтому передадим в параметр `groupsCount` значение 3:"
   ]
  },
  {
   "cell_type": "code",
   "execution_count": null,
   "metadata": {},
   "outputs": [],
   "source": [
    "consumption_target_options = {\n",
    "    \"groupsCount\": \"3\"\n",
    "}"
   ]
  },
  {
   "cell_type": "markdown",
   "metadata": {},
   "source": [
    "### Расчет задания"
   ]
  },
  {
   "cell_type": "code",
   "execution_count": null,
   "metadata": {
    "ExecuteTime": {
     "end_time": null,
     "start_time": null
    }
   },
   "outputs": [],
   "source": [
    "# Формируем задание для API TV Index в формате JSON\n",
    "task_json = mtask.build_consumption_target_task(date_filter=date_filter, weekday_filter=weekday_filter,\n",
    "                                                daytype_filter=daytype_filter, time_filter=time_filter,\n",
    "                                                basedemo_filter=basedemo_filter, targetdemo_filter=targetdemo_filter, \n",
    "                                                location_filter=location_filter, company_filter=company_filter,\n",
    "                                                program_filter=program_filter, break_filter=break_filter, ad_filter=ad_filter,\n",
    "                                                slices=slices, statistics=statistics, options=options,\n",
    "                                                consumption_target_options=consumption_target_options)\n",
    "\n",
    "# Отправляем задание на расчет и ждем выполнения\n",
    "task_consumption_target = mtask.wait_task(mtask.send_consumption_target_task(task_json))\n",
    "\n",
    "# Получаем результат\n",
    "df_cons = mtask.result2table(mtask.get_result(task_consumption_target))\n",
    "df_cons"
   ]
  },
  {
   "cell_type": "markdown",
   "metadata": {},
   "source": [
    "### Сохранение переменных"
   ]
  },
  {
   "cell_type": "markdown",
   "metadata": {},
   "source": [
    "Для последующего использования в расчетах, сохраним полученные группы как переменные.  \n",
    "\n",
    "Создадим словарь, где ключ - номер группы, значение - название переменной: "
   ]
  },
  {
   "cell_type": "code",
   "execution_count": null,
   "metadata": {},
   "outputs": [],
   "source": [
    "consumptions = {\n",
    "    '1': 'All18+_R1_20221212_20221215_21-23_light',\n",
    "    '2': 'All18+_R1_20221212_20221215_21-23_medium',\n",
    "    '3': 'All18+_R1_20221212_20221215_21-23_heavy' \n",
    "}"
   ]
  },
  {
   "cell_type": "markdown",
   "metadata": {},
   "source": [
    "Передадим каждую группу в метод сохрания переменной:"
   ]
  },
  {
   "cell_type": "code",
   "execution_count": null,
   "metadata": {
    "ExecuteTime": {
     "end_time": null,
     "start_time": null
    }
   },
   "outputs": [],
   "source": [
    "for nGroup, var_name in consumptions.items():\n",
    "\n",
    "    cats.add_custom_respondent_variable(\n",
    "        resp = df_cons[df_cons['nGroup'] == nGroup], #датафрейм с посчитанной переменной\n",
    "        name = var_name, #название переменной    \n",
    "        is_public=False #Переменная будет доступна только для создавшего ее логина\n",
    "    )\n",
    "    \n",
    "    time.sleep(2)"
   ]
  },
  {
   "cell_type": "code",
   "execution_count": null,
   "metadata": {
    "ExecuteTime": {
     "end_time": null,
     "start_time": null
    }
   },
   "outputs": [],
   "source": [
    "# выведем список всех переменных\n",
    "resp_vars = cats.get_custom_respondent_variable()\n",
    "resp_vars"
   ]
  },
  {
   "cell_type": "code",
   "execution_count": null,
   "metadata": {
    "ExecuteTime": {
     "end_time": null,
     "start_time": null
    }
   },
   "outputs": [],
   "source": [
    "# выведем созданные нами переменные\n",
    "var_names = list(consumptions.values())\n",
    "resp_vars[resp_vars['name'].isin(var_names)]"
   ]
  },
  {
   "cell_type": "code",
   "execution_count": null,
   "metadata": {
    "ExecuteTime": {
     "end_time": null,
     "start_time": null
    },
    "scrolled": true
   },
   "outputs": [],
   "source": [
    "# удаление переменной (раскоментируйте строки ниже для выполнения)\n",
    "#var_id = resp_vars[resp_vars['name'] == \"All18+_R1_20221212_20221215_21-23_light\"]['id'].values[0] #получаем id переменной по ее имени\n",
    "#cats.delete_custom_respondent_variable(var_id) #удаляем переменную из списка"
   ]
  },
  {
   "cell_type": "markdown",
   "metadata": {},
   "source": [
    "## Расчет отчета по группам зрителей\n",
    "Используем сохраненные переменную для расчета timeband отчета\n",
    "### Формирование задания\n",
    "Зададим условия расчета"
   ]
  },
  {
   "cell_type": "code",
   "execution_count": null,
   "metadata": {
    "ExecuteTime": {
     "end_time": null,
     "start_time": null
    }
   },
   "outputs": [],
   "source": [
    "# Период указывается в виде списка ('Начало', 'Конец') в формате 'YYYY-MM-DD'. \n",
    "date_filter = [('2022-12-19', '2022-12-22')]\n",
    "\n",
    "# Задаем дни недели\n",
    "weekday_filter = None\n",
    "\n",
    "# Задаем тип дня\n",
    "daytype_filter = None\n",
    "\n",
    "# Задаем временной интервал: с 19:00 до 23:00\n",
    "time_filter = 'timeBand1 >= 210000 AND timeBand1 < 230000'\n",
    "\n",
    "# Задаем ЦА: оставляем незаполненным. Группу зрителей укажем далее в специальном параметре.\n",
    "basedemo_filter = None\n",
    "\n",
    "# Доп фильтр ЦА, нужен только в случае расчета отношения между ЦА, например, при расчете Affinity Index\n",
    "targetdemo_filter = None\n",
    "\n",
    "# Задаем место просмотра\n",
    "location_filter = None\n",
    "\n",
    "# Задаем каналы\n",
    "company_filter = None\n",
    "\n",
    "# Указываем список статистик для расчета\n",
    "statistics = ['Share']\n",
    "\n",
    "# Указываем срезы: телесеть\n",
    "slices = ['tvNetName']\n",
    "\n",
    "# Задаем условия сортировки: телесеть (от а до я)\n",
    "sortings = {\"tvNetName\":\"ASC\"}\n",
    "\n",
    "# Задаем опции расчета\n",
    "options = {\n",
    "    \"kitId\": 1, #TV Index Russia all\n",
    "}"
   ]
  },
  {
   "cell_type": "markdown",
   "metadata": {},
   "source": [
    "Сформируем словарь переменных, где ключ - название, которое будет отображаться в отчете, а значение - id переменной:"
   ]
  },
  {
   "cell_type": "code",
   "execution_count": null,
   "metadata": {},
   "outputs": [],
   "source": [
    "# укажите здесь id, созданных вами переменных\n",
    "variables = {\n",
    "    'Россия 1 18+ 12-15 дек 2022 21-23 [light]': '545a7675-304e-42ac-aa5e-1becfa40be87',\n",
    "    'Россия 1 18+ 12-15 дек 2022 21-23 [medium]': 'dad86153-7a8e-4be9-a256-6dafe7701f2d',\n",
    "    'Россия 1 18+ 12-15 дек 2022 21-23 [heavy]': '38b8f92c-8c3b-4466-a22e-511b16ac2c40'\n",
    "}"
   ]
  },
  {
   "cell_type": "code",
   "execution_count": null,
   "metadata": {
    "ExecuteTime": {
     "end_time": null,
     "start_time": null
    },
    "scrolled": true
   },
   "outputs": [],
   "source": [
    "# Посчитаем задания в цикле\n",
    "tasks = []\n",
    "print(\"Отправляем задания на расчет\")\n",
    "\n",
    "# Для каждой переменной формируем задание и отправляем на расчет\n",
    "for var_name, var_id in variables.items():\n",
    "    \n",
    "    # Подставляем значения словаря в параметры\n",
    "    project_name = var_name \n",
    "    custom_respondent_variable_id = var_id\n",
    "              \n",
    "    # Формируем задание для API TV Index в формате JSON\n",
    "    task_json = mtask.build_timeband_task(task_name=project_name, date_filter=date_filter, \n",
    "                                          weekday_filter=weekday_filter, daytype_filter=daytype_filter, \n",
    "                                          company_filter=company_filter, time_filter=time_filter, \n",
    "                                          basedemo_filter=basedemo_filter, targetdemo_filter=targetdemo_filter,\n",
    "                                          location_filter=location_filter, slices=slices, \n",
    "                                          statistics=statistics, sortings=sortings, options=options,\n",
    "                                          custom_respondent_variable_id=custom_respondent_variable_id)\n",
    "\n",
    "    # Для каждого этапа цикла формируем словарь с параметрами и отправленным заданием на расчет\n",
    "    tsk = {}\n",
    "    tsk['project_name'] = project_name    \n",
    "    tsk['task'] = mtask.send_timeband_task(task_json)\n",
    "    tasks.append(tsk)\n",
    "    time.sleep(2)\n",
    "    print('.', end = '')\n",
    "    \n",
    "print(f\"\\nid: {[i['task']['taskId'] for i in tasks]}\")\n",
    "\n",
    "print('')\n",
    "# Ждем выполнения\n",
    "print('Ждем выполнения')\n",
    "tsks = mtask.wait_task(tasks)\n",
    "print('Расчет завершен, получаем результат')\n",
    "\n",
    "# Получаем результат\n",
    "results = []\n",
    "print('Собираем таблицу')\n",
    "for t in tasks:\n",
    "    tsk = t['task'] \n",
    "    df_result = mtask.result2table(mtask.get_result(tsk), project_name = t['project_name'])        \n",
    "    results.append(df_result)\n",
    "    print('.', end = '')\n",
    "df = pd.concat(results)\n",
    "\n",
    "# Приводим порядок столбцов в соответствие с условиями расчета\n",
    "df = df[['prj_name']+slices+statistics]\n",
    "df"
   ]
  },
  {
   "cell_type": "markdown",
   "metadata": {},
   "source": [
    "## Настройка внешнего вида таблицы\n",
    "Пропустите этот шаг, если хотите экспортировать таблицу в ее текущем виде"
   ]
  },
  {
   "cell_type": "code",
   "execution_count": null,
   "metadata": {},
   "outputs": [],
   "source": [
    "# Формируем сводную таблицу: строки - интервалы; столбцы - типы дня; значения - статистики\n",
    "df = pd.pivot_table(df, values=statistics,\n",
    "                        index=['tvNetName'], \n",
    "                        columns=['prj_name'])\n",
    "df"
   ]
  },
  {
   "cell_type": "code",
   "execution_count": null,
   "metadata": {},
   "outputs": [],
   "source": [
    "# Поменять местами уровни в столбцах (раскомментируйте при необходимости)\n",
    "#df = df.swaplevel(0,1, axis=1).sort_index(axis=1)\n",
    "\n",
    "#df"
   ]
  },
  {
   "cell_type": "markdown",
   "metadata": {},
   "source": [
    "## Экспорт в Excel\n",
    "По умолчанию файл сохраняется в папку `excel`"
   ]
  },
  {
   "cell_type": "code",
   "execution_count": null,
   "metadata": {},
   "outputs": [],
   "source": [
    "df_info = mtask.task_builder.get_report_info()\n",
    "\n",
    "with pd.ExcelWriter(mtask.task_builder.get_excel_filename('consumption_target_02_hml')) as writer:\n",
    "    df.to_excel(writer, 'Report', index=True)\n",
    "    df_info.to_excel(writer, 'Info', index=False)"
   ]
  }
 ],
 "metadata": {
  "kernelspec": {
   "display_name": "Python 3",
   "language": "python",
   "name": "python3"
  },
  "language_info": {
   "codemirror_mode": {
    "name": "ipython",
    "version": 3
   },
   "file_extension": ".py",
   "mimetype": "text/x-python",
   "name": "python",
   "nbconvert_exporter": "python",
   "pygments_lexer": "ipython3",
   "version": "3.8.8"
  }
 },
 "nbformat": 4,
 "nbformat_minor": 4
}
