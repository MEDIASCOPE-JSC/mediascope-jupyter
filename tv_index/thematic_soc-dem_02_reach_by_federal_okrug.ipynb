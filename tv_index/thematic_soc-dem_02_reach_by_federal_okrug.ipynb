{
 "cells": [
  {
   "cell_type": "markdown",
   "metadata": {},
   "source": [
    "# Накопленный охват в динамике по ФО\n",
    "Пример расчета показателей тематических каналов в разбивке по федеральным округам и месяцам.\n",
    "\n",
    "## Описание задачи и условий расчета\n",
    "- Период: 01.01.2022 - 30.09.2022 с разбивкой по месяцам\n",
    "- Временной интервал: 05:00-29:00\n",
    "- ЦА: Все 4+ в разбивке по федеральным округам\n",
    "- Место просмотра: Все места (дом+дача)\n",
    "- Каналы: .BLACK\t\t\t\t\t\t\t\t\t\n",
    "- Статистики: Reach%"
   ]
  },
  {
   "cell_type": "markdown",
   "metadata": {},
   "source": [
    "## Инициализация\n",
    "\n",
    "При построении отчета первый шаг в любом ноутбуке - загрузка библиотек, которые помогут обращаться к TVI API и работать с данными.\n",
    "\n",
    "Выполните следующую ячейку, для этого перейдите в нее и нажмите Ctrl+Enter"
   ]
  },
  {
   "cell_type": "code",
   "execution_count": null,
   "metadata": {},
   "outputs": [],
   "source": [
    "%reload_ext autoreload\n",
    "%autoreload 2\n",
    "\n",
    "import sys\n",
    "import os\n",
    "import re\n",
    "import json\n",
    "import datetime\n",
    "import time\n",
    "import pandas as pd\n",
    "from IPython.display import JSON\n",
    "\n",
    "from mediascope_api.core import net as mscore\n",
    "from mediascope_api.mediavortex import tasks as cwt\n",
    "from mediascope_api.mediavortex import catalogs as cwc\n",
    "\n",
    "# Настраиваем отображение\n",
    "\n",
    "# Включаем отображение всех колонок\n",
    "pd.set_option('display.max_columns', None)\n",
    "# Задаем максимальное количество выводимых строк. Раскомментируйте нужную строку\n",
    "# 200 строк\n",
    "# pd.set_option(\"display.max_rows\", 200)\n",
    "# Отображаем все строки. ВАЖНО! Отображение большого DataFrame требует много ресурсов\n",
    "# pd.set_option(\"display.max_rows\", None)\n",
    "\n",
    "# Cоздаем объекты для работы с TVI API\n",
    "mnet = mscore.MediascopeApiNetwork()\n",
    "mtask = cwt.MediaVortexTask()\n",
    "cats = cwc.MediaVortexCats()"
   ]
  },
  {
   "cell_type": "markdown",
   "metadata": {},
   "source": [
    "## Справочники\n",
    "\n",
    "Получим идентификаторы, которые будут использоваться для формирования условий расчета"
   ]
  },
  {
   "cell_type": "code",
   "execution_count": null,
   "metadata": {},
   "outputs": [],
   "source": [
    "# В справочнике телекомпаний найдем нужный нам канал\n",
    "cats.get_tv_company(name=['.BLACK'])\n",
    "\n",
    "# id телекомпании .BLACK - 5960."
   ]
  },
  {
   "cell_type": "code",
   "execution_count": null,
   "metadata": {},
   "outputs": [],
   "source": [
    "# В каталоге демографических переменным найдем переменную Федеральные округа\n",
    "cats.get_tv_demo_attribute(names=['федерал'])\n",
    "\n",
    "# Далее в параметры задания зададим ее entityName - federalOkrug"
   ]
  },
  {
   "cell_type": "markdown",
   "metadata": {},
   "source": [
    "## Формирование задания\n",
    "Зададим условия расчета"
   ]
  },
  {
   "cell_type": "code",
   "execution_count": null,
   "metadata": {},
   "outputs": [],
   "source": [
    "# Период указывается в виде списка ('Начало', 'Конец') в формате 'YYYY-MM-DD'.\n",
    "# Минимум 28 дней\n",
    "date_filter = [('2022-01-01', '2022-09-30')]\n",
    "\n",
    "# Задаем дни недели\n",
    "weekday_filter = None\n",
    "\n",
    "# Задаем тип дня\n",
    "daytype_filter = None\n",
    "\n",
    "# Задаем временной интервал - минимум 60 минут\n",
    "time_filter = None\n",
    "\n",
    "# Задаем ЦА\n",
    "basedemo_filter = None\n",
    "\n",
    "# Доп фильтр ЦА, нужен только в случае расчета отношения между ЦА, например, при расчете Affinity Index\n",
    "targetdemo_filter = None\n",
    "\n",
    "# Задаем место просмотра\n",
    "location_filter = None\n",
    "\n",
    "# Задаем каналы - телекомпания .BLACK (СЕТЕВОЕ ВЕЩАНИЕ)\n",
    "company_filter = 'tvCompanyId = 5960'\n",
    "\n",
    "# Указываем список статистик для расчета\n",
    "statistics = ['ReachPer']\n",
    "\n",
    "# Указываем срезы\n",
    "slices = [\n",
    "    'federalOkrug', # Федеральный округ \n",
    "    'researchMonth' # месяц\n",
    "]\n",
    "\n",
    "# Задаем условия сортировки: федеральный округ (от а до я), месяцы (по возр.)\n",
    "sortings = {'federalOkrug':'ASC', 'researchMonth':'ASC'}\n",
    "\n",
    "# Задаем опции расчета\n",
    "options = {\n",
    "    \"kitId\": 4, #TV Index Plus All Russia\n",
    "    \"useNbd\": False #Расчет накопленного охвата без nbd коррекции\n",
    "}"
   ]
  },
  {
   "cell_type": "markdown",
   "metadata": {},
   "source": [
    "## Расчет задания"
   ]
  },
  {
   "cell_type": "code",
   "execution_count": null,
   "metadata": {},
   "outputs": [],
   "source": [
    "# Формируем задание для TV API в формате JSON\n",
    "task_json = mtask.build_timeband_task(date_filter=date_filter, weekday_filter=weekday_filter, \n",
    "                                      daytype_filter=daytype_filter, company_filter=company_filter, \n",
    "                                      time_filter=time_filter, basedemo_filter=basedemo_filter, \n",
    "                                      targetdemo_filter=targetdemo_filter,location_filter=location_filter, \n",
    "                                      slices=slices, statistics=statistics, sortings=sortings, options=options)\n",
    "\n",
    "# Отправляем задание на расчет и ждем выполнения\n",
    "task_timeband = mtask.wait_task(mtask.send_timeband_task(task_json))\n",
    "\n",
    "# Получаем результат\n",
    "df = mtask.result2table(mtask.get_result(task_timeband))\n",
    "\n",
    "# Приводим порядок столбцов в соответствие с условиями расчета\n",
    "df = df[slices+statistics]\n",
    "\n",
    "df"
   ]
  },
  {
   "cell_type": "markdown",
   "metadata": {},
   "source": [
    "## Настройка внешнего вида таблицы\n",
    "Пропустите этот шаг, если хотите экспортировать таблицу в ее текущем виде"
   ]
  },
  {
   "cell_type": "code",
   "execution_count": null,
   "metadata": {},
   "outputs": [],
   "source": [
    "# Формируем сводную таблицу: строки - месяц, столбцы - федеральные округа, значения - статистики\n",
    "df = pd.pivot_table(df, values=statistics,\n",
    "                        index=['researchMonth'], \n",
    "                        columns=['federalOkrug'])\n",
    "df"
   ]
  },
  {
   "cell_type": "code",
   "execution_count": null,
   "metadata": {},
   "outputs": [],
   "source": [
    "# Поменять местами уровни в столбцах (раскомментируйте при необходимости)\n",
    "#df = df.swaplevel(0,1, axis=1).sort_index(axis=1)\n",
    "\n",
    "#df"
   ]
  },
  {
   "cell_type": "markdown",
   "metadata": {},
   "source": [
    "## Экспорт в Excel\n",
    "По умолчанию файл сохраняется в папку `excel`"
   ]
  },
  {
   "cell_type": "code",
   "execution_count": null,
   "metadata": {},
   "outputs": [],
   "source": [
    "df_info = mtask.task_builder.get_report_info()\n",
    "\n",
    "with pd.ExcelWriter(mtask.task_builder.get_excel_filename('thematic_02_reach_by_federal_okrug')) as writer:\n",
    "    df.to_excel(writer, 'Report', index=True)\n",
    "    df_info.to_excel(writer, 'Info', index=False)"
   ]
  }
 ],
 "metadata": {
  "kernelspec": {
   "display_name": "Python 3",
   "language": "python",
   "name": "python3"
  },
  "language_info": {
   "codemirror_mode": {
    "name": "ipython",
    "version": 3
   },
   "file_extension": ".py",
   "mimetype": "text/x-python",
   "name": "python",
   "nbconvert_exporter": "python",
   "pygments_lexer": "ipython3",
   "version": "3.8.8"
  }
 },
 "nbformat": 4,
 "nbformat_minor": 4
}
