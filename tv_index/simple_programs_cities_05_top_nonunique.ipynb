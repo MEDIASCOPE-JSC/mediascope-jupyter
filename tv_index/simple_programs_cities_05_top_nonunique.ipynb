{
 "cells": [
  {
   "cell_type": "markdown",
   "metadata": {},
   "source": [
    "# Города: топ не уникальных событий \n",
    "Пример выгрузки топа программ по рейтингу (не уникальных, то есть в результате может быть несколько выходов одной программы)\n",
    "\n",
    "## Описание задачи и условий расчета\n",
    "- Регион: Нижний Новгород\n",
    "- Период: 02.10.2023 - 08.10.2023\n",
    "- ЦА: Все 18+\n",
    "- Место просмотра: дом\n",
    "- Каналы: все каналы проекта TV Index\n",
    "- Программы: категория - все, кроме Телемагазин; Заставка, служебная передача; Спектакль, литературное чтение. Длительность 5+ минут\n",
    "- Статистики: Rtg%, Share, Reach%"
   ]
  },
  {
   "cell_type": "markdown",
   "metadata": {},
   "source": [
    "## Инициализация\n",
    "\n",
    "При построении отчета первый шаг в любом ноутбуке - загрузка библиотек, которые помогут обращаться к TVI API и работать с данными.\n",
    "\n",
    "Выполните следующую ячейку, для этого перейдите в нее и нажмите Ctrl+Enter"
   ]
  },
  {
   "cell_type": "code",
   "execution_count": null,
   "metadata": {},
   "outputs": [],
   "source": [
    "%reload_ext autoreload\n",
    "%autoreload 2\n",
    "\n",
    "import sys\n",
    "import os\n",
    "import re\n",
    "import json\n",
    "import datetime\n",
    "import time\n",
    "import pandas as pd\n",
    "#import matplotlib.pyplot as plt\n",
    "from IPython.display import JSON\n",
    "\n",
    "from mediascope_api.core import net as mscore\n",
    "from mediascope_api.mediavortex import tasks as cwt\n",
    "from mediascope_api.mediavortex import catalogs as cwc\n",
    "\n",
    "# Настраиваем отображение\n",
    "\n",
    "# Включаем отображение всех колонок\n",
    "pd.set_option('display.max_columns', None)\n",
    "# Задаем максимальное количество выводимых строк. Раскомментируйте нужную строку\n",
    "# 200 строк\n",
    "# pd.set_option(\"display.max_rows\", 200)\n",
    "# Отображаем все строки. ВАЖНО! Отображение большого DataFrame требует много ресурсов\n",
    "# pd.set_option(\"display.max_rows\", None)\n",
    "\n",
    "# Cоздаем объекты для работы с TVI API\n",
    "mnet = mscore.MediascopeApiNetwork()\n",
    "mtask = cwt.MediaVortexTask()\n",
    "cats = cwc.MediaVortexCats()"
   ]
  },
  {
   "cell_type": "markdown",
   "metadata": {
    "tags": []
   },
   "source": [
    "## Справочники\n",
    "Получим идентификаторы, которые будут использоваться для формирования условий расчета"
   ]
  },
  {
   "cell_type": "code",
   "execution_count": null,
   "metadata": {},
   "outputs": [],
   "source": [
    "# В справочнике регионов найдем id региона Нижний Новгород\n",
    "cats.get_tv_region(name=['Нижний Новгород'])\n",
    "\n",
    "# Это id 4"
   ]
  },
  {
   "cell_type": "code",
   "execution_count": null,
   "metadata": {},
   "outputs": [],
   "source": [
    "# В справочнике мест просмотра найдем идентификатор для домашнего смотрения\n",
    "cats.get_tv_location(name=['дом'])\n",
    "\n",
    "# Это id 1"
   ]
  },
  {
   "cell_type": "code",
   "execution_count": null,
   "metadata": {},
   "outputs": [],
   "source": [
    "#Получим id категорий программ, которые должны быть исключены из расчета\n",
    "cats.get_tv_program_category(name=['Телемагазин', \n",
    "                                   'Заставка, служебная передача', \n",
    "                                   'Спектакль, литературное чтение'])\n",
    "#Это 47, 63 и 3"
   ]
  },
  {
   "cell_type": "code",
   "execution_count": null,
   "metadata": {},
   "outputs": [],
   "source": [
    "# В словаре демографических атрибутов найдем переменную Возраст\n",
    "cats.find_tv_property('Возраст')\n",
    "\n",
    "# Для формирования демо фильтра нам понадобится значение столбца entityName: age"
   ]
  },
  {
   "cell_type": "markdown",
   "metadata": {},
   "source": [
    "## Формирование задания\n",
    "Зададим условия расчета"
   ]
  },
  {
   "cell_type": "code",
   "execution_count": null,
   "metadata": {},
   "outputs": [],
   "source": [
    "# Задаем период\n",
    "# Период указывается в виде списка ('Начало', 'Конец') в формате 'YYYY-MM-DD'. Можно указать несколько периодов\n",
    "date_filter = [('2023-10-02', '2023-10-08')]\n",
    "\n",
    "# Задаем дни недели\n",
    "weekday_filter = None\n",
    "\n",
    "# Задаем тип дня\n",
    "daytype_filter = None\n",
    "\n",
    "# Задаем ЦА - Все 18+\n",
    "basedemo_filter = 'age >= 18'\n",
    "\n",
    "# Доп фильтр ЦА, нужен только в случае расчета отношения между ЦА, например, при расчете Affinity Index\n",
    "targetdemo_filter = None\n",
    "\n",
    "# Задаем место просмотра: дом\n",
    "location_filter = 'locationId = 1'\n",
    "\n",
    "# Задаем каналы\n",
    "company_filter = None\n",
    "\n",
    "# Указываем фильтр программ: категория - все, кроме телемагазин, заставка и служебная передача, спектакль и лит чтение\n",
    "# Продолжительность 5+ минут\n",
    "program_filter = 'programCategoryId NIN (47, 63, 3) and programDuration >= 300'\n",
    "\n",
    "# Фильтр блоков\n",
    "break_filter = None\n",
    "\n",
    "# Фильтр роликов\n",
    "ad_filter = None\n",
    "\n",
    "# Указываем список срезов\n",
    "slices = [\n",
    "    'regionName', #Регион\n",
    "    'programSpotId', #Программа ID выхода, обязательный атрибут! \n",
    "    'programName', #Программа\n",
    "    'tvCompanyName', #Телекомпания\n",
    "    'researchDate', #Дата, обязательный атрибут!\n",
    "    'researchWeekDay', #День недели\n",
    "    'programStartTime', #Программа время начала\n",
    "    'programFinishTime', #Программа время окончания\n",
    "    'programTypeName', #Жанр\n",
    "    'programCategoryName', #Категория\n",
    "]\n",
    "\n",
    "# Указываем список статистик для расчета\n",
    "statistics = ['RtgPer', 'Share', 'ReachPer']\n",
    "\n",
    "# Задаем условия сортировки посчитанного отчета: RtgPer (по убыванию)\n",
    "sortings = {'RtgPer':'DESC'}\n",
    "\n",
    "# Задаем опции расчета\n",
    "options = {\n",
    "    \"kitId\": 3 #TV Index Cities\n",
    "}"
   ]
  },
  {
   "cell_type": "markdown",
   "metadata": {},
   "source": [
    "## Расчет задания\n",
    "В одной задаче можно рассчитать данные только по одному региону. Сформируем словарь регионов, которые по очереди будем передавать на расчет. "
   ]
  },
  {
   "cell_type": "code",
   "execution_count": null,
   "metadata": {},
   "outputs": [],
   "source": [
    "# Раскомментируйте строки для тех регионов, которые должны участвовать в расчете\n",
    "\n",
    "regions_dict = {\n",
    "    #40: 'БАРНАУЛ',\n",
    "    #18: 'ВЛАДИВОСТОК',\n",
    "    #5: 'ВОЛГОГРАД',\n",
    "    #8: 'ВОРОНЕЖ',\n",
    "    #12: 'ЕКАТЕРИНБУРГ',\n",
    "    #25: 'ИРКУТСК',\n",
    "    #19: 'КАЗАНЬ',\n",
    "    #45: 'КЕМЕРОВО',\n",
    "    #23: 'КРАСНОДАР',\n",
    "    #17: 'КРАСНОЯРСК',\n",
    "    #1: 'МОСКВА',\n",
    "    4: 'НИЖНИЙ НОВГОРОД',\n",
    "    #15: 'НОВОСИБИРСК',\n",
    "    #21: 'ОМСК',\n",
    "    #14: 'ПЕРМЬ',\n",
    "    #9: 'РОСТОВ-НА-ДОНУ',\n",
    "    #6: 'САМАРА',\n",
    "    #2: 'САНКТ-ПЕТЕРБУРГ',\n",
    "    #10: 'САРАТОВ',\n",
    "    #39: 'СТАВРОПОЛЬ',\n",
    "    #3: 'ТВЕРЬ',\n",
    "    #55: 'ТОМСК',\n",
    "    #16: 'ТЮМЕНЬ',\n",
    "    #20: 'УФА',\n",
    "    #26: 'ХАБАРОВСК',\n",
    "    #13: 'ЧЕЛЯБИНСК',\n",
    "    #7: 'ЯРОСЛАВЛЬ'\n",
    "}"
   ]
  },
  {
   "cell_type": "markdown",
   "metadata": {},
   "source": [
    "### Посчитаем задания в цикле\n",
    "\n",
    "> ⚠️ Для корректного расчета статистик по регионам, в методе `build_task` должны быть активированы параметры `add_city_to_basedemo_from_region` и `add_city_to_targetdemo_from_region`"
   ]
  },
  {
   "cell_type": "code",
   "execution_count": null,
   "metadata": {
    "scrolled": true
   },
   "outputs": [],
   "source": [
    "# Посчитаем задания в цикле\n",
    "tasks = []\n",
    "print(\"Отправляем задания на расчет\")\n",
    "\n",
    "# Для каждого региона формируем задание и отправляем на расчет\n",
    "for reg_id, reg_name in regions_dict.items():\n",
    "    \n",
    "    #Передаем id региона в company_filter:\n",
    "    init_company_filter = company_filter\n",
    "    \n",
    "    if company_filter is not None:\n",
    "        company_filter = company_filter + f' AND regionId IN ({reg_id})'\n",
    "        \n",
    "    else:\n",
    "        company_filter = f'regionId IN ({reg_id})'\n",
    "      \n",
    "    # Формируем задание для API TV Index в формате JSON\n",
    "    task_json = mtask.build_simple_task(date_filter=date_filter, weekday_filter=weekday_filter, \n",
    "                                        daytype_filter=daytype_filter, company_filter=company_filter, \n",
    "                                        location_filter=location_filter, basedemo_filter=basedemo_filter, \n",
    "                                        targetdemo_filter=targetdemo_filter,program_filter=program_filter, \n",
    "                                        break_filter=break_filter, ad_filter=ad_filter, \n",
    "                                        slices=slices, statistics=statistics, sortings=sortings, options=options,\n",
    "                                        add_city_to_basedemo_from_region=True,\n",
    "                                        add_city_to_targetdemo_from_region=True)\n",
    "\n",
    "    # Для каждого этапа цикла формируем словарь с параметрами и отправленным заданием на расчет\n",
    "    tsk = {}    \n",
    "    tsk['task'] = mtask.send_simple_task(task_json)\n",
    "    tasks.append(tsk)\n",
    "    time.sleep(2)\n",
    "    print('.', end = '')\n",
    "    \n",
    "    company_filter = init_company_filter\n",
    "    \n",
    "print(f\"\\nid: {[i['task']['taskId'] for i in tasks]}\") \n",
    "\n",
    "print('')\n",
    "# Ждем выполнения\n",
    "print('Ждем выполнения')\n",
    "tsks = mtask.wait_task(tasks)\n",
    "print('Расчет завершен, получаем результат')\n",
    "\n",
    "# Получаем результат\n",
    "results = []\n",
    "print('Собираем таблицу')\n",
    "for t in tasks:\n",
    "    tsk = t['task'] \n",
    "    df_result = mtask.result2table(mtask.get_result(tsk))        \n",
    "    results.append(df_result)\n",
    "    print('.', end = '')\n",
    "df = pd.concat(results)\n",
    "\n",
    "# Приводим порядок столбцов в соответствие с условиями расчета\n",
    "df = df[slices+statistics]\n",
    "\n",
    "df"
   ]
  },
  {
   "cell_type": "markdown",
   "metadata": {},
   "source": [
    "## Сохраняем в Excel\n",
    "По умолчанию файл сохраняется в папку `excel`"
   ]
  },
  {
   "cell_type": "code",
   "execution_count": null,
   "metadata": {},
   "outputs": [],
   "source": [
    "df_info = mtask.task_builder.get_report_info()\n",
    "\n",
    "with pd.ExcelWriter(mtask.task_builder.get_excel_filename('cities_05_top_nonunique')) as writer:\n",
    "    df.to_excel(writer, 'Report', index=True)\n",
    "    df_info.to_excel(writer, 'Info', index=False)"
   ]
  }
 ],
 "metadata": {
  "kernelspec": {
   "display_name": "Python 3",
   "language": "python",
   "name": "python3"
  },
  "language_info": {
   "codemirror_mode": {
    "name": "ipython",
    "version": 3
   },
   "file_extension": ".py",
   "mimetype": "text/x-python",
   "name": "python",
   "nbconvert_exporter": "python",
   "pygments_lexer": "ipython3",
   "version": "3.8.8"
  }
 },
 "nbformat": 4,
 "nbformat_minor": 4
}
