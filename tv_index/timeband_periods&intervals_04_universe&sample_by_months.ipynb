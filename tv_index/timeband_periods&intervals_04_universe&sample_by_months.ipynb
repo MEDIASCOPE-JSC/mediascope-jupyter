{
 "cells": [
  {
   "cell_type": "markdown",
   "metadata": {},
   "source": [
    "# Динамика Universe и Sample\n",
    "Пример расчета численности целевых аудиторий в населении и выборки в динамике\n",
    "\n",
    "## Описание задачи и условий расчета\n",
    "- Период: 01.06.2022 - 31.08.2022\n",
    "- Временной интервал: 05:00-29:00\n",
    "- ЦА: Все 4+, Все 12-24, Все 25-34, Все 35-44, Все 45+, Все 20-44, Все 20+, Мужчины, Женщины, Мужчины 20+, Женщины 20+, Мужчины 20-44, Женщины 20-44, Мужчины 35+, Женщины 35+\n",
    "- Место просмотра: Все места (дом+дача)\n",
    "- Каналы: ТНТ\t\t\t\t\t\t\t\t\t\n",
    "- Статистики: Universe, Sample"
   ]
  },
  {
   "cell_type": "markdown",
   "metadata": {},
   "source": [
    "## Инициализация\n",
    "\n",
    "При построении отчета первый шаг в любом ноутбуке - загрузка библиотек, которые помогут обращаться к TVI API и работать с данными.\n",
    "\n",
    "Выполните следующую ячейку, для этого перейдите в нее и нажмите Ctrl+Enter"
   ]
  },
  {
   "cell_type": "code",
   "execution_count": null,
   "metadata": {},
   "outputs": [],
   "source": [
    "%reload_ext autoreload\n",
    "%autoreload 2\n",
    "\n",
    "import sys\n",
    "import os\n",
    "import re\n",
    "import json\n",
    "import datetime\n",
    "import time\n",
    "import pandas as pd\n",
    "from IPython.display import JSON\n",
    "\n",
    "from mediascope_api.core import net as mscore\n",
    "from mediascope_api.mediavortex import tasks as cwt\n",
    "from mediascope_api.mediavortex import catalogs as cwc\n",
    "\n",
    "# Настраиваем отображение\n",
    "\n",
    "# Включаем отображение всех колонок\n",
    "pd.set_option('display.max_columns', None)\n",
    "# Задаем максимальное количество выводимых строк. Раскомментируйте нужную строку\n",
    "# 200 строк\n",
    "# pd.set_option(\"display.max_rows\", 200)\n",
    "# Отображаем все строки. ВАЖНО! Отображение большого DataFrame требует много ресурсов\n",
    "# pd.set_option(\"display.max_rows\", None)\n",
    "\n",
    "# Cоздаем объекты для работы с TVI API\n",
    "mnet = mscore.MediascopeApiNetwork()\n",
    "mtask = cwt.MediaVortexTask()\n",
    "cats = cwc.MediaVortexCats()"
   ]
  },
  {
   "cell_type": "markdown",
   "metadata": {},
   "source": [
    "## Справочники"
   ]
  },
  {
   "cell_type": "code",
   "execution_count": null,
   "metadata": {},
   "outputs": [],
   "source": [
    "# выберем телесети по имени (части имени)\n",
    "# для расчета показателей Universe и Sample в фильтр можно добавить любой канал\n",
    "cats.get_tv_net(name=[\"ТНТ\"])\n",
    "\n",
    "# далее в запросах будем использовать id телесетей."
   ]
  },
  {
   "cell_type": "code",
   "execution_count": null,
   "metadata": {},
   "outputs": [],
   "source": [
    "# Найдем названия нужных нам демографических переменных\n",
    "cats.get_tv_demo_attribute(names=['пол','возраст'])"
   ]
  },
  {
   "cell_type": "markdown",
   "metadata": {},
   "source": [
    "## Формирование задания\n",
    "Зададим условия расчета"
   ]
  },
  {
   "cell_type": "code",
   "execution_count": null,
   "metadata": {},
   "outputs": [],
   "source": [
    "# Период указывается в виде списка ('Начало', 'Конец'). \n",
    "date_filter = [('2022-06-01', '2022-08-31')]\n",
    "\n",
    "# Задаем дни недели\n",
    "weekday_filter = None\n",
    "\n",
    "# Задаем тип дня\n",
    "daytype_filter = None\n",
    "\n",
    "# Задаем временной интервал\n",
    "time_filter = None\n",
    "\n",
    "# Задаем ЦА\n",
    "basedemo_filter = None\n",
    "\n",
    "# Доп фильтр ЦА, нужен только в случае расчета отношения между ЦА, например, при расчете Affinity Index\n",
    "targetdemo_filter = None\n",
    "\n",
    "# Задаем место просмотра\n",
    "location_filter = None\n",
    "\n",
    "# Задаем каналы\n",
    "company_filter = 'tvNetId = 83'\n",
    "\n",
    "# Указываем список статистик для расчета\n",
    "statistics = ['Universe000', 'Sample']\n",
    "\n",
    "# Указываем срезы\n",
    "slices = ['researchMonth']\n",
    "\n",
    "# Задаем опции расчета\n",
    "options = {\n",
    "    \"kitId\": 1, #TV Index Russia all \n",
    "}"
   ]
  },
  {
   "cell_type": "markdown",
   "metadata": {},
   "source": [
    "Формируем группу значений параметров для различных ЦА"
   ]
  },
  {
   "cell_type": "code",
   "execution_count": null,
   "metadata": {
    "scrolled": true
   },
   "outputs": [],
   "source": [
    "# Задаем необходимые группы\n",
    "targets = {\n",
    "    'Все 4+':'age >= 4',\n",
    "    '4-24':'age >= 4 AND age <= 24',\n",
    "    '25-34':'age >= 25 AND age <= 34',\n",
    "    '35-44':'age >= 35 AND age <= 44',\n",
    "    '45+':'age >= 45',\n",
    "    '20-44':'age >= 20 AND age <= 44',\n",
    "    '20+':'age >= 20',\n",
    "    'Мужчины ':'sex = 1',\n",
    "    'Женщины':'sex = 2',\n",
    "    'Мужчины 20+':'sex = 1 AND age >=20',\n",
    "    'Женщины 20+':'sex = 2 AND age >=20',\n",
    "    'Мужчины 20-44':'sex = 1 AND age >=20 AND age <= 44',\n",
    "    'Женщины 20-44':'sex = 2 AND age >=20 AND age <= 44',\n",
    "    'Мужчины 35+':'sex = 1 AND age >=35',\n",
    "    'Женщины 35+':'sex = 2 AND age >=35'    \n",
    "}"
   ]
  },
  {
   "cell_type": "markdown",
   "metadata": {},
   "source": [
    "## Расчет задания"
   ]
  },
  {
   "cell_type": "code",
   "execution_count": null,
   "metadata": {},
   "outputs": [],
   "source": [
    "# Посчитаем задания в цикле\n",
    "tasks = []\n",
    "print(\"Отправляем задания на расчет\")\n",
    "\n",
    "# Для каждой ЦА формируем задания и отправляем на расчет\n",
    "for target, logical in targets.items():\n",
    "    \n",
    "    # Формируем задание на расчет ЦА\n",
    "    project_name = f\"{target}\" \n",
    "    basedemo_filter = f\"{logical}\"\n",
    "      \n",
    "    # Формируем из указанных параметров задание для TVI API в формате JSON для каждого из этапов цикла\n",
    "    task_json = mtask.build_task('timeband', task_name=project_name, date_filter=date_filter, \n",
    "                                 weekday_filter=weekday_filter, daytype_filter=daytype_filter, \n",
    "                                 company_filter=company_filter, time_filter=time_filter, \n",
    "                                 basedemo_filter=basedemo_filter, targetdemo_filter=targetdemo_filter,\n",
    "                                 location_filter=location_filter, slices=slices, \n",
    "                                 statistics=statistics, options=options)\n",
    "\n",
    "    # Для каждого этапа цикла формируем словарь с параметрами и отправленным заданием на расчет\n",
    "    tsk = {}\n",
    "    tsk['project_name'] = project_name    \n",
    "    tsk['task'] = mtask.send_timeband_task(task_json)\n",
    "    tasks.append(tsk)\n",
    "    time.sleep(2)\n",
    "    print('.', end = '')\n",
    "\n",
    "print('')\n",
    "# Ждем выполнения\n",
    "print('Ждем выполнения')\n",
    "tsks = mtask.wait_task(tasks)\n",
    "print('Расчет завершен, получаем результат')\n",
    "\n",
    "# Получаем результат\n",
    "results = []\n",
    "print('Собираем таблицу')\n",
    "for t in tasks:\n",
    "    tsk = t['task'] \n",
    "    df_result = mtask.result2table(mtask.get_result(tsk), project_name = t['project_name'])        \n",
    "    results.append(df_result)\n",
    "    print('.', end = '')\n",
    "df = pd.concat(results)"
   ]
  },
  {
   "cell_type": "code",
   "execution_count": null,
   "metadata": {},
   "outputs": [],
   "source": [
    "# округляем семпл до целого\n",
    "df['Sample'] = df['Sample'].round(0)\n",
    "df = df.astype({'Sample': 'int'})"
   ]
  },
  {
   "cell_type": "code",
   "execution_count": null,
   "metadata": {},
   "outputs": [],
   "source": [
    "df"
   ]
  },
  {
   "cell_type": "markdown",
   "metadata": {},
   "source": [
    "## Экспорт в Excel\n",
    "По умолчанию файл сохраняется в папку `excel`"
   ]
  },
  {
   "cell_type": "code",
   "execution_count": null,
   "metadata": {},
   "outputs": [],
   "source": [
    "df_info = mtask.task_builder.get_report_info()\n",
    "\n",
    "with pd.ExcelWriter(mtask.task_builder.get_excel_filename('04_universe&sample_by_months')) as writer:\n",
    "    df.to_excel(writer, 'Report', index=True)\n",
    "    df_info.to_excel(writer, 'Info', index=False)"
   ]
  }
 ],
 "metadata": {
  "kernelspec": {
   "display_name": "Python 3 (ipykernel)",
   "language": "python",
   "name": "python3"
  },
  "language_info": {
   "codemirror_mode": {
    "name": "ipython",
    "version": 3
   },
   "file_extension": ".py",
   "mimetype": "text/x-python",
   "name": "python",
   "nbconvert_exporter": "python",
   "pygments_lexer": "ipython3",
   "version": "3.9.13"
  }
 },
 "nbformat": 4,
 "nbformat_minor": 4
}
