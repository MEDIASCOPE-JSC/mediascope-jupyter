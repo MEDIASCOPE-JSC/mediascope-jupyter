{
 "cells": [
  {
   "cell_type": "markdown",
   "metadata": {},
   "source": [
    "# Показатели каналов по жанрам\n",
    "Пример расчета по жанрам тематических телеканалов\n",
    "\n",
    "## Описание задачи и условий расчета\n",
    "\n",
    "- Период: 01.09.2022 - 31.10.2022\n",
    "- Временной интервал: 05:00-29:00\n",
    "- ЦА: Все 4+\n",
    "- Место просмотра: Все места (Дом+Дача)\n",
    "- Каналы: жанры ДЕТСКИЕ, КИНО И СЕРИАЛЫ, МУЗЫКАЛЬНЫЕ\t\t\t\t\t\t\t\t\t\t\n",
    "- Статистики: Rtg000, Rtg%, Share, AvReach000, AvReach%, AvWReach000, AvWReach%, AvMReach000, AvMReach%, ATVReach"
   ]
  },
  {
   "cell_type": "markdown",
   "metadata": {},
   "source": [
    "## Инициализация\n",
    "\n",
    "При построении отчета первый шаг в любом ноутбуке - загрузка библиотек, которые помогут обращаться к TVI API и работать с данными.\n",
    "\n",
    "Выполните следующую ячейку, для этого перейдите в нее и нажмите Ctrl+Enter"
   ]
  },
  {
   "cell_type": "code",
   "execution_count": null,
   "metadata": {
    "scrolled": false
   },
   "outputs": [],
   "source": [
    "%reload_ext autoreload\n",
    "%autoreload 2\n",
    "\n",
    "import sys\n",
    "import os\n",
    "import re\n",
    "import json\n",
    "import datetime\n",
    "import time\n",
    "import pandas as pd\n",
    "from IPython.display import JSON\n",
    "\n",
    "from mediascope_api.core import net as mscore\n",
    "from mediascope_api.mediavortex import tasks as cwt\n",
    "from mediascope_api.mediavortex import catalogs as cwc\n",
    "\n",
    "# Настраиваем отображение\n",
    "\n",
    "# Включаем отображение всех колонок\n",
    "pd.set_option('display.max_columns', None)\n",
    "# Задаем максимальное количество выводимых строк. Раскомментируйте нужную строку\n",
    "# 200 строк\n",
    "# pd.set_option(\"display.max_rows\", 200)\n",
    "# Отображаем все строки. ВАЖНО! Отображение большого DataFrame требует много ресурсов\n",
    "# pd.set_option(\"display.max_rows\", None)\n",
    "\n",
    "# Cоздаем объекты для работы с TVI API\n",
    "mnet = mscore.MediascopeApiNetwork()\n",
    "mtask = cwt.MediaVortexTask()\n",
    "cats = cwc.MediaVortexCats()"
   ]
  },
  {
   "cell_type": "markdown",
   "metadata": {},
   "source": [
    "## Справочники\n",
    "\n",
    "Получим идентификаторы, которые будут использоваться для формирования условий расчета"
   ]
  },
  {
   "cell_type": "code",
   "execution_count": null,
   "metadata": {},
   "outputs": [],
   "source": [
    "# В справочнике жанров телекомпаний получим id нужных нам жанров: ДЕТСКИЕ, КИНО И СЕРИАЛЫ, МУЗЫКАЛЬНЫЕ\n",
    "cats.get_tv_thematic()\n",
    "\n",
    "# Это id: 1, 3, 4"
   ]
  },
  {
   "cell_type": "markdown",
   "metadata": {},
   "source": [
    "## Формирование задания\n",
    "Зададим условия расчета"
   ]
  },
  {
   "cell_type": "code",
   "execution_count": null,
   "metadata": {},
   "outputs": [],
   "source": [
    "# Период указывается в виде списка ('Начало', 'Конец') в формате 'YYYY-MM-DD'.\n",
    "# Минимум 28 дней\n",
    "date_filter = [('2022-09-01', '2022-10-31')]\n",
    "\n",
    "# Задаем дни недели\n",
    "weekday_filter = None\n",
    "\n",
    "# Задаем тип дня\n",
    "daytype_filter = None\n",
    "\n",
    "# Задаем временной интервал - минимум 60 минут\n",
    "time_filter = None\n",
    "\n",
    "# Задаем ЦА\n",
    "basedemo_filter = None\n",
    "\n",
    "# Доп фильтр ЦА, нужен только в случае расчета отношения между ЦА, например, при расчете Affinity Index\n",
    "targetdemo_filter = None\n",
    "\n",
    "# Задаем место просмотра\n",
    "location_filter=None\n",
    "\n",
    "# Ограничиваем расчет каналами жанров ДЕТСКИЕ, КИНО И СЕРИАЛЫ, МУЗЫКАЛЬНЫЕ. Для этого используем параметр tvThematicId.\n",
    "# Для расчета по всем жанрам оставьте фильтр незаполненным (None)\n",
    "company_filter = 'tvThematicId IN (1,3,4)'\n",
    "\n",
    "# Указываем список статистик для расчета\n",
    "statistics = [\n",
    "    'Rtg000',\n",
    "    'RtgPer',\n",
    "    'Share',\n",
    "    'AvReach000',\n",
    "    'AvReachPer',\n",
    "    'AvWkReach000',\n",
    "    'AvWkReachPer',\n",
    "    'AvMReach000',\n",
    "    'AvMReachPer',\n",
    "    'ATVReach'\n",
    "]\n",
    "\n",
    "# Указываем срезы\n",
    "slices = [\n",
    "    'tvThematicName' #Разбиваем по жанрам\n",
    "]\n",
    "\n",
    "# Задаем условия сортировки: жанр (от а до я)\n",
    "sortings = {\"tvThematicName\":\"ASC\"}\n",
    "\n",
    "# Задаем опции расчета\n",
    "options = {\n",
    "    \"kitId\": 4, #TV Index Plus All Russia\n",
    "    \"totalType\": \"TotalChannels\", #Расчет Share от Total Channels. Для расчета от Измеряемого Тематического поменять на: TotalChannelsThem\n",
    "    \"useNbd\": False #Расчет накопленного охвата без nbd коррекции\n",
    "}"
   ]
  },
  {
   "cell_type": "markdown",
   "metadata": {},
   "source": [
    "## Расчет задания"
   ]
  },
  {
   "cell_type": "code",
   "execution_count": null,
   "metadata": {},
   "outputs": [],
   "source": [
    "# Формируем задание для API TV Index в формате JSON\n",
    "task_json = mtask.build_timeband_task(date_filter=date_filter, weekday_filter=weekday_filter, \n",
    "                                      daytype_filter=daytype_filter, company_filter=company_filter, \n",
    "                                      time_filter=time_filter, basedemo_filter=basedemo_filter, \n",
    "                                      targetdemo_filter=targetdemo_filter, location_filter=location_filter, \n",
    "                                      slices=slices, statistics=statistics, sortings=sortings, options=options)\n",
    "\n",
    "# Отправляем задание на расчет и ждем выполнения\n",
    "task_timeband = mtask.wait_task(mtask.send_timeband_task(task_json))\n",
    "\n",
    "# Получаем результат\n",
    "df = mtask.result2table(mtask.get_result(task_timeband))"
   ]
  },
  {
   "cell_type": "code",
   "execution_count": null,
   "metadata": {},
   "outputs": [],
   "source": [
    "# Приводим порядок столбцов в соответствие с условиями расчета\n",
    "df = df[slices+statistics]\n",
    "df"
   ]
  },
  {
   "cell_type": "markdown",
   "metadata": {},
   "source": [
    "## Экспорт в Excel\n",
    "По умолчанию файл сохраняется в папку `excel`"
   ]
  },
  {
   "cell_type": "code",
   "execution_count": null,
   "metadata": {},
   "outputs": [],
   "source": [
    "df_info = mtask.task_builder.get_report_info()\n",
    "\n",
    "with pd.ExcelWriter(mtask.task_builder.get_excel_filename('thematic_overall_figures_06_genres')) as writer:\n",
    "    df.to_excel(writer, 'Report', index=True)\n",
    "    df_info.to_excel(writer, 'Info', index=False)"
   ]
  }
 ],
 "metadata": {
  "kernelspec": {
   "display_name": "Python 3",
   "language": "python",
   "name": "python3"
  },
  "language_info": {
   "codemirror_mode": {
    "name": "ipython",
    "version": 3
   },
   "file_extension": ".py",
   "mimetype": "text/x-python",
   "name": "python",
   "nbconvert_exporter": "python",
   "pygments_lexer": "ipython3",
   "version": "3.8.8"
  }
 },
 "nbformat": 4,
 "nbformat_minor": 4
}
