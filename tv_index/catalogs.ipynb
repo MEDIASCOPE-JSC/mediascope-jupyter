{
 "cells": [
  {
   "cell_type": "markdown",
   "metadata": {},
   "source": [
    "# Справочники TVI API\n",
    "Пример ноутбука для работы со справочниками TV Index API."
   ]
  },
  {
   "cell_type": "markdown",
   "metadata": {},
   "source": [
    "## Инициализация\n",
    "\n",
    "При построении отчета первый шаг в любом ноутбуке - загрузка библиотек, которые помогут обращаться к TVI API и работать с данными.\n",
    "\n",
    "Выполните следующую ячейку, для этого перейдите в нее и нажмите Ctrl+Enter "
   ]
  },
  {
   "cell_type": "code",
   "execution_count": null,
   "metadata": {},
   "outputs": [],
   "source": [
    "%reload_ext autoreload\n",
    "%autoreload 2\n",
    "\n",
    "import sys\n",
    "import os\n",
    "import re\n",
    "import json\n",
    "import datetime\n",
    "import time\n",
    "import pandas as pd\n",
    "from pathlib import Path\n",
    "from IPython.display import JSON\n",
    "\n",
    "from mediascope_api.core import net as msnet\n",
    "from mediascope_api.mediavortex import catalogs as cwc\n",
    "from mediascope_api.mediavortex import tasks as cwts\n",
    "\n",
    "# Включаем отображение всех колонок\n",
    "pd.set_option('display.max_columns', None)\n",
    "\n",
    "mnet = msnet.MediascopeApiNetwork()\n",
    "cats = cwc.MediaVortexCats()"
   ]
  },
  {
   "cell_type": "markdown",
   "metadata": {},
   "source": [
    "# Содержание:\n",
    "\n",
    "* [Доступные атрибуты для параметров](#Доступные-атрибуты-для-параметров)\n",
    "* [Социально-демографические переменные](#Социально-демографические-переменные)\n",
    "    * [Системные](#Системные)\n",
    "    * [Пользовательские](#Пользовательские)\n",
    "* [Телеканалы](#Телеканалы)\n",
    "* [Регионы](#Регионы)\n",
    "* [Место просмотра](#Место-просмотра)\n",
    "* [Временные интервалы](#Временные-интервалы)\n",
    "* [Даты](#Даты)\n",
    "* [Мониторинг](#Мониторинг)\n",
    "    * [Общие](#Общие)\n",
    "    * [Программы](#Программы)\n",
    "    * [Блоки](#Блоки)\n",
    "    * [Ролики](#Ролики)\n",
    "        * [Списки](#Списки)"
   ]
  },
  {
   "cell_type": "markdown",
   "metadata": {},
   "source": [
    "## Доступные атрибуты для параметров\n",
    "\n",
    "При формировании задания можно указать следующие параметры:\n",
    "\n",
    "- **filters** - Фильтры\n",
    "- **slices** - Срезы\n",
    "- **statistics** - Статистики\n",
    "\n",
    "Доступные атрибуты можно получить методами:\n",
    "- для отчета Периоды (Timeband): `get_timeband_unit()`\n",
    "- для отчета События (Simple): `get_simple_unit()`\n",
    "- для отчета Кросс-таблица (Crosstab): `get_crosstab_unit()`\n",
    "- для отчета Consumption Target: `get_consumption_target_unit()`\n",
    "\n",
    "Для разных наборов данных списки атрибутов могут отличаться. Для получения списка атрибутов для конкретного набора, передайте его id в параметр `kit_id`"
   ]
  },
  {
   "cell_type": "code",
   "execution_count": null,
   "metadata": {
    "tags": []
   },
   "outputs": [],
   "source": [
    "#Список доступных атрибутов отчета Периоды для набора TV Index All Russia\n",
    "cats.get_timeband_unit(kit_id=1)"
   ]
  },
  {
   "cell_type": "code",
   "execution_count": null,
   "metadata": {
    "scrolled": true
   },
   "outputs": [],
   "source": [
    "#Список доступных атрибутов отчета События для набора TV Index All Russia\n",
    "cats.get_simple_unit(kit_id=1)"
   ]
  },
  {
   "cell_type": "code",
   "execution_count": null,
   "metadata": {},
   "outputs": [],
   "source": [
    "#Список доступных атрибутов отчета Кросс-таблица для набора TV Index All Russia\n",
    "cats.get_crosstab_unit(kit_id=1)"
   ]
  },
  {
   "cell_type": "code",
   "execution_count": null,
   "metadata": {},
   "outputs": [],
   "source": [
    "#Список доступных атрибутов отчета Consumption Target для набора TV Index All Russia\n",
    "cats.get_consumption_target_unit(kit_id=1)"
   ]
  },
  {
   "cell_type": "markdown",
   "metadata": {},
   "source": [
    "Справку по параметрам и их атрибутам можно посмотреть по [ссылке](https://docs.mediascope.net/pages/viewpage.action?pageId=78807053)"
   ]
  },
  {
   "cell_type": "markdown",
   "metadata": {},
   "source": [
    "## Социально-демографические переменные"
   ]
  },
  {
   "cell_type": "markdown",
   "metadata": {},
   "source": [
    "### Системные"
   ]
  },
  {
   "cell_type": "code",
   "execution_count": null,
   "metadata": {},
   "outputs": [],
   "source": [
    "# Получим список всех демографических переменных\n",
    "cats.get_tv_demo_attribute()"
   ]
  },
  {
   "cell_type": "code",
   "execution_count": null,
   "metadata": {},
   "outputs": [],
   "source": [
    "# Так как по умолчанию в jupyter большие таблицы выводятся не полнотстью, справочник можно экспортировать в Excel\n",
    "demo_cat = cats.get_tv_demo_attribute()\n",
    "\n",
    "with pd.ExcelWriter('demo_cat.xlsx') as writer:\n",
    "    demo_cat.to_excel(writer, 'demo_cat', index=False)\n",
    "    \n",
    "# Файл сохраняется в директорию, в которой находится этот ноутбук."
   ]
  },
  {
   "cell_type": "code",
   "execution_count": null,
   "metadata": {},
   "outputs": [],
   "source": [
    "# Поиск в каталоге демографических переменных по названию\n",
    "cats.get_tv_demo_attribute(names=['образование', 'занятость', 'Население 100+'])"
   ]
  },
  {
   "cell_type": "markdown",
   "metadata": {},
   "source": [
    "При формировании условий задачи используются названия переменных из колонки **entityName**"
   ]
  },
  {
   "cell_type": "markdown",
   "metadata": {},
   "source": [
    "### Пользовательские"
   ]
  },
  {
   "cell_type": "markdown",
   "metadata": {},
   "source": [
    "#### Группы зрителей (consumption targets)"
   ]
  },
  {
   "cell_type": "code",
   "execution_count": null,
   "metadata": {},
   "outputs": [],
   "source": [
    "# В этом каталоге содержатся все созданные пользователем переменные на основе телепросмотра (consumption targets)\n",
    "cats.get_custom_respondent_variable()"
   ]
  },
  {
   "cell_type": "markdown",
   "metadata": {},
   "source": [
    "Подробнее про создание групп зрителей, см., например, [Отбор зрителей канала](consumption_target_01_simple_viewers.ipynb)"
   ]
  },
  {
   "cell_type": "markdown",
   "metadata": {},
   "source": [
    "## Телеканалы"
   ]
  },
  {
   "cell_type": "code",
   "execution_count": null,
   "metadata": {},
   "outputs": [],
   "source": [
    "# Выведем справочник сетей\n",
    "cats.get_tv_net()"
   ]
  },
  {
   "cell_type": "code",
   "execution_count": null,
   "metadata": {},
   "outputs": [],
   "source": [
    "# Выведем справочник телекомпаний\n",
    "cats.get_tv_company()"
   ]
  },
  {
   "cell_type": "code",
   "execution_count": null,
   "metadata": {},
   "outputs": [],
   "source": [
    "# Экспорт справочника в Excel. Файл сохраняется в директорию, в которой находится этот ноутбук.\n",
    "comp_cat = cats.get_tv_company()\n",
    "\n",
    "with pd.ExcelWriter('tvcomp_cat.xlsx') as writer:\n",
    "    comp_cat.to_excel(writer, 'tvcomp_cat', index=False)"
   ]
  },
  {
   "cell_type": "code",
   "execution_count": null,
   "metadata": {},
   "outputs": [],
   "source": [
    "# Поиск по справочнику телекомпаний \n",
    "cats.get_tv_company(name=[\"россия\"])"
   ]
  },
  {
   "cell_type": "code",
   "execution_count": null,
   "metadata": {},
   "outputs": [],
   "source": [
    "# Справочник холдингов\n",
    "cats.get_tv_company_holding()"
   ]
  },
  {
   "cell_type": "code",
   "execution_count": null,
   "metadata": {},
   "outputs": [],
   "source": [
    "# Справочник медиахолдингов\n",
    "cats.get_tv_company_media_holding()"
   ]
  },
  {
   "cell_type": "code",
   "execution_count": null,
   "metadata": {},
   "outputs": [],
   "source": [
    "# Справочник жанров телекомпаний\n",
    "cats.get_tv_thematic()"
   ]
  },
  {
   "cell_type": "code",
   "execution_count": null,
   "metadata": {},
   "outputs": [],
   "source": [
    "# Статусы телекомпаний\n",
    "cats.get_tv_company_status()"
   ]
  },
  {
   "cell_type": "code",
   "execution_count": null,
   "metadata": {},
   "outputs": [],
   "source": [
    "# Категории телекомпаний\n",
    "cats.get_tv_company_category()"
   ]
  },
  {
   "cell_type": "markdown",
   "metadata": {},
   "source": [
    "## Регионы"
   ]
  },
  {
   "cell_type": "code",
   "execution_count": null,
   "metadata": {},
   "outputs": [],
   "source": [
    "# Справочник регионов\n",
    "cats.get_tv_region()"
   ]
  },
  {
   "cell_type": "code",
   "execution_count": null,
   "metadata": {},
   "outputs": [],
   "source": [
    "# Соответствие регион - город (демо атрибут city)\n",
    "cats.get_tv_monitoring_cities()"
   ]
  },
  {
   "cell_type": "markdown",
   "metadata": {},
   "source": [
    "## Место просмотра"
   ]
  },
  {
   "cell_type": "code",
   "execution_count": null,
   "metadata": {},
   "outputs": [],
   "source": [
    "# Справочник мест просмотра\n",
    "cats.get_tv_location()"
   ]
  },
  {
   "cell_type": "markdown",
   "metadata": {},
   "source": [
    "## Временные интервалы"
   ]
  },
  {
   "cell_type": "code",
   "execution_count": null,
   "metadata": {},
   "outputs": [],
   "source": [
    "# получить справочник временных интервалов\n",
    "cats.get_tv_time_band()"
   ]
  },
  {
   "cell_type": "markdown",
   "metadata": {},
   "source": [
    "## Даты"
   ]
  },
  {
   "cell_type": "code",
   "execution_count": null,
   "metadata": {},
   "outputs": [],
   "source": [
    "# дни недели\n",
    "cats.get_tv_day_week()"
   ]
  },
  {
   "cell_type": "code",
   "execution_count": null,
   "metadata": {},
   "outputs": [],
   "source": [
    "# тип дня\n",
    "cats.get_tv_research_day_type()"
   ]
  },
  {
   "cell_type": "code",
   "execution_count": null,
   "metadata": {},
   "outputs": [],
   "source": [
    "# получить календарь\n",
    "cats.get_tv_calendar()"
   ]
  },
  {
   "cell_type": "code",
   "execution_count": null,
   "metadata": {},
   "outputs": [],
   "source": [
    "# Доступный период данных\n",
    "cats.get_availability_period()"
   ]
  },
  {
   "cell_type": "markdown",
   "metadata": {},
   "source": [
    "## Мониторинг"
   ]
  },
  {
   "cell_type": "markdown",
   "metadata": {},
   "source": [
    "### Общие"
   ]
  },
  {
   "cell_type": "code",
   "execution_count": null,
   "metadata": {},
   "outputs": [],
   "source": [
    "# Идентификаторы прайм/оф-прайм\n",
    "cats.get_tv_prime_time_status()"
   ]
  },
  {
   "cell_type": "code",
   "execution_count": null,
   "metadata": {},
   "outputs": [],
   "source": [
    "# Статусы выходов\n",
    "cats.get_tv_issue_status()"
   ]
  },
  {
   "cell_type": "code",
   "execution_count": null,
   "metadata": {},
   "outputs": [],
   "source": [
    "# Области выходов\n",
    "cats.get_tv_area()"
   ]
  },
  {
   "cell_type": "code",
   "execution_count": null,
   "metadata": {},
   "outputs": [],
   "source": [
    "# Возрастные ограничения\n",
    "cats.get_tv_age_restriction()"
   ]
  },
  {
   "cell_type": "markdown",
   "metadata": {},
   "source": [
    "### Программы"
   ]
  },
  {
   "cell_type": "code",
   "execution_count": null,
   "metadata": {},
   "outputs": [],
   "source": [
    "# Программы\n",
    "cats.get_tv_program()"
   ]
  },
  {
   "cell_type": "code",
   "execution_count": null,
   "metadata": {},
   "outputs": [],
   "source": [
    "# Жанры программ\n",
    "cats.get_tv_program_type()"
   ]
  },
  {
   "cell_type": "code",
   "execution_count": null,
   "metadata": {},
   "outputs": [],
   "source": [
    "# Программы виды спорта\n",
    "cats.get_tv_program_sport()"
   ]
  },
  {
   "cell_type": "code",
   "execution_count": null,
   "metadata": {},
   "outputs": [],
   "source": [
    "# Программы группы спорта\n",
    "cats.get_tv_program_sport_group()"
   ]
  },
  {
   "cell_type": "code",
   "execution_count": null,
   "metadata": {},
   "outputs": [],
   "source": [
    "# Описания выпусков программ\n",
    "cats.get_tv_program_issue_description()"
   ]
  },
  {
   "cell_type": "code",
   "execution_count": null,
   "metadata": {},
   "outputs": [],
   "source": [
    "# Категории программ\n",
    "cats.get_tv_program_category()"
   ]
  },
  {
   "cell_type": "code",
   "execution_count": null,
   "metadata": {},
   "outputs": [],
   "source": [
    "# Страны производства программ\n",
    "cats.get_tv_program_country()"
   ]
  },
  {
   "cell_type": "code",
   "execution_count": null,
   "metadata": {},
   "outputs": [],
   "source": [
    "# Типы производства программ\n",
    "cats.get_tv_program_producer_country()"
   ]
  },
  {
   "cell_type": "code",
   "execution_count": null,
   "metadata": {},
   "outputs": [],
   "source": [
    "# Производители программ\n",
    "cats.get_tv_program_producer()"
   ]
  },
  {
   "cell_type": "code",
   "execution_count": null,
   "metadata": {},
   "outputs": [],
   "source": [
    "# Групповые имена программ\n",
    "cats.get_tv_program_group()"
   ]
  },
  {
   "cell_type": "code",
   "execution_count": null,
   "metadata": {},
   "outputs": [],
   "source": [
    "# Языки программ\n",
    "cats.get_tv_language()"
   ]
  },
  {
   "cell_type": "markdown",
   "metadata": {},
   "source": [
    "### Блоки"
   ]
  },
  {
   "cell_type": "code",
   "execution_count": null,
   "metadata": {},
   "outputs": [],
   "source": [
    "# блоки\n",
    "cats.get_tv_breaks()"
   ]
  },
  {
   "cell_type": "code",
   "execution_count": null,
   "metadata": {},
   "outputs": [],
   "source": [
    "# Содержания блоков\n",
    "cats.get_tv_breaks_content()"
   ]
  },
  {
   "cell_type": "code",
   "execution_count": null,
   "metadata": {},
   "outputs": [],
   "source": [
    "# Типы распространения блоков\n",
    "cats.get_tv_breaks_distribution()"
   ]
  },
  {
   "cell_type": "code",
   "execution_count": null,
   "metadata": {},
   "outputs": [],
   "source": [
    "# Стили блоков\n",
    "cats.get_tv_breaks_style()"
   ]
  },
  {
   "cell_type": "code",
   "execution_count": null,
   "metadata": {},
   "outputs": [],
   "source": [
    "# Типы блоков\n",
    "cats.get_tv_breaks_position()"
   ]
  },
  {
   "cell_type": "code",
   "execution_count": null,
   "metadata": {},
   "outputs": [],
   "source": [
    "# Баинговые аудитории\n",
    "cats.get_tv_grp_type()"
   ]
  },
  {
   "cell_type": "markdown",
   "metadata": {},
   "source": [
    "### Ролики"
   ]
  },
  {
   "cell_type": "code",
   "execution_count": null,
   "metadata": {},
   "outputs": [],
   "source": [
    "# Ролики\n",
    "# Для облегчения получения справочника включена опция использования кеша (см. справку к методу) \n",
    "# Удалите use_cache=True, для гарантированного получения последней версии справочника\n",
    "cats.get_tv_ad(use_cache=True)"
   ]
  },
  {
   "cell_type": "code",
   "execution_count": null,
   "metadata": {},
   "outputs": [],
   "source": [
    "# Типы роликов\n",
    "cats.get_tv_ad_type()"
   ]
  },
  {
   "cell_type": "markdown",
   "metadata": {},
   "source": [
    "**accountingDurationType** - режим учета длительности рекламы данного типа:\n",
    "\t\n",
    "    'A' - полный учет длительности (длительность рекламы фиксируется в каталоге реклам и протоколе, эти длительности могут отличаться одна от другой не более чем на 4 с)\n",
    "\t'B' - частичный учет длительности (длительность рекламы фиксируется только в протоколе, во всех расчетах ожидаемая длительность приравнивается к фактической)\n",
    "\t'C' - длительность не учитывается\n",
    "    \n",
    "**isOverride** - признак наложения в эфире рекламы данного типа на рекламы других типов: \n",
    "    \n",
    "    'Y' - реклама данного типа может быть наложена на рекла-мы другого типа \n",
    "    'N' - нет\n",
    "    \n",
    "**isPrice** - признак учета стоимости рекламы данного типа: \n",
    "    \n",
    "    'Y' - стоимость реклам данного типа учитывается\n",
    "    'N' - нет\n",
    "    \n",
    "**positionType** - положение рекламы данного типа в эфире относительно телепередач и рекламных блоков:\n",
    "\t\n",
    "    'A' - реклама данного типа может размещаться только в рекламных блоках, внешних или внутренних\n",
    "\t'B' - реклама данного типа может размещаться только вне рекламного блока (но внутри те-лепередачи)\n",
    "\t'C' - реклама данного типа может размещаться в любом месте (внутри передачи или реклам-ного блока)"
   ]
  },
  {
   "cell_type": "code",
   "execution_count": null,
   "metadata": {},
   "outputs": [],
   "source": [
    "# Стили роликов\n",
    "cats.get_tv_ad_style()"
   ]
  },
  {
   "cell_type": "code",
   "execution_count": null,
   "metadata": {},
   "outputs": [],
   "source": [
    "# Рекламодатели\n",
    "cats.get_tv_advertiser()"
   ]
  },
  {
   "cell_type": "code",
   "execution_count": null,
   "metadata": {},
   "outputs": [],
   "source": [
    "# Бренды\n",
    "cats.get_tv_brand()"
   ]
  },
  {
   "cell_type": "code",
   "execution_count": null,
   "metadata": {},
   "outputs": [],
   "source": [
    "# Cаббренды\n",
    "cats.get_tv_subbrand()"
   ]
  },
  {
   "cell_type": "code",
   "execution_count": null,
   "metadata": {},
   "outputs": [],
   "source": [
    "# Продукты\n",
    "cats.get_tv_model()"
   ]
  },
  {
   "cell_type": "code",
   "execution_count": null,
   "metadata": {},
   "outputs": [],
   "source": [
    "# Товарные категории\n",
    "cats.get_tv_article()"
   ]
  },
  {
   "cell_type": "code",
   "execution_count": null,
   "metadata": {},
   "outputs": [],
   "source": [
    "# Аппендикс\n",
    "# Для облегчения получения справочника включена опция использования кеша (см. справку к методу) \n",
    "# Удалите use_cache=True, для гарантированного получения последней версии справочника\n",
    "cats.get_tv_appendix(use_cache=True)"
   ]
  },
  {
   "cell_type": "code",
   "execution_count": null,
   "metadata": {},
   "outputs": [],
   "source": [
    "# Видео слоганы\n",
    "cats.get_tv_ad_slogan_video()"
   ]
  },
  {
   "cell_type": "code",
   "execution_count": null,
   "metadata": {},
   "outputs": [],
   "source": [
    "# Аудио слоганы\n",
    "cats.get_tv_ad_slogan_audio()"
   ]
  },
  {
   "cell_type": "code",
   "execution_count": null,
   "metadata": {},
   "outputs": [],
   "source": [
    "# Позиционирование роликов в блоке\n",
    "cats.get_tv_ad_position()"
   ]
  },
  {
   "cell_type": "code",
   "execution_count": null,
   "metadata": {},
   "outputs": [],
   "source": [
    "# Каталог рекламодатель-продукт\n",
    "cats.get_tv_advertiser_tree()"
   ]
  },
  {
   "cell_type": "markdown",
   "metadata": {},
   "source": [
    "#### Списки"
   ]
  },
  {
   "cell_type": "code",
   "execution_count": null,
   "metadata": {},
   "outputs": [],
   "source": [
    "# Списки рекламодателей\n",
    "cats.get_tv_advertiser_list()"
   ]
  },
  {
   "cell_type": "code",
   "execution_count": null,
   "metadata": {},
   "outputs": [],
   "source": [
    "# Списки брендов\n",
    "cats.get_tv_brand_list()"
   ]
  },
  {
   "cell_type": "code",
   "execution_count": null,
   "metadata": {},
   "outputs": [],
   "source": [
    "# Списки саббрендов\n",
    "cats.get_tv_subbrand_list()"
   ]
  },
  {
   "cell_type": "code",
   "execution_count": null,
   "metadata": {},
   "outputs": [],
   "source": [
    "# Списки продуктов\n",
    "cats.get_tv_model_list()"
   ]
  },
  {
   "cell_type": "code",
   "execution_count": null,
   "metadata": {},
   "outputs": [],
   "source": [
    "# Списки товарных категорий 2 уровня\n",
    "cats.get_tv_article_list2()"
   ]
  },
  {
   "cell_type": "code",
   "execution_count": null,
   "metadata": {},
   "outputs": [],
   "source": [
    "# Списки товарных категорий 3 уровня\n",
    "cats.get_tv_article_list3()"
   ]
  },
  {
   "cell_type": "code",
   "execution_count": null,
   "metadata": {
    "scrolled": true
   },
   "outputs": [],
   "source": [
    "# Списки товарных категорий 4 уровня\n",
    "cats.get_tv_article_list4()"
   ]
  }
 ],
 "metadata": {
  "kernelspec": {
   "display_name": "Python 3",
   "language": "python",
   "name": "python3"
  },
  "language_info": {
   "codemirror_mode": {
    "name": "ipython",
    "version": 3
   },
   "file_extension": ".py",
   "mimetype": "text/x-python",
   "name": "python",
   "nbconvert_exporter": "python",
   "pygments_lexer": "ipython3",
   "version": "3.8.8"
  }
 },
 "nbformat": 4,
 "nbformat_minor": 4
}
