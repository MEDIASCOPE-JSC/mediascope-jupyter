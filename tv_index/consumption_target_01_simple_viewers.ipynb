{
 "cells": [
  {
   "cell_type": "markdown",
   "metadata": {},
   "source": [
    "# Отбор зрителей канала\n",
    "Пример формирования целевой аудитории на основе просмотра телеканала и ее использование в расчетах\n",
    "\n",
    "## Описание задачи и условий расчета\n",
    "- Регион: Россия 0+\n",
    "- Период: 25 декабря 2022 года\n",
    "- Временной интервал: 19:00-23:00\n",
    "- ЦА: все 14-44, смотревшие телеканал ТНТ 24.12.2022 года с 19:00 до 23:00\n",
    "- Место просмотра: все места (дом и дача)\n",
    "- Каналы: все каналы проекта TV Index\n",
    "- Статистики: AvReach%"
   ]
  },
  {
   "cell_type": "markdown",
   "metadata": {},
   "source": [
    "## Инициализация\n",
    "\n",
    "При построении отчета первый шаг в любом ноутбуке - загрузка библиотек, которые помогут обращаться к TVI API и работать с данными.\n",
    "\n",
    "Выполните следующую ячейку, для этого перейдите в нее и нажмите Ctrl+Enter"
   ]
  },
  {
   "cell_type": "code",
   "execution_count": null,
   "metadata": {
    "ExecuteTime": {
     "end_time": null,
     "start_time": null
    },
    "scrolled": false
   },
   "outputs": [],
   "source": [
    "%reload_ext autoreload\n",
    "%autoreload 2\n",
    "\n",
    "import pandas as pd\n",
    "import json\n",
    "\n",
    "from mediascope_api.core import net as mscore\n",
    "from mediascope_api.mediavortex import tasks as cwt\n",
    "from mediascope_api.mediavortex import catalogs as cwc\n",
    "\n",
    "# Настраиваем отображение\n",
    "\n",
    "# Включаем отображение всех колонок\n",
    "pd.set_option('display.max_columns', None)\n",
    "# Задаем максимальное количество выводимых строк. Раскомментируйте нужную строку\n",
    "# 200 строк\n",
    "# pd.set_option(\"display.max_rows\", 200)\n",
    "# Отображаем все строки. ВАЖНО! Отображение большого DataFrame требует много ресурсов\n",
    "# pd.set_option(\"display.max_rows\", None)\n",
    "\n",
    "# Cоздаем объекты для работы с TVI API\n",
    "mnet = mscore.MediascopeApiNetwork()\n",
    "mtask = cwt.MediaVortexTask()\n",
    "cats = cwc.MediaVortexCats()"
   ]
  },
  {
   "cell_type": "markdown",
   "metadata": {},
   "source": [
    "## Справочники\n",
    "\n",
    "Получим идентификаторы, которые будут использоваться для формирования условий расчета"
   ]
  },
  {
   "cell_type": "code",
   "execution_count": null,
   "metadata": {},
   "outputs": [],
   "source": [
    "# В справочнике телекомпаний получим id ТНТ\n",
    "cats.get_tv_company(name=[\"ТНТ (СЕТЕВОЕ ВЕЩАНИЕ)\"])"
   ]
  },
  {
   "cell_type": "markdown",
   "metadata": {},
   "source": [
    "## Создание целевой аудитории\n",
    "Отберем респондентов на основе их телепросмотра и сохраним в переменную. Для этого посчитаем специальный отчет Consumption Target.\n",
    "\n",
    "### Формирование задания\n",
    "На этом этапе зададим все характеристики аудитории: возраст 14-44, смотрели канал ТНТ 24.12.2022 года с 19:00 до 23:00."
   ]
  },
  {
   "cell_type": "code",
   "execution_count": null,
   "metadata": {},
   "outputs": [],
   "source": [
    "# Период указывается в виде списка ('Начало', 'Конец') в формате 'YYYY-MM-DD'. \n",
    "date_filter = [('2022-12-24', '2022-12-24')]\n",
    "\n",
    "# Задаем дни недели\n",
    "weekday_filter = None\n",
    "\n",
    "# Задаем тип дня\n",
    "daytype_filter = None\n",
    "\n",
    "# Задаем временной интервал: с 19:00 до 23:00\n",
    "time_filter = 'timeBand1 >= 190000 AND timeBand1 < 230000'\n",
    "\n",
    "# Задаем ЦА: Все 14-44\n",
    "basedemo_filter = 'age >= 14 and age <= 44'\n",
    "\n",
    "# Доп фильтр ЦА, нужен только в случае расчета отношения между ЦА, например, при расчете Affinity Index\n",
    "targetdemo_filter = None\n",
    "\n",
    "# Задаем место просмотра\n",
    "location_filter = None\n",
    "\n",
    "# Задаем каналы: ТНТ\n",
    "company_filter = 'tvCompanyId IN (1870)'\n",
    "\n",
    "# Фильтр программ\n",
    "program_filter = None\n",
    "\n",
    "# Фильтр блоков\n",
    "break_filter = None\n",
    "\n",
    "# Фильтр роликов\n",
    "ad_filter = None\n",
    "\n",
    "# Указываем срезы\n",
    "slices = []\n",
    "\n",
    "# Задаем опции расчета\n",
    "options = {\n",
    "    \"kitId\": 1, #TV Index Russia all \n",
    "}"
   ]
  },
  {
   "cell_type": "markdown",
   "metadata": {},
   "source": [
    "Статистики в отчете Consumption Target представляют собой тип просмотра, по которому отбираются зрители:\n",
    "- CommonWatchers: просто зрители, смотрели телеканал хотя бы 1 минуту за отчетный период\n",
    "- CommonNotWatchers: не зрители, не смотрели канал за отчетный период\n",
    "- NGroupResp: зрители сортируются по длительности просмотра и разбиваются на n равных по количеству респондентов групп\n",
    "- NGroupDur: зрители сортируются по длительности просмотра и разбиваются на n групп. \n",
    "        \n",
    "Так как нам нужны просто зрители, то передадим в параметр statistics \"CommonWatchers\""
   ]
  },
  {
   "cell_type": "code",
   "execution_count": null,
   "metadata": {},
   "outputs": [],
   "source": [
    "# Указываем список статистик для расчета\n",
    "statistics = [\"CommonWatchers\"]"
   ]
  },
  {
   "cell_type": "markdown",
   "metadata": {},
   "source": [
    "Дополнительные настройки - consumption_target_options. Здесь можно указать:\n",
    "\n",
    "- \"groupsCount\" - количество групп, на которое необходимо поделить отобранных респондентов. Работает в связке со статистиками NGroupResp и NGroupDur\n",
    "- \"intervalConditions\" - длительность просмотра (в минутах). Можно указывать без конечной или начальной границы.\n",
    "- \"viewingType\" - тип просмотра\n",
    "    - \"NONCONSECUTIVE\" - непоследовательный просмотр, с переключениями\n",
    "    - \"CONSECUTIVE\" - последовательный просмотр (без переключений)\n",
    "\n",
    "Пример:\n",
    "\n",
    "`\n",
    "consumption_target_options = {\n",
    "    \"groupsCount\": \"5\",\n",
    "    \"intervalConditions\": {\n",
    "        \"intervals\": [\n",
    "            {\n",
    "                \"from\":\"5\",\n",
    "                \"to\": \"100\"\n",
    "            }\n",
    "        ],\n",
    "    \"viewingType\": \"CONSECUTIVE\"\n",
    "    }\n",
    "}\n",
    "`"
   ]
  },
  {
   "cell_type": "markdown",
   "metadata": {},
   "source": [
    "В нашем случае дополнительные настройки не требуются, поэтому передадим в consumption_target_options значение `None`:"
   ]
  },
  {
   "cell_type": "code",
   "execution_count": null,
   "metadata": {},
   "outputs": [],
   "source": [
    "consumption_target_options = None"
   ]
  },
  {
   "cell_type": "markdown",
   "metadata": {},
   "source": [
    "### Расчет задания"
   ]
  },
  {
   "cell_type": "code",
   "execution_count": null,
   "metadata": {
    "ExecuteTime": {
     "end_time": null,
     "start_time": null
    }
   },
   "outputs": [],
   "source": [
    "# Формируем задание для API TV Index в формате JSON\n",
    "task_json = mtask.build_consumption_target_task(date_filter=date_filter, weekday_filter=weekday_filter,\n",
    "                                                daytype_filter=daytype_filter, time_filter=time_filter,\n",
    "                                                basedemo_filter=basedemo_filter, targetdemo_filter=targetdemo_filter, \n",
    "                                                location_filter=location_filter, company_filter=company_filter,\n",
    "                                                program_filter=program_filter, break_filter=break_filter, ad_filter=ad_filter,\n",
    "                                                slices=slices, statistics=statistics, options=options,\n",
    "                                                consumption_target_options=consumption_target_options)\n",
    "\n",
    "# Отправляем задание на расчет и ждем выполнения\n",
    "task_consumption_target = mtask.wait_task(mtask.send_consumption_target_task(task_json))\n",
    "\n",
    "# Получаем результат\n",
    "df_cons = mtask.result2table(mtask.get_result(task_consumption_target))\n",
    "df_cons"
   ]
  },
  {
   "cell_type": "markdown",
   "metadata": {},
   "source": [
    "### Сохранение переменной"
   ]
  },
  {
   "cell_type": "markdown",
   "metadata": {},
   "source": [
    "Для последующего использования в расчетах, сохраним полученную группу как переменную.  "
   ]
  },
  {
   "cell_type": "code",
   "execution_count": null,
   "metadata": {
    "ExecuteTime": {
     "end_time": null,
     "start_time": null
    }
   },
   "outputs": [],
   "source": [
    "cats.add_custom_respondent_variable(\n",
    "    resp=df_cons, #датафрейм с посчитанной переменной\n",
    "    name=\"All14-44_TNT_20221224_19-23\", #название переменной    \n",
    "    is_public=False #Переменная будет доступна только для создавшего ее логина\n",
    ")"
   ]
  },
  {
   "cell_type": "code",
   "execution_count": null,
   "metadata": {
    "ExecuteTime": {
     "end_time": null,
     "start_time": null
    }
   },
   "outputs": [],
   "source": [
    "# выведем список всех переменных\n",
    "resp_vars = cats.get_custom_respondent_variable()\n",
    "resp_vars"
   ]
  },
  {
   "cell_type": "code",
   "execution_count": null,
   "metadata": {
    "ExecuteTime": {
     "end_time": null,
     "start_time": null
    }
   },
   "outputs": [],
   "source": [
    "# выведем созданную нами переменную\n",
    "resp_vars[resp_vars['name'] == \"All14-44_TNT_20221224_19-23\"]"
   ]
  },
  {
   "cell_type": "code",
   "execution_count": null,
   "metadata": {
    "ExecuteTime": {
     "end_time": null,
     "start_time": null
    },
    "scrolled": true
   },
   "outputs": [],
   "source": [
    "# удаление переменной (раскоментируйте строки ниже для выполнения)\n",
    "#var_id = resp_vars[resp_vars['name'] == \"All14-44_TNT_20221224_19-23\"]['id'][0] #получаем id переменной по ее имени\n",
    "#cats.delete_custom_respondent_variable(var_id) #удаляем переменную из списка"
   ]
  },
  {
   "cell_type": "markdown",
   "metadata": {},
   "source": [
    "## Расчет отчета по группе зрителей\n",
    "Используем сохраненную переменную для расчета timeband отчета\n",
    "### Формирование задания\n",
    "Зададим условия расчета"
   ]
  },
  {
   "cell_type": "code",
   "execution_count": null,
   "metadata": {
    "ExecuteTime": {
     "end_time": null,
     "start_time": null
    }
   },
   "outputs": [],
   "source": [
    "# Период указывается в виде списка ('Начало', 'Конец') в формате 'YYYY-MM-DD'. \n",
    "date_filter = [('2022-12-25', '2022-12-25')]\n",
    "\n",
    "# Задаем дни недели\n",
    "weekday_filter = None\n",
    "\n",
    "# Задаем тип дня\n",
    "daytype_filter = None\n",
    "\n",
    "# Задаем временной интервал: с 19:00 до 23:00\n",
    "time_filter = 'timeBand1 >= 190000 AND timeBand1 < 230000'\n",
    "\n",
    "# Задаем ЦА: оставляем незаполненным. Группу зрителей укажем далее в специальном параметре.\n",
    "basedemo_filter = None\n",
    "\n",
    "# Доп фильтр ЦА, нужен только в случае расчета отношения между ЦА, например, при расчете Affinity Index\n",
    "targetdemo_filter = None\n",
    "\n",
    "# Задаем место просмотра\n",
    "location_filter = None\n",
    "\n",
    "# Задаем каналы\n",
    "company_filter = None\n",
    "\n",
    "# Указываем список статистик для расчета\n",
    "statistics = ['AvReachPer']\n",
    "\n",
    "# Указываем срезы: телесеть\n",
    "slices = ['tvNetName']\n",
    "\n",
    "# Задаем условия сортировки: телесеть (от а до я)\n",
    "sortings = {\"tvNetName\":\"ASC\"}\n",
    "\n",
    "# Задаем опции расчета\n",
    "options = {\n",
    "    \"kitId\": 1, #TV Index Russia all\n",
    "    \"useNbd\": False, #расчет охватов без nbd коррекции\n",
    "}\n",
    "\n",
    "# Задаем группу зрителей\n",
    "#По имени переменной получаем ее id\n",
    "var_id = resp_vars[resp_vars['name'] == \"All14-44_TNT_20221224_19-23\"]['id'][0] \n",
    "\n",
    "#id передаем в параметр custom_respondent_variable_id\n",
    "custom_respondent_variable_id = var_id"
   ]
  },
  {
   "cell_type": "code",
   "execution_count": null,
   "metadata": {
    "ExecuteTime": {
     "end_time": null,
     "start_time": null
    },
    "scrolled": true
   },
   "outputs": [],
   "source": [
    "# Формируем задание для API TV Index в формате JSON\n",
    "task_json = mtask.build_timeband_task(date_filter=date_filter, weekday_filter=weekday_filter, \n",
    "                                      daytype_filter=daytype_filter, company_filter=company_filter, \n",
    "                                      time_filter=time_filter, basedemo_filter=basedemo_filter, \n",
    "                                      targetdemo_filter=targetdemo_filter,location_filter=location_filter, \n",
    "                                      slices=slices, statistics=statistics, sortings=sortings, options=options,\n",
    "                                     custom_respondent_variable_id=custom_respondent_variable_id)\n",
    "\n",
    "# Отправляем задание на расчет и ждем выполнения\n",
    "task_timeband = mtask.wait_task(mtask.send_timeband_task(task_json))\n",
    "\n",
    "# Получаем результат\n",
    "df = mtask.result2table(mtask.get_result(task_timeband))\n",
    "df"
   ]
  },
  {
   "cell_type": "markdown",
   "metadata": {},
   "source": [
    "## Экспорт в Excel\n",
    "По умолчанию файл сохраняется в папку `excel`"
   ]
  },
  {
   "cell_type": "code",
   "execution_count": null,
   "metadata": {},
   "outputs": [],
   "source": [
    "df_info = mtask.task_builder.get_report_info()\n",
    "\n",
    "with pd.ExcelWriter(mtask.task_builder.get_excel_filename('01_consumption_target_simple_viewers')) as writer:\n",
    "    df.to_excel(writer, 'Report', index=True)\n",
    "    df_info.to_excel(writer, 'Info', index=False)"
   ]
  }
 ],
 "metadata": {
  "kernelspec": {
   "display_name": "Python 3",
   "language": "python",
   "name": "python3"
  },
  "language_info": {
   "codemirror_mode": {
    "name": "ipython",
    "version": 3
   },
   "file_extension": ".py",
   "mimetype": "text/x-python",
   "name": "python",
   "nbconvert_exporter": "python",
   "pygments_lexer": "ipython3",
   "version": "3.8.8"
  }
 },
 "nbformat": 4,
 "nbformat_minor": 4
}
