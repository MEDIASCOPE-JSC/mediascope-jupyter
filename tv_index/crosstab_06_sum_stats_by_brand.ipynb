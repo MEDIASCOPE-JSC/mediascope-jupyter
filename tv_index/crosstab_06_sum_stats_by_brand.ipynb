{
 "cells": [
  {
   "cell_type": "markdown",
   "metadata": {},
   "source": [
    "# Суммарные показатели по брендам\n",
    "Пример расчета суммарных показателей брендов \n",
    "\n",
    "## Описание задачи и условий расчета\n",
    "- Период: 01.09.2022-30.09.2022\n",
    "- ЦА: Все 18-59\n",
    "- Место просмотра: Все места (Дом+Дача)\n",
    "- Каналы: BRIDGE HITS, BRIDGE ШЛЯГЕР, MUSIC BOX RUSSIA, АВТО ПЛЮС ТВ, АНЕКДОТ ТВ, ПРОДВИЖЕНИЕ, РЕТРО, РУССКИЙ ИЛЛЮЗИОН, УСАДЬБА, ФЕНИКС+ КИНО\n",
    "- Ролики: тип - Ролик\n",
    "- Статистики: Quantity (тотал), CumReach%, Rtg% (тотал), StandRtg% (30) (тотал)"
   ]
  },
  {
   "cell_type": "markdown",
   "metadata": {},
   "source": [
    "## Инициализация\n",
    "\n",
    "При построении отчета первый шаг в любом ноутбуке - загрузка библиотек, которые помогут обращаться к TVI API и работать с данными.\n",
    "\n",
    "Выполните следующую ячейку, для этого перейдите в нее и нажмите Ctrl+Enter"
   ]
  },
  {
   "cell_type": "code",
   "execution_count": null,
   "metadata": {},
   "outputs": [],
   "source": [
    "%reload_ext autoreload\n",
    "%autoreload 2\n",
    "\n",
    "import sys\n",
    "import os\n",
    "import re\n",
    "import json\n",
    "import datetime\n",
    "import time\n",
    "import pandas as pd\n",
    "#import matplotlib.pyplot as plt\n",
    "from IPython.display import JSON\n",
    "\n",
    "from mediascope_api.core import net as mscore\n",
    "from mediascope_api.mediavortex import tasks as cwt\n",
    "from mediascope_api.mediavortex import catalogs as cwc\n",
    "\n",
    "# Настраиваем отображение\n",
    "\n",
    "# Включаем отображение всех колонок\n",
    "pd.set_option('display.max_columns', None)\n",
    "# Задаем максимальное количество выводимых строк. Раскомментируйте нужную строку\n",
    "# 200 строк\n",
    "# pd.set_option(\"display.max_rows\", 200)\n",
    "# Отображаем все строки. ВАЖНО! Отображение большого DataFrame требует много ресурсов\n",
    "# pd.set_option(\"display.max_rows\", None)\n",
    "\n",
    "# Cоздаем объекты для работы с TVI API\n",
    "mnet = mscore.MediascopeApiNetwork()\n",
    "mtask = cwt.MediaVortexTask()\n",
    "cats = cwc.MediaVortexCats()"
   ]
  },
  {
   "cell_type": "markdown",
   "metadata": {},
   "source": [
    "## Справочники\n",
    "\n",
    "Получим идентификаторы, которые будут использоваться для формирования условий расчета"
   ]
  },
  {
   "cell_type": "code",
   "execution_count": null,
   "metadata": {},
   "outputs": [],
   "source": [
    "# В справочнике демографических атрибутов найдем нужные нам переменные\n",
    "cats.get_tv_demo_attribute(names=['возраст'])\n",
    "\n",
    "# Для формирования условий запроса нам понадобятся значения столбца entityName: age"
   ]
  },
  {
   "cell_type": "code",
   "execution_count": null,
   "metadata": {},
   "outputs": [],
   "source": [
    "# Получим id для типа рекламы - ролик\n",
    "cats.get_tv_ad_type(name=['ролик'])"
   ]
  },
  {
   "cell_type": "code",
   "execution_count": null,
   "metadata": {},
   "outputs": [],
   "source": [
    "# Отберем нужные нам каналы в справочнике телекомпаний и выведем их id\n",
    "cats.get_tv_company(name=[\n",
    "    \"BRIDGE HITS (СЕТЕВОЕ ВЕЩАНИЕ)\",\n",
    "    \"BRIDGE ШЛЯГЕР (СЕТЕВОЕ ВЕЩАНИЕ)\",\n",
    "    \"MUSIC BOX RUSSIA (СЕТЕВОЕ ВЕЩАНИЕ)\",\n",
    "    \"АВТО ПЛЮС ТВ (СЕТЕВОЕ ВЕЩАНИЕ)\",\n",
    "    \"АНЕКДОТ ТВ (СЕТЕВОЕ ВЕЩАНИЕ)\",\n",
    "    \"ПРОДВИЖЕНИЕ (СЕТЕВОЕ ВЕЩАНИЕ)\",\n",
    "    \"РЕТРО (СЕТЕВОЕ ВЕЩАНИЕ)\",\n",
    "    \"РУССКИЙ ИЛЛЮЗИОН (СЕТЕВОЕ ВЕЩАНИЕ)\",\n",
    "    \"УСАДЬБА (СЕТЕВОЕ ВЕЩАНИЕ)\",\n",
    "    \"ФЕНИКС+ КИНО (СЕТЕВОЕ ВЕЩАНИЕ)\"])['id'].tolist()"
   ]
  },
  {
   "cell_type": "markdown",
   "metadata": {},
   "source": [
    "## Формирование задания\n",
    "Зададим условия расчета"
   ]
  },
  {
   "cell_type": "code",
   "execution_count": null,
   "metadata": {},
   "outputs": [],
   "source": [
    "# Задаем период\n",
    "# Период указывается в виде списка ('Начало', 'Конец') в формате 'YYYY-MM-DD'. Можно указать несколько периодов\n",
    "date_filter = [('2022-09-01', '2022-09-30')]\n",
    "\n",
    "# Задаем дни недели\n",
    "weekday_filter = None\n",
    "\n",
    "# Задаем тип дня\n",
    "daytype_filter = None\n",
    "\n",
    "# Задаем ЦА: Все 18-59\n",
    "basedemo_filter = 'age >= 18 and age <= 59'\n",
    "\n",
    "# Доп фильтр ЦА, нужен только в случае расчета отношения между ЦА, например, при расчете Affinity Index\n",
    "targetdemo_filter = None\n",
    "\n",
    "# Задаем место просмотра\n",
    "location_filter=None\n",
    "\n",
    "# Задаем каналы: укажем id телекомпаний, которые мы ранее нашли в справочнике\n",
    "company_filter = 'tvCompanyId IN (2335, 2795, 2796, 2805, 3204, 3205, 7088, 12398, 12809, 13137)'\n",
    "\n",
    "# Указываем фильтр программ\n",
    "program_filter = None\n",
    "\n",
    "# Фильтр блоков\n",
    "break_filter = None\n",
    "\n",
    "# Фильтр роликов: тип - ролик\n",
    "ad_filter = 'adTypeId = 1'\n",
    "\n",
    "# Указываем список срезов (группировок)\n",
    "slices = [\n",
    "    'tvCompanyName', #Телекомпания\n",
    "    'advertiserName', #Рекламодатель\n",
    "    'brandName', #Бренд\n",
    "    'brandListName', #Список брендов\n",
    "]\n",
    "\n",
    "# Указываем список статистик для расчета\n",
    "statistics = ['QuantitySum','CumReachPer','RtgPerSum','StandRtgPerSum']\n",
    "\n",
    "# Задаем условия сортировки: Телекомпания (от а до я), рекламодатель (от а до я), Бренд (от а до я)\n",
    "sortings = {'tvCompanyName':'ASC','advertiserName':'ASC','brandName':'ASC','brandListName':'ASC'}\n",
    "\n",
    "# Задаем опции расчета\n",
    "options = {\n",
    "    \"kitId\": 4, #TV Index Plus All Russia\n",
    "    \"issueType\": \"AD\", #Тип события - Ролики\n",
    "    \"standRtg\" : {\n",
    "      \"useRealDuration\" : True, #расчет по реальной длительности ролика.\n",
    "      \"standardDuration\" : 20 #стандартная длительность 20 сек.\n",
    "    }\n",
    "}"
   ]
  },
  {
   "cell_type": "markdown",
   "metadata": {},
   "source": [
    "## Расчет задания"
   ]
  },
  {
   "cell_type": "code",
   "execution_count": null,
   "metadata": {
    "scrolled": true
   },
   "outputs": [],
   "source": [
    "# Формируем задание для API TV Index в формате JSON\n",
    "task_json = mtask.build_crosstab_task(date_filter=date_filter, weekday_filter=weekday_filter, \n",
    "                                        daytype_filter=daytype_filter, company_filter=company_filter, \n",
    "                                        location_filter=location_filter, basedemo_filter=basedemo_filter, \n",
    "                                        targetdemo_filter=targetdemo_filter,program_filter=program_filter, \n",
    "                                        break_filter=break_filter, ad_filter=ad_filter, \n",
    "                                        slices=slices, statistics=statistics, sortings=sortings, options=options)\n",
    "\n",
    "# Отправляем задание на расчет и ждем выполнения\n",
    "task_crosstab = mtask.wait_task(mtask.send_crosstab_task(task_json))\n",
    "\n",
    "# Получаем результат\n",
    "df = mtask.result2table(mtask.get_result(task_crosstab))"
   ]
  },
  {
   "cell_type": "code",
   "execution_count": null,
   "metadata": {
    "scrolled": true
   },
   "outputs": [],
   "source": [
    "# Приводим порядок столбцов в соответствие с условиями расчета\n",
    "df = df[slices+statistics]\n",
    "df"
   ]
  },
  {
   "cell_type": "markdown",
   "metadata": {},
   "source": [
    "## Сохраняем в Excel\n",
    "По умолчанию файл сохраняется в папку `excel`"
   ]
  },
  {
   "cell_type": "code",
   "execution_count": null,
   "metadata": {},
   "outputs": [],
   "source": [
    "df_info = mtask.task_builder.get_report_info()\n",
    "\n",
    "with pd.ExcelWriter(mtask.task_builder.get_excel_filename('06_sum_stats_by_brand')) as writer:\n",
    "    df.to_excel(writer, 'Report', index=True)\n",
    "    df_info.to_excel(writer, 'Info', index=False)"
   ]
  }
 ],
 "metadata": {
  "kernelspec": {
   "display_name": "Python 3",
   "language": "python",
   "name": "python3"
  },
  "language_info": {
   "codemirror_mode": {
    "name": "ipython",
    "version": 3
   },
   "file_extension": ".py",
   "mimetype": "text/x-python",
   "name": "python",
   "nbconvert_exporter": "python",
   "pygments_lexer": "ipython3",
   "version": "3.8.8"
  }
 },
 "nbformat": 4,
 "nbformat_minor": 4
}
