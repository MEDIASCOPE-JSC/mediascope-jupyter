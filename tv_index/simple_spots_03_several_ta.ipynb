{
 "cells": [
  {
   "cell_type": "markdown",
   "metadata": {},
   "source": [
    "# Расчет роликов по нескольким ЦА\n",
    "Пример выгрузки показателей рекламных роликов по нескольким целевым аудиториям\n",
    "\n",
    "## Описание задачи и условий расчета\n",
    "- Период: 24.07.2023 - 30.07.2023\n",
    "- ЦА: Женщины 25-54; Все 18-64; Мужчины 25-45 BC\n",
    "- Место просмотра: Все места (Дом+Дача)\n",
    "- Каналы: все каналы проекта TV Index\n",
    "- Ролики: Товарная категория 4: ИНТЕРНЕТ-СУПЕРМАРКЕТЫ; Статус события: Реальный; Блок распространение - сетевой, орибтальный\n",
    "- Статистики: Quantity, RtgPer, StandRtgPer"
   ]
  },
  {
   "cell_type": "markdown",
   "metadata": {},
   "source": [
    "## Инициализация\n",
    "\n",
    "При построении отчета первый шаг в любом ноутбуке - загрузка библиотек, которые помогут обращаться к TVI API и работать с данными.\n",
    "\n",
    "Выполните следующую ячейку, для этого перейдите в нее и нажмите Ctrl+Enter"
   ]
  },
  {
   "cell_type": "code",
   "execution_count": null,
   "metadata": {},
   "outputs": [],
   "source": [
    "%reload_ext autoreload\n",
    "%autoreload 2\n",
    "\n",
    "import sys\n",
    "import os\n",
    "import re\n",
    "import json\n",
    "import datetime\n",
    "import time\n",
    "import pandas as pd\n",
    "#import matplotlib.pyplot as plt\n",
    "from IPython.display import JSON\n",
    "\n",
    "from mediascope_api.core import net as mscore\n",
    "from mediascope_api.mediavortex import tasks as cwt\n",
    "from mediascope_api.mediavortex import catalogs as cwc\n",
    "\n",
    "# Настраиваем отображение\n",
    "\n",
    "# Включаем отображение всех колонок\n",
    "pd.set_option('display.max_columns', None)\n",
    "\n",
    "# Задаем ширину столбцов по контенту\n",
    "pd.set_option('display.max_colwidth', None)\n",
    "\n",
    "# Задаем максимальное количество выводимых строк. Раскомментируйте нужную строку\n",
    "# 200 строк\n",
    "# pd.set_option(\"display.max_rows\", 200)\n",
    "# Отображаем все строки. ВАЖНО! Отображение большого DataFrame требует много ресурсов\n",
    "# pd.set_option(\"display.max_rows\", None)\n",
    "\n",
    "# Cоздаем объекты для работы с TVI API\n",
    "mnet = mscore.MediascopeApiNetwork()\n",
    "mtask = cwt.MediaVortexTask()\n",
    "cats = cwc.MediaVortexCats()"
   ]
  },
  {
   "cell_type": "markdown",
   "metadata": {},
   "source": [
    "## Справочники\n",
    "Получим идентификаторы, которые будут использоваться для формирования условий расчета"
   ]
  },
  {
   "cell_type": "code",
   "execution_count": null,
   "metadata": {},
   "outputs": [],
   "source": [
    "# Получим id товарной категории 4\n",
    "cats.get_tv_article(levels='4', name=['ИНТЕРНЕТ-СУПЕРМАРКЕТЫ'])\n",
    "\n",
    "# Для ИНТЕРНЕТ-СУПЕРМАРКЕТЫ это 4926"
   ]
  },
  {
   "cell_type": "code",
   "execution_count": null,
   "metadata": {},
   "outputs": [],
   "source": [
    "# Обратимся к справочнику статусов событий\n",
    "cats.get_tv_issue_status()\n",
    "\n",
    "# В условия отчета передадим идентификатор R (реальный)"
   ]
  },
  {
   "cell_type": "code",
   "execution_count": null,
   "metadata": {},
   "outputs": [],
   "source": [
    "# Обратимся к справочнику типов распространения блоков\n",
    "cats.get_tv_breaks_distribution()\n",
    "\n",
    "# В условия отчета передадим идентификаторы N (сетевой) и O (орбитальный)"
   ]
  },
  {
   "cell_type": "code",
   "execution_count": null,
   "metadata": {},
   "outputs": [],
   "source": [
    "# В справочнике демографических атрибутов найдем необходимые нам переменные\n",
    "cats.get_tv_demo_attribute(names=['пол','возраст','группа дохода по россии'])\n",
    "\n",
    "# Для формирования условий запроса нам понадобятся значения столбца entityName: sex, age, incomeGroupRussia"
   ]
  },
  {
   "cell_type": "markdown",
   "metadata": {},
   "source": [
    "## Формирование задания\n",
    "Зададим условия расчета"
   ]
  },
  {
   "cell_type": "code",
   "execution_count": null,
   "metadata": {},
   "outputs": [],
   "source": [
    "# Задаем период\n",
    "# Период указывается в виде списка ('Начало', 'Конец') в формате 'YYYY-MM-DD'. Можно указать несколько периодов\n",
    "date_filter = [('2023-07-24', '2023-07-30')]\n",
    "\n",
    "# Задаем дни недели\n",
    "weekday_filter = None\n",
    "\n",
    "# Задаем тип дня\n",
    "daytype_filter = None\n",
    "\n",
    "# Задаем ЦА\n",
    "basedemo_filter = None\n",
    "\n",
    "# Доп фильтр ЦА, нужен только в случае расчета отношения между ЦА, например, при расчете Affinity Index\n",
    "targetdemo_filter = None\n",
    "\n",
    "# Задаем место просмотра\n",
    "location_filter=None\n",
    "\n",
    "# Задаем каналы\n",
    "company_filter = None\n",
    "\n",
    "# Фильтр программ\n",
    "program_filter = None\n",
    "\n",
    "# Фильтр блоков: Блок распространение - сетевой, орибтальный\n",
    "break_filter = 'breaksDistributionType IN (N,O)'\n",
    "\n",
    "# Фильтр роликов: Товарная категория 4 - ИНТЕРНЕТ-СУПЕРМАРКЕТЫ; Статус события - Реальный\n",
    "ad_filter = 'articleLevel4Id IN (4926) and adIssueStatusId = R'\n",
    "\n",
    "# Указываем список срезов\n",
    "slices = [\n",
    "    'advertiserListName', #Список рекламодателей\n",
    "    'brandListName', #Список брендов\n",
    "    'subbrandListName', #Список суббрендов\n",
    "    'modelListName', #Список продуктов\n",
    "    'articleList4Name', #Список товарных категорий 4 уровня\n",
    "    'adName', #Ролик\n",
    "    'adStandardDuration', #Ролик ожидаемая длительность\n",
    "    'adDistributionTypeName', #Ролик распространение\n",
    "    'adTypeName', #Ролик тип\n",
    "    'adId', #Ролик ID\n",
    "    'adPositionId', #Ролик позиция в блоке\n",
    "    'adPositionTypeName', #Ролик позиционирование\n",
    "    'tvCompanyName', #Телекомпания\n",
    "    'programName', #Программа\n",
    "    'researchDate', #Дата, обязательный атрибут!\n",
    "    'adStartTime', #Ролик время начала\n",
    "    'adPrimeTimeStatusName', #Прайм/не Прайм\n",
    "    'adSpotId', #Ролик ID выхода, обязательный атрибут! \n",
    "]\n",
    "\n",
    "# Указываем список статистик для расчета\n",
    "statistics = ['Quantity', 'RtgPer', 'StandRtgPer']\n",
    "\n",
    "# Задаем условия сортировки: Ролик ID выхода (по возр.)\n",
    "sortings = {'adSpotId':'ASC'}\n",
    "\n",
    "# Задаем опции расчета\n",
    "options = {\n",
    "    \"kitId\": 1, #TV Index Russia all\n",
    "    \"standRtg\" : {\n",
    "      \"useRealDuration\" : True, #расчет по реальной длительности ролика.\n",
    "      \"standardDuration\" : 20 #стандартная длительность 20 сек.\n",
    "    }\n",
    "}"
   ]
  },
  {
   "cell_type": "markdown",
   "metadata": {},
   "source": [
    "Сформируем словарь с целевыми аудиториями"
   ]
  },
  {
   "cell_type": "code",
   "execution_count": null,
   "metadata": {},
   "outputs": [],
   "source": [
    "# Задаем необходимые группы\n",
    "targets = {\n",
    "    'a. W 25-54':'sex = 2 AND age >= 25 AND age <= 54',\n",
    "    'b. All 18-64':'age >= 18 AND age <= 64',\n",
    "    'c. M25-45BC':'sex = 1 AND age >= 25 AND age <= 45 AND incomeGroupRussia IN (2,3)'\n",
    "}"
   ]
  },
  {
   "cell_type": "markdown",
   "metadata": {},
   "source": [
    "## Расчет задания"
   ]
  },
  {
   "cell_type": "code",
   "execution_count": null,
   "metadata": {
    "scrolled": false
   },
   "outputs": [],
   "source": [
    "# Посчитаем задания в цикле\n",
    "tasks = []\n",
    "print(\"Отправляем задания на расчет\")\n",
    "\n",
    "# Для каждой ЦА формируем задание и отправляем на расчет\n",
    "for target, syntax in targets.items():\n",
    "    \n",
    "    # Подставляем значения словаря в параметры\n",
    "    project_name = target \n",
    "    basedemo_filter = syntax\n",
    "      \n",
    "    # Формируем задание для API TV Index в формате JSON\n",
    "    task_json = mtask.build_simple_task(date_filter=date_filter, weekday_filter=weekday_filter, \n",
    "                                        daytype_filter=daytype_filter, company_filter=company_filter, \n",
    "                                        location_filter=location_filter, basedemo_filter=basedemo_filter, \n",
    "                                        targetdemo_filter=targetdemo_filter,program_filter=program_filter, \n",
    "                                        break_filter=break_filter, ad_filter=ad_filter, \n",
    "                                        slices=slices, statistics=statistics, sortings=sortings, options=options)\n",
    "\n",
    "    # Для каждого этапа цикла формируем словарь с параметрами и отправленным заданием на расчет\n",
    "    tsk = {}\n",
    "    tsk['project_name'] = project_name    \n",
    "    tsk['task'] = mtask.send_simple_task(task_json)\n",
    "    tasks.append(tsk)\n",
    "    time.sleep(2)\n",
    "    print('.', end = '')\n",
    "    \n",
    "print(f\"\\nid: {[i['task']['taskId'] for i in tasks]}\") \n",
    "\n",
    "print('')\n",
    "# Ждем выполнения\n",
    "print('Ждем выполнения')\n",
    "tsks = mtask.wait_task(tasks)\n",
    "print('Расчет завершен, получаем результат')\n",
    "\n",
    "# Получаем результат\n",
    "results = []\n",
    "print('Собираем таблицу')\n",
    "for t in tasks:\n",
    "    tsk = t['task'] \n",
    "    df_result = mtask.result2table(mtask.get_result(tsk), project_name = t['project_name'])        \n",
    "    results.append(df_result)\n",
    "    print('.', end = '')\n",
    "df = pd.concat(results)\n",
    "\n",
    "# Приводим порядок столбцов в соответствие с условиями расчета\n",
    "df = df[['prj_name']+slices+statistics]\n",
    "\n",
    "df"
   ]
  },
  {
   "cell_type": "markdown",
   "metadata": {},
   "source": [
    "## Сохраняем в Excel\n",
    "По умолчанию файл сохраняется в папку `excel`"
   ]
  },
  {
   "cell_type": "code",
   "execution_count": null,
   "metadata": {},
   "outputs": [],
   "source": [
    "df_info = mtask.task_builder.get_report_info()\n",
    "\n",
    "with pd.ExcelWriter(mtask.task_builder.get_excel_filename('03_several_ta')) as writer:\n",
    "    df.to_excel(writer, 'Report', index=True)\n",
    "    df_info.to_excel(writer, 'Info', index=False)"
   ]
  }
 ],
 "metadata": {
  "kernelspec": {
   "display_name": "Python 3",
   "language": "python",
   "name": "python3"
  },
  "language_info": {
   "codemirror_mode": {
    "name": "ipython",
    "version": 3
   },
   "file_extension": ".py",
   "mimetype": "text/x-python",
   "name": "python",
   "nbconvert_exporter": "python",
   "pygments_lexer": "ipython3",
   "version": "3.8.8"
  }
 },
 "nbformat": 4,
 "nbformat_minor": 4
}
