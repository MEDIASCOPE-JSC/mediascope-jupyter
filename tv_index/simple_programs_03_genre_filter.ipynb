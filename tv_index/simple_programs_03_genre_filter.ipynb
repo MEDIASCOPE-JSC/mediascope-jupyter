{
 "cells": [
  {
   "cell_type": "markdown",
   "metadata": {},
   "source": [
    "# Программы с фильтром по жанру и времени выхода\n",
    "Пример выгрузки выходов программ определенного жанра (телесериал) с ограничением по ЦА и и времени начала\n",
    "\n",
    "## Описание задачи и условий расчета\n",
    "- Период: 19.09.2022 - 02.10.2022\n",
    "- ЦА: Все 18+, города 100+\n",
    "- Место просмотра: Все места (Дом+Дача)\n",
    "- Каналы: ПЕРВЫЙ КАНАЛ, РОССИЯ 1, ТВ ЦЕНТР, НТВ, СТС, ТНТ, ТВ-3, РЕН ТВ, ПЯТЫЙ КАНАЛ\n",
    "- Программы: жанр - телесериал, Время начала – 18:50-23:00\n",
    "- Статистики: Rtg%, Share"
   ]
  },
  {
   "cell_type": "markdown",
   "metadata": {},
   "source": [
    "## Инициализация\n",
    "\n",
    "При построении отчета первый шаг в любом ноутбуке - загрузка библиотек, которые помогут обращаться к TVI API и работать с данными.\n",
    "\n",
    "Выполните следующую ячейку, для этого перейдите в нее и нажмите Ctrl+Enter"
   ]
  },
  {
   "cell_type": "code",
   "execution_count": null,
   "metadata": {},
   "outputs": [],
   "source": [
    "%reload_ext autoreload\n",
    "%autoreload 2\n",
    "\n",
    "import sys\n",
    "import os\n",
    "import re\n",
    "import json\n",
    "import datetime\n",
    "import time\n",
    "import pandas as pd\n",
    "#import matplotlib.pyplot as plt\n",
    "from IPython.display import JSON\n",
    "\n",
    "from mediascope_api.core import net as mscore\n",
    "from mediascope_api.mediavortex import tasks as cwt\n",
    "from mediascope_api.mediavortex import catalogs as cwc\n",
    "\n",
    "# Настраиваем отображение\n",
    "\n",
    "# Включаем отображение всех колонок\n",
    "pd.set_option('display.max_columns', None)\n",
    "# Задаем максимальное количество выводимых строк. Раскомментируйте нужную строку\n",
    "# 200 строк\n",
    "# pd.set_option(\"display.max_rows\", 200)\n",
    "# Отображаем все строки. ВАЖНО! Отображение большого DataFrame требует много ресурсов\n",
    "# pd.set_option(\"display.max_rows\", None)\n",
    "\n",
    "# Cоздаем объекты для работы с TVI API\n",
    "mnet = mscore.MediascopeApiNetwork()\n",
    "mtask = cwt.MediaVortexTask()\n",
    "cats = cwc.MediaVortexCats()"
   ]
  },
  {
   "cell_type": "markdown",
   "metadata": {
    "tags": []
   },
   "source": [
    "## Справочники\n",
    "Получим идентификаторы, которые будут использоваться для формирования условий расчета"
   ]
  },
  {
   "cell_type": "code",
   "execution_count": null,
   "metadata": {},
   "outputs": [],
   "source": [
    "#Обратимся к каталогу жанров программ\n",
    "cats.get_tv_program_type()\n",
    "\n",
    "#id жанра Телесериал - 1"
   ]
  },
  {
   "cell_type": "code",
   "execution_count": null,
   "metadata": {},
   "outputs": [],
   "source": [
    "# Отберем нужные нам каналы в справочнике телекомпаний и выведем их id\n",
    "cats.get_tv_company(name=[\n",
    "    \"ПЕРВЫЙ КАНАЛ (СЕТЕВОЕ ВЕЩАНИЕ)\",\n",
    "    \"РОССИЯ 1 (СЕТЕВОЕ ВЕЩАНИЕ)\",\n",
    "    \"ТВ ЦЕНТР (СЕТЕВОЕ ВЕЩАНИЕ)\",\n",
    "    \"НТВ (СЕТЕВОЕ ВЕЩАНИЕ)\",\n",
    "    \"СТС (СЕТЕВОЕ ВЕЩАНИЕ)\",\n",
    "    \"ТНТ (СЕТЕВОЕ ВЕЩАНИЕ)\",\n",
    "    \"ТВ-3 (СЕТЕВОЕ ВЕЩАНИЕ)\",\n",
    "    \"РЕН ТВ (СЕТЕВОЕ ВЕЩАНИЕ)\",\n",
    "    \"ПЯТЫЙ КАНАЛ (СЕТЕВОЕ ВЕЩАНИЕ)\"])['id'].tolist()"
   ]
  },
  {
   "cell_type": "code",
   "execution_count": null,
   "metadata": {},
   "outputs": [],
   "source": [
    "# В словаре демографических атрибутов найдем переменную Население 100+\n",
    "cats.find_tv_property('100+')\n",
    "\n",
    "# В условиях расчета будем использовать entityName переменной: cube100Plus100Minus"
   ]
  },
  {
   "cell_type": "markdown",
   "metadata": {},
   "source": [
    "## Формирование задания\n",
    "Зададим условия расчета"
   ]
  },
  {
   "cell_type": "code",
   "execution_count": null,
   "metadata": {},
   "outputs": [],
   "source": [
    "# Задаем период\n",
    "# Период указывается в виде списка ('Начало', 'Конец') в формате 'YYYY-MM-DD'. Можно указать несколько периодов\n",
    "date_filter = [('2022-09-19', '2022-10-02')]\n",
    "\n",
    "# Задаем дни недели\n",
    "weekday_filter = None\n",
    "\n",
    "# Задаем тип дня\n",
    "daytype_filter = None\n",
    "\n",
    "# Задаем ЦА - все 18+, города 100+\n",
    "basedemo_filter = 'age >= 18 and cube100Plus100Minus = 1'\n",
    "\n",
    "# Доп фильтр ЦА, нужен только в случае расчета отношения между ЦА, например, при расчете Affinity Index\n",
    "targetdemo_filter = None\n",
    "\n",
    "# Задаем место просмотра\n",
    "location_filter=None\n",
    "\n",
    "# Задаем каналы\n",
    "company_filter = 'tvCompanyId IN (1859, 1862, 1867, 1870, 1858, 1861, 1872, 1877, 1873)'\n",
    "\n",
    "# Указываем фильтр программ: жанр - Телесериал, время начала с 18:50 до 23:00  \n",
    "program_filter = 'programTypeId = 1 and programStartTime >= 185000 and programStartTime <= 230000'\n",
    "\n",
    "# Фильтр блоков\n",
    "break_filter = None\n",
    "\n",
    "# Фильтр роликов\n",
    "ad_filter = None\n",
    "\n",
    "# Указываем список срезов\n",
    "slices = ['programSpotId', #Программа ID выхода, обязательный атрибут! \n",
    "          'researchDate', #Дата, обязательный атрибут! \n",
    "          'programName', #Программа\n",
    "          'tvCompanyName', #Телекомпания\n",
    "          'researchWeekDay', #День недели\n",
    "          'programStartTime', #Программа время начала\n",
    "          'programFinishTime', #Программа время окончания\n",
    "         ]\n",
    "# Указываем список статистик для расчета\n",
    "statistics = ['RtgPer', 'Share']\n",
    "\n",
    "# Задаем условия сортировки: телекомпания (от а до я), дата (от старых к новым), время начала (по возр.)\n",
    "sortings = {'tvCompanyName':'ASC', 'researchDate':'ASC', 'programStartTime':'ASC'}\n",
    "\n",
    "# Задаем опции расчета\n",
    "options = {\n",
    "    \"kitId\": 1 #TV Index Russia all\n",
    "}"
   ]
  },
  {
   "cell_type": "markdown",
   "metadata": {},
   "source": [
    "## Расчет задания"
   ]
  },
  {
   "cell_type": "code",
   "execution_count": null,
   "metadata": {},
   "outputs": [],
   "source": [
    "# Формируем задание для API TV Index в формате JSON\n",
    "task_json = mtask.build_simple_task(date_filter=date_filter, weekday_filter=weekday_filter, \n",
    "                                        daytype_filter=daytype_filter, company_filter=company_filter, \n",
    "                                        location_filter=location_filter, basedemo_filter=basedemo_filter, \n",
    "                                        targetdemo_filter=targetdemo_filter,program_filter=program_filter, \n",
    "                                        break_filter=break_filter, ad_filter=ad_filter, \n",
    "                                        slices=slices, statistics=statistics, sortings=sortings, options=options)\n",
    "\n",
    "# Отправляем задание на расчет и ждем выполнения\n",
    "task = mtask.wait_task(mtask.send_simple_task(task_json))\n",
    "\n",
    "# Получаем результат\n",
    "df = mtask.result2table(mtask.get_result(task))"
   ]
  },
  {
   "cell_type": "code",
   "execution_count": null,
   "metadata": {},
   "outputs": [],
   "source": [
    "# Приводим порядок столбцов в соответствие с условиями расчета\n",
    "df = df[slices+statistics]\n",
    "df"
   ]
  },
  {
   "cell_type": "markdown",
   "metadata": {},
   "source": [
    "## Сохраняем в Excel\n",
    "По умолчанию файл сохраняется в папку `excel`"
   ]
  },
  {
   "cell_type": "code",
   "execution_count": null,
   "metadata": {},
   "outputs": [],
   "source": [
    "df_info = mtask.task_builder.get_report_info()\n",
    "\n",
    "with pd.ExcelWriter(mtask.task_builder.get_excel_filename('03_genre_filter')) as writer:\n",
    "    df.to_excel(writer, 'Report', index=True)\n",
    "    df_info.to_excel(writer, 'Info', index=False)"
   ]
  }
 ],
 "metadata": {
  "kernelspec": {
   "display_name": "Python 3",
   "language": "python",
   "name": "python3"
  },
  "language_info": {
   "codemirror_mode": {
    "name": "ipython",
    "version": 3
   },
   "file_extension": ".py",
   "mimetype": "text/x-python",
   "name": "python",
   "nbconvert_exporter": "python",
   "pygments_lexer": "ipython3",
   "version": "3.8.8"
  }
 },
 "nbformat": 4,
 "nbformat_minor": 4
}
