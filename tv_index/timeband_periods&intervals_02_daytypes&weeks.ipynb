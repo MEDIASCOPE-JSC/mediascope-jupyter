{
 "cells": [
  {
   "cell_type": "markdown",
   "metadata": {},
   "source": [
    "# Разбивка на типы дней и недели\n",
    "Пример расчета показателей телеканалов в разбивке по типам дней и периодам.\n",
    "\n",
    "## Описание задачи и условий расчета\n",
    "- Период: 01.06.2022 - 31.08.2022, отдельно рабочие и не рабочие дни с разбивкой по неделям\n",
    "- Временной интервал: 05:00-29:00\n",
    "- ЦА: Все 18+\n",
    "- Место просмотра: Все места (дом+дача)\n",
    "- Каналы: НТВ, СТС, ТНТ, РЕН ТВ\t\t\t\t\t\t\t\t\t\n",
    "- Статистики: Share"
   ]
  },
  {
   "cell_type": "markdown",
   "metadata": {},
   "source": [
    "## Инициализация\n",
    "\n",
    "При построении отчета первый шаг в любом ноутбуке - загрузка библиотек, которые помогут обращаться к TVI API и работать с данными.\n",
    "\n",
    "Выполните следующую ячейку, для этого перейдите в нее и нажмите Ctrl+Enter"
   ]
  },
  {
   "cell_type": "code",
   "execution_count": null,
   "metadata": {},
   "outputs": [],
   "source": [
    "%reload_ext autoreload\n",
    "%autoreload 2\n",
    "\n",
    "import sys\n",
    "import os\n",
    "import re\n",
    "import json\n",
    "import datetime\n",
    "import time\n",
    "import pandas as pd\n",
    "from IPython.display import JSON\n",
    "\n",
    "from mediascope_api.core import net as mscore\n",
    "from mediascope_api.mediavortex import tasks as cwt\n",
    "from mediascope_api.mediavortex import catalogs as cwc\n",
    "\n",
    "# Настраиваем отображение\n",
    "\n",
    "# Включаем отображение всех колонок\n",
    "pd.set_option('display.max_columns', None)\n",
    "# Задаем максимальное количество выводимых строк. Раскомментируйте нужную строку\n",
    "# 200 строк\n",
    "# pd.set_option(\"display.max_rows\", 200)\n",
    "# Отображаем все строки. ВАЖНО! Отображение большого DataFrame требует много ресурсов\n",
    "# pd.set_option(\"display.max_rows\", None)\n",
    "\n",
    "# Cоздаем объекты для работы с TVI API\n",
    "mnet = mscore.MediascopeApiNetwork()\n",
    "mtask = cwt.MediaVortexTask()\n",
    "cats = cwc.MediaVortexCats()"
   ]
  },
  {
   "cell_type": "markdown",
   "metadata": {},
   "source": [
    "## Справочники\n",
    "\n",
    "Получим идентификаторы, которые будут использоваться для формирования условий расчета"
   ]
  },
  {
   "cell_type": "code",
   "execution_count": null,
   "metadata": {
    "scrolled": true
   },
   "outputs": [],
   "source": [
    "# В справочнике телесетей получим id нужных нам каналов\n",
    "cats.get_tv_net(name=[\"НТВ\", \"СТС\", \"ТНТ\", \"РЕН ТВ\"])\n",
    "\n",
    "# Это id 4, 11, 60, 83"
   ]
  },
  {
   "cell_type": "code",
   "execution_count": null,
   "metadata": {},
   "outputs": [],
   "source": [
    "# В справочнике демографических атрибутов найдем необходимые нам переменные\n",
    "cats.get_tv_demo_attribute(names=['возраст'])\n",
    "\n",
    "# Для формирования условий запроса нам понадобятся значения столбца entityName: age"
   ]
  },
  {
   "cell_type": "code",
   "execution_count": null,
   "metadata": {},
   "outputs": [],
   "source": [
    "# В справочнике типов дней недели найдем id нужных нам типов\n",
    "cats.get_tv_research_day_type()\n",
    "\n",
    "# Рабочие дни: W, нерабочие дни: E,H"
   ]
  },
  {
   "cell_type": "markdown",
   "metadata": {},
   "source": [
    "## Формирование задания\n",
    "Зададим условия расчета"
   ]
  },
  {
   "cell_type": "code",
   "execution_count": null,
   "metadata": {},
   "outputs": [],
   "source": [
    "# Период указывается в виде списка ('Начало', 'Конец') в формате 'YYYY-MM-DD'. \n",
    "date_filter = [('2022-06-01', '2022-08-31')]\n",
    "\n",
    "# Задаем дни недели\n",
    "weekday_filter = None\n",
    "\n",
    "# Задаем тип дня\n",
    "daytype_filter = None\n",
    "\n",
    "# Задаем временной интервал\n",
    "time_filter = None\n",
    "\n",
    "# Задаем ЦА: Все 18+\n",
    "basedemo_filter = 'age >= 18'\n",
    "\n",
    "# Доп фильтр ЦА, нужен только в случае расчета отношения между ЦА, например, при расчете Affinity Index\n",
    "targetdemo_filter = None\n",
    "\n",
    "# Задаем место просмотра\n",
    "location_filter = None\n",
    "\n",
    "# Задаем каналы: НТВ, СТС, ТНТ, РЕН ТВ\n",
    "company_filter = 'tvNetId IN (4, 11, 83, 60)'\n",
    "\n",
    "# Указываем список статистик для расчета\n",
    "statistics = ['Share']\n",
    "\n",
    "# Указываем срезы: телесеть, неделя\n",
    "slices = ['researchWeek','tvNetName']\n",
    "\n",
    "# Задаем условия сортировки: неделя (по возр.), телесеть (от а до я)\n",
    "sortings = {\"researchWeek\":\"ASC\", \"tvNetName\":\"ASC\"}\n",
    "\n",
    "# Задаем опции расчета\n",
    "options = {\n",
    "    \"kitId\": 1, #TV Index Russia all \n",
    "    \"totalType\": \"TotalChannels\" #база расчета Share: Total Channels. Возможны опции: TotalTVSet, TotalChannelsThem\n",
    "}"
   ]
  },
  {
   "cell_type": "markdown",
   "metadata": {},
   "source": [
    "Сформируем словарь типов дней недели"
   ]
  },
  {
   "cell_type": "code",
   "execution_count": null,
   "metadata": {},
   "outputs": [],
   "source": [
    "day_types = {\n",
    "    'Рабочие дни':'researchDayType = W',\n",
    "    'Нерабочие дни':'researchDayType IN (E, H)',\n",
    "}"
   ]
  },
  {
   "cell_type": "markdown",
   "metadata": {},
   "source": [
    "## Расчет задания"
   ]
  },
  {
   "cell_type": "code",
   "execution_count": null,
   "metadata": {
    "scrolled": true
   },
   "outputs": [],
   "source": [
    "# Посчитаем задания в цикле\n",
    "tasks = []\n",
    "print(\"Отправляем задания на расчет\")\n",
    "\n",
    "# Для каждого типа формируем задание и отправляем на расчет\n",
    "for name, expression in day_types.items():\n",
    "    \n",
    "    # Подставляем значения словаря в параметры\n",
    "    project_name = name\n",
    "    daytype_filter = expression\n",
    "      \n",
    "    # Формируем задание для API TV Index в формате JSON\n",
    "    task_json = mtask.build_timeband_task(task_name=project_name, date_filter=date_filter, \n",
    "                                          weekday_filter=weekday_filter, daytype_filter=daytype_filter, \n",
    "                                          company_filter=company_filter, time_filter=time_filter, \n",
    "                                          basedemo_filter=basedemo_filter, targetdemo_filter=targetdemo_filter,\n",
    "                                          location_filter=location_filter, slices=slices, \n",
    "                                          statistics=statistics, sortings=sortings, options=options)\n",
    "\n",
    "    # Для каждого этапа цикла формируем словарь с параметрами и отправленным заданием на расчет\n",
    "    tsk = {}\n",
    "    tsk['project_name'] = project_name    \n",
    "    tsk['task'] = mtask.send_timeband_task(task_json)\n",
    "    tasks.append(tsk)\n",
    "    time.sleep(2)\n",
    "    print('.', end = '')\n",
    "    \n",
    "print(f\"\\nid: {[i['task']['taskId'] for i in tasks]}\") \n",
    "\n",
    "print('')\n",
    "# Ждем выполнения\n",
    "print('Ждем выполнения')\n",
    "tsks = mtask.wait_task(tasks)\n",
    "print('Расчет завершен, получаем результат')\n",
    "\n",
    "# Получаем результат\n",
    "results = []\n",
    "print('Собираем таблицу')\n",
    "for t in tasks:\n",
    "    tsk = t['task'] \n",
    "    df_result = mtask.result2table(mtask.get_result(tsk), project_name = t['project_name'])        \n",
    "    results.append(df_result)\n",
    "    print('.', end = '')\n",
    "df = pd.concat(results)\n",
    "\n",
    "# Приводим порядок столбцов в соответствие с условиями расчета\n",
    "df = df[['prj_name']+slices+statistics]\n",
    "\n",
    "df"
   ]
  },
  {
   "cell_type": "markdown",
   "metadata": {},
   "source": [
    "## Настройка внешнего вида таблицы\n",
    "Пропустите этот шаг, если хотите экспортировать таблицу в ее текущем виде"
   ]
  },
  {
   "cell_type": "code",
   "execution_count": null,
   "metadata": {},
   "outputs": [],
   "source": [
    "# Формируем сводную таблицу: строки - типы дней, недели, столбцы - каналы, значения - статистики\n",
    "df = pd.pivot_table(df, values=statistics,\n",
    "                        index=['prj_name','researchWeek'], \n",
    "                        columns=['tvNetName'])\n",
    "df"
   ]
  },
  {
   "cell_type": "code",
   "execution_count": null,
   "metadata": {},
   "outputs": [],
   "source": [
    "# Поменять местами уровни в столбцах (раскомментируйте при необходимости)\n",
    "#df = df.swaplevel(0,1, axis=1).sort_index(axis=1)\n",
    "\n",
    "#df"
   ]
  },
  {
   "cell_type": "markdown",
   "metadata": {},
   "source": [
    "## Экспорт в Excel\n",
    "По умолчанию файл сохраняется в папку `excel`"
   ]
  },
  {
   "cell_type": "code",
   "execution_count": null,
   "metadata": {},
   "outputs": [],
   "source": [
    "df_info = mtask.task_builder.get_report_info()\n",
    "\n",
    "with pd.ExcelWriter(mtask.task_builder.get_excel_filename('02_daytypes&weeks')) as writer:\n",
    "    df.to_excel(writer, 'Report', index=True)\n",
    "    df_info.to_excel(writer, 'Info', index=False)"
   ]
  }
 ],
 "metadata": {
  "kernelspec": {
   "display_name": "Python 3",
   "language": "python",
   "name": "python3"
  },
  "language_info": {
   "codemirror_mode": {
    "name": "ipython",
    "version": 3
   },
   "file_extension": ".py",
   "mimetype": "text/x-python",
   "name": "python",
   "nbconvert_exporter": "python",
   "pygments_lexer": "ipython3",
   "version": "3.8.8"
  }
 },
 "nbformat": 4,
 "nbformat_minor": 4
}
