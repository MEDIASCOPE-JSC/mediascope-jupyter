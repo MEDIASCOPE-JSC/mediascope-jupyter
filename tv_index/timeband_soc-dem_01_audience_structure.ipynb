{
 "cells": [
  {
   "cell_type": "markdown",
   "metadata": {},
   "source": [
    "# Cтруктура аудитории и доля\n",
    "Пример расчета соц-дем структуры аудитории телеканалов.\n",
    "\n",
    "## Описание задачи и условий расчета\n",
    "- Период: 01.08.2022 - 31.08.2022\n",
    "- Временной интервал: 05:00-29:00\n",
    "- ЦА: Все 4+ в разибвке по полу, образованию, занятости, возрастным группам и роду занятий\n",
    "- Место просмотра: Все места (дом+дача)\n",
    "- Каналы: ПЕРВЫЙ КАНАЛ, РОССИЯ 1, НТВ\t\t\t\t\t\t\t\t\t\n",
    "- Статистики: Share, Rtg000, Rtg%"
   ]
  },
  {
   "cell_type": "markdown",
   "metadata": {},
   "source": [
    "## Инициализация\n",
    "\n",
    "При построении отчета первый шаг в любом ноутбуке - загрузка библиотек, которые помогут обращаться к TVI API и работать с данными.\n",
    "\n",
    "Выполните следующую ячейку, для этого перейдите в нее и нажмите Ctrl+Enter"
   ]
  },
  {
   "cell_type": "code",
   "execution_count": null,
   "metadata": {},
   "outputs": [],
   "source": [
    "%reload_ext autoreload\n",
    "%autoreload 2\n",
    "\n",
    "import sys\n",
    "import os\n",
    "import re\n",
    "import json\n",
    "import datetime\n",
    "import time\n",
    "import pandas as pd\n",
    "from IPython.display import JSON\n",
    "\n",
    "from mediascope_api.core import net as mscore\n",
    "from mediascope_api.mediavortex import tasks as cwt\n",
    "from mediascope_api.mediavortex import catalogs as cwc\n",
    "\n",
    "# Настраиваем отображение\n",
    "\n",
    "# Включаем отображение всех колонок\n",
    "pd.set_option('display.max_columns', None)\n",
    "# Задаем максимальное количество выводимых строк. Раскомментируйте нужную строку\n",
    "# 200 строк\n",
    "# pd.set_option(\"display.max_rows\", 200)\n",
    "# Отображаем все строки. ВАЖНО! Отображение большого DataFrame требует много ресурсов\n",
    "# pd.set_option(\"display.max_rows\", None)\n",
    "\n",
    "# Cоздаем объекты для работы с TVI API\n",
    "mnet = mscore.MediascopeApiNetwork()\n",
    "mtask = cwt.MediaVortexTask()\n",
    "cats = cwc.MediaVortexCats()"
   ]
  },
  {
   "cell_type": "markdown",
   "metadata": {},
   "source": [
    "## Справочники"
   ]
  },
  {
   "cell_type": "code",
   "execution_count": null,
   "metadata": {},
   "outputs": [],
   "source": [
    "# выберем телесети по имени (части имени)\n",
    "cats.get_tv_net(name=[\"ПЕРВЫЙ КАНАЛ\", \"РОССИЯ 1\", \"НТВ\"])\n",
    "\n",
    "# далее в запросах будем использовать id телесетей."
   ]
  },
  {
   "cell_type": "code",
   "execution_count": null,
   "metadata": {},
   "outputs": [],
   "source": [
    "# Найдем названия нужных нам демографических переменных\n",
    "cats.get_tv_demo_attribute(names=['пол','образование','занятость','возрастная группа (wgh)','род занятий'])"
   ]
  },
  {
   "cell_type": "markdown",
   "metadata": {},
   "source": [
    "## Формирование задания\n",
    "Зададим условия расчета"
   ]
  },
  {
   "cell_type": "code",
   "execution_count": null,
   "metadata": {},
   "outputs": [],
   "source": [
    "# Период указывается в виде списка ('Начало', 'Конец'). \n",
    "date_filter = [('2022-08-01', '2022-08-31')]\n",
    "\n",
    "# Задаем дни недели\n",
    "weekday_filter = None\n",
    "\n",
    "# Задаем тип дня\n",
    "daytype_filter = None\n",
    "\n",
    "# Задаем временной интервал\n",
    "time_filter = None\n",
    "\n",
    "# Задаем ЦА\n",
    "basedemo_filter = None\n",
    "\n",
    "# Доп фильтр ЦА, нужен только в случае расчета отношения между ЦА, например, при расчете Affinity Index\n",
    "targetdemo_filter = None\n",
    "\n",
    "# Задаем место просмотра\n",
    "location_filter = None\n",
    "\n",
    "# Задаем каналы\n",
    "company_filter = 'tvNetId IN (1, 2, 4)'\n",
    "\n",
    "# Указываем список статистик для расчета\n",
    "statistics = ['Share', 'Rtg000', 'RtgPer']\n",
    "\n",
    "# Указываем срезы\n",
    "slices = ['tvNetName']\n",
    "\n",
    "# Задаем опции расчета\n",
    "options = {\n",
    "    \"kitId\": 1, #TV Index Russia all \n",
    "}"
   ]
  },
  {
   "cell_type": "markdown",
   "metadata": {},
   "source": [
    "Формируем различные срезы по демографии"
   ]
  },
  {
   "cell_type": "code",
   "execution_count": null,
   "metadata": {},
   "outputs": [],
   "source": [
    "# Создадим словарь с демо атрибутами, где ключ - name, а значение entityName атрибута  \n",
    "demos = {'Пол':'sex', \n",
    "             'Образование':'education', \n",
    "             'Занятость':'work', \n",
    "             'Возрастная группа':'wghSuburbAgeGroup', \n",
    "             'Род занятий':'status'}"
   ]
  },
  {
   "cell_type": "markdown",
   "metadata": {},
   "source": [
    "## Расчет задания"
   ]
  },
  {
   "cell_type": "code",
   "execution_count": null,
   "metadata": {},
   "outputs": [],
   "source": [
    "# Посчитаем задания в цикле\n",
    "results = []\n",
    "print(\"Отправляем задания на расчет\")\n",
    "\n",
    "# Каждый элемент списка подставляется в параметр slices\n",
    "for key, value in demos.items():\n",
    "    project_name = key\n",
    "    slices.append(value)\n",
    "\n",
    "    # Формируем задание для TV API в формате JSON\n",
    "    task_json = mtask.build_task('timeband', task_name=project_name, date_filter=date_filter, \n",
    "                                 weekday_filter=weekday_filter, daytype_filter=daytype_filter, \n",
    "                                 company_filter=company_filter, time_filter=time_filter, \n",
    "                                 basedemo_filter=basedemo_filter, targetdemo_filter=targetdemo_filter,\n",
    "                                 location_filter=location_filter, slices=slices, \n",
    "                                 statistics=statistics, options=options)\n",
    "\n",
    "    # Отправляем задание на расчет и ждем выполнения\n",
    "    task_timeband = mtask.wait_task(mtask.send_timeband_task(task_json))\n",
    "\n",
    "    # Получаем результат\n",
    "    df_timeband = mtask.result2table(mtask.get_result(task_timeband), project_name=project_name)\n",
    "    \n",
    "    # Меняем название колонки с демо атрибутом для последующего объединения таблиц\n",
    "    df_timeband.rename(columns={value: 'valueName'}, inplace=True)\n",
    "    \n",
    "    #Сохраняем таблицу\n",
    "    results.append(df_timeband)\n",
    "    \n",
    "    #Удаляем демо атрибут из разбивки\n",
    "    slices.remove(value)\n",
    "\n",
    "# Объединяем все полученные таблицы в одну\n",
    "df = pd.concat(results)\n",
    "df    "
   ]
  },
  {
   "cell_type": "markdown",
   "metadata": {},
   "source": [
    "Настраиваем внешний вид таблицы"
   ]
  },
  {
   "cell_type": "code",
   "execution_count": null,
   "metadata": {},
   "outputs": [],
   "source": [
    "# Переименовываем колонку с названием переменной\n",
    "df.rename(columns={'prj_name':'var_name'}, inplace=True)\n",
    "\n",
    "df_res = pd.pivot_table(df, values=['Share', 'Rtg000', 'RtgPer'],\n",
    "                        index=['var_name', 'valueName'], \n",
    "                        columns=['tvNetName'])\n",
    "df_res"
   ]
  },
  {
   "cell_type": "markdown",
   "metadata": {},
   "source": [
    "## Экспорт в Excel\n",
    "По умолчанию файл сохраняется в папку `excel`"
   ]
  },
  {
   "cell_type": "code",
   "execution_count": null,
   "metadata": {},
   "outputs": [],
   "source": [
    "df_info = mtask.task_builder.get_report_info()\n",
    "\n",
    "with pd.ExcelWriter(mtask.task_builder.get_excel_filename('01_audience_structure')) as writer:\n",
    "    df_res.to_excel(writer, 'Report', index=True)\n",
    "    df_info.to_excel(writer, 'Info', index=False)"
   ]
  }
 ],
 "metadata": {
  "kernelspec": {
   "display_name": "Python 3 (ipykernel)",
   "language": "python",
   "name": "python3"
  },
  "language_info": {
   "codemirror_mode": {
    "name": "ipython",
    "version": 3
   },
   "file_extension": ".py",
   "mimetype": "text/x-python",
   "name": "python",
   "nbconvert_exporter": "python",
   "pygments_lexer": "ipython3",
   "version": "3.9.13"
  }
 },
 "nbformat": 4,
 "nbformat_minor": 4
}
