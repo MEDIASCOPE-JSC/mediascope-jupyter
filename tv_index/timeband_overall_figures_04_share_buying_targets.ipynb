{
 "cells": [
  {
   "cell_type": "markdown",
   "metadata": {},
   "source": [
    "# Доля аудитории по баинговым группам в 100+\n",
    "Пример расчета Доли телеканалов по баинговым аудиториям.\n",
    "\n",
    "## Описание задачи и условий расчета\n",
    "- Период: 01.08.2022 - 31.08.2022\n",
    "- Временной интервал: 05:00-29:00\n",
    "- ЦА: Все 18+ 100K+, Все 14-44 100K+, Все 11-34 100K+, Все 14-59 100K+, Женщины 14-39 100K+, Женщины 25-59 100K+, Все 25-59 100K+, Мужчины  25-59 100K+, Все 10-45 100K+, Все 25+ 100K+, Все 25-49 100K+, Все 29+ 100K+, Все 4-45 100K+, Все 25-54 100K+, Мужчины  25+ 100K+, Все 25-55 100K+, Все 20-44 100K+, Мужчины  18-45 100K+, Женщины 20-45 100K+, Все 18-44 100K+, Мужчины  18+ 100K+, Женщины 14-44 100K+, Мужчины  14-59 100K+, Все 4-40 100K+, Мужчины  25-49 100K+, Женщины 25-49 100K+, Женщины 18-45 100K+, Все 18-59 100K+\n",
    "- Место просмотра: Все места (дом+дача)\n",
    "- Каналы: ПЕРВЫЙ КАНАЛ, РОССИЯ 1, НТВ, ПЯТЫЙ КАНАЛ, ТНТ 4\t\t\t\t\t\t\t\t\t\n",
    "- Статистики: Share"
   ]
  },
  {
   "cell_type": "markdown",
   "metadata": {},
   "source": [
    "## Инициализация\n",
    "\n",
    "При построении отчета первый шаг в любом ноутбуке - загрузка библиотек, которые помогут обращаться к TVI API и работать с данными.\n",
    "\n",
    "Выполните следующую ячейку, для этого перейдите в нее и нажмите Ctrl+Enter"
   ]
  },
  {
   "cell_type": "code",
   "execution_count": null,
   "metadata": {},
   "outputs": [],
   "source": [
    "%reload_ext autoreload\n",
    "%autoreload 2\n",
    "\n",
    "import sys\n",
    "import os\n",
    "import re\n",
    "import json\n",
    "import datetime\n",
    "import time\n",
    "import pandas as pd\n",
    "from IPython.display import JSON\n",
    "\n",
    "from mediascope_api.core import net as mscore\n",
    "from mediascope_api.mediavortex import tasks as cwt\n",
    "from mediascope_api.mediavortex import catalogs as cwc\n",
    "\n",
    "# Настраиваем отображение\n",
    "\n",
    "# Включаем отображение всех колонок\n",
    "pd.set_option('display.max_columns', None)\n",
    "# Задаем максимальное количество выводимых строк. Раскомментируйте нужную строку\n",
    "# 200 строк\n",
    "# pd.set_option(\"display.max_rows\", 200)\n",
    "# Отображаем все строки. ВАЖНО! Отображение большого DataFrame требует много ресурсов\n",
    "# pd.set_option(\"display.max_rows\", None)\n",
    "\n",
    "# Cоздаем объекты для работы с TVI API\n",
    "mnet = mscore.MediascopeApiNetwork()\n",
    "mtask = cwt.MediaVortexTask()\n",
    "cats = cwc.MediaVortexCats()"
   ]
  },
  {
   "cell_type": "markdown",
   "metadata": {},
   "source": [
    "## Справочники\n",
    "\n",
    "Получим идентификаторы, которые будут использоваться для формирования условий расчета"
   ]
  },
  {
   "cell_type": "code",
   "execution_count": null,
   "metadata": {},
   "outputs": [],
   "source": [
    "# В справочнике телесетей получим id нужных нам каналов\n",
    "cats.get_tv_net(name=[\"ПЕРВЫЙ КАНАЛ\", \"РОССИЯ 1\", \"НТВ\", \"ПЯТЫЙ КАНАЛ\", \"ТНТ 4\"])\n",
    "\n",
    "# Это id: 1, 2, 4, 259, 329"
   ]
  },
  {
   "cell_type": "code",
   "execution_count": null,
   "metadata": {},
   "outputs": [],
   "source": [
    "# В справочнике демографических атрибутов найдем необходимые нам переменные\n",
    "cats.get_tv_demo_attribute(names=['пол','возраст','100+'])\n",
    "\n",
    "# Для формирования условий запроса нам понадобятся значения столбца entityName: sex, age, cube100Plus100Minus"
   ]
  },
  {
   "cell_type": "markdown",
   "metadata": {},
   "source": [
    "## Формирование задания\n",
    "Зададим условия расчета"
   ]
  },
  {
   "cell_type": "code",
   "execution_count": null,
   "metadata": {},
   "outputs": [],
   "source": [
    "# Период указывается в виде списка ('Начало', 'Конец') в формате 'YYYY-MM-DD'. \n",
    "date_filter = [('2022-08-01', '2022-08-31')]\n",
    "\n",
    "# Задаем дни недели\n",
    "weekday_filter = None\n",
    "\n",
    "# Задаем тип дня\n",
    "daytype_filter = None\n",
    "\n",
    "# Задаем временной интервал\n",
    "time_filter = None\n",
    "\n",
    "# Задаем ЦА\n",
    "basedemo_filter = None\n",
    "\n",
    "# Доп фильтр ЦА, нужен только в случае расчета отношения между ЦА, например, при расчете Affinity Index\n",
    "targetdemo_filter = None\n",
    "\n",
    "# Задаем место просмотра\n",
    "location_filter = None\n",
    "\n",
    "# Задаем каналы: ПЕРВЫЙ КАНАЛ, РОССИЯ 1, НТВ, ПЯТЫЙ КАНАЛ, ТНТ 4\n",
    "company_filter = 'tvNetId IN (1, 2, 4, 259, 329)'\n",
    "\n",
    "# Указываем список статистик для расчета\n",
    "statistics = ['Share']\n",
    "\n",
    "# Указываем срезы: телесеть\n",
    "slices = ['tvNetName']\n",
    "\n",
    "# Задаем условия сортировки: телесеть (от а до я)\n",
    "sortings = {\"tvNetName\":\"ASC\"}\n",
    "\n",
    "# Задаем опции расчета\n",
    "options = {\n",
    "    \"kitId\": 1, #TV Index Russia all\n",
    "    \"totalType\": \"TotalChannels\" #база расчета Share: Total Channels. Возможны опции: TotalTVSet, TotalChannelsThem\n",
    "}"
   ]
  },
  {
   "cell_type": "markdown",
   "metadata": {},
   "source": [
    "Сформируем словарь с целевыми аудиториями"
   ]
  },
  {
   "cell_type": "code",
   "execution_count": null,
   "metadata": {},
   "outputs": [],
   "source": [
    "# Задаем необходимые группы\n",
    "targets = {\n",
    "    'a. Все 18+ 100K+':'age >= 18 AND cube100Plus100Minus = 1',\n",
    "    'b. Все 14-44 100K+':'age >= 14 AND age <= 44 AND cube100Plus100Minus = 1',\n",
    "    'c. Все 11-34 100K+':'age >= 11 AND age <= 34 AND cube100Plus100Minus = 1',\n",
    "    'd. Все 14-59 100K+':'age >= 14 AND age <= 59 AND cube100Plus100Minus = 1',\n",
    "    'e. Женщины  14-39 100K+':'age >= 14 AND age <= 39 AND sex = 2 AND cube100Plus100Minus = 1',\n",
    "    'f. Женщины  25-59 100K+':'age >= 25 AND age <= 59 AND sex = 2 AND cube100Plus100Minus = 1',\n",
    "    'g. Все 25-59 100K+':'age >= 25 AND age <= 59 AND cube100Plus100Minus = 1',\n",
    "    'h. Мужчины 25-59 100K+':'age >= 25 AND age <= 59 AND sex = 1 AND cube100Plus100Minus = 1',\n",
    "    'i. Все 10-45 100K+':'age >= 10 AND age <= 45 AND cube100Plus100Minus = 1',\n",
    "    'j. Все 25+ 100K+':'age >= 25 AND cube100Plus100Minus = 1',\n",
    "    'k. Все 25-49 100K+':'age >= 25 AND age <= 49 AND cube100Plus100Minus = 1',\n",
    "    'l. Все 29+ 100K+':'age >= 29 AND cube100Plus100Minus = 1',\n",
    "    'm. Все 4-45 100K+':'age >= 4 AND age <= 45 AND cube100Plus100Minus = 1',\n",
    "    'n. Все 25-54 100K+':'age >= 25 AND age <= 54 AND cube100Plus100Minus = 1',\n",
    "    'o. Мужчины 25+ 100K+':'age >= 25 AND sex = 1 AND cube100Plus100Minus = 1',\n",
    "    'p. Все 25-55 100K+':'age >= 25 AND age <= 55 AND cube100Plus100Minus = 1',\n",
    "    'q. Все 20-44 100K+':'age >= 20 AND age <= 44 AND cube100Plus100Minus = 1',\n",
    "    'r. Мужчины 18-45 100K+':'age >= 18 AND age <= 45 AND sex = 1 AND cube100Plus100Minus = 1',\n",
    "    's. Женщины  20-45 100K+':'age >= 20 AND age <= 45 AND sex = 2 AND cube100Plus100Minus = 1',\n",
    "    't. Все 18-44 100K+':'age >= 18 AND age <= 44 AND cube100Plus100Minus = 1',\n",
    "    'u. Мужчины 18+ 100K+':'age >= 18 AND sex = 1 AND cube100Plus100Minus = 1',\n",
    "    'v. Женщины  14-44 100K+':'age >= 14 AND age <= 44 AND sex = 2 AND cube100Plus100Minus = 1',\n",
    "    'w. Мужчины 14-59 100K+':'age >= 14 AND age <= 59 AND sex = 1 AND cube100Plus100Minus = 1',\n",
    "    'x. Все 4-40 100K+':'age >= 4 AND age <= 40 AND cube100Plus100Minus = 1',\n",
    "    'y. Мужчины 25-49 100K+':'age >= 25 AND age <= 49 AND sex = 1 AND cube100Plus100Minus = 1',\n",
    "    'z. Женщины  25-49 100K+':'age >= 25 AND age <= 49 AND sex = 2 AND cube100Plus100Minus = 1',\n",
    "    'z1. Женщины  18-45 100K+':'age >= 18 AND age <= 45 AND sex = 2 AND cube100Plus100Minus = 1',\n",
    "    'z2. Все 18-59 100K+':'age >= 18 AND age <= 59 AND cube100Plus100Minus = 1'\n",
    "}"
   ]
  },
  {
   "cell_type": "markdown",
   "metadata": {},
   "source": [
    "## Расчет задания"
   ]
  },
  {
   "cell_type": "code",
   "execution_count": null,
   "metadata": {
    "scrolled": true
   },
   "outputs": [],
   "source": [
    "# Посчитаем задания в цикле\n",
    "tasks = []\n",
    "print(\"Отправляем задания на расчет\")\n",
    "\n",
    "# Для каждой ЦА формируем задание и отправляем на расчет\n",
    "for target, syntax in targets.items():\n",
    "    \n",
    "    # Подставляем значения словаря в параметры\n",
    "    project_name = target \n",
    "    basedemo_filter = syntax\n",
    "      \n",
    "    # Формируем задание для API TV Index в формате JSON\n",
    "    task_json = mtask.build_timeband_task(task_name=project_name, date_filter=date_filter, \n",
    "                                          weekday_filter=weekday_filter, daytype_filter=daytype_filter, \n",
    "                                          company_filter=company_filter, time_filter=time_filter, \n",
    "                                          basedemo_filter=basedemo_filter, targetdemo_filter=targetdemo_filter,\n",
    "                                          location_filter=location_filter, slices=slices, \n",
    "                                          statistics=statistics, sortings=sortings, options=options)\n",
    "\n",
    "    # Для каждого этапа цикла формируем словарь с параметрами и отправленным заданием на расчет\n",
    "    tsk = {}\n",
    "    tsk['project_name'] = project_name    \n",
    "    tsk['task'] = mtask.send_timeband_task(task_json)\n",
    "    tasks.append(tsk)\n",
    "    time.sleep(2)\n",
    "    print('.', end = '')\n",
    "    \n",
    "print(f\"\\nid: {[i['task']['taskId'] for i in tasks]}\") \n",
    "\n",
    "print('')\n",
    "# Ждем выполнения\n",
    "print('Ждем выполнения')\n",
    "tsks = mtask.wait_task(tasks)\n",
    "print('Расчет завершен, получаем результат')\n",
    "\n",
    "# Получаем результат\n",
    "results = []\n",
    "print('Собираем таблицу')\n",
    "for t in tasks:\n",
    "    tsk = t['task'] \n",
    "    df_result = mtask.result2table(mtask.get_result(tsk), project_name = t['project_name'])        \n",
    "    results.append(df_result)\n",
    "    print('.', end = '')\n",
    "df = pd.concat(results)\n",
    "\n",
    "# Приводим порядок столбцов в соответствие с условиями расчета\n",
    "df = df[['prj_name']+slices+statistics]\n",
    "\n",
    "df"
   ]
  },
  {
   "cell_type": "markdown",
   "metadata": {},
   "source": [
    "## Настройка внешнего вида таблицы\n",
    "Пропустите этот шаг, если хотите экспортировать таблицу в ее текущем виде"
   ]
  },
  {
   "cell_type": "code",
   "execution_count": null,
   "metadata": {
    "scrolled": true
   },
   "outputs": [],
   "source": [
    "# Формируем сводную таблицу: строки - ЦА, столбцы - телесеть, значения - статистики\n",
    "df = pd.pivot_table(df, values=statistics,\n",
    "                        index=['prj_name'], \n",
    "                        columns=['tvNetName'])\n",
    "df"
   ]
  },
  {
   "cell_type": "code",
   "execution_count": null,
   "metadata": {},
   "outputs": [],
   "source": [
    "# Поменять местами уровни в столбцах (раскомментируйте при необходимости)\n",
    "#df = df.swaplevel(0,1, axis=1).sort_index(axis=1)\n",
    "\n",
    "#df"
   ]
  },
  {
   "cell_type": "markdown",
   "metadata": {},
   "source": [
    "## Экспорт в Excel\n",
    "По умолчанию файл сохраняется в папку `excel`"
   ]
  },
  {
   "cell_type": "code",
   "execution_count": null,
   "metadata": {},
   "outputs": [],
   "source": [
    "df_info = mtask.task_builder.get_report_info()\n",
    "\n",
    "with pd.ExcelWriter(mtask.task_builder.get_excel_filename('04_share_buying_targets')) as writer:\n",
    "    df.to_excel(writer, 'Report', index=True)\n",
    "    df_info.to_excel(writer, 'Info', index=False)"
   ]
  }
 ],
 "metadata": {
  "kernelspec": {
   "display_name": "Python 3",
   "language": "python",
   "name": "python3"
  },
  "language_info": {
   "codemirror_mode": {
    "name": "ipython",
    "version": 3
   },
   "file_extension": ".py",
   "mimetype": "text/x-python",
   "name": "python",
   "nbconvert_exporter": "python",
   "pygments_lexer": "ipython3",
   "version": "3.8.8"
  }
 },
 "nbformat": 4,
 "nbformat_minor": 4
}
