{
 "cells": [
  {
   "cell_type": "markdown",
   "metadata": {},
   "source": [
    "# Расчет данных по нескольким гео"
   ]
  },
  {
   "cell_type": "markdown",
   "metadata": {},
   "source": [
    "# Инициализация\n",
    "\n",
    "При построении отчета первый шаг в любом ноутбуке - загрузка библиотек, которые помогут обращаться к API Cross Web и работать с данными.\n",
    "\n",
    "Выполните следующую ячейку, для этого перейдите в нее и нажмите Ctrl+Enter"
   ]
  },
  {
   "cell_type": "code",
   "execution_count": null,
   "metadata": {},
   "outputs": [],
   "source": [
    "%reload_ext autoreload\n",
    "%autoreload 2\n",
    "\n",
    "import sys\n",
    "import os\n",
    "import re\n",
    "import json\n",
    "import datetime\n",
    "import time\n",
    "import pandas as pd\n",
    "#import matplotlib.pyplot as plt\n",
    "from IPython.display import JSON\n",
    "\n",
    "from mediascope_api.core import net as mscore\n",
    "from mediascope_api.crossweb import tasks as cwt\n",
    "\n",
    "# Настраиваем отображение\n",
    "\n",
    "# Включаем отображение всех колонок\n",
    "pd.set_option('display.max_columns', None)\n",
    "# Задаем максимальное количество выводимых строк. Раскомментируйте нужную строку\n",
    "# 200 строк\n",
    "# pd.set_option(\"display.max_rows\", 200)\n",
    "# Отображаем все строки. ВАЖНО! Отображение большого DataFrame требует много ресурсов\n",
    "# pd.set_option(\"display.max_rows\", None)\n",
    "\n",
    "# Создаем объекты для работы с API Cross Web\n",
    "mnet = mscore.MediascopeApiNetwork()\n",
    "mtask = cwt.CrossWebTask()"
   ]
  },
  {
   "cell_type": "markdown",
   "metadata": {},
   "source": [
    "# Общие параметры для заданий\n",
    "\n",
    "Для похожих отчетов часто используются одни и те же параметры, удобно их вынести в отдельные переменные и затем использовать в коде. Если вдруг понадобится какой-то параметр изменить, его нужно поменять только в одном месте."
   ]
  },
  {
   "cell_type": "code",
   "execution_count": null,
   "metadata": {},
   "outputs": [],
   "source": [
    "# Задаем период\n",
    "# Период указывается в виде списка ('Начало', 'Конец'). Можно указать несколько периодов\n",
    "date_filter = [('2021-09-01', '2021-09-30')]\n",
    "\n",
    "# Задаем фильтр по медиа, в нашем случае это ID ресурса Avito\n",
    "mart_filter = 'crossMediaResourceId = 1028'\n",
    "\n",
    "# Задаем типы пользования Интернетом\n",
    "ut = {'Desktop&Mobile':[1,2,3], 'Desktop':[1], 'Mobile':[2,3]}\n",
    "\n",
    "# Задаем необходимые гео\n",
    "geo = {'Большая Москва':'cityPop = 1', \n",
    "       'Санкт-Петербург':'cityPop = 2', \n",
    "       '700+ без Мск и Спб':'cityPop = 3', \n",
    "       '100-700':'cityPop IN (4,5)', \n",
    "       '100+':'cityPop100 = 1', \n",
    "       '0+':'cityPop100 IN (1,2)'}\n",
    "\n",
    "# Задаем фильтр по демографии, в нашем случае он не требуется\n",
    "demo_filter = None\n",
    "\n",
    "# Указываем список срезов, чтобы сформировать структуру расчета\n",
    "slices = [\"researchMonth\", \"crossMediaResourceId\"]\n",
    "\n",
    "# Указываем список статистик для расчета\n",
    "statistics = ['reach', 'reachPer', 'adr', 'adrPer', 'awr', 'awrPer']"
   ]
  },
  {
   "cell_type": "markdown",
   "metadata": {},
   "source": [
    "# Расчет для нескольких гео с разбивкой по Usetype"
   ]
  },
  {
   "cell_type": "code",
   "execution_count": null,
   "metadata": {
    "scrolled": true
   },
   "outputs": [],
   "source": [
    "%%time\n",
    "\n",
    "# Посчитаем данные в циклах\n",
    "tasks = []\n",
    "print('Отправка задач ')\n",
    "\n",
    "for utype, num in ut.items():\n",
    "    for geo_name, logical in geo.items():\n",
    "        usetype_filter = num\n",
    "        project_name = f\"{geo_name} & {utype}\" # Задаем для отображения в DataFrame\n",
    "        geo_filter = f\"{logical}\" # Задаем фильтр по географии\n",
    "\n",
    "        # Формируем задание для API Cross Web в формате JSON\n",
    "        task_json = mtask.build_task('media', project_name, date_filter, usetype_filter, geo_filter,\n",
    "                                     demo_filter, mart_filter, slices, statistics)\n",
    "\n",
    "        # Для каждого этапа цикла формируем словарь с параметрами и отправленным заданием на расчет\n",
    "        tsk = {}\n",
    "        tsk['project_name'] = project_name\n",
    "        tsk['usetype'] = f\"{utype}\"\n",
    "        tsk['geo'] = f\"{geo_name}\"\n",
    "        tsk['task'] = mtask.send_audience_task(task_json)\n",
    "        tasks.append(tsk)\n",
    "        time.sleep(2)\n",
    "        print('.', end = '')\n",
    "print('')\n",
    "        \n",
    "# Ждем выполнения\n",
    "tsks = mtask.wait_task(tasks)\n",
    "print('Расчет завершен, получаем результат')        \n",
    "        \n",
    "# Получаем результат\n",
    "results = []\n",
    "for t in tasks:\n",
    "    tsk = t['task']\n",
    "    df_result = mtask.result2table(mtask.get_result(tsk), project_name = t['project_name'])\n",
    "    df_result['geo'] = t['geo']\n",
    "    df_result['usetype'] = t['usetype']\n",
    "    results.append(df_result)\n",
    "df_result = pd.concat(results)\n",
    "df_result        "
   ]
  },
  {
   "cell_type": "markdown",
   "metadata": {},
   "source": [
    "## Сохраняем в Excel"
   ]
  },
  {
   "cell_type": "code",
   "execution_count": null,
   "metadata": {},
   "outputs": [],
   "source": [
    "writer = pd.ExcelWriter(mtask.get_excel_filename('several-geo'))\n",
    "df_result.to_excel(writer, 'Report', index=False)\n",
    "writer.save()"
   ]
  }
 ],
 "metadata": {
  "kernelspec": {
   "display_name": "Python 3",
   "language": "python",
   "name": "python3"
  },
  "language_info": {
   "codemirror_mode": {
    "name": "ipython",
    "version": 3
   },
   "file_extension": ".py",
   "mimetype": "text/x-python",
   "name": "python",
   "nbconvert_exporter": "python",
   "pygments_lexer": "ipython3",
   "version": "3.8.8"
  }
 },
 "nbformat": 4,
 "nbformat_minor": 4
}
