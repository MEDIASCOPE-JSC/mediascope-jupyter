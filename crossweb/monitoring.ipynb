{
 "cells": [
  {
   "cell_type": "markdown",
   "metadata": {},
   "source": [
    "# Monitoring\n",
    "Пример отчета по расчету статистик в рамках проекта \"Мониторинг рекламы в интернете\".\n",
    "\n",
    "## Описание задачи\n",
    "\n",
    "Посчитаем статистики по рекламе маркетплейсов с детализацией по рекламодателям и брендам.\n",
    "\n",
    "Общие параметры:\n",
    "- Период: 1 - 31 января 2023\n",
    "- География: Россия 0+\n",
    "- Население: 12+\n",
    "- Тип пользования интернетом: Web Desktop\n",
    "- Тип рекламы: Видео\n",
    "\n",
    "Статистики:\n",
    "- ots\n",
    "- sov\n",
    "- reach\n",
    "- reachPer (Reach %)\n",
    "- frequency\n",
    "- days (количество дней размещения)"
   ]
  },
  {
   "cell_type": "markdown",
   "metadata": {},
   "source": [
    "# Инициализация\n",
    "\n",
    "При построении отчета первый шаг в любом ноутбуке - загрузка библиотек, которые помогут обращаться к API и работать с данными.\n",
    "\n",
    "Выполните следующую ячейку, для этого перейдите в нее и нажмите Ctrl+Enter"
   ]
  },
  {
   "cell_type": "code",
   "execution_count": null,
   "metadata": {},
   "outputs": [],
   "source": [
    "%reload_ext autoreload\n",
    "%autoreload 2\n",
    "\n",
    "import sys\n",
    "import os\n",
    "import re\n",
    "import json\n",
    "import datetime\n",
    "import time\n",
    "import pandas as pd\n",
    "#import matplotlib.pyplot as plt\n",
    "from IPython.display import JSON\n",
    "\n",
    "from mediascope_api.core import net as mscore\n",
    "from mediascope_api.crossweb import tasks as cwt\n",
    "from mediascope_api.crossweb import catalogs as cwc\n",
    "\n",
    "# Настраиваем отображение\n",
    "\n",
    "# Включаем отображение всех колонок\n",
    "pd.set_option('display.max_columns', None)\n",
    "# Задаем максимальное количество выводимых строк. Раскомментируйте нужную строку\n",
    "# 200 строк\n",
    "# pd.set_option(\"display.max_rows\", 200)\n",
    "# Отображаем все строки. ВАЖНО! Отображение большого DataFrame требует много ресурсов\n",
    "# pd.set_option(\"display.max_rows\", None)\n",
    "\n",
    "# Cоздаем объекты для работы с API\n",
    "mnet = mscore.MediascopeApiNetwork()\n",
    "mtask = cwt.CrossWebTask()\n",
    "cats = cwc.CrossWebCats()"
   ]
  },
  {
   "cell_type": "markdown",
   "metadata": {},
   "source": [
    "## Задание"
   ]
  },
  {
   "cell_type": "markdown",
   "metadata": {},
   "source": [
    "### Получим ID категории товаров и услуг 4-ого уровня \"Маркетплейсы\"\n",
    "Для построения отчета необходимо получить идентификатор категории товаров и услуг 4-ого уровня \"Маркетплейсы\". \n",
    "\n",
    "Для этого воспользуемся методами поиска в справочнике атрибутов описания креатива. Работа со справочником описана в ноутбуке [catalogs_monitoring](catalogs_monitoring.ipynb). \n",
    "\n",
    "Получим идентификатор категории 4-ого уровня **Маркетплейсы**"
   ]
  },
  {
   "cell_type": "code",
   "execution_count": null,
   "metadata": {},
   "outputs": [],
   "source": [
    "cats.get_product_category_l4(product_category_l4=\"Маркетплейсы\")"
   ]
  },
  {
   "cell_type": "markdown",
   "metadata": {},
   "source": [
    "Таким образом, необходимый идентификатор следующий Id = 4977"
   ]
  },
  {
   "cell_type": "markdown",
   "metadata": {},
   "source": [
    "### Расчет статистик по рекламе на маркетплейсах с разбивкой по рекламодателям и брендам"
   ]
  },
  {
   "cell_type": "code",
   "execution_count": null,
   "metadata": {
    "scrolled": true
   },
   "outputs": [],
   "source": [
    "# Задаем название для отображения в DataFrame\n",
    "project_name = 'Marketplace'\n",
    "\n",
    "# Задаем период\n",
    "# Период указывается в виде списка ('Начало', 'Конец'). Можно указать несколько периодов\n",
    "date_filter = [('2023-01-01', '2023-01-31')]\n",
    "\n",
    "# Задаем фильтр по типам пользования интернетом, в нашем случае Web Desktop (1)\n",
    "usetype_filter = [1]\n",
    "\n",
    "# Задаем фильтр по географии, в нашем случае он не требуется\n",
    "geo_filter = None\n",
    "\n",
    "# Задаем фильтр по демографии, в нашем случае он не требуется\n",
    "demo_filter = None\n",
    "\n",
    "# Задаем фильтр по атрибутам размещения рекламы, в нашем случае он не требуется\n",
    "event_description_filter = None\n",
    "\n",
    "# Задаем фильтр по атрибутам описания креатива, в нашем случае это ID категории товаров и услуг 4-ого уровня \"Маркетплейсы\"\n",
    "ad_description_filter = 'productCategoryL4Id = 4977'\n",
    "\n",
    "# Задаем фильтр по медиа объекту, на котором размещалась рекламы, в нашем случае он не требуется\n",
    "mart_filter = None\n",
    "\n",
    "# Указываем список срезов, чтобы сформировать структуру расчета\n",
    "slices = [\"advertiserName\", \"productBrandName\"]\n",
    "\n",
    "# Указываем список статистик для расчета\n",
    "statistics = [\"ots\", \"sov\", \"reach\", \"reachPer\", \"frequency\", \"days\"]\n",
    "\n",
    "# Если выбрана статистика reachN, необходимо указать для нее шкалу \n",
    "# scales = {'reachN':[(2, 4), (5,10)]}\n",
    "\n",
    "# Формируем задание для API Cross Web в формате JSON\n",
    "task_json = mtask.build_task_monitoring('monitoring', project_name, date_filter=date_filter, \n",
    "                             usetype_filter=usetype_filter, geo_filter=geo_filter,\n",
    "                             demo_filter=demo_filter, mart_filter=mart_filter, \n",
    "                             ad_description_filter=ad_description_filter,\n",
    "                             event_description_filter=event_description_filter, \n",
    "                             slices=slices, statistics=statistics, scales=None)\n",
    "\n",
    "# Отправляем задание на расчет и ждем выполнения\n",
    "task = mtask.wait_task(mtask.send_task(task_json))\n",
    "\n",
    "# Получаем результат\n",
    "df_monitoring = mtask.result2table(mtask.get_result(task), project_name = project_name)\n",
    "df_monitoring"
   ]
  },
  {
   "cell_type": "markdown",
   "metadata": {},
   "source": [
    "## Сохраняем в Excel"
   ]
  },
  {
   "cell_type": "code",
   "execution_count": null,
   "metadata": {},
   "outputs": [],
   "source": [
    "writer = pd.ExcelWriter(mtask.get_excel_filename('monitoring'))\n",
    "df_info = mtask.get_report_info()\n",
    "df_monitoring.to_excel(writer, 'Report', index=False)\n",
    "df_info.to_excel(writer, 'Info', index=False)\n",
    "writer.save()"
   ]
  }
 ],
 "metadata": {
  "kernelspec": {
   "display_name": "Python 3 (ipykernel)",
   "language": "python",
   "name": "python3"
  },
  "language_info": {
   "codemirror_mode": {
    "name": "ipython",
    "version": 3
   },
   "file_extension": ".py",
   "mimetype": "text/x-python",
   "name": "python",
   "nbconvert_exporter": "python",
   "pygments_lexer": "ipython3",
   "version": "3.9.7"
  }
 },
 "nbformat": 4,
 "nbformat_minor": 4
}
