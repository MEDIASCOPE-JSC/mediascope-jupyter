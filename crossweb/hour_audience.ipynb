{
 "cells": [
  {
   "cell_type": "markdown",
   "metadata": {},
   "source": [
    "# Hour Audience\n",
    "Пример отчета по расчету аудитории интернет-ресурсов (Сross Web) с почасовой разбивкой."
   ]
  },
  {
   "cell_type": "markdown",
   "metadata": {},
   "source": [
    "# Инициализация\n",
    "\n",
    "При построении отчета первый шаг в любом ноутбуке - загрузка библиотек, которые помогут обращаться к API Cross Web и работать с данными.\n",
    "\n",
    "Выполните следующую ячейку, для этого перейдите в нее и нажмите Ctrl+Enter"
   ]
  },
  {
   "cell_type": "code",
   "execution_count": null,
   "metadata": {},
   "outputs": [],
   "source": [
    "%reload_ext autoreload\n",
    "%autoreload 2\n",
    "\n",
    "import sys\n",
    "import os\n",
    "import re\n",
    "import json\n",
    "import datetime\n",
    "import time\n",
    "import pandas as pd\n",
    "#import matplotlib.pyplot as plt\n",
    "from IPython.display import JSON\n",
    "\n",
    "from mediascope_api.core import net as mscore\n",
    "from mediascope_api.crossweb import tasks as cwt\n",
    "from mediascope_api.crossweb import catalogs as cwc\n",
    "\n",
    "# Настраиваем отображение\n",
    "\n",
    "# Включаем отображение всех колонок\n",
    "pd.set_option('display.max_columns', None)\n",
    "# Задаем максимальное количество выводимых строк. Раскомментируйте нужную строку\n",
    "# 200 строк\n",
    "# pd.set_option(\"display.max_rows\", 200)\n",
    "# Отображаем все строки. ВАЖНО! Отображение большого DataFrame требует много ресурсов\n",
    "# pd.set_option(\"display.max_rows\", None)\n",
    "\n",
    "# Cоздаем объекты для работы с API Cross Web\n",
    "mnet = mscore.MediascopeApiNetwork()\n",
    "mtask = cwt.CrossWebTask()\n",
    "cats = cwc.CrossWebCats()"
   ]
  },
  {
   "cell_type": "code",
   "execution_count": null,
   "metadata": {},
   "outputs": [],
   "source": [
    "# вывод возможных статистик для отчета\n",
    "# cats.get_hour_media_unit().get('statistics')"
   ]
  },
  {
   "cell_type": "code",
   "execution_count": null,
   "metadata": {},
   "outputs": [],
   "source": [
    "# вывод возможных срезов для отчета\n",
    "# cats.get_hour_media_unit().get('slices')"
   ]
  },
  {
   "cell_type": "code",
   "execution_count": null,
   "metadata": {},
   "outputs": [],
   "source": [
    "# вывод возможных фильтров для отчета\n",
    "# cats.get_hour_media_unit().get('filters')"
   ]
  },
  {
   "cell_type": "markdown",
   "metadata": {},
   "source": [
    "## Формируем задания\n",
    "\n",
    "Необходимо сформировать задание для API Cross Web:\n",
    "- задать общие параметры для будущего отчета\n",
    "- расчитать аудиторию интернет-ресурсов с почасовой разбивкой"
   ]
  },
  {
   "cell_type": "markdown",
   "metadata": {},
   "source": [
    "### Общие параметры для заданий\n",
    "\n",
    "Для начала зададим общие параметры"
   ]
  },
  {
   "cell_type": "code",
   "execution_count": null,
   "metadata": {},
   "outputs": [],
   "source": [
    "# Задаем период\n",
    "# Период указывается в виде списка ('Начало', 'Конец'). Можно указать несколько периодов\n",
    "date_filter = [('2025-02-01', '2025-02-28')]\n",
    "\n",
    "# Можно указать период отдельно по будням и выходным:\n",
    "# БУДНИ\n",
    "# date_filter = [('2025-01-01', '2025-01-03'), ('2025-01-06', '2025-01-10'), ('2025-01-13', '2025-01-17'), ('2025-01-20', '2025-01-24'), ('2025-01-27', '2025-01-31')]\n",
    "\n",
    "# ВЫХОДНЫЕ\n",
    "# date_filter = [('2025-01-04', '2025-01-05'), ('2025-01-11', '2025-01-12'), ('2025-01-18', '2025-01-19'), ('2025-01-25', '2025-01-26')]\n",
    "\n",
    "# Задаем фильтр по типам пользования интернетом\n",
    "usetype_filter = [1,2,3]"
   ]
  },
  {
   "cell_type": "markdown",
   "metadata": {},
   "source": [
    "## Задание\n",
    "\n",
    "Перейдем к формированию задания\n"
   ]
  },
  {
   "cell_type": "code",
   "execution_count": null,
   "metadata": {
    "scrolled": true
   },
   "outputs": [],
   "source": [
    "# Задаем название ресурса для отображения в DataFrame\n",
    "project_name = 'eventHour'\n",
    "\n",
    "# Задаем фильтр по географии\n",
    "geo_filter = None\n",
    "\n",
    "# Задаем фильтр по демографии\n",
    "demo_filter = None\n",
    "\n",
    "# Задаем фильтр по медиа\n",
    "mart_filter = 'crossMediaResourceId = 1150'\n",
    "\n",
    "# Задаем почасовой фильтр. Можно указать как группы часов (например, ночные или дневные часы), так и конкретный час:\n",
    "# hour_filter = 'eventHour > 5'\n",
    "# Ночные часы: \n",
    "#hour_filter = 'eventHour >= 1 AND eventHour <= 6'\n",
    "# Конкретный час: \n",
    "# hour_filter = 'eventHour = 13'\n",
    "# Если необходимо расчитать весь день:\n",
    "hour_filter = 'eventHour >= 1 AND eventHour <= 23'\n",
    "\n",
    "# Указываем список срезов, чтобы сформировать структуру расчета. Можно сделать разбивку по дням, месяцам, кварталам или годам, в зависимости от требований вашего отчета\n",
    "slices = [\"researchMonth\", \"eventHour\"]\n",
    "# slices = ['researchDate', 'researchMonth', 'researchQuarter', 'researchYear']\n",
    "\n",
    "# Указываем список статистик для расчета\n",
    "statistics = ['reach', 'reachPer'] \n",
    "\n",
    "# Формируем задание для API Cross Web в формате JSON\n",
    "task_json = mtask.build_task('hour-media', task_name=project_name, date_filter=date_filter,                                \n",
    "                             geo_filter=geo_filter, demo_filter=demo_filter, \n",
    "                             mart_filter=mart_filter, hour_filter=hour_filter,\n",
    "                             slices=slices, statistics=statistics)\n",
    "\n",
    "# Отправляем задание на расчет и ждем выполнения\n",
    "task_audience = mtask.wait_task(mtask.send_task(task_json))\n",
    "\n",
    "# Получаем результат\n",
    "df_result = mtask.result2table(mtask.get_result(task_audience), project_name = project_name)\n",
    "df_result"
   ]
  },
  {
   "cell_type": "markdown",
   "metadata": {},
   "source": [
    "## Сохраняем в Excel"
   ]
  },
  {
   "cell_type": "code",
   "execution_count": null,
   "metadata": {},
   "outputs": [],
   "source": [
    "writer = pd.ExcelWriter(mtask.get_excel_filename('время'))\n",
    "df_result.to_excel(writer, 'Report', index=False)\n",
    "writer.close()"
   ]
  }
 ],
 "metadata": {
  "kernelspec": {
   "display_name": "Python 3 (ipykernel)",
   "language": "python",
   "name": "python3"
  },
  "language_info": {
   "codemirror_mode": {
    "name": "ipython",
    "version": 3
   },
   "file_extension": ".py",
   "mimetype": "text/x-python",
   "name": "python",
   "nbconvert_exporter": "python",
   "pygments_lexer": "ipython3",
   "version": "3.9.7"
  }
 },
 "nbformat": 4,
 "nbformat_minor": 4
}
