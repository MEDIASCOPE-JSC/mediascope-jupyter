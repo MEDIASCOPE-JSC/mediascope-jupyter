{
 "cells": [
  {
   "cell_type": "markdown",
   "id": "4608ed6d",
   "metadata": {},
   "source": [
    "# Расчет данных по группам проектов"
   ]
  },
  {
   "cell_type": "markdown",
   "id": "f66180dd",
   "metadata": {},
   "source": [
    "# Инициализация\n",
    "\n",
    "При построении отчета первый шаг в любом ноутбуке - загрузка библиотек, которые помогут обращаться к API Cross Web и работать с данными.\n",
    "\n",
    "Выполните следующую ячейку, для этого перейдите в нее и нажмите Ctrl+Enter"
   ]
  },
  {
   "cell_type": "code",
   "execution_count": null,
   "id": "cc199f68",
   "metadata": {},
   "outputs": [],
   "source": [
    "%reload_ext autoreload\n",
    "%autoreload 2\n",
    "\n",
    "import sys\n",
    "import os\n",
    "import re\n",
    "import json\n",
    "import datetime\n",
    "import time\n",
    "import pandas as pd\n",
    "#import matplotlib.pyplot as plt\n",
    "from IPython.display import JSON\n",
    "\n",
    "from mediascope_api.core import net as mscore\n",
    "from mediascope_api.crossweb import tasks as cwt\n",
    "\n",
    "# Настраиваем отображение\n",
    "\n",
    "# Включаем отображение всех колонок\n",
    "pd.set_option('display.max_columns', None)\n",
    "# Задаем максимальное количество выводимых строк. Раскомментируйте нужную строку\n",
    "# 200 строк\n",
    "# pd.set_option(\"display.max_rows\", 200)\n",
    "# Отображаем все строки. ВАЖНО! Отображение большого DataFrame требует много ресурсов\n",
    "# pd.set_option(\"display.max_rows\", None)\n",
    "\n",
    "# Создаем объекты для работы с API Cross Web\n",
    "mnet = mscore.MediascopeApiNetwork()\n",
    "mtask = cwt.CrossWebTask()"
   ]
  },
  {
   "cell_type": "markdown",
   "id": "968ca60a",
   "metadata": {},
   "source": [
    "# Общие параметры для заданий\n",
    "\n",
    "Для похожих отчетов часто используются одни и те же параметры, удобно их вынести в отдельные переменные и затем использовать в коде. Если вдруг понадобится какой-то параметр изменить, его нужно поменять только в одном месте."
   ]
  },
  {
   "cell_type": "code",
   "execution_count": null,
   "id": "07be3fb3",
   "metadata": {},
   "outputs": [],
   "source": [
    "# Задаем период\n",
    "# Период указывается в виде списка ('Начало', 'Конец'). Можно указать несколько периодов\n",
    "date_filter = [('2021-09-01', '2021-09-30')]\n",
    "\n",
    "# Задаем фильтр по географии, в нашем случае он не требуется \n",
    "geo_filter = None\n",
    "\n",
    "# Задаем фильтр по демографии, в нашем случае он не требуется\n",
    "demo_filter = None\n",
    "\n",
    "# Создаем словарь для нужных нам типов пользования интернетом\n",
    "ut = {'Desktop&Mobile':[1,2,3], 'Desktop':[1], 'Mobile':[2,3]}\n",
    "\n",
    "# Указываем список срезов, чтобы сформировать структуру расчета\n",
    "slices = [\"researchMonth\"]\n",
    "\n",
    "# Указываем список статистик для расчета\n",
    "statistics = ['reach']"
   ]
  },
  {
   "cell_type": "markdown",
   "id": "6bd4a018",
   "metadata": {},
   "source": [
    "## Создаем словарь с нужными проектами\n",
    "\n",
    "Для этого подготовим группы и входящие в них проекты в файле Excel. Для примера приведен файл в папке с ноутбуками: __groups.xlsx__\n",
    "\n",
    "__ВАЖНО!__ Словарь нужно сохранить в папку с ноутбуками\n",
    " \n",
    "__При изменении названия файла/ листа/ колонок, следует внести изменения в код ниже - указать правильное название листа и колонок.__"
   ]
  },
  {
   "cell_type": "code",
   "execution_count": null,
   "id": "3d65a49f",
   "metadata": {},
   "outputs": [],
   "source": [
    "sostav = pd.read_excel('groups.xlsx', sheet_name='группы')[['Группа', 'Для словаря']]\n",
    "\n",
    "pr_groups = {}\n",
    "\n",
    "for _, t in sostav.iterrows():\n",
    "    if t['Группа'] not in pr_groups:\n",
    "        pr_groups[t['Группа']] = f\"{t['Для словаря']} OR \"\n",
    "    else:\n",
    "        pr_groups[t['Группа']] += f\"{t['Для словаря']} OR \"\n",
    "for key, value in pr_groups.items():\n",
    "    pr_groups[key] = value[:-4]\n",
    "print('Словарь готов')"
   ]
  },
  {
   "cell_type": "markdown",
   "id": "61e2d15c",
   "metadata": {},
   "source": [
    "## Расчёт Total по группе проектов"
   ]
  },
  {
   "cell_type": "code",
   "execution_count": null,
   "id": "0b0334d0",
   "metadata": {},
   "outputs": [],
   "source": [
    "%%time\n",
    "\n",
    "# Посчитаем данные в циклах\n",
    "tasks = []\n",
    "print('Отправка задач ')\n",
    "\n",
    "for utype, num in ut.items():\n",
    "    for group, filter_obj in pr_groups.items():\n",
    "        \n",
    "        # Формируем задание на расчет\n",
    "        usetype_filter = num\n",
    "        project_name = f\"{group}\" \n",
    "        mart_filter = f\"{filter_obj}\"\n",
    "\n",
    "        # Формируем задание для API Cross Web в формате JSON\n",
    "        task_json = mtask.build_task('meida', project_name, date_filter, usetype_filter, geo_filter,\n",
    "                                     demo_filter, mart_filter, slices, statistics)\n",
    "\n",
    "        # Для каждого этапа цикла формируем словарь с параметрами и отправленным заданием на расчет\n",
    "        tsk = {}\n",
    "        tsk['project_name'] = project_name\n",
    "        tsk['usetype'] = f\"{utype}\"\n",
    "        tsk['task'] = mtask.send_audience_task(task_json)\n",
    "        tasks.append(tsk)\n",
    "        time.sleep(2)\n",
    "        print('.', end = '') \n",
    "\n",
    "print('')\n",
    "        \n",
    "# Ждем выполнения\n",
    "tsks = mtask.wait_task(tasks)\n",
    "print('Расчет завершен, получаем результат')        \n",
    "        \n",
    "# Получаем результат\n",
    "results = []\n",
    "for t in tasks:\n",
    "    tsk = t['task']\n",
    "    df_result = mtask.result2table(mtask.get_result(tsk), project_name = t['project_name'])\n",
    "    df_result['usetype'] = t['usetype']\n",
    "    results.append(df_result)\n",
    "df_result = pd.concat(results)\n",
    "df_result       "
   ]
  },
  {
   "cell_type": "code",
   "execution_count": null,
   "id": "9cce1b49",
   "metadata": {},
   "outputs": [],
   "source": [
    "# Сохраняем в Excel\n",
    "writer = pd.ExcelWriter(mtask.get_excel_filename('groups-of-projects'))\n",
    "df_result.to_excel(writer, 'Report', index=False)\n",
    "writer.save()"
   ]
  }
 ],
 "metadata": {
  "kernelspec": {
   "display_name": "Python 3",
   "language": "python",
   "name": "python3"
  },
  "language_info": {
   "codemirror_mode": {
    "name": "ipython",
    "version": 3
   },
   "file_extension": ".py",
   "mimetype": "text/x-python",
   "name": "python",
   "nbconvert_exporter": "python",
   "pygments_lexer": "ipython3",
   "version": "3.8.8"
  }
 },
 "nbformat": 4,
 "nbformat_minor": 5
}
