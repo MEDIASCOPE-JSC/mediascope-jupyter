{
 "cells": [
  {
   "cell_type": "markdown",
   "metadata": {},
   "source": [
    "# Demography\n",
    "Пример отчета по расчету социально-демографической структуры аудитории интернет-ресурсов.\n",
    "\n",
    "## Описание задачи\n",
    "\n",
    "Посчитаем аудиторию ресурса **Afisha** с разбивкой по социально-демографической переменной:\n",
    "- Род занятий\n",
    "\n",
    "Общие параметры:\n",
    "- Период: Июль 2021, Сентябрь 2021\n",
    "- География: Россия 0+\n",
    "- Население: 12+\n",
    "- Тип пользования интернетом: ограничения нет, считаем по всем (Web Desktop, Web Mobile, App Mobile)\n",
    "\n",
    "Список статистик для расчета:\n",
    "- Reach (reach)\n",
    "- Reach% (reachPer)"
   ]
  },
  {
   "cell_type": "markdown",
   "metadata": {},
   "source": [
    "# Инициализация\n",
    "\n",
    "При построении отчета первый шаг в любом ноутбуке - загрузка библиотек, которые помогут обращаться к API Cross Web и работать с данными.\n",
    "\n",
    "Выполните следующую ячейку, для этого перейдите в нее и нажмите Ctrl+Enter"
   ]
  },
  {
   "cell_type": "code",
   "execution_count": null,
   "metadata": {},
   "outputs": [],
   "source": [
    "%reload_ext autoreload\n",
    "%autoreload 2\n",
    "\n",
    "import sys\n",
    "import os\n",
    "import re\n",
    "import json\n",
    "import datetime\n",
    "import time\n",
    "import pandas as pd\n",
    "#import matplotlib.pyplot as plt\n",
    "from IPython.display import JSON\n",
    "\n",
    "from mediascope_api.core import net as mscore\n",
    "from mediascope_api.crossweb import tasks as cwt\n",
    "from mediascope_api.crossweb import catalogs as cwc\n",
    "\n",
    "# Настраиваем отображение\n",
    "\n",
    "# Включаем отображение всех колонок\n",
    "pd.set_option('display.max_columns', None)\n",
    "# Задаем максимальное количество выводимых строк. Раскомментируйте нужную строку\n",
    "# 200 строк\n",
    "# pd.set_option(\"display.max_rows\", 200)\n",
    "# Отображаем все строки. ВАЖНО! Отображение большого DataFrame требует много ресурсов\n",
    "# pd.set_option(\"display.max_rows\", None)\n",
    "\n",
    "# Создаем объекты для работы с API Cross Web\n",
    "mnet = mscore.MediascopeApiNetwork()\n",
    "mtask = cwt.CrossWebTask()\n",
    "cats = cwc.CrossWebCats()"
   ]
  },
  {
   "cell_type": "markdown",
   "metadata": {},
   "source": [
    "## Формируем задания\n",
    "\n",
    "Необходимо сформировать следующее задание для API Cross Web:\n",
    "- расчет аудитории по ресурсу Afisha с разбивкой по соц.-дему"
   ]
  },
  {
   "cell_type": "markdown",
   "metadata": {},
   "source": [
    "### Общие параметры для заданий\n",
    "\n",
    "Для начала зададим общие параметры"
   ]
  },
  {
   "cell_type": "code",
   "execution_count": null,
   "metadata": {},
   "outputs": [],
   "source": [
    "# Задаем период\n",
    "# Период указывается в виде списка ('Начало', 'Конец'). Можно указать несколько периодов\n",
    "date_filter = [('2021-07-01', '2021-07-31'),\n",
    "               ('2021-09-01', '2021-09-30')]\n",
    "\n",
    "# Задаем фильтр по типам пользования интернетом\n",
    "usetype_filter = [1,2,3]"
   ]
  },
  {
   "cell_type": "markdown",
   "metadata": {},
   "source": [
    "### Получим ID ресурса\n",
    "Для построения отчета необходимо получить идентификатор ресурса __Afisha__.\n",
    "\n",
    "Для этого воспользуемся методом поиска в медиа справочнике. Работа с медиа справочником подробно описана в ноутбуке [catalogs](catalogs.ipynb). \n",
    "\n",
    "Получим идентификатор ресурса **Afisha**"
   ]
  },
  {
   "cell_type": "code",
   "execution_count": null,
   "metadata": {},
   "outputs": [],
   "source": [
    "cats.get_resource(resource='Afisha')"
   ]
  },
  {
   "cell_type": "markdown",
   "metadata": {},
   "source": [
    "Таким образом, необходимый идентификатор следующий:\n",
    "\n",
    "- **Afisha**  resourceId = 1024"
   ]
  },
  {
   "cell_type": "markdown",
   "metadata": {},
   "source": [
    "### Получим название социально-демографической переменной\n",
    "Для указания разбивки в задании необходимо найти название для API Cross WEB переменной **\"Род занятий\"**.\n",
    "\n",
    "Для этого воспользуемся методом поиска в справочнике. Работа со справочником подробно описана в ноутбуке [catalogs](catalogs.ipynb). "
   ]
  },
  {
   "cell_type": "code",
   "execution_count": null,
   "metadata": {},
   "outputs": [],
   "source": [
    "cats.find_property('Род занятий',  expand=False)"
   ]
  },
  {
   "cell_type": "markdown",
   "metadata": {},
   "source": [
    "Получили:\n",
    "\n",
    "- Род занятий = occupation"
   ]
  },
  {
   "cell_type": "markdown",
   "metadata": {},
   "source": [
    "## Задание\n",
    "\n",
    "Перейдем к формированию задания.\n",
    "\n",
    "\n",
    "### Расчет аудитории ресурса Afisha с разбивкой по соц.-дему"
   ]
  },
  {
   "cell_type": "code",
   "execution_count": null,
   "metadata": {
    "scrolled": true
   },
   "outputs": [],
   "source": [
    "# Задаем название ресурса для отображения в DataFrame\n",
    "project_name = 'Afisha'\n",
    "\n",
    "# Задаем фильтр по географии, в нашем случае он не требуется\n",
    "geo_filter = None\n",
    "\n",
    "# Задаем фильтр по демографии, в нашем случае он не требуется\n",
    "demo_filter = None\n",
    "\n",
    "# Задаем фильтр по медиа, в нашем случае это ID ресурса Afisha\n",
    "mart_filter = 'crossMediaResourceId = 1024'\n",
    "\n",
    "# Указываем список срезов, чтобы сформировать структуру расчета\n",
    "slices = [\"researchMonth\", \"crossMediaResourceId\", \"occupation\"]\n",
    "\n",
    "# Указываем список статистик для расчета\n",
    "statistics = ['reach', 'reachPer']\n",
    "\n",
    "# Формируем задание для API Cross Web в формате JSON\n",
    "task_json = mtask.build_task('media', project_name, date_filter, usetype_filter, geo_filter,\n",
    "                             demo_filter, mart_filter, slices, statistics)\n",
    "\n",
    "# Отправляем задание на расчет и ждем выполнения\n",
    "task_audience = mtask.wait_task(mtask.send_audience_task(task_json))\n",
    "\n",
    "# Получаем результат\n",
    "df_afisha = mtask.result2table(mtask.get_result(task_audience), project_name)\n",
    "df_afisha"
   ]
  },
  {
   "cell_type": "markdown",
   "metadata": {},
   "source": [
    "## Сохраняем в Excel"
   ]
  },
  {
   "cell_type": "code",
   "execution_count": null,
   "metadata": {},
   "outputs": [],
   "source": [
    "writer = pd.ExcelWriter(mtask.get_excel_filename('audience-afisha'))\n",
    "df_info = mtask.get_report_info()\n",
    "df_afisha.to_excel(writer, 'Report', index=False)\n",
    "df_info.to_excel(writer, 'Info', index=False)\n",
    "writer.save()"
   ]
  }
 ],
 "metadata": {
  "kernelspec": {
   "display_name": "Python 3",
   "language": "python",
   "name": "python3"
  },
  "language_info": {
   "codemirror_mode": {
    "name": "ipython",
    "version": 3
   },
   "file_extension": ".py",
   "mimetype": "text/x-python",
   "name": "python",
   "nbconvert_exporter": "python",
   "pygments_lexer": "ipython3",
   "version": "3.8.8"
  }
 },
 "nbformat": 4,
 "nbformat_minor": 4
}
