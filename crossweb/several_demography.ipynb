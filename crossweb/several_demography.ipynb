{
 "cells": [
  {
   "cell_type": "markdown",
   "metadata": {},
   "source": [
    "# Расчет структуры по нескольким соц.-дем. переменным\n",
    "\n",
    "## Описание задачи\n",
    "\n",
    "Посчитаем аудиторию ресурса **Avito** с разбивкой по социально-демографическим переменным:\n",
    "- Пол\n",
    "- Возрастные группы\n",
    "\n",
    "Общие параметры:\n",
    "- Период: Сентябрь 2021\n",
    "- География: Россия 100 000+\n",
    "- Население: 12+\n",
    "- Тип пользования интернетом: ограничения нет, считаем по всем (Web Desktop, Web Mobile, App Mobile)\n",
    "\n",
    "Список статистик для расчета:\n",
    "- Reach (reach)"
   ]
  },
  {
   "cell_type": "markdown",
   "metadata": {},
   "source": [
    "# Инициализация\n",
    "\n",
    "При построении отчета первый шаг в любом ноутбуке - загрузка библиотек, которые помогут обращаться к API Cross Web и работать с данными.\n",
    "\n",
    "Выполните следующую ячейку, для этого перейдите в нее и нажмите Ctrl+Enter"
   ]
  },
  {
   "cell_type": "code",
   "execution_count": null,
   "metadata": {},
   "outputs": [],
   "source": [
    "%reload_ext autoreload\n",
    "%autoreload 2\n",
    "\n",
    "import os\n",
    "import re\n",
    "import json\n",
    "import datetime\n",
    "import time\n",
    "import pandas as pd\n",
    "#import matplotlib.pyplot as plt\n",
    "from IPython.display import JSON\n",
    "\n",
    "from mediascope_api.core import net as mscore\n",
    "from mediascope_api.crossweb import tasks as cwt\n",
    "from mediascope_api.crossweb import catalogs as cwc\n",
    "\n",
    "# Настраиваем отображение\n",
    "\n",
    "# Включаем отображение всех колонок\n",
    "pd.set_option('display.max_columns', None)\n",
    "# Задаем максимальное количество выводимых строк. Раскомментируйте нужную строку\n",
    "# 200 строк\n",
    "# pd.set_option(\"display.max_rows\", 200)\n",
    "# Отображаем все строки. ВАЖНО! Отображение большого DataFrame требует много ресурсов\n",
    "# pd.set_option(\"display.max_rows\", None)\n",
    "\n",
    "# Создаем объекты для работы с API\n",
    "mnet = mscore.MediascopeApiNetwork()\n",
    "mtask = cwt.CrossWebTask()\n",
    "cats = cwc.CrossWebCats()"
   ]
  },
  {
   "cell_type": "markdown",
   "metadata": {},
   "source": [
    "## Формируем задания\n",
    "\n",
    "Необходимо сформировать следующее задание для API Cross Web:\n",
    "- расчет аудитории по ресурсу **Avito** с разбивкой по полу и по возрастным группам.\n",
    "\n",
    "Для переменной **\"Пол\"** найдем в справочнике название **sex**, для переменной **\"Возрастные группы\"** - **ageGroup**.\n",
    "\n",
    "Работа со справочником подробно описана в ноутбуке [catalogs](catalogs.ipynb). \n",
    "\n",
    "Если указать в задании\n",
    "\n",
    "```\n",
    "slices = [\"sex\", \"ageGroup\"]\n",
    "```\n",
    "то получим каждую из категорий переменной **sex** в разбивке на категории переменной **ageGroup**.\n",
    "\n",
    "Для нашей задачи необходимо посчитать отдельно разбивку по переменной **sex** и отдельно по **ageGroup**. \n",
    "\n",
    "Для этого рассчитаем несколько заданий в цикле."
   ]
  },
  {
   "cell_type": "markdown",
   "metadata": {},
   "source": [
    "### Общие параметры для заданий\n",
    "\n",
    "Для начала зададим общие параметры"
   ]
  },
  {
   "cell_type": "code",
   "execution_count": null,
   "metadata": {},
   "outputs": [],
   "source": [
    "# Задаем период\n",
    "# Период указывается в виде списка ('Начало', 'Конец'). Можно указать несколько периодов\n",
    "date_filter = [('2021-09-01', '2021-09-30')]\n",
    "\n",
    "# Задаем фильтр по типам пользования интернетом\n",
    "usetype_filter = [1,2,3]"
   ]
  },
  {
   "cell_type": "markdown",
   "metadata": {},
   "source": [
    "### Получим ID ресурса\n",
    "Для построения отчета необходимо получить идентификатор ресурса __Avito__.\n",
    "\n",
    "Для этого воспользуемся методом поиска в медиа справочнике. Работа с медиа справочником подробно описана в ноутбуке [catalogs](catalogs.ipynb). \n",
    "\n",
    "Получим идентификатор ресурса **Avito**"
   ]
  },
  {
   "cell_type": "code",
   "execution_count": null,
   "metadata": {},
   "outputs": [],
   "source": [
    "cats.get_resource(resource='Avito')"
   ]
  },
  {
   "cell_type": "markdown",
   "metadata": {},
   "source": [
    "Таким образом, необходимый идентификатор следующий:\n",
    "\n",
    "- **Avito**  resourceId = 1028"
   ]
  },
  {
   "cell_type": "code",
   "execution_count": null,
   "metadata": {},
   "outputs": [],
   "source": [
    "# Указываем список срезов, чтобы сформировать структуру расчета\n",
    "splited_slices = ['sex', 'ageGroup']\n",
    "\n",
    "# Задаем фильтр по географии, в нашем случае Россия 100 000+\n",
    "geo_filter = 'cityPop100 = 1'\n",
    "\n",
    "# Задаем фильтр по демографии, в нашем случае он не требуется\n",
    "demo_filter = None\n",
    "\n",
    "# Задаем фильтр по медиа, в нашем случае это ID ресурса Avito\n",
    "mart_filter = \"crossMediaResourceId = 1028\"\n",
    "\n",
    "# Указываем список статистик для расчета\n",
    "statistics = ['reach']\n",
    "\n",
    "# Посчитаем задания в цикле\n",
    "tasks = []\n",
    "print(\"Отправляем задания на расчет\")\n",
    "# Для каждого среза формируем задания и отправляем на расчет\n",
    "for sls in splited_slices:\n",
    "        \n",
    "        project_name = f\"slice-{sls}\"\n",
    "        slices = [sls]\n",
    "        # Формируем из указанных параметров задание для API Cross Web в формате JSON для каждого из этапов цикла\n",
    "        task_json = mtask.build_task('media', project_name, date_filter, usetype_filter, geo_filter, \n",
    "                                     demo_filter, mart_filter, slices, statistics)\n",
    "\n",
    "        # Для каждого этапа цикла формируем словарь с параметрами и отправленным заданием на расчет\n",
    "        tsk = {}\n",
    "        tsk['project_name'] = project_name\n",
    "        tsk['slice'] = sls\n",
    "        tsk['task'] = mtask.send_audience_task(task_json)\n",
    "        tasks.append(tsk)\n",
    "        time.sleep(2)\n",
    "        print('.', end = '')\n",
    "\n",
    "print('')\n",
    "# Ждем выполнения\n",
    "print('Ждем выполнения')\n",
    "tsks = mtask.wait_task(tasks)\n",
    "print('Расчет завершен, получаем результат')\n",
    "\n",
    "# Получаем результат\n",
    "results = []\n",
    "print('Собираем таблицу')\n",
    "for t in tasks:\n",
    "    tsk = t['task'] \n",
    "    df_result = mtask.result2table(mtask.get_result(tsk), project_name = t['project_name'])\n",
    "    df_result['slice'] = t['slice']\n",
    "    results.append(df_result)\n",
    "    print('.', end = '')\n",
    "df = pd.concat(results)\n",
    "df"
   ]
  },
  {
   "cell_type": "markdown",
   "metadata": {},
   "source": [
    "## Сохраняем в Excel"
   ]
  },
  {
   "cell_type": "code",
   "execution_count": null,
   "metadata": {},
   "outputs": [],
   "source": [
    "writer = pd.ExcelWriter(mtask.get_excel_filename('audience-several-demo-avito'))\n",
    "df_info = mtask.get_report_info()\n",
    "df.to_excel(writer, 'Report', index=False)\n",
    "df_info.to_excel(writer, 'Info', index=False)\n",
    "writer.save()"
   ]
  }
 ],
 "metadata": {
  "kernelspec": {
   "display_name": "Python 3 (ipykernel)",
   "language": "python",
   "name": "python3"
  },
  "language_info": {
   "codemirror_mode": {
    "name": "ipython",
    "version": 3
   },
   "file_extension": ".py",
   "mimetype": "text/x-python",
   "name": "python",
   "nbconvert_exporter": "python",
   "pygments_lexer": "ipython3",
   "version": "3.9.7"
  }
 },
 "nbformat": 4,
 "nbformat_minor": 4
}
