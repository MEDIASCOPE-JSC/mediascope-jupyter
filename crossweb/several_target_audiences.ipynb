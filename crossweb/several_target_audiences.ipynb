{
 "cells": [
  {
   "cell_type": "markdown",
   "id": "4608ed6d",
   "metadata": {},
   "source": [
    "# Расчет данных по нескольким ЦА"
   ]
  },
  {
   "cell_type": "markdown",
   "id": "f66180dd",
   "metadata": {},
   "source": [
    "# Инициализация\n",
    "\n",
    "При построении отчета первый шаг в любом ноутбуке - загрузка библиотек, которые помогут обращаться к API Cross Web и работать с данными.\n",
    "\n",
    "Выполните следующую ячейку, для этого перейдите в нее и нажмите Ctrl+Enter"
   ]
  },
  {
   "cell_type": "code",
   "execution_count": null,
   "id": "cc199f68",
   "metadata": {},
   "outputs": [],
   "source": [
    "%reload_ext autoreload\n",
    "%autoreload 2\n",
    "\n",
    "import sys\n",
    "import os\n",
    "import re\n",
    "import json\n",
    "import datetime\n",
    "import time\n",
    "import pandas as pd\n",
    "#import matplotlib.pyplot as plt\n",
    "from IPython.display import JSON\n",
    "\n",
    "from mediascope_api.core import net as mscore\n",
    "from mediascope_api.crossweb import tasks as cwt\n",
    "\n",
    "# Настраиваем отображение\n",
    "\n",
    "# Включаем отображение всех колонок\n",
    "pd.set_option('display.max_columns', None)\n",
    "# Задаем максимальное количество выводимых строк. Раскомментируйте нужную строку\n",
    "# 200 строк\n",
    "# pd.set_option(\"display.max_rows\", 200)\n",
    "# Отображаем все строки. ВАЖНО! Отображение большого DataFrame требует много ресурсов\n",
    "# pd.set_option(\"display.max_rows\", None)\n",
    "\n",
    "# Создаем объекты для работы с API\n",
    "mnet = mscore.MediascopeApiNetwork()\n",
    "mtask = cwt.CrossWebTask()"
   ]
  },
  {
   "cell_type": "markdown",
   "id": "968ca60a",
   "metadata": {},
   "source": [
    "# Общие параметры для заданий\n",
    "\n",
    "Для похожих отчетов часто используются одни и те же параметры, удобно их вынести в отдельные переменные, и затем использовать в коде. Если вдруг понадобится какой-то параметр изменить, его нужно поменять только в одном месте."
   ]
  },
  {
   "cell_type": "code",
   "execution_count": null,
   "id": "07be3fb3",
   "metadata": {},
   "outputs": [],
   "source": [
    "# Задаем период\n",
    "# Период указывается в виде списка ('Начало', 'Конец'). Можно указать несколько периодов\n",
    "date_filter = [('2021-09-01', '2021-09-30')]\n",
    "\n",
    "# Задаем фильтр по типам пользования интернетом\n",
    "usetype_filter = [1,2,3]\n",
    "\n",
    "# Задаем фильтр по географии, в нашем случае он не требуется\n",
    "geo_filter = None\n",
    "\n",
    "# Задаем фильтр по медиа, в нашем случае это ID ресурса Avito\n",
    "mart_filter = 'crossMediaResourceId = 1028'\n",
    "\n",
    "# Задаем необходимые группы\n",
    "groups = {'12+': 'ageGroup IN (1, 2, 3, 4, 5, 6, 7)',\n",
    "          '12-24':'ageGroup IN (1, 2)', \n",
    "          '25-34':'ageGroup = 3', \n",
    "          '35-44':'ageGroup = 4', \n",
    "          '45-54':'ageGroup = 5', \n",
    "          '55+':'ageGroup IN (6, 7)', \n",
    "          'Муж.12+':'sex = 1', \n",
    "          'Жен.12+':'sex = 2'}\n",
    "\n",
    "# Указываем список срезов, чтобы сформировать структуру расчета\n",
    "slices = [\"researchMonth\", \"crossMediaResourceId\", \"useTypeName\"]\n",
    "\n",
    "# Указываем список статистик для расчета\n",
    "statistics = ['reach']"
   ]
  },
  {
   "cell_type": "markdown",
   "id": "61e2d15c",
   "metadata": {},
   "source": [
    "# Расчет для нескольких ЦА"
   ]
  },
  {
   "cell_type": "code",
   "execution_count": null,
   "id": "0b0334d0",
   "metadata": {},
   "outputs": [],
   "source": [
    "%%time\n",
    "\n",
    "# Посчитаем данные в циклах\n",
    "tasks = []\n",
    "print('Отправка задач ')\n",
    "\n",
    "for agegroup, logical in groups.items():\n",
    "    \n",
    "    # Формируем задание на расчет ЦА\n",
    "    project_name = f\"{agegroup}\" \n",
    "    demo_filter = f\"{logical}\"\n",
    "\n",
    "    # Формируем задание для API Cross Web в формате JSON\n",
    "    task_json = mtask.build_task('media', project_name, date_filter, usetype_filter, geo_filter,\n",
    "                                 demo_filter, mart_filter, slices, statistics)\n",
    "\n",
    "    # Для каждого этапа цикла формируем словарь с параметрами и отправленным заданием на расчет\n",
    "    tsk = {}\n",
    "    tsk['project_name'] = project_name\n",
    "    tsk['task'] = mtask.send_audience_task(task_json)\n",
    "    tasks.append(tsk)\n",
    "    time.sleep(2)\n",
    "    print('.', end = '') \n",
    "\n",
    "print('')\n",
    "        \n",
    "# Ждем выполнения\n",
    "tsks = mtask.wait_task(tasks)\n",
    "print('Расчет завершен, получаем результат')        \n",
    "        \n",
    "# Получаем результат\n",
    "results = []\n",
    "for t in tasks:\n",
    "    tsk = t['task']\n",
    "    df_result = mtask.result2table(mtask.get_result(tsk), project_name = t['project_name'])\n",
    "    results.append(df_result)\n",
    "df_result = pd.concat(results)\n",
    "df_result       "
   ]
  },
  {
   "cell_type": "code",
   "execution_count": null,
   "id": "9cce1b49",
   "metadata": {},
   "outputs": [],
   "source": [
    "# Сохраняем в Excel\n",
    "writer = pd.ExcelWriter(mtask.get_excel_filename('several-target-audiences'))\n",
    "df_result.to_excel(writer, 'Report', index=False)\n",
    "writer.save()"
   ]
  }
 ],
 "metadata": {
  "kernelspec": {
   "display_name": "Python 3",
   "language": "python",
   "name": "python3"
  },
  "language_info": {
   "codemirror_mode": {
    "name": "ipython",
    "version": 3
   },
   "file_extension": ".py",
   "mimetype": "text/x-python",
   "name": "python",
   "nbconvert_exporter": "python",
   "pygments_lexer": "ipython3",
   "version": "3.8.8"
  }
 },
 "nbformat": 4,
 "nbformat_minor": 5
}
