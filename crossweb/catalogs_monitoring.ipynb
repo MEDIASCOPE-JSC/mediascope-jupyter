{
 "cells": [
  {
   "cell_type": "markdown",
   "metadata": {},
   "source": [
    "# Справочники для мониторинга рекламы в интернете\n",
    "Пример ноутбука для работы со справочниками по мониторингу рекламы в интернете."
   ]
  },
  {
   "cell_type": "markdown",
   "metadata": {},
   "source": [
    "## Инициализация\n",
    "\n",
    "При построении отчета первый шаг в любом ноутбуке - загрузка библиотек, которые помогут обращаться к API и работать с данными.\n",
    "\n",
    "Выполните следующую ячейку, для этого перейдите в нее и нажмите Ctrl+Enter "
   ]
  },
  {
   "cell_type": "code",
   "execution_count": null,
   "metadata": {},
   "outputs": [],
   "source": [
    "%reload_ext autoreload\n",
    "%autoreload 2\n",
    "\n",
    "import sys\n",
    "import os\n",
    "import re\n",
    "import json\n",
    "import datetime\n",
    "import time\n",
    "import pandas as pd\n",
    "from pathlib import Path\n",
    "from IPython.display import JSON\n",
    "\n",
    "from mediascope_api.core import net as msnet\n",
    "from mediascope_api.crossweb import catalogs as cwc\n",
    "from mediascope_api.crossweb import tasks as cwts\n",
    "\n",
    "\n",
    "mnet = msnet.MediascopeApiNetwork()\n",
    "cats = cwc.CrossWebCats()"
   ]
  },
  {
   "cell_type": "markdown",
   "metadata": {},
   "source": [
    "# Доступные атрибуты для параметров\n",
    "\n",
    "При формировании задания можно указать следующие параметры:\n",
    "\n",
    "- **filters** - Фильтры\n",
    "- **slices** - Срезы\n",
    "- **statistics** - Статистики\n",
    "- **scales** - Шкала, если задана статистика со шкалой (reachN)"
   ]
  },
  {
   "cell_type": "markdown",
   "metadata": {},
   "source": [
    "Доступные атрибуты и допустимые для них значения можно получить методом `get_monitoring_unit()`:"
   ]
  },
  {
   "cell_type": "code",
   "execution_count": null,
   "metadata": {
    "tags": []
   },
   "outputs": [],
   "source": [
    "cats.get_monitoring_unit()"
   ]
  },
  {
   "cell_type": "markdown",
   "metadata": {},
   "source": [
    "# Доступный период данных\n",
    "\n",
    "Узнать доступный период данных можно после выполнения ячейки ниже"
   ]
  },
  {
   "cell_type": "code",
   "execution_count": null,
   "metadata": {},
   "outputs": [],
   "source": [
    "cats.get_date_range(ids=[3]) "
   ]
  },
  {
   "cell_type": "markdown",
   "metadata": {},
   "source": [
    "# Состав проекта по мониторингу рекламы в интернете\n",
    "\n",
    "Видеореклама, креатив которой размещен на url по определенным маскам (Web Desktop)\n",
    "\n",
    "adSourceTypeId = 2; \n",
    "useTypeId = 1 "
   ]
  },
  {
   "cell_type": "markdown",
   "metadata": {},
   "source": [
    "# Социально-демографические и географические переменные"
   ]
  },
  {
   "cell_type": "markdown",
   "metadata": {},
   "source": [
    "Получим список всех переменных, доступных в проекте"
   ]
  },
  {
   "cell_type": "code",
   "execution_count": null,
   "metadata": {},
   "outputs": [],
   "source": [
    "df_demo = cats.get_property()\n",
    "df_demo"
   ]
  },
  {
   "cell_type": "markdown",
   "metadata": {},
   "source": [
    "Экспорт справочника в Excel. Файл сохраняется в директорию, в которой лежат текущие ноутбуки."
   ]
  },
  {
   "cell_type": "code",
   "execution_count": null,
   "metadata": {},
   "outputs": [],
   "source": [
    "demo_cat = cats.get_property()\n",
    "writer = pd.ExcelWriter('demo_cat.xlsx')\n",
    "demo_cat.to_excel(writer, 'demo_cat', index=False)\n",
    "writer.save()"
   ]
  },
  {
   "cell_type": "markdown",
   "metadata": {},
   "source": [
    "### Важно!\n",
    "Demo и geo переменные, которые используются в заданиях, должны быть прописаны строго в следующем формате: \n",
    "\n",
    "__demoVariable__\n",
    "\n",
    "То есть первое слово в переменной должно быть написано со строчной буквы, второе - с заглавной. Пример: __ageGroup__"
   ]
  },
  {
   "cell_type": "markdown",
   "metadata": {},
   "source": [
    "### Поиск переменных\n",
    "\n",
    "Поиск переменных осуществляется с помощью функции `cats.find_property()`, которая находит все переменные, содержащие заданный текст как в самом ее названии, так и в ее названии для API (поля 'name' и 'entityTitle'). \n",
    "\n",
    "Если нужно найти переменную без входящих в нее категорий, то необходимо передать в эту функцию дополнительный параметр\n",
    "\n",
    "```\n",
    "    expand=False\n",
    "```\n",
    "\n",
    "Если нужно найти переменную с входящими в нее категориями, то можно не передавать параметр expand. В таком случае для него автоматически проставится значение True.\n",
    "\n",
    "Найдем переменные, которые содержат текст \"Пол\""
   ]
  },
  {
   "cell_type": "code",
   "execution_count": null,
   "metadata": {},
   "outputs": [],
   "source": [
    "cats.find_property('Пол', expand=True)"
   ]
  },
  {
   "cell_type": "markdown",
   "metadata": {},
   "source": [
    "Рассмотрим географические переменные.\n",
    "\n",
    "Численность населенного пункта (cityPop) и численность населенного пункта 100k+ или 100k- (cityPop100)"
   ]
  },
  {
   "cell_type": "code",
   "execution_count": null,
   "metadata": {},
   "outputs": [],
   "source": [
    "cats.find_property('cityPop', expand=True)"
   ]
  },
  {
   "cell_type": "markdown",
   "metadata": {},
   "source": [
    "Федеральный округ (federalOkrug)"
   ]
  },
  {
   "cell_type": "code",
   "execution_count": null,
   "metadata": {},
   "outputs": [],
   "source": [
    "cats.find_property('federalOkrug', expand=True)"
   ]
  },
  {
   "cell_type": "markdown",
   "metadata": {},
   "source": [
    "# Медиа справочник\n",
    "\n",
    "Получим весь медиа справочник и отобразим первые пять записей.\n",
    "\n",
    "### Важно!\n",
    "\n",
    "**Загрузка всего медиа справочника может потребовать много памяти и времени. Для экономии памяти и ускорения загрузки, пожалуйста, пользуйтесь поиском по медиа справочнику.**"
   ]
  },
  {
   "cell_type": "code",
   "execution_count": null,
   "metadata": {
    "scrolled": true
   },
   "outputs": [],
   "source": [
    "df_media = cats.get_media()\n",
    "df_media.head()"
   ]
  },
  {
   "cell_type": "markdown",
   "metadata": {},
   "source": [
    "Экспорт медиа справочника в Excel. Файл сохраняется в директорию, в которой лежат текущие ноутбуки."
   ]
  },
  {
   "cell_type": "code",
   "execution_count": null,
   "metadata": {},
   "outputs": [],
   "source": [
    "media_cat = cats.get_media()\n",
    "writer = pd.ExcelWriter('media_cat.xlsx')\n",
    "media_cat.to_excel(writer, 'media_cat', index=False)\n",
    "writer.save()"
   ]
  },
  {
   "cell_type": "markdown",
   "metadata": {},
   "source": [
    "**В Cross Web трехуровневая иерархия медиа объектов:**\n",
    "\n",
    "- **Холдинг (holding)** = Холдинг\n",
    "- **Ресурс (resource)** = Проект/Сайт\n",
    "- **Медиа продукт (product)** = Сабсекция\n",
    "\n",
    "**Холдинг** объединяет ресурсы, которые юридически принадлежат одной компании. \n",
    "\n",
    "**Ресурс** объединяет в себе веб аудиторию (десктопный, мобильный веб) и приложения. \n",
    "\n",
    "**Медиа продукт** - это раздел в десктопном и мобильном вебе или приложение. Разделы в десктопном и мобильном вебе определяются регулярным выражением.\n",
    "\n",
    "**В Cross Web тематики определяются двумя способами:**\n",
    "\n",
    "**- тематики для медиа продуктов (theme)**\n",
    "\n",
    "Таким образом, разные разделы одного ресурса могут относиться к разным тематикам.\n",
    "\n",
    "**- тематики для ресурсов (resourceTheme)**\n",
    "\n",
    "В этом случае для всего ресурса выбирается только одна наиболее подходящая тематика, даже если ресурс состоит из медиа продуктов, относящихся к различным тематикам."
   ]
  },
  {
   "cell_type": "markdown",
   "metadata": {},
   "source": [
    "### Холдинги\n",
    "Получим список холдингов"
   ]
  },
  {
   "cell_type": "code",
   "execution_count": null,
   "metadata": {},
   "outputs": [],
   "source": [
    "df_holdings = cats.get_holding()\n",
    "df_holdings"
   ]
  },
  {
   "cell_type": "markdown",
   "metadata": {},
   "source": [
    "### Ресурсы\n",
    "Получим список ресурсов и отобразим первые пять записей"
   ]
  },
  {
   "cell_type": "code",
   "execution_count": null,
   "metadata": {},
   "outputs": [],
   "source": [
    "df_resources = cats.get_resource()\n",
    "df_resources.head()"
   ]
  },
  {
   "cell_type": "markdown",
   "metadata": {},
   "source": [
    "### Медиа продукты\n",
    "Получим список медиа продуктов и отобразим первые пять записей"
   ]
  },
  {
   "cell_type": "code",
   "execution_count": null,
   "metadata": {},
   "outputs": [],
   "source": [
    "df_products = cats.get_product()\n",
    "df_products.head()"
   ]
  },
  {
   "cell_type": "markdown",
   "metadata": {},
   "source": [
    "### Тематики для медиа продуктов\n",
    "Получим список тематик для медиа продуктов и отобразим первые пять записей"
   ]
  },
  {
   "cell_type": "code",
   "execution_count": null,
   "metadata": {},
   "outputs": [],
   "source": [
    "df_thematics = cats.get_theme()\n",
    "df_thematics.head()"
   ]
  },
  {
   "cell_type": "markdown",
   "metadata": {},
   "source": [
    "### Тематики для ресурсов\n",
    "Получим список тематик для ресурсов и отобразим первые пять записей"
   ]
  },
  {
   "cell_type": "code",
   "execution_count": null,
   "metadata": {},
   "outputs": [],
   "source": [
    "df_resource_thematics = cats.get_resource_theme()\n",
    "df_resource_thematics.head()"
   ]
  },
  {
   "cell_type": "markdown",
   "metadata": {},
   "source": [
    "### Поиск в медиа справочнике\n",
    "\n",
    "Поиск в медиа справочнике осуществляется с помощью следующих методов: \n",
    "\n",
    "- **get_media()** - отображает все поля медиа справочника; \n",
    "- **get_holding()** - отображает название холдинга и его id; \n",
    "- **get_resource()** - отображает название ресурса и его id; \n",
    "- **get_product()** - отображает название медиа продукта и его id; \n",
    "- **get_theme()** - отображает название тематики для медиа продуктов и ее id;\n",
    "- **get_resource_theme()** - отображает название тематики для ресурсов и ее id.\n",
    "\n",
    "Для всех перечисленных выше методов поддерживается поиск по следующим параметрам:\n",
    "\n",
    "- **holding** - поиск по названию холдинга. Возможно задавать часть названия.\n",
    "- **holding_ids** - поиск по cписку идентификаторов холдингов.\n",
    "- **resource** - поиск по названию ресурса. Возможно задавать часть названия.\n",
    "- **resource_ids** - поиск по cписку идентификаторов ресурсов.\n",
    "- **product** - поиск по названию медиа продукта. Возможно задавать часть названия.\n",
    "- **product_ids** - поиск по cписку идентификаторов медиа продуктов.\n",
    "- **theme** - поиск по названию тематики для медиа продуктов. Возможно задавать часть названия.\n",
    "- **theme_ids** - поиск по cписку идентификаторов тематик для медиа продуктов.\n",
    "- **resource_theme** - поиск по названию тематики для ресурсов. Возможно задавать часть названия.\n",
    "- **resource_theme_ids** - поиск по cписку идентификаторов тематик для ресурсов.\n",
    "\n",
    "\n",
    "#### Поиск по названию\n",
    "Найдем холдинг \"Авито\" в медиа справочнике и выведем всю информацию по его медиа объектам"
   ]
  },
  {
   "cell_type": "code",
   "execution_count": null,
   "metadata": {},
   "outputs": [],
   "source": [
    "df_avito = cats.get_media(holding='Авито')\n",
    "df_avito"
   ]
  },
  {
   "cell_type": "markdown",
   "metadata": {},
   "source": [
    "#### Поиск по идентификатору\n",
    "Найдем все медиа объекты с идентификаторами тематик для медиа продуктов\n",
    "- id 20 - Почта\n",
    "- id 42 - Работа"
   ]
  },
  {
   "cell_type": "code",
   "execution_count": null,
   "metadata": {},
   "outputs": [],
   "source": [
    "df_media_by_id = cats.get_media(theme_ids=[20, 42])\n",
    "df_media_by_id"
   ]
  },
  {
   "cell_type": "markdown",
   "metadata": {},
   "source": [
    "#### Поиск по нескольким параметрам\n",
    "\n",
    "Параметры поиска можно комбинировать. \n",
    "\n",
    "Добавим к предыдущему примеру еще один параметр поиска - название ресурса Avito. "
   ]
  },
  {
   "cell_type": "code",
   "execution_count": null,
   "metadata": {},
   "outputs": [],
   "source": [
    "df_media_by_id_resource = cats.get_media(theme_ids=[20, 42], resource='Avito')\n",
    "df_media_by_id_resource"
   ]
  },
  {
   "cell_type": "markdown",
   "metadata": {},
   "source": [
    "# Справочники атрибутов описания креативов"
   ]
  },
  {
   "cell_type": "markdown",
   "metadata": {},
   "source": [
    "### Поиск\n",
    "\n",
    "Поиск в справочнике атрибутов описания креативов осуществляется с помощью следующих методов: \n",
    "\n",
    "- **get_monitoring()** - отображает название категорий товаров и услуг, рекламодателя, бренда, суббренда, модели и их id;\n",
    "- **get_product_category_tree()** - отображает название категорий товаров и услуг и их id;  \n",
    "- **get_product_model()** - отображает название модели и ее id;  \n",
    "- **get_product_subbrand()** - отображает название суббренда и его id;\n",
    "- **get_product_brand()** - отображает название бренда и его id;\n",
    "- **get_product_advertiser()** - отображает название рекламодателя и его id;\n",
    "- **get_product_category_l4()** - отображает название категории товаров и услуг 4-ого уровня и ее id;\n",
    "- **get_product_category_l3()** - отображает название категории товаров и услуг 3-его уровня и ее id;\n",
    "- **get_product_category_l2()** - отображает название категории товаров и услуг 2-ого уровня и ее id;\n",
    "- **get_product_category_l1()** - отображает название категории товаров и услуг 1-ого уровня и ее id.\n",
    "\n",
    "Для всех перечисленных выше методов поддерживается поиск по следующим параметрам без учета регистра:\n",
    "\n",
    "- **product_model** - поиск по названию модели. Возможно задавать часть названия;\n",
    "- **product_model_eng** - поиск по названию модели на английском языке. Возможно задавать часть названия;\n",
    "- **product_model_ids** - поиск по списку идентификаторов моделей;\n",
    "- **product_subbrand** - поиск по названию суббренда. Возможно задавать часть названия;\n",
    "- **product_subbrand_eng** - поиск по названию суббренда на английском языке. Возможно задавать часть названия;\n",
    "- **product_subbrand_ids** - поиск по списку идентификаторов суббрендов;\n",
    "- **product_brand** - поиск по названию бренда. Возможно задавать часть названия;\n",
    "- **product_brand_eng** - поиск по названию бренда на английском языке. Возможно задавать часть названия;\n",
    "- **product_brand_ids** - поиск по списку идентификаторов брендов;\n",
    "- **advertiser** - поиск по названию рекламодателя. Возможно задавать часть названия;\n",
    "- **advertiser_eng** - поиск по названию рекламодателя на английском языке. Возможно задавать часть названия;\n",
    "- **advertiser_ids** - поиск по списку идентификаторов рекламодателей;\n",
    "- **product_category_l4** - поиск по названию категории товаров и услуг 4-ого уровня. Возможно задавать часть названия;\n",
    "- **product_category_l4_eng** - поиск по названию категории товаров и услуг 4-ого уровня на английском языке. Возможно задавать часть названия;\n",
    "- **product_category_l4_ids** - поиск по списку идентификаторов категории товаров и услуг 4-ого уровня;\n",
    "- **product_category_l3** - поиск по названию категории товаров и услуг 3-его уровня. Возможно задавать часть названия;\n",
    "- **product_category_l3_eng** - поиск по названию категории товаров и услуг 3-его уровня на английском языке. Возможно задавать часть названия;\n",
    "- **product_category_l3_ids** - поиск по списку идентификаторов категории товаров и услуг 3-его уровня;\n",
    "- **product_category_l2** - поиск по названию категории товаров и услуг 2-ого уровня. Возможно задавать часть названия;\n",
    "- **product_category_l2_eng** - поиск по названию категории товаров и услуг 2-ого уровня на английском языке. Возможно задавать часть названия;\n",
    "- **product_category_l2_ids** - поиск по списку идентификаторов категории товаров и услуг 2-ого уровня;\n",
    "- **product_category_l1** - поиск по названию категории товаров и услуг 1-ого уровня. Возможно задавать часть названия;\n",
    "- **product_category_l1_eng** - поиск по названию категории товаров и услуг 1-ого уровня на английском языке. Возможно задавать часть названия;\n",
    "- **product_category_l1_ids** - поиск по списку идентификаторов категории товаров и услуг 1-ого уровня.\n",
    "\n",
    "\n",
    "Параметры поиска можно комбинировать. \n",
    "\n",
    "#### Поиск по названию\n",
    "\n",
    "Найдем категорию товаров и услуг 4-ого уровня \"Маркетплейсы\" в справочнике и выведем всех рекламодателей, относящихся к этой категории."
   ]
  },
  {
   "cell_type": "code",
   "execution_count": null,
   "metadata": {},
   "outputs": [],
   "source": [
    "df_find_marketplace = cats.get_product_advertiser(product_category_l4=\"маркетплейс\")\n",
    "df_find_marketplace"
   ]
  },
  {
   "cell_type": "code",
   "execution_count": null,
   "metadata": {},
   "outputs": [],
   "source": [
    "writer = pd.ExcelWriter('adv_cat.xlsx')\n",
    "df_find_marketplace.to_excel(writer, 'adv_cat', index=False)\n",
    "writer.save()"
   ]
  },
  {
   "cell_type": "markdown",
   "metadata": {},
   "source": [
    "#### Поиск по идентификатору\n",
    "\n",
    "Найдем все бренды с идентификаторами категории товаров и услуг 2-ого уровня:\n",
    "- id 2277 - УСЛУГИ СТРАХОВЫЕ\n",
    "- id 2272 - УСЛУГИ ФИНАНСОВЫЕ"
   ]
  },
  {
   "cell_type": "code",
   "execution_count": null,
   "metadata": {},
   "outputs": [],
   "source": [
    "df_brand_by_id = cats.get_product_brand(product_category_l2_ids=[2277, 2272])\n",
    "df_brand_by_id"
   ]
  },
  {
   "cell_type": "markdown",
   "metadata": {},
   "source": [
    "#### Поиск по нескольким параметрам\n",
    "\n",
    "Параметры поиска можно комбинировать. \n",
    "\n",
    "Добавим к предыдущему примеру еще один параметр поиска - название рекламодателя СБЕР."
   ]
  },
  {
   "cell_type": "code",
   "execution_count": null,
   "metadata": {},
   "outputs": [],
   "source": [
    "df_brand_by_id_2 = cats.get_product_brand(product_category_l2_ids=[2277, 2272], advertiser='СБЕР') \n",
    "df_brand_by_id_2"
   ]
  },
  {
   "cell_type": "markdown",
   "metadata": {},
   "source": [
    "# Справочники атрибутов событий рекламы"
   ]
  },
  {
   "cell_type": "markdown",
   "metadata": {},
   "source": [
    "### Рекламные сети\n",
    "Получим список рекламных сетей"
   ]
  },
  {
   "cell_type": "code",
   "execution_count": null,
   "metadata": {},
   "outputs": [],
   "source": [
    "df_networks = cats.get_ad_network()\n",
    "df_networks"
   ]
  },
  {
   "cell_type": "markdown",
   "metadata": {},
   "source": [
    "### Рекламные плееры\n",
    "Получим список рекламных серверов"
   ]
  },
  {
   "cell_type": "code",
   "execution_count": null,
   "metadata": {},
   "outputs": [],
   "source": [
    "df_players = cats.get_ad_player()\n",
    "df_players"
   ]
  }
 ],
 "metadata": {
  "kernelspec": {
   "display_name": "Python 3 (ipykernel)",
   "language": "python",
   "name": "python3"
  },
  "language_info": {
   "codemirror_mode": {
    "name": "ipython",
    "version": 3
   },
   "file_extension": ".py",
   "mimetype": "text/x-python",
   "name": "python",
   "nbconvert_exporter": "python",
   "pygments_lexer": "ipython3",
   "version": "3.9.7"
  }
 },
 "nbformat": 4,
 "nbformat_minor": 4
}
