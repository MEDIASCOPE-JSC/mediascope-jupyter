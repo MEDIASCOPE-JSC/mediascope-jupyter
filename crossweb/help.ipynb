{
 "cells": [
  {
   "attachments": {},
   "cell_type": "markdown",
   "metadata": {},
   "source": [
    "# Справка\n",
    "\n",
    "API Cross Web осуществляет расчет данных проекта Cross Web по измерению аудитории медиа объектов в интернете: проекты \"Измерение интернет-аудитории\" и \"Измерение аудитории и профиля рекламных кампаний в интернете\".\n",
    " \n",
    "Обращаться к API Cross Web будем с помощью Jupyter Notebook, для этого необходимо владеть некоторыми терминами. \n",
    "\n",
    "Ниже описаны основные из них.\n",
    "\n",
    "### usetype - тип пользования интернетом\n",
    "\n",
    "Возможные варианты:\n",
    "\n",
    "- 1 - Web Desktop\n",
    "- 2 - Web Mobile\n",
    "- 3 - App Mobile\n",
    "\n",
    "## Типы расчетов\n",
    "\n",
    "\n",
    "### Audience - расчет объема аудитории интернет-ресурсов\n",
    "\n",
    "Доступны следующие статистики:\n",
    "\n",
    "- adatg -  Average Daily Attention Of Group\n",
    "- adatt -  Average Daily Attention\n",
    "- addPerP  - Average Daily Duration на население\n",
    "- addPerU - Average Daily Duration на пользователей\n",
    "- adf - Average Daily Frequency\n",
    "- ado - Average Daily OTS\n",
    "- adr - Average Daily Reach\n",
    "- adrPer - Average Daily Reach %\n",
    "- affinity\n",
    "- affinityAdr\n",
    "- affinityAdrInternet\n",
    "- affinityInternet\n",
    "- atg - Attention Of Group\n",
    "- att - Attention\n",
    "- averageAge - Average Age\n",
    "- awr - Average Weekly Reach\n",
    "- awrPer - Average Weekly Reach %    \n",
    "- dr - Days Reached\n",
    "- drfd - Days Reached Frequency Distribution\n",
    "- durationPerP - Duration на население\n",
    "- durationPerU - Duration на пользователей\n",
    "- exclusiveReach - Exclusive Reach\n",
    "- exclusiveReachUt - Exclusive Reach Ut\n",
    "- frequency\n",
    "- grp - Gross Rating Point\n",
    "- ots\n",
    "- reach\n",
    "- reachAdd - Reach Average Daily Duration\n",
    "- reachN - Reach N+ Distribution\n",
    "- reachPer - Reach %\n",
    "- uni - Universe\n",
    "\n",
    "### Duplication - расчет пересечения аудитории интернет-ресурсов\n",
    "\n",
    "Доступны следующие статистики:\n",
    "\n",
    "- adr - Average Daily Reach\n",
    "- adrPer - Average Daily Reach %\n",
    "- awr - Average Weekly Reach\n",
    "- awrPer - Average Weekly Reach %    \n",
    "- reach\n",
    "- reachPer - Reach %\n",
    "- uni - Universe\n",
    "\n",
    "### Advertisement - расчет данных в рамках проекта \"Измерение аудитории и профиля рекламных кампаний в интернете\"\n",
    "\n",
    "Доступны следующие статистики:\n",
    "\n",
    "- ado - Average Daily OTS\n",
    "- awo - Average Weekly OTS\n",
    "- exclusiveReach - Exclusive Reach\n",
    "- exclusiveReachUt - Exclusive Reach Ut\n",
    "- frequency\n",
    "- ots\n",
    "- reach\n",
    "- reachN - Reach N+ Distribution\n",
    "- reachPer - Reach %\n",
    "- uni - Universe\n",
    "\n",
    "### Profile duplication - расчет пересечения аудитории в рамках проекта \"Измерение аудитории и профиля рекламных кампаний в интернете\"\n",
    "\n",
    "Доступны следующие статистики:\n",
    "\n",
    "- adr - Average Daily Reach\n",
    "- adrPer - Average Daily Reach %\n",
    "- awr - Average Weekly Reach\n",
    "- awrPer - Average Weekly Reach %    \n",
    "- reach\n",
    "- reachPer - Reach %\n",
    "- uni - Universe\n",
    "\n",
    "### Audience media&profile - расчет совокупной аудитории интернет-ресурсов (Сross Web) и проекта \"Измерение аудитории и профиля рекламных кампаний в интернете\"\n",
    "\n",
    "Доступны следующие статистики:\n",
    "\n",
    "- exclusiveReach - Exclusive Reach\n",
    "- frequency\n",
    "- mediaExclusiveReach - Media Exclusive Reach\n",
    "- ots\n",
    "- profileExclusiveReach - Profile Exclusive Reach\n",
    "- reach\n",
    "- reachN - Reach N+ Distribution\n",
    "- reachPer - Reach %\n",
    "- uni - Universe"
   ]
  },
  {
   "cell_type": "markdown",
   "metadata": {},
   "source": [
    "# Библиотека Mediascope API\n",
    "Библиотека Mediascope содержит набор классов и методов, которые позволяют упростить работу с API.\n",
    "\n",
    "Импортируйте библиотеку Mediascope API\n",
    "\n"
   ]
  },
  {
   "cell_type": "code",
   "execution_count": null,
   "metadata": {},
   "outputs": [],
   "source": [
    "%reload_ext autoreload\n",
    "%autoreload 2\n",
    "\n",
    "import sys\n",
    "import os\n",
    "import re\n",
    "import json\n",
    "import datetime\n",
    "import time\n",
    "import pandas as pd\n",
    "from pathlib import Path\n",
    "from IPython.display import JSON\n",
    "\n",
    "from mediascope_api.core import net as msnet\n",
    "from mediascope_api.crossweb import catalogs as cwc\n",
    "from mediascope_api.crossweb import tasks as cwt"
   ]
  },
  {
   "cell_type": "markdown",
   "metadata": {},
   "source": [
    "Создайте объекты для работы с API"
   ]
  },
  {
   "cell_type": "code",
   "execution_count": null,
   "metadata": {},
   "outputs": [],
   "source": [
    "mtask = cwt.CrossWebTask()\n",
    "cats = cwc.CrossWebCats()"
   ]
  },
  {
   "cell_type": "markdown",
   "metadata": {},
   "source": [
    "# Работа с Mediascope Jupyter Notebook\n",
    "\n",
    "В работе с Mediascope Jupyter Notebook можно выделить два основных действия:\n",
    "\n",
    "- расчет заданий (создание задания, расчет, получение результата);\n",
    "- работа со справочниками."
   ]
  },
  {
   "cell_type": "markdown",
   "metadata": {},
   "source": [
    "## Расчет заданий\n",
    "\n",
    "Стандартный сценарий работы с заданиями:\n",
    "\n",
    "- инициализация - импорт библиотеки и создание объектов для работы с API Cross Web;\n",
    "- формирование задания;\n",
    "- отправление задания на расчет и ожидание результата;\n",
    "- получение результата и его преобразование в pandas.DataFrame;\n",
    "- при необходимости сохранение результата в Excel.\n",
    "\n",
    "При формировании задания можно указать параметры, приведенные ниже. \n",
    "\n",
    "- **filters** - фильтры нескольких типов:\n",
    "    - **date_filter** - фильтр по периодам\n",
    "    - **usetype_filter** - фильтр по типам пользования интернетом\n",
    "    - **media_usetype_filter** - фильтр по типам пользования интернетом для медиа при работе с ноутбуком \"audience_media&profile\"\n",
    "    - **profile_usetype_filter** - фильтр по типам пользования интернетом для рекламы при работе с ноутбуком \"audience_media&profile\"\n",
    "    - **geo_filter** - фильтр по географии\n",
    "    - **demo_filter** - фильтр по соц.-дему\n",
    "    - **mart_filter** - фильтр по медиа-объектам\n",
    "    - **duplication_mart_filter** - фильтр по пересечению (для типа расчета Duplication)\n",
    "- **slices** - срезы\n",
    "- **statistics** - статистики\n",
    "- **scales** - шкалы, если заданы статистики со шкалами (drfd, reachN)\n",
    "\n",
    "Из перечисленных параметров обязательными являются:\n",
    "\n",
    "- **date_filter** - фильтр по периоду\n",
    "- **usetype_filter** - фильтр по типам пользования интернетом (или **media_usetype_filter** и **profile_usetype_filter** при работе с ноутбуком \"audience_media&profile\")\n",
    "- **scales** - шкалы, если заданы статистики со шкалами (drfd, reachN)\n",
    "- **mart_filter и duplication_mart_filter** - фильтр по медиа-объектам и фильтр по пересечению для типа расчета Duplication\n",
    "\n",
    "Без их указания рассчитать задание невозможно.\n",
    "\n",
    "Для расчета заданий существуют методы в модуле mediascope_api.crossweb.tasks: \n",
    "\n",
    "- **build_task** - формирует задание: принимает указанные параметры, проверяет их и создает JSON для API Cross Web. Есть три типа заданий: _'media'_ (для расчета по медиа объектам), _'total'_ (для расчета Total Internet), _'ad'_ (для расчета по рекламным кампаниям); \n",
    "- **build_task_media_duplication** - формирует задание для расчета типа Duplication: принимает указанные параметры, проверяет их и создает JSON для API Cross Web. Тип заданий: _'media-duplication'_; \n",
    "- **send_task** - отправляет задание на расчет;\n",
    "- **wait_task** - ожидает расчет;\n",
    "- **get_result** - получает результат;\n",
    "- **result2table** - преобразует результат из JSON в pandas.DataFrame."
   ]
  },
  {
   "cell_type": "markdown",
   "metadata": {},
   "source": [
    "**При формировании задания необходимо корректно задавать атрибуты для параметров.** \n",
    "\n",
    "Для **media** доступные атрибуты и допустимые для них значения можно получить методом `get_media_unit()`:"
   ]
  },
  {
   "cell_type": "code",
   "execution_count": null,
   "metadata": {},
   "outputs": [],
   "source": [
    "cats.get_media_unit()"
   ]
  },
  {
   "cell_type": "markdown",
   "metadata": {},
   "source": [
    "Для **media total** доступные атрибуты и допустимые для них значения можно получить методом `get_media_total_unit()`:"
   ]
  },
  {
   "cell_type": "code",
   "execution_count": null,
   "metadata": {},
   "outputs": [],
   "source": [
    "cats.get_media_total_unit()"
   ]
  },
  {
   "cell_type": "markdown",
   "metadata": {},
   "source": [
    "Для **duplication media** доступные атрибуты и допустимые для них значения можно получить методом `get_media_duplication_unit()`:"
   ]
  },
  {
   "cell_type": "code",
   "execution_count": null,
   "metadata": {},
   "outputs": [],
   "source": [
    "cats.get_media_duplication_unit()"
   ]
  },
  {
   "cell_type": "markdown",
   "metadata": {},
   "source": [
    "Для **рекламы** доступные атрибуты и допустимые для них значения можно получить методом `get_ad_unit()`:"
   ]
  },
  {
   "cell_type": "code",
   "execution_count": null,
   "metadata": {},
   "outputs": [],
   "source": [
    "cats.get_ad_unit()"
   ]
  },
  {
   "cell_type": "markdown",
   "metadata": {},
   "source": [
    "Для **duplication рекламы** доступные атрибуты и допустимые для них значения можно получить методом `get_media_duplication_unit()`:"
   ]
  },
  {
   "cell_type": "code",
   "execution_count": null,
   "metadata": {},
   "outputs": [],
   "source": [
    "cats.get_profile_duplication_unit()"
   ]
  },
  {
   "cell_type": "markdown",
   "metadata": {},
   "source": [
    "Для **media & рекламы** доступные атрибуты и допустимые для них значения можно получить методом `get_media_profile_unit()`:"
   ]
  },
  {
   "cell_type": "code",
   "execution_count": null,
   "metadata": {},
   "outputs": [],
   "source": [
    "cats.get_media_profile_unit()"
   ]
  },
  {
   "cell_type": "markdown",
   "metadata": {},
   "source": [
    "Создавать выражения для фильтров **geo_filter**, **demo_filter**, **mart_filter** и **duplication_mart_filter** можно с помощью следующих операторов:\n",
    "\n",
    "    = (равно)\n",
    "    != (не равно)\n",
    "    > (больше)\n",
    "    < (меньше)\n",
    "    >= (больше или равно) \n",
    "    <= (меньше или равно)\n",
    "    AND (И)\n",
    "    OR (ИЛИ)\n",
    "    IN() (вхождение в список значений)"
   ]
  },
  {
   "cell_type": "markdown",
   "metadata": {},
   "source": [
    "## Вывод справки\n",
    "\n",
    "Все методы библиотеки Mediascope имеют справку.\n",
    "\n",
    "Для вывода справки нужно нажать комбинацию клавиш __Shift+Tab__\n",
    "```\n",
    "mtask.build_task(\n",
    "```\n",
    "или воспользоваться командой __help__"
   ]
  },
  {
   "cell_type": "code",
   "execution_count": null,
   "metadata": {},
   "outputs": [],
   "source": [
    "help(mtask.build_task)"
   ]
  },
  {
   "cell_type": "markdown",
   "metadata": {},
   "source": [
    "## Работа со справочниками\n",
    "\n",
    "Для работы со справочниками в библиотеке Mediascope содержатся методы в модуле `mediascope_api.crossweb.catalogs`.\n",
    "\n",
    "В ноутбуке [catalogs](catalogs.ipynb) приведены примеры получения данных из всех доступных справочников."
   ]
  }
 ],
 "metadata": {
  "kernelspec": {
   "display_name": "Python 3",
   "language": "python",
   "name": "python3"
  },
  "language_info": {
   "codemirror_mode": {
    "name": "ipython",
    "version": 3
   },
   "file_extension": ".py",
   "mimetype": "text/x-python",
   "name": "python",
   "nbconvert_exporter": "python",
   "pygments_lexer": "ipython3",
   "version": "3.8.8"
  }
 },
 "nbformat": 4,
 "nbformat_minor": 4
}
