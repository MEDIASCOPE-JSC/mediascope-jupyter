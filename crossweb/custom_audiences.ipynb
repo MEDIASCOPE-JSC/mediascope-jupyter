{
 "cells": [
  {
   "cell_type": "markdown",
   "metadata": {},
   "source": [
    "# Пользовательские демографические группы\n",
    "Ноутбук с примерами формирования пользовательских демографических групп.\n",
    "\n",
    "Общие принципы формирования демографических групп:\n",
    "- формируются на основе значений справочника социально-демографических переменных\n",
    "- доступные операторы:\n",
    "    ```\n",
    "    = (равенство)\n",
    "    != (неравенство)\n",
    "    > (больше)\n",
    "    < (меньше)\n",
    "    >= (больше или равно) \n",
    "    <= (меньше или равно)\n",
    "    AND (И)\n",
    "    OR (ИЛИ)\n",
    "    IN() (вхождение в список значений)\n",
    "    NIN() (невхождение в список значений)\n",
    "    ```\n",
    "\n",
    "Рассмотрим подробнее на примере следующих демографических групп:\n",
    "1. Мужчины 35-44 лет\n",
    "2. Мужчины 18-24 лет или женщины 25-34 лет\n",
    "3. Все 20-56 лет\n",
    "4. Не руководители 25-54 лет\n",
    "5. Работающие жители Большой Москвы\n",
    "\n",
    "Параметры:\n",
    "- Период: Сентябрь 2021\n",
    "- Тип пользования интернетом: ограничения нет, считаем по всем (Web Desktop, Web Mobile, App Mobile)\n",
    "- Ресурс: Ivi\n",
    "\n",
    "Статистики:\n",
    "- Reach (reach)"
   ]
  },
  {
   "cell_type": "markdown",
   "metadata": {},
   "source": [
    "# Инициализация\n",
    "\n",
    "При построении отчета первый шаг в любом ноутбуке - загрузка библиотек, которые помогут обращаться к API Cross Web и работать с данными.\n",
    "\n",
    "Выполните следующую ячейку, для этого перейдите в нее и нажмите Ctrl+Enter"
   ]
  },
  {
   "cell_type": "code",
   "execution_count": null,
   "metadata": {},
   "outputs": [],
   "source": [
    "%reload_ext autoreload\n",
    "%autoreload 2\n",
    "\n",
    "import sys\n",
    "import os\n",
    "import re\n",
    "import json\n",
    "import datetime\n",
    "import time\n",
    "import pandas as pd\n",
    "#import matplotlib.pyplot as plt\n",
    "from IPython.display import JSON\n",
    "\n",
    "from mediascope_api.core import net as mscore\n",
    "from mediascope_api.crossweb import tasks as cwt\n",
    "from mediascope_api.crossweb import catalogs as cwc\n",
    "\n",
    "# Настраиваем отображение\n",
    "\n",
    "# Включаем отображение всех колонок\n",
    "pd.set_option('display.max_columns', None)\n",
    "# Задаем максимальное количество выводимых строк. Раскомментируйте нужную строку\n",
    "# 200 строк\n",
    "# pd.set_option(\"display.max_rows\", 200)\n",
    "# Отображаем все строки. ВАЖНО! Отображение большого DataFrame требует много ресурсов\n",
    "# pd.set_option(\"display.max_rows\", None)\n",
    "\n",
    "# Создаем объекты для работы с API\n",
    "mnet = mscore.MediascopeApiNetwork()\n",
    "mtask = cwt.CrossWebTask()\n",
    "cats = cwc.CrossWebCats()"
   ]
  },
  {
   "cell_type": "markdown",
   "metadata": {},
   "source": [
    "## Список социально-демографических переменных\n",
    "Для формирования синтаксиса демографических групп нам понадобится справочник социально-демографических переменных.\n",
    "\n",
    "Найдем необходимые социально-демографические переменные с помощью метода поиска в справочнике. Работа со справочником подробно описана в ноутбуке [catalogs](catalogs.ipynb). "
   ]
  },
  {
   "cell_type": "code",
   "execution_count": null,
   "metadata": {
    "scrolled": true
   },
   "outputs": [],
   "source": [
    "# Например, найдем в справочнике переменные, содержащие текст \"Пол\"\n",
    "cats.find_property('Пол', expand=True)"
   ]
  },
  {
   "cell_type": "markdown",
   "metadata": {},
   "source": [
    "### Общие параметры для заданий\n",
    "\n",
    "Для начала зададим общие параметры"
   ]
  },
  {
   "cell_type": "code",
   "execution_count": null,
   "metadata": {},
   "outputs": [],
   "source": [
    "# Задаем период\n",
    "# Период указывается в виде списка ('Начало', 'Конец'). Можно указать несколько периодов\n",
    "date_filter = [('2021-09-01', '2021-09-30')]\n",
    "\n",
    "# Задаем фильтр по типам пользования интернетом\n",
    "usetype_filter = [1,2,3]"
   ]
  },
  {
   "cell_type": "markdown",
   "metadata": {},
   "source": [
    "## Задания\n",
    "\n",
    "Перейдем к формированию заданий.\n",
    "\n",
    "\n",
    "### Задание №1. Мужчины 35-44 лет"
   ]
  },
  {
   "cell_type": "markdown",
   "metadata": {},
   "source": [
    "Из справочника видим, что для отбора мужчин нам нужно значение 1 переменной **sex**\n",
    "```\n",
    "    sex = 1\n",
    "```\n",
    "Возрастной группе 35-44 соответствует значение 4 переменной **ageGroup**\n",
    "```\n",
    "    ageGroup = 4\n",
    "```\n",
    "Объединяем выражения через оператор AND\n",
    "```\n",
    "    sex = 1 AND ageGroup = 4\n",
    "```"
   ]
  },
  {
   "cell_type": "markdown",
   "metadata": {},
   "source": [
    "### Получим ID ресурса\n",
    "Для построения отчета необходимо получить идентификатор ресурса __Ivi__.\n",
    "\n",
    "Для этого воспользуемся методом поиска в медиа справочнике. Работа с медиа справочником подробно описана в ноутбуке [catalogs](catalogs.ipynb). \n",
    "\n",
    "Получим идентификатор ресурса **Ivi**"
   ]
  },
  {
   "cell_type": "code",
   "execution_count": null,
   "metadata": {},
   "outputs": [],
   "source": [
    "cats.get_resource(resource='Ivi')"
   ]
  },
  {
   "cell_type": "markdown",
   "metadata": {},
   "source": [
    "Таким образом, необходимый идентификатор следующий:\n",
    "\n",
    "- **Ivi**  resourceId = 1067"
   ]
  },
  {
   "cell_type": "code",
   "execution_count": null,
   "metadata": {
    "scrolled": true
   },
   "outputs": [],
   "source": [
    "# Задаем название для отображения в DataFrame\n",
    "project_name = 'Ivi M35-44'\n",
    "\n",
    "# Задаем фильтр по географии, в нашем случае он не требуется\n",
    "geo_filter = None\n",
    "\n",
    "# Задаем фильтр по демографии, в нашем случае составленное выше выражение для переменной \"Мужчины 35-44 лет\" \n",
    "demo_filter = 'sex = 1 AND ageGroup = 4'\n",
    "\n",
    "# Задаем фильтр по медиа, в нашем случае это ID ресурса Ivi\n",
    "mart_filter = 'crossMediaResourceId = 1067'\n",
    "\n",
    "# Указываем список срезов, чтобы сформировать структуру расчета\n",
    "slices = [\"researchMonth\", \"crossMediaResourceId\"]\n",
    "\n",
    "# Указываем список статистик для расчета\n",
    "statistics = ['reach']\n",
    "\n",
    "# Формируем задание для API Cross Web в формате JSON\n",
    "task_json = mtask.build_task('media', project_name, date_filter, usetype_filter, geo_filter,\n",
    "                             demo_filter, mart_filter, slices, statistics)\n",
    "\n",
    "# Отправляем задание на расчет и ждем выполнения\n",
    "task_audience = mtask.wait_task(mtask.send_audience_task(task_json))\n",
    "\n",
    "# Получаем результат\n",
    "df_1 = mtask.result2table(mtask.get_result(task_audience),project_name)\n",
    "df_1"
   ]
  },
  {
   "cell_type": "markdown",
   "metadata": {},
   "source": [
    "### Задание №2. Мужчины 18-24 лет или женщины 25-34 лет"
   ]
  },
  {
   "cell_type": "markdown",
   "metadata": {},
   "source": [
    "Возвращаемся к справочнику социально-демографических переменных. Для отбора мужчин 18-24 лет нам нужно значение 1 переменной **sex** и значение 2 переменной **ageGroup**\n",
    "```\n",
    "sex = 1 AND ageGroup = 2\n",
    "```\n",
    "Для отбора женщин 25-34 лет синтаксис будет следующим:\n",
    "```\n",
    "sex = 2 AND ageGroup = 3\n",
    "```\n",
    "Объединяем через оператор OR\n",
    "```\n",
    "(sex = 1 AND ageGroup = 2) OR (sex = 2 AND ageGroup = 3)\n",
    "```"
   ]
  },
  {
   "cell_type": "code",
   "execution_count": null,
   "metadata": {
    "scrolled": true
   },
   "outputs": [],
   "source": [
    "# Задаем название для отображения в DataFrame\n",
    "project_name = 'Ivi M18-24 + W25-34'\n",
    "\n",
    "# Задаем фильтр по географии, в нашем случае он не требуется\n",
    "geo_filter = None\n",
    "\n",
    "# Задаем фильтр по демографии, в нашем случае составленное выше выражение для переменной \"Мужчины 18-24 лет или женщины 25-34 лет\"\n",
    "demo_filter = '(sex = 1 AND ageGroup = 2) OR (sex = 2 AND ageGroup = 3)'\n",
    "\n",
    "# Задаем фильтр по медиа, в нашем случае это ID ресурса Ivi\n",
    "mart_filter = 'crossMediaResourceId = 1067'\n",
    "\n",
    "# Указываем список срезов, чтобы сформировать структуру расчета\n",
    "slices = [\"researchMonth\", \"crossMediaResourceId\"]\n",
    "\n",
    "# Указываем список статистик для расчета\n",
    "statistics = ['reach']\n",
    "\n",
    "# Формируем задание для API Cross Web в формате JSON\n",
    "task_json = mtask.build_task('media', project_name, date_filter, usetype_filter, geo_filter,\n",
    "                             demo_filter, mart_filter, slices, statistics)\n",
    "\n",
    "# Отправляем задание на расчет и ждем выполнения\n",
    "task_audience = mtask.wait_task(mtask.send_audience_task(task_json))\n",
    "\n",
    "# Получаем результат\n",
    "df_2 = mtask.result2table(mtask.get_result(task_audience), project_name)\n",
    "df_2"
   ]
  },
  {
   "cell_type": "markdown",
   "metadata": {},
   "source": [
    "### Задание №3. Все 20-56 лет"
   ]
  },
  {
   "cell_type": "markdown",
   "metadata": {},
   "source": [
    "Возраст 20-56 лет не получится собрать из переменной **ageGroup**, нам понадобится переменная **age**.\n",
    "\n",
    "Зададим диапазон возраста с помощью операторов сравнения \"больше или равно\" (**>=**) и \"меньше или равно\" (**<=**):\n",
    "```\n",
    "age >= 20 AND age <= 56\n",
    "```"
   ]
  },
  {
   "cell_type": "code",
   "execution_count": null,
   "metadata": {},
   "outputs": [],
   "source": [
    "# Задаем название для отображения в DataFrame\n",
    "project_name = 'Ivi All 20-56'\n",
    "\n",
    "# Задаем фильтр по географии, в нашем случае он не требуется\n",
    "geo_filter = None\n",
    "\n",
    "# Задаем фильтр по демографии, в нашем случае составленное выше выражение для переменной \"Все 20-56 лет\"\n",
    "demo_filter = 'age >= 20 AND age <= 56'\n",
    "\n",
    "# Задаем фильтр по медиа, в нашем случае это ID ресурса Ivi\n",
    "mart_filter = 'crossMediaResourceId = 1067'\n",
    "\n",
    "# Указываем список срезов, чтобы сформировать структуру расчета\n",
    "slices = [\"researchMonth\", \"crossMediaResourceId\"]\n",
    "\n",
    "# Указываем список статистик для расчета\n",
    "statistics = ['reach']\n",
    "\n",
    "# Формируем задание для API Cross Web в формате JSON\n",
    "task_json = mtask.build_task('media', project_name, date_filter, usetype_filter, geo_filter,\n",
    "                             demo_filter, mart_filter, slices, statistics)\n",
    "\n",
    "# Отправляем задание на расчет и ждем выполнения\n",
    "task_audience = mtask.wait_task(mtask.send_audience_task(task_json))\n",
    "\n",
    "# Получаем результат\n",
    "df_3 = mtask.result2table(mtask.get_result(task_audience), project_name)\n",
    "df_3"
   ]
  },
  {
   "cell_type": "markdown",
   "metadata": {},
   "source": [
    "### Задание №4. Не руководители 25-54 лет"
   ]
  },
  {
   "cell_type": "markdown",
   "metadata": {},
   "source": [
    "Для отбора возрастной группы 25-54 нам понадобятся значения 3, 4 и 5 переменной **ageGroup**. Для упрощения мы не будем составлять три условия через OR, а воспользуемся оператором IN\n",
    "```\n",
    "ageGroup IN (3, 4, 5)\n",
    "```\n",
    "Условие \"не руководители\" можно также коротко задать при помощи оператора неравенства \"!=\"\n",
    "```\n",
    "occupation != 1\n",
    "```\n",
    "Объединяем через оператор AND\n",
    "```\n",
    "ageGroup IN (3, 4, 5) AND occupation != 1\n",
    "```"
   ]
  },
  {
   "cell_type": "code",
   "execution_count": null,
   "metadata": {
    "scrolled": true
   },
   "outputs": [],
   "source": [
    "# Задаем название для отображения в DataFrame\n",
    "project_name = 'Ivi 25-54 not dir'\n",
    "\n",
    "# Задаем фильтр по географии, в нашем случае он не требуется\n",
    "geo_filter = None\n",
    "\n",
    "# Задаем фильтр по демографии, в нашем случае составленное выше выражение для переменной \"Не руководители 25-54 лет\"\n",
    "demo_filter = 'ageGroup IN (3, 4, 5) AND occupation != 1'\n",
    "\n",
    "# Задаем фильтр по медиа, в нашем случае это ID ресурса Ivi\n",
    "mart_filter = 'crossMediaResourceId = 1067'\n",
    "\n",
    "# Указываем список срезов, чтобы сформировать структуру расчета\n",
    "slices = [\"researchMonth\", \"crossMediaResourceId\"]\n",
    "\n",
    "# Указываем список статистик для расчета\n",
    "statistics = ['reach']\n",
    "\n",
    "# Формируем задание для API Cross Web в формате JSON\n",
    "task_json = mtask.build_task('media', project_name, date_filter, usetype_filter, geo_filter,\n",
    "                             demo_filter, mart_filter, slices, statistics)\n",
    "\n",
    "# Отправляем задание на расчет и ждем выполнения\n",
    "task_audience = mtask.wait_task(mtask.send_audience_task(task_json))\n",
    "\n",
    "# Получаем результат\n",
    "df_4 = mtask.result2table(mtask.get_result(task_audience), project_name)\n",
    "df_4"
   ]
  },
  {
   "cell_type": "markdown",
   "metadata": {},
   "source": [
    "### Задание №5. Работающие жители Большой Москвы"
   ]
  },
  {
   "cell_type": "markdown",
   "metadata": {},
   "source": [
    "Географию \"Большая Москва\" зададим при помощи переменной **сityPop**\n",
    "```\n",
    "cityPop = 1\n",
    "```\n",
    "Для выбора работающих нам потребуется переменная **work**\n",
    "```\n",
    "work = 1\n",
    "```"
   ]
  },
  {
   "cell_type": "code",
   "execution_count": null,
   "metadata": {
    "scrolled": true
   },
   "outputs": [],
   "source": [
    "# Задаем название для отображения в DataFrame\n",
    "project_name = 'Ivi BM work'\n",
    "\n",
    "# Задаем фильтр по географии, в нашем случае составленное выше выражение для Большой Москвы\n",
    "geo_filter = 'cityPop = 1'\n",
    "\n",
    "# Задаем фильтр по демографии, в нашем случае составленное выше выражение для работающих \n",
    "demo_filter = 'work = 1'\n",
    "\n",
    "# Задаем фильтр по медиа, в нашем случае это ID ресурса Ivi\n",
    "mart_filter = 'crossMediaResourceId = 1067'\n",
    "\n",
    "# Указываем список срезов, чтобы сформировать структуру расчета\n",
    "slices = [\"researchMonth\", \"crossMediaResourceId\"]\n",
    "\n",
    "# Указываем список статистик для расчета\n",
    "statistics = ['reach']\n",
    "\n",
    "# Формируем задание для API Cross Web в формате JSON\n",
    "task_json = mtask.build_task('media', project_name, date_filter, usetype_filter, geo_filter,\n",
    "                             demo_filter, mart_filter, slices, statistics)\n",
    "\n",
    "# Отправляем задание на расчет и ждем выполнения\n",
    "task_audience = mtask.wait_task(mtask.send_audience_task(task_json))\n",
    "\n",
    "# Получаем результат\n",
    "df_5 = mtask.result2table(mtask.get_result(task_audience), project_name)\n",
    "df_5"
   ]
  }
 ],
 "metadata": {
  "kernelspec": {
   "display_name": "Python 3",
   "language": "python",
   "name": "python3"
  },
  "language_info": {
   "codemirror_mode": {
    "name": "ipython",
    "version": 3
   },
   "file_extension": ".py",
   "mimetype": "text/x-python",
   "name": "python",
   "nbconvert_exporter": "python",
   "pygments_lexer": "ipython3",
   "version": "3.8.8"
  }
 },
 "nbformat": 4,
 "nbformat_minor": 4
}
