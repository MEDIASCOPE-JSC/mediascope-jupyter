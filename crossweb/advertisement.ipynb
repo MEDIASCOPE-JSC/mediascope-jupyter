{
 "cells": [
  {
   "cell_type": "markdown",
   "metadata": {},
   "source": [
    "# Advertisement\n",
    "Пример отчета по расчету аудитории рекламных кампаний.\n",
    "\n",
    "## Описание задачи\n",
    "\n",
    "Посчитаем аудиторию по бренду в разбивке на рекламные позиции.\n",
    "\n",
    "Общие параметры:\n",
    "- Период: 3 - 9 января 2022\n",
    "- География: Россия 0+\n",
    "- Население: Возрастная группа 12-34\n",
    "- Типы пользования интернетом: Web Desktop, App Mobile\n",
    "\n",
    "Статистики:\n",
    "- Reach (reach)\n",
    "- Reach% (reachPer)\n",
    "- OTS (ots)\n",
    "- Reach N+ (reachN)\n",
    "- Universe (uni)\n"
   ]
  },
  {
   "cell_type": "markdown",
   "metadata": {},
   "source": [
    "# Инициализация\n",
    "\n",
    "При построении отчета первый шаг в любом ноутбуке - загрузка библиотек, которые помогут обращаться к API Cross Web и работать с данными.\n",
    "\n",
    "Выполните следующую ячейку, для этого перейдите в нее и нажмите Ctrl+Enter"
   ]
  },
  {
   "cell_type": "code",
   "execution_count": null,
   "metadata": {},
   "outputs": [],
   "source": [
    "%reload_ext autoreload\n",
    "%autoreload 2\n",
    "\n",
    "import sys\n",
    "import os\n",
    "import re\n",
    "import json\n",
    "import datetime\n",
    "import time\n",
    "import pandas as pd\n",
    "#import matplotlib.pyplot as plt\n",
    "from IPython.display import JSON\n",
    "\n",
    "from mediascope_api.core import net as mscore\n",
    "from mediascope_api.crossweb import tasks as cwt\n",
    "from mediascope_api.crossweb import catalogs as cwc\n",
    "\n",
    "# Настраиваем отображение\n",
    "\n",
    "# Включаем отображение всех колонок\n",
    "pd.set_option('display.max_columns', None)\n",
    "# Задаем максимальное количество выводимых строк. Раскомментируйте нужную строку\n",
    "# 200 строк\n",
    "# pd.set_option(\"display.max_rows\", 200)\n",
    "# Отображаем все строки. ВАЖНО! Отображение большого DataFrame требует много ресурсов\n",
    "# pd.set_option(\"display.max_rows\", None)\n",
    "\n",
    "# Cоздаем объекты для работы с API Cross Web\n",
    "mnet = mscore.MediascopeApiNetwork()\n",
    "mtask = cwt.CrossWebTask()\n",
    "cats = cwc.CrossWebCats()"
   ]
  },
  {
   "cell_type": "markdown",
   "metadata": {},
   "source": [
    "### Общие параметры для задания\n",
    "\n",
    "Для начала зададим общие параметры"
   ]
  },
  {
   "cell_type": "code",
   "execution_count": null,
   "metadata": {},
   "outputs": [],
   "source": [
    "# Задаем период\n",
    "# Период указывается в виде списка ('Начало', 'Конец'). Можно указать несколько периодов\n",
    "date_filter = [('2022-01-03', '2022-01-09')]\n",
    "\n",
    "# Задаем фильтр по типам пользования интернетом\n",
    "usetype_filter = [1,3]"
   ]
  },
  {
   "cell_type": "markdown",
   "metadata": {},
   "source": [
    "### Получим ID Бренда\n",
    "Для построения отчета необходимо получить идентификатор бренда \n",
    "\n",
    "Для этого воспользуемся методами поиска в справочнике по рекламе. Работа со справочником по рекламе подробно описана в ноутбуке [catalogs](catalogs.ipynb). "
   ]
  },
  {
   "cell_type": "code",
   "execution_count": null,
   "metadata": {},
   "outputs": [],
   "source": [
    "cats.get_brand(brand='Введите название бренда')"
   ]
  },
  {
   "cell_type": "markdown",
   "metadata": {},
   "source": [
    "## Задание\n",
    "\n",
    "Перейдем к формированию задания.\n",
    "\n",
    "\n",
    "### Расчет аудитории по рекламным позициям"
   ]
  },
  {
   "cell_type": "code",
   "execution_count": null,
   "metadata": {
    "scrolled": true
   },
   "outputs": [],
   "source": [
    "# Задаем название для отображения в DataFrame\n",
    "project_name = 'Brand_Name'\n",
    "\n",
    "# Задаем фильтр по географии, в нашем случае он не требуется\n",
    "geo_filter = None\n",
    "\n",
    "# Задаем фильтр по демографии\n",
    "demo_filter = 'ageGroup IN (1,2,3)'\n",
    "\n",
    "# Задаем фильтр по бренду, в нашем случае это ID бренда: \n",
    "mart_filter = 'brandId = BRANDID'\n",
    "\n",
    "# Указываем список срезов, чтобы сформировать структуру расчета\n",
    "slices = [\"advertisementId\", \"advertisementName\"]\n",
    "\n",
    "# Указываем список статистик для расчета\n",
    "statistics = [\"reach\", \"reachPer\", \"ots\", \"reachN\", \"uni\"]\n",
    "\n",
    "scales = {'reachN':[(2, 4), (5,10)]}\n",
    "\n",
    "\n",
    "# Формируем задание для API Cross Web в формате JSON\n",
    "task_json = mtask.build_task('ad', project_name, date_filter, usetype_filter, geo_filter,\n",
    "                                      demo_filter, mart_filter, slices, statistics, scales)\n",
    "\n",
    "\n",
    "# Отправляем задание на расчет и ждем выполнения\n",
    "task = mtask.wait_task(mtask.send_task(task_json))\n",
    "\n",
    "# Получаем результат\n",
    "df_ad = mtask.result2table(mtask.get_result(task), project_name = project_name)\n",
    "df_ad"
   ]
  },
  {
   "cell_type": "markdown",
   "metadata": {},
   "source": [
    "## Сохраняем в Excel"
   ]
  },
  {
   "cell_type": "code",
   "execution_count": null,
   "metadata": {},
   "outputs": [],
   "source": [
    "writer = pd.ExcelWriter(mtask.get_excel_filename('audience-brand'))\n",
    "df_info = mtask.get_report_info()\n",
    "df_ad.to_excel(writer, 'Report', index=False)\n",
    "df_info.to_excel(writer, 'Info', index=False)\n",
    "writer.save()"
   ]
  }
 ],
 "metadata": {
  "kernelspec": {
   "display_name": "Python 3 (ipykernel)",
   "language": "python",
   "name": "python3"
  },
  "language_info": {
   "codemirror_mode": {
    "name": "ipython",
    "version": 3
   },
   "file_extension": ".py",
   "mimetype": "text/x-python",
   "name": "python",
   "nbconvert_exporter": "python",
   "pygments_lexer": "ipython3",
   "version": "3.9.7"
  }
 },
 "nbformat": 4,
 "nbformat_minor": 4
}
