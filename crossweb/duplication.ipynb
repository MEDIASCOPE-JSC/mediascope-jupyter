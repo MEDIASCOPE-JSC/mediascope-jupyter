{
 "cells": [
  {
   "cell_type": "markdown",
   "metadata": {},
   "source": [
    "# Duplication\n",
    "\n",
    "Пример отчета по расчету пересечения аудитории интернет-ресурсов (Cross Web). \n",
    "\n",
    "## Описание задачи\n",
    "\n",
    "Посчитаем пересечение аудитории интернет-ресурсов Avito и Ozon. \n",
    "\n",
    "Общие параметры:\n",
    "- Период: Август 2022\n",
    "- География: Россия 0+\n",
    "- Население: 12+\n",
    "- Типы пользования интернетом: ограничения нет, считаем по всем (Web Desktop, Web Mobile, App Mobile)\n",
    "\n",
    "Статистики:\n",
    "- Reach (reach)\n",
    "- Reach% (reachPer)\n",
    "- Average Daily Reach (adr)\n",
    "- Average Daily Reach% (adrPer)"
   ]
  },
  {
   "cell_type": "markdown",
   "metadata": {},
   "source": [
    "# Инициализация\n",
    "\n",
    "При построении отчета первый шаг в любом ноутбуке - загрузка библиотек, которые помогут обращаться к API Cross Web и работать с данными.\n",
    "\n",
    "Выполните следующую ячейку, для этого перейдите в нее и нажмите Ctrl+Enter"
   ]
  },
  {
   "cell_type": "code",
   "execution_count": null,
   "metadata": {},
   "outputs": [],
   "source": [
    "%reload_ext autoreload\n",
    "%autoreload 2\n",
    "\n",
    "import sys\n",
    "import os\n",
    "import re\n",
    "import json\n",
    "import datetime\n",
    "import time\n",
    "import pandas as pd\n",
    "#import matplotlib.pyplot as plt\n",
    "from IPython.display import JSON\n",
    "\n",
    "from mediascope_api.core import net as mscore\n",
    "from mediascope_api.crossweb import tasks as cwt\n",
    "from mediascope_api.crossweb import catalogs as cwc\n",
    "\n",
    "# Настраиваем отображение\n",
    "\n",
    "# Включаем отображение всех колонок\n",
    "pd.set_option('display.max_columns', None)\n",
    "# Задаем максимальное количество выводимых строк. Раскомментируйте нужную строку\n",
    "# 200 строк\n",
    "# pd.set_option(\"display.max_rows\", 200)\n",
    "# Отображаем все строки. ВАЖНО! Отображение большого DataFrame требует много ресурсов\n",
    "# pd.set_option(\"display.max_rows\", None)\n",
    "\n",
    "# Cоздаем объекты для работы с API Cross Web\n",
    "mnet = mscore.MediascopeApiNetwork()\n",
    "mtask = cwt.CrossWebTask()\n",
    "cats = cwc.CrossWebCats()"
   ]
  },
  {
   "cell_type": "markdown",
   "metadata": {},
   "source": [
    "## Задание"
   ]
  },
  {
   "cell_type": "markdown",
   "metadata": {},
   "source": [
    "### Получим ID ресурсов\n",
    "Для построения отчета необходимо получить идентификаторы ресурсов __Avito__ и __Ozon__.\n",
    "\n",
    "Для этого воспользуемся методами поиска в медиа справочнике. Работа с медиа справочником подробно описана в ноутбуке [catalogs](catalogs.ipynb). \n",
    "\n",
    "Получим идентификатор ресурса **Avito**"
   ]
  },
  {
   "cell_type": "code",
   "execution_count": null,
   "metadata": {},
   "outputs": [],
   "source": [
    "cats.get_resource(resource='Avito')"
   ]
  },
  {
   "cell_type": "markdown",
   "metadata": {},
   "source": [
    "Получим идентификатор ресурса **Ozon**"
   ]
  },
  {
   "cell_type": "code",
   "execution_count": null,
   "metadata": {},
   "outputs": [],
   "source": [
    "cats.get_resource(resource='Ozon')"
   ]
  },
  {
   "cell_type": "markdown",
   "metadata": {},
   "source": [
    "Таким образом, необходимые идентификаторы следующие:\n",
    "\n",
    "- **Avito**  resourceId = 1028\n",
    "- **Ozon**  resourceId = 1094"
   ]
  },
  {
   "cell_type": "markdown",
   "metadata": {},
   "source": [
    "### Расчет пересечения аудитории интернет-ресурсов"
   ]
  },
  {
   "cell_type": "code",
   "execution_count": null,
   "metadata": {
    "scrolled": true
   },
   "outputs": [],
   "source": [
    "%%time\n",
    "\n",
    "# Задаем название для отображения в DataFrame\n",
    "project_name = 'Duplication'\n",
    "\n",
    "# Задаем период\n",
    "# Период указывается в виде списка ('Начало', 'Конец'). Можно указать несколько периодов\n",
    "date_filter = [('2022-08-01', '2022-08-31')]\n",
    "\n",
    "# Задаем фильтр по типам пользования интернетом\n",
    "usetype_filter = [1,2,3]\n",
    "\n",
    "# Задаем фильтр по географии, в нашем случае он не требуется\n",
    "geo_filter = None\n",
    "\n",
    "# Задаем фильтр по демографии, в нашем случае он не требуется\n",
    "demo_filter = None\n",
    "\n",
    "# Задаем фильтр по медиа и фильтр по пересечению, в нашем случае это ID ресурсов Avito и Ozon\n",
    "mart_filter = 'crossMediaResourceId in (1028, 1094)'\n",
    "duplication_mart_filter = 'crossMediaResourceId in (1028, 1094)'\n",
    "\n",
    "# Указываем список срезов, чтобы сформировать структуру расчета\n",
    "slices = [\"crossMediaResourceName\", \"duplicationCrossMediaResourceId\"]\n",
    "\n",
    "# Указываем список статистик для расчета\n",
    "statistics = [\"reach\", \"reachPer\", \"adr\", \"adrPer\"]\n",
    "\n",
    "# Формируем задание для API Cross Web в формате JSON\n",
    "task_json = mtask.build_task_media_duplication('media-duplication', project_name, date_filter=date_filter, \n",
    "                             usetype_filter=usetype_filter, geo_filter=geo_filter,\n",
    "                             demo_filter=demo_filter, mart_filter=mart_filter,\n",
    "                             duplication_mart_filter=duplication_mart_filter,\n",
    "                             slices=slices, statistics=statistics, scales=None)\n",
    "\n",
    "# Отправляем задание на расчет и ждем выполнения\n",
    "task = mtask.wait_task(mtask.send_media_duplication_task(task_json))\n",
    "\n",
    "# Получаем результат\n",
    "df_result = mtask.result2table(mtask.get_result(task), project_name = project_name)\n",
    "df_result"
   ]
  },
  {
   "cell_type": "markdown",
   "metadata": {},
   "source": [
    "## Сохраняем в Excel"
   ]
  },
  {
   "cell_type": "code",
   "execution_count": null,
   "metadata": {},
   "outputs": [],
   "source": [
    "writer = pd.ExcelWriter(mtask.get_excel_filename('duplication'))\n",
    "df_info = mtask.get_report_info()\n",
    "df_result.to_excel(writer, 'Report', index=False)\n",
    "df_info.to_excel(writer, 'Info', index=False)\n",
    "writer.save()"
   ]
  }
 ],
 "metadata": {
  "kernelspec": {
   "display_name": "Python 3 (ipykernel)",
   "language": "python",
   "name": "python3"
  },
  "language_info": {
   "codemirror_mode": {
    "name": "ipython",
    "version": 3
   },
   "file_extension": ".py",
   "mimetype": "text/x-python",
   "name": "python",
   "nbconvert_exporter": "python",
   "pygments_lexer": "ipython3",
   "version": "3.9.12"
  }
 },
 "nbformat": 4,
 "nbformat_minor": 4
}
