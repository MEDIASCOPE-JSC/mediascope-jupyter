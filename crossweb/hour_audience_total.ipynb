{
 "cells": [
  {
   "cell_type": "markdown",
   "metadata": {},
   "source": [
    "# Hour Media total\n",
    "Пример отчета по расчету аудитории по всему интернету с почасовой разбивкой."
   ]
  },
  {
   "cell_type": "markdown",
   "metadata": {},
   "source": [
    "# Инициализация\n",
    "\n",
    "При построении отчета первый шаг в любом ноутбуке - загрузка библиотек, которые помогут обращаться к API Cross Web и работать с данными.\n",
    "\n",
    "Выполните следующую ячейку, для этого перейдите в нее и нажмите Ctrl+Enter"
   ]
  },
  {
   "cell_type": "code",
   "execution_count": null,
   "metadata": {},
   "outputs": [],
   "source": [
    "%reload_ext autoreload\n",
    "%autoreload 2\n",
    "\n",
    "import sys\n",
    "import os\n",
    "import re\n",
    "import json\n",
    "import datetime\n",
    "import time\n",
    "import pandas as pd\n",
    "#import matplotlib.pyplot as plt\n",
    "from IPython.display import JSON\n",
    "\n",
    "from mediascope_api.core import net as mscore\n",
    "from mediascope_api.crossweb import tasks as cwt\n",
    "from mediascope_api.crossweb import catalogs as cwc\n",
    "\n",
    "# Настраиваем отображение\n",
    "\n",
    "# Включаем отображение всех колонок\n",
    "pd.set_option('display.max_columns', None)\n",
    "# Задаем максимальное количество выводимых строк. Раскомментируйте нужную строку\n",
    "# 200 строк\n",
    "# pd.set_option(\"display.max_rows\", 200)\n",
    "# Отображаем все строки. ВАЖНО! Отображение большого DataFrame требует много ресурсов\n",
    "# pd.set_option(\"display.max_rows\", None)\n",
    "\n",
    "# Cоздаем объекты для работы с API Cross Web\n",
    "mnet = mscore.MediascopeApiNetwork()\n",
    "mtask = cwt.CrossWebTask()\n",
    "cats = cwc.CrossWebCats()"
   ]
  },
  {
   "cell_type": "code",
   "execution_count": null,
   "metadata": {},
   "outputs": [],
   "source": [
    "# вывод возможных статистик для отчета\n",
    "# cats.get_hour_media_total_unit().get('statistics')"
   ]
  },
  {
   "cell_type": "code",
   "execution_count": null,
   "metadata": {},
   "outputs": [],
   "source": [
    "# вывод возможных срезов для отчета\n",
    "# cats.get_hour_media_total_unit().get('slices')"
   ]
  },
  {
   "cell_type": "code",
   "execution_count": null,
   "metadata": {},
   "outputs": [],
   "source": [
    "# вывод возможных фильтров для отчета\n",
    "# cats.get_hour_media_total_unit().get('filters')"
   ]
  },
  {
   "cell_type": "markdown",
   "metadata": {},
   "source": [
    "## Задание\n",
    "\n",
    "### Расчет аудитории по всему интернету"
   ]
  },
  {
   "cell_type": "code",
   "execution_count": null,
   "metadata": {
    "scrolled": true
   },
   "outputs": [],
   "source": [
    "# Задаем название для отображения в DataFrame\n",
    "project_name = 'Total'\n",
    "\n",
    "# Задаем период\n",
    "# Период указывается в виде списка ('Начало', 'Конец'). Можно указать несколько периодов\n",
    "date_filter = [('2025-01-01', '2025-01-15')]\n",
    "\n",
    "# Задаем фильтр по типам пользования интернетом\n",
    "usetype_filter = [1,2,3]\n",
    "\n",
    "# Задаем фильтр по географии, в нашем случае он не требуется\n",
    "geo_filter = None\n",
    "\n",
    "# Задаем фильтр по демографии\n",
    "demo_filter = None\n",
    "#demo_filter = 'ageGroup IN (1,2,3)'\n",
    "\n",
    "# Задаем почасовой фильтр. Можно указать как группы часов (например, ночные или дневные часы), так и конкретный час:\n",
    "# hour_filter = 'eventHour > 5'\n",
    "# Ночные часы: \n",
    "#hour_filter = 'eventHour >= 1 AND eventHour <= 6'\n",
    "# Конкретный час: \n",
    "# hour_filter = 'eventHour = 13'\n",
    "# Если необходимо расчитать весь день:\n",
    "hour_filter = 'eventHour >= 1 AND eventHour <= 23'\n",
    "\n",
    "# Указываем список срезов, чтобы сформировать структуру расчета\n",
    "slices = [\"researchMonth\", \"eventHour\"]\n",
    "\n",
    "# Указываем список статистик для расчета\n",
    "statistics = ['reach', 'reachPer']\n",
    "\n",
    "scales = None\n",
    "\n",
    "\n",
    "# Формируем задание для API Cross Web в формате JSON\n",
    "task_json = mtask.build_task('hour-total', task_name=project_name, date_filter=date_filter,                                \n",
    "                             geo_filter=geo_filter, demo_filter=demo_filter, \n",
    "                             hour_filter=hour_filter,\n",
    "                             slices=slices, statistics=statistics,\n",
    "                             scales=scales)\n",
    "\n",
    "# Отправляем задание на расчет и ждем выполнения\n",
    "task = mtask.wait_task(mtask.send_task(task_json))\n",
    "\n",
    "# Получаем результат\n",
    "df_result = mtask.result2table(mtask.get_result(task), project_name = project_name)\n",
    "df_result"
   ]
  },
  {
   "cell_type": "code",
   "execution_count": null,
   "metadata": {},
   "outputs": [],
   "source": [
    "# для отмены задания (если требуется)\n",
    "# mtask.cancel_tasks(['33ef65e2-12e8-4b82-851b-4a40b7ad506c'])"
   ]
  },
  {
   "cell_type": "code",
   "execution_count": null,
   "metadata": {},
   "outputs": [],
   "source": [
    "# вывод текста задания (если требуется)\n",
    "# task_json"
   ]
  },
  {
   "cell_type": "markdown",
   "metadata": {},
   "source": [
    "## Сохраняем в Excel"
   ]
  },
  {
   "cell_type": "code",
   "execution_count": null,
   "metadata": {},
   "outputs": [],
   "source": [
    "df_info = mtask.get_report_info()\n",
    "\n",
    "with pd.ExcelWriter(mtask.get_excel_filename('hour-audience-total')) as writer:\n",
    "    df_result.to_excel(writer, sheet_name='Report', index=False)\n",
    "    df_info.to_excel(writer, sheet_name='Info', index=False)"
   ]
  },
  {
   "cell_type": "code",
   "execution_count": null,
   "metadata": {},
   "outputs": [],
   "source": []
  }
 ],
 "metadata": {
  "kernelspec": {
   "display_name": "Python 3 (ipykernel)",
   "language": "python",
   "name": "python3"
  },
  "language_info": {
   "codemirror_mode": {
    "name": "ipython",
    "version": 3
   },
   "file_extension": ".py",
   "mimetype": "text/x-python",
   "name": "python",
   "nbconvert_exporter": "python",
   "pygments_lexer": "ipython3",
   "version": "3.9.7"
  }
 },
 "nbformat": 4,
 "nbformat_minor": 4
}
