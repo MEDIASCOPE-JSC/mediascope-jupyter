{
 "cells": [
  {
   "cell_type": "markdown",
   "metadata": {},
   "source": [
    "# Audience media и рекламы\n",
    "Пример отчета по расчету совокупной аудитории интернет-ресурсов (Сross Web) и профиля рекламных кампаний в Интернете.\n",
    "\n",
    "## Описание задачи\n",
    "\n",
    "Посчитаем аудиторию по ресурсу и рекламным сетям по всем типам пользования интернетом:\n",
    "\n",
    "- совокупную аудиторию ресурса Вконтакте и рекламных сетей Everest-network и Betweenx;\n",
    "- эксклюзивную аудиторию ресурса Вконтакте и рекламных сетей Everest-network и Betweenx; \n",
    "- совокупную аудиторию ресурса Вконтакте и рекламных сетей Everest-network и Betweenx с разбивкой по социально-демографической переменной \"Пол\".\n",
    "\n",
    "Общие параметры:\n",
    "- Период: Октябрь 2023\n",
    "- География: Россия 0+\n",
    "- Население: 12+\n",
    "- Тип пользования интернетом: ограничения нет, считаем по всем (Web Desktop, Web Mobile, App Mobile)\n",
    "\n",
    "Статистики:\n",
    "- Reach (reach)\n",
    "- Reach% (reachPer)\n",
    "- Reach N+ Distribution (reachN)\n",
    "- Opportunity To See (ots)\n",
    "- Exclusive Reach (exclusiveReach)"
   ]
  },
  {
   "cell_type": "markdown",
   "metadata": {},
   "source": [
    "# Инициализация\n",
    "\n",
    "При построении отчета первый шаг в любом ноутбуке - загрузка библиотек, которые помогут обращаться к API Cross Web и работать с данными.\n",
    "\n",
    "Выполните следующую ячейку, для этого перейдите в нее и нажмите Ctrl+Enter"
   ]
  },
  {
   "cell_type": "code",
   "execution_count": null,
   "metadata": {},
   "outputs": [],
   "source": [
    "%reload_ext autoreload\n",
    "%autoreload 2\n",
    "\n",
    "import pandas as pd\n",
    "\n",
    "from mediascope_api.core import net as mscore\n",
    "from mediascope_api.crossweb import tasks as cwt\n",
    "from mediascope_api.crossweb import catalogs as cwc\n",
    "\n",
    "# Настраиваем отображение\n",
    "\n",
    "# Включаем отображение всех колонок\n",
    "pd.set_option('display.max_columns', None)\n",
    "# Задаем максимальное количество выводимых строк. Раскомментируйте нужную строку\n",
    "# 200 строк\n",
    "# pd.set_option(\"display.max_rows\", 200)\n",
    "# Отображаем все строки. ВАЖНО! Отображение большого DataFrame требует много ресурсов\n",
    "# pd.set_option(\"display.max_rows\", None)\n",
    "\n",
    "# Cоздаем объекты для работы с API Cross Web\n",
    "mnet = mscore.MediascopeApiNetwork()\n",
    "mtask = cwt.CrossWebTask()\n",
    "cats = cwc.CrossWebCats()"
   ]
  },
  {
   "cell_type": "markdown",
   "metadata": {},
   "source": [
    "## Формируем задания\n",
    "\n",
    "Для расчета статистик со шкалами обязательно нужно указать эти шкалы в переменной **scales**, а также прописать ее в параметрах, передаваемых в функцию **build_task**."
   ]
  },
  {
   "cell_type": "markdown",
   "metadata": {},
   "source": [
    "### Общие параметры для заданий\n",
    "\n",
    "Для начала зададим общие параметры"
   ]
  },
  {
   "cell_type": "code",
   "execution_count": null,
   "metadata": {},
   "outputs": [],
   "source": [
    "# Задаем период\n",
    "# Период указывается в виде списка ('Начало', 'Конец'). Можно указать несколько периодов\n",
    "date_filter = [('2023-10-01', '2023-10-31')]\n",
    "\n",
    "# Задаем фильтр по типам пользования интернетом для интернет-ресурсов и для рекламной сети отдельно.\n",
    "media_usetype_filter = [1,2,3]\n",
    "profile_usetype_filter = [1,2,3]"
   ]
  },
  {
   "cell_type": "markdown",
   "metadata": {},
   "source": [
    "### Получим ID интернет-ресурса и ID рекламных сетей.\n",
    "Для построения отчета необходимо получить идентификаторы ресурса __Вконтакте__ и рекламных сетей __Everest-network__ и __Betweenx__.\n",
    "\n",
    "Для этого воспользуемся методами поиска в медиа справочнике. Работа с медиа справочником подробно описана в ноутбуке [catalogs](catalogs.ipynb). \n",
    "\n",
    "Получим идентификатор ресурса **Вконтакте**"
   ]
  },
  {
   "cell_type": "code",
   "execution_count": null,
   "metadata": {},
   "outputs": [],
   "source": [
    "cats.get_resource(resource='Вконтакте')"
   ]
  },
  {
   "cell_type": "markdown",
   "metadata": {},
   "source": [
    "Получим идентификатор рекламной сети **Everest-network** и рекламной сети **Betweenx**"
   ]
  },
  {
   "cell_type": "code",
   "execution_count": null,
   "metadata": {},
   "outputs": [],
   "source": [
    "cats.get_ad_agency(agency='Everest-network')"
   ]
  },
  {
   "cell_type": "code",
   "execution_count": null,
   "metadata": {},
   "outputs": [],
   "source": [
    "cats.get_ad_agency(agency='Betweenx')"
   ]
  },
  {
   "cell_type": "markdown",
   "metadata": {},
   "source": [
    "Таким образом, необходимые идентификаторы следующие:\n",
    "\n",
    "- **Вконтакте** resourceId = 1150\n",
    "- **Everest-network** advertisementAgencyId = 12983\n",
    "- **Betweenx** advertisementAgencyId = 59418"
   ]
  },
  {
   "cell_type": "markdown",
   "metadata": {},
   "source": [
    "## Задания\n",
    "\n",
    "Перейдем к формированию заданий.\n",
    "\n",
    "\n",
    "### Задание №1. Расчет совокупной аудитории ресурса Вконтакте и рекламных сетей Everest-network и Betweenx"
   ]
  },
  {
   "cell_type": "markdown",
   "metadata": {},
   "source": [
    "#### Важно!\n",
    "\n",
    "Статистика __ots__ рассчитывает общее количество загрузок страниц/ открытий приложений медиа объекта за указанный период в рамках заданной соц.-дем. группы. В рамках расчета media&profile суммируются значения, полученные отдельно по media и отдельно по рекламе по тем или иным типам пользования интернета.  "
   ]
  },
  {
   "cell_type": "code",
   "execution_count": null,
   "metadata": {
    "scrolled": true
   },
   "outputs": [],
   "source": [
    "# Задаем название для отображения в DataFrame\n",
    "task_name = 'Sample media_profile'\n",
    "\n",
    "# Задаем фильтр по географии, в нашем случае он не требуется\n",
    "geo_filter = None\n",
    "\n",
    "# Задаем фильтр по демографии\n",
    "demo_filter = None\n",
    "\n",
    "# Задаем фильтры по медиа и рекламе\n",
    "media_filter = \"crossMediaResourceId = 1150\"\n",
    "profile_filter = \"advertisementAgencyId IN (12983, 59418)\"\n",
    "\n",
    "#Указываем список срезов, чтобы сформировать структуру расчета\n",
    "slices = [\"researchMonth\"]\n",
    "\n",
    "# Указываем список статистик для расчета\n",
    "statistics = [\"reach\", \"reachPer\", 'reachN', 'ots']\n",
    "\n",
    "scales = {'reachN':[(20, 255)]}\n",
    "\n",
    "# Формируем задание для API Cross Web в формате JSON\n",
    "task_json = mtask.build_task_media_profile('media-profile', task_name=task_name, date_filter=date_filter,\n",
    "                                           media_usetype_filter=media_usetype_filter,\n",
    "                                           profile_usetype_filter=profile_usetype_filter,\n",
    "                                           media_filter=media_filter,\n",
    "                                           profile_filter=profile_filter,\n",
    "                                           geo_filter=geo_filter, demo_filter=demo_filter, \n",
    "                                           slices=slices, statistics=statistics,\n",
    "                                           scales=scales)\n",
    "\n",
    "\n",
    "# Отправляем задание на расчет и ждем выполнения\n",
    "task = mtask.wait_task(mtask.send_media_profile_task(task_json))\n",
    "\n",
    "# Получаем результат\n",
    "df_ad = mtask.result2table(mtask.get_result(task), project_name = task_name)\n",
    "df_ad"
   ]
  },
  {
   "cell_type": "code",
   "execution_count": null,
   "metadata": {},
   "outputs": [],
   "source": [
    "writer = pd.ExcelWriter(mtask.get_excel_filename('Sample media_profile'))\n",
    "df_info = mtask.get_report_info()\n",
    "df_ad.to_excel(writer, 'Report', index=False)\n",
    "df_info.to_excel(writer, 'Info', index=False)\n",
    "writer.save()"
   ]
  },
  {
   "cell_type": "markdown",
   "metadata": {},
   "source": [
    "### Задание №2. Расчет эксклюзивной аудитории ресурса Вконтакте и рекламных сетей Everest-network и Betweenx"
   ]
  },
  {
   "cell_type": "markdown",
   "metadata": {},
   "source": [
    "#### Важно!\n",
    "\n",
    "- Статистика __mediaExclusiveReach__ рассчитывается как эксклюзивная аудитория тех, кто проконтактировал только с текущим медиа объектом c заданного типа пользования интернетом, но не контактировал с рекламными объектами (указанными в __profile_filter__) ни с одного из типов пользования интернетом среди совокупной аудитории текущего медиа объекта и рекламных объектов (указанных в __profile_filter__).\n",
    "\n",
    "Например, в данной задаче: `17 254 555 жителей России 0+ в возрасте 12+ зашли на ресурс ВКонтакте с десктопного или мобильного устройства (согласно ограничениям в media_usetype_filter) хотя бы один раз за октябрь 2023 года и не контактировали с рекламными сетями Everest-network и Betweenx с десктопного или мобильного устройства.`\n",
    "\n",
    "- Статистика __profileExclusiveReach__ рассчитывается как эксклюзивная аудитория тех, кто проконтактировал только с текущим рекламным объектом c заданного типа пользования интернетом, но не контактировал с медиа объектами (указанными в __media_filter__) ни с одного из типов пользования интернетом среди совокупной аудитории текущего рекламного объекта и медиа объектов (указанных в __media_filter__).\n",
    "\n",
    "Например, в данной задаче: `6 525 413 жителей России 0+ в возрасте 12+ контактировали с рекламной сетью Betweenx с десктопного или мобильного устройства  (согласно ограничениям в profile_usetype_filter) хотя бы один раз за октябрь 2023 года и не заходили на ресурс ВКонтакте с десктопного или мобильного устройства. `\n",
    "\n",
    "\n",
    "- Статистика __exclusiveReach__ в рамках расчета media&рекламы повторяет статистики __mediaExclusiveReach__ и __profileExclusiveReach__ согласно принадлежности проекту (media или рекламе). \n",
    "\n",
    "Объекты media или рекламы не участвуют в расчете эксклюзивной аудитории объекта, если они из одного проекта с рассматриваемым объектом (media или рекламы).\n",
    " \n"
   ]
  },
  {
   "cell_type": "code",
   "execution_count": null,
   "metadata": {},
   "outputs": [],
   "source": [
    "# Задаем название для отображения в DataFrame\n",
    "task_name = 'Sample excl_media_profile'\n",
    "\n",
    "# Задаем фильтр по географии, в нашем случае он не требуется\n",
    "geo_filter = None\n",
    "\n",
    "# Задаем фильтр по демографии\n",
    "demo_filter = None\n",
    "\n",
    "media_filter = \"crossMediaResourceId = 1150\"\n",
    "\n",
    "profile_filter = \"advertisementAgencyId IN (12983, 59418)\"\n",
    "\n",
    "#Указываем список срезов, чтобы сформировать структуру расчета\n",
    "slices = [\"researchMonth\",\n",
    "          \"crossMediaResourceId\",\n",
    "          \"advertisementAgencyId\"] \n",
    "          \n",
    "# Указываем список статистик для расчета\n",
    "statistics = [\"exclusiveReach\", \"profileExclusiveReach\", \"mediaExclusiveReach\"]\n",
    "\n",
    "# Формируем задание для API Cross Web в формате JSON\n",
    "task_json = mtask.build_task_media_profile('media-profile', task_name=task_name, date_filter=date_filter,\n",
    "                                           media_usetype_filter=media_usetype_filter,\n",
    "                                           profile_usetype_filter=profile_usetype_filter,\n",
    "                                           media_filter=media_filter,\n",
    "                                           profile_filter=profile_filter,\n",
    "                                           geo_filter=geo_filter, demo_filter=demo_filter, \n",
    "                                           slices=slices, statistics=statistics)\n",
    "\n",
    "\n",
    "# Отправляем задание на расчет и ждем выполнения\n",
    "task = mtask.wait_task(mtask.send_media_profile_task(task_json))\n",
    "\n",
    "# Получаем результат\n",
    "df_ad_excl = mtask.result2table(mtask.get_result(task), project_name = task_name)\n",
    "df_ad_excl"
   ]
  },
  {
   "cell_type": "markdown",
   "metadata": {},
   "source": [
    "## Сохраняем в Excel"
   ]
  },
  {
   "cell_type": "code",
   "execution_count": null,
   "metadata": {},
   "outputs": [],
   "source": [
    "writer = pd.ExcelWriter(mtask.get_excel_filename('Sample excl_media_profile'))\n",
    "df_info = mtask.get_report_info()\n",
    "df_ad_excl.to_excel(writer, 'Report', index=False)\n",
    "df_info.to_excel(writer, 'Info', index=False)\n",
    "writer.save()"
   ]
  },
  {
   "cell_type": "markdown",
   "metadata": {},
   "source": [
    "### Задание №3. Расчет совокупной аудитории ресурса Вконтакте и рекламных сетей Everest-network и Betweenx в разбивке на социально-демографические параметры"
   ]
  },
  {
   "cell_type": "code",
   "execution_count": null,
   "metadata": {},
   "outputs": [],
   "source": [
    "# Задаем название для отображения в DataFrame\n",
    "task_name = 'Sample ta_media_profile'\n",
    "\n",
    "# Задаем фильтр по географии, в нашем случае он не требуется\n",
    "geo_filter = None\n",
    "\n",
    "# Задаем фильтр по демографии\n",
    "demo_filter = None\n",
    "\n",
    "media_filter = \"crossMediaResourceId = 1150\"\n",
    "\n",
    "profile_filter = \"advertisementAgencyId IN (12983, 59418)\"\n",
    "\n",
    "#Указываем список срезов, чтобы сформировать структуру расчета\n",
    "slices = [\"researchMonth\", \"sex\"] \n",
    "          \n",
    "# Указываем список статистик для расчета\n",
    "statistics = [\"reach\", \"reachPer\"]\n",
    "\n",
    "# Формируем задание для API Cross Web в формате JSON\n",
    "task_json = mtask.build_task_media_profile('media-profile', task_name=task_name, date_filter=date_filter,\n",
    "                                           media_usetype_filter=media_usetype_filter,\n",
    "                                           profile_usetype_filter=profile_usetype_filter,\n",
    "                                           media_filter=media_filter,\n",
    "                                           profile_filter=profile_filter,\n",
    "                                           geo_filter=geo_filter, demo_filter=demo_filter, \n",
    "                                           slices=slices, statistics=statistics)\n",
    "\n",
    "\n",
    "# Отправляем задание на расчет и ждем выполнения\n",
    "task = mtask.wait_task(mtask.send_media_profile_task(task_json))\n",
    "\n",
    "# Получаем результат\n",
    "df_ad_ta = mtask.result2table(mtask.get_result(task), project_name = task_name)\n",
    "df_ad_ta"
   ]
  },
  {
   "cell_type": "markdown",
   "metadata": {},
   "source": [
    "## Сохраняем в Excel"
   ]
  },
  {
   "cell_type": "code",
   "execution_count": null,
   "metadata": {},
   "outputs": [],
   "source": [
    "writer = pd.ExcelWriter(mtask.get_excel_filename('Sample ta_media_profile'))\n",
    "df_info = mtask.get_report_info()\n",
    "df_ad_ta.to_excel(writer, 'Report', index=False)\n",
    "df_info.to_excel(writer, 'Info', index=False)\n",
    "writer.save()"
   ]
  }
 ],
 "metadata": {
  "kernelspec": {
   "display_name": "Python 3",
   "language": "python",
   "name": "python3"
  },
  "language_info": {
   "codemirror_mode": {
    "name": "ipython",
    "version": 3
   },
   "file_extension": ".py",
   "mimetype": "text/x-python",
   "name": "python",
   "nbconvert_exporter": "python",
   "pygments_lexer": "ipython3",
   "version": "3.8.8"
  }
 },
 "nbformat": 4,
 "nbformat_minor": 4
}
