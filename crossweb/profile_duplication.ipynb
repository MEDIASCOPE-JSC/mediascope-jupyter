{
 "cells": [
  {
   "cell_type": "markdown",
   "metadata": {},
   "source": [
    "# Duplication рекламы\n",
    "\n",
    "Пример отчета по расчету пересечения аудитории медиа объектов в рамках проекта \"Измерение аудитории и профиля рекламных кампаний в интернете\". \n",
    "\n",
    "## Описание задачи\n",
    "\n",
    "Посчитаем пересечение аудитории рекламных сетей Everest-network и Betweenx.\n",
    "\n",
    "Общие параметры:\n",
    "- Период: Декабрь 2023\n",
    "- География: Россия 0+\n",
    "- Население: 12+\n",
    "- Типы пользования интернетом: ограничения нет, считаем по всем (Web Desktop, Web Mobile, App Mobile)\n",
    "\n",
    "Статистики:\n",
    "- Reach (reach)\n",
    "- Reach% (reachPer)\n",
    "- Average Daily Reach (adr)\n",
    "- Average Daily Reach% (adrPer)"
   ]
  },
  {
   "cell_type": "markdown",
   "metadata": {},
   "source": [
    "# Инициализация\n",
    "\n",
    "При построении отчета первый шаг в любом ноутбуке - загрузка библиотек, которые помогут обращаться к API Cross Web и работать с данными.\n",
    "\n",
    "Выполните следующую ячейку, для этого перейдите в нее и нажмите Ctrl+Enter"
   ]
  },
  {
   "cell_type": "code",
   "execution_count": null,
   "metadata": {
    "scrolled": false
   },
   "outputs": [],
   "source": [
    "%reload_ext autoreload\n",
    "%autoreload 2\n",
    "\n",
    "import pandas as pd\n",
    "\n",
    "from mediascope_api.core import net as mscore\n",
    "from mediascope_api.crossweb import tasks as cwt\n",
    "from mediascope_api.crossweb import catalogs as cwc\n",
    "\n",
    "# Настраиваем отображение\n",
    "\n",
    "# Включаем отображение всех колонок\n",
    "pd.set_option('display.max_columns', None)\n",
    "# Задаем максимальное количество выводимых строк. Раскомментируйте нужную строку\n",
    "# 200 строк\n",
    "# pd.set_option(\"display.max_rows\", 200)\n",
    "# Отображаем все строки. ВАЖНО! Отображение большого DataFrame требует много ресурсов\n",
    "# pd.set_option(\"display.max_rows\", None)\n",
    "\n",
    "# Cоздаем объекты для работы с API Cross Web\n",
    "mnet = mscore.MediascopeApiNetwork()\n",
    "mtask = cwt.CrossWebTask()\n",
    "cats = cwc.CrossWebCats()"
   ]
  },
  {
   "cell_type": "markdown",
   "metadata": {},
   "source": [
    "## Формируем задания\n"
   ]
  },
  {
   "cell_type": "markdown",
   "metadata": {},
   "source": [
    "### Общие параметры для заданий\n",
    "\n",
    "Для начала зададим общие параметры"
   ]
  },
  {
   "cell_type": "code",
   "execution_count": null,
   "metadata": {},
   "outputs": [],
   "source": [
    "# Задаем период\n",
    "# Период указывается в виде списка ('Начало', 'Конец'). Можно указать несколько периодов\n",
    "date_filter = [('2023-12-01', '2023-12-31')]\n",
    "\n",
    "# Задаем фильтр по типам пользования интернетом\n",
    "usetype_filter = [1,2,3]"
   ]
  },
  {
   "cell_type": "markdown",
   "metadata": {},
   "source": [
    "### Получим ID рекламных сетей.\n",
    "Для построения отчета необходимо получить идентификаторы рекламных сетей __Everest-network__ и __Betweenx__.\n",
    "\n",
    "Для этого воспользуемся методами поиска в справочнике. Работа со справочником подробно описана в ноутбуке [catalogs](catalogs.ipynb). \n",
    "\n",
    "Получим идентификатор рекламной сети **Everest-network** и рекламной сети **Betweenx**"
   ]
  },
  {
   "cell_type": "code",
   "execution_count": null,
   "metadata": {},
   "outputs": [],
   "source": [
    "cats.get_ad_agency(agency='Everest-network')"
   ]
  },
  {
   "cell_type": "code",
   "execution_count": null,
   "metadata": {
    "scrolled": true
   },
   "outputs": [],
   "source": [
    "cats.get_ad_agency(agency='Betweenx')"
   ]
  },
  {
   "cell_type": "markdown",
   "metadata": {},
   "source": [
    "Таким образом, необходимые идентификаторы следующие:\n",
    "\n",
    "- **Everest-network** advertisementAgencyId = 12983\n",
    "- **Betweenx** advertisementAgencyId = 59418"
   ]
  },
  {
   "cell_type": "markdown",
   "metadata": {},
   "source": [
    "### Расчет пересечения аудитории рекламных сетей"
   ]
  },
  {
   "cell_type": "code",
   "execution_count": null,
   "metadata": {
    "scrolled": true
   },
   "outputs": [],
   "source": [
    "%%time\n",
    "\n",
    "# Задаем название для отображения в DataFrame\n",
    "project_name = 'Profile duplication'\n",
    "\n",
    "# Задаем фильтр по географии, \n",
    "geo_filter = None\n",
    "\n",
    "# Задаем фильтр по демографии\n",
    "demo_filter = None\n",
    "\n",
    "# Задаем фильтр по рекламе и фильтр по пересечению, в нашем случае это ID рекламных сетей\n",
    "mart_filter = \"advertisementAgencyId IN (12983)\"\n",
    "duplication_mart_filter = \"advertisementAgencyId IN (59418)\"\n",
    "\n",
    "# Указываем список срезов, чтобы сформировать структуру расчета\n",
    "slices = ['advertisementAgencyName', 'duplicationAdvertisementAgencyName', 'researchMonth']\n",
    "\n",
    "# Указываем список статистик для расчета\n",
    "statistics = ['reach', 'reachPer', 'adr', 'adrPer']\n",
    "\n",
    "# Формируем задание для API Cross Web в формате JSON\n",
    "task_json = mtask.build_task_media_duplication('profile-duplication', project_name, date_filter=date_filter, \n",
    "                             usetype_filter=usetype_filter, geo_filter=geo_filter,\n",
    "                             demo_filter=demo_filter, mart_filter=mart_filter,\n",
    "                             duplication_mart_filter=duplication_mart_filter,\n",
    "                             slices=slices, statistics=statistics, scales=None)\n",
    "\n",
    "# Отправляем задание на расчет и ждем выполнения\n",
    "task = mtask.wait_task(mtask.send_profile_duplication_task(task_json))\n",
    "\n",
    "# Получаем результат\n",
    "df_result = mtask.result2table(mtask.get_result(task), project_name = project_name)\n",
    "df_result"
   ]
  },
  {
   "cell_type": "code",
   "execution_count": null,
   "metadata": {},
   "outputs": [],
   "source": [
    "writer = pd.ExcelWriter(mtask.get_excel_filename('Sample profile_duplication'))\n",
    "df_info = mtask.get_report_info()\n",
    "df_result.to_excel(writer, 'Report', index=False)\n",
    "df_info.to_excel(writer, 'Info', index=False)\n",
    "writer.save()"
   ]
  }
 ],
 "metadata": {
  "kernelspec": {
   "display_name": "Python 3",
   "language": "python",
   "name": "python3"
  },
  "language_info": {
   "codemirror_mode": {
    "name": "ipython",
    "version": 3
   },
   "file_extension": ".py",
   "mimetype": "text/x-python",
   "name": "python",
   "nbconvert_exporter": "python",
   "pygments_lexer": "ipython3",
   "version": "3.8.8"
  }
 },
 "nbformat": 4,
 "nbformat_minor": 4
}
