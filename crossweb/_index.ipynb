{
 "cells": [
  {
   "cell_type": "markdown",
   "metadata": {},
   "source": [
    "# Cross Web Jupyter\n",
    "\n",
    "## [Справка](help.ipynb)\n",
    "\n",
    "## Настройки\n",
    "\n",
    "### Установка библиотеки Mediascope-api-lib\n",
    "Необходимо установить библиотеку, которая упростит работу с Mediascope API. Это нужно сделать только один раз, в самом начале.\n",
    "\n",
    "Для этого выполните следующую ячейку: перейдите в нее и нажмите Ctrl+Enter"
   ]
  },
  {
   "cell_type": "code",
   "execution_count": null,
   "metadata": {},
   "outputs": [],
   "source": [
    "!pip3 install mediascope-api-lib"
   ]
  },
  {
   "cell_type": "markdown",
   "metadata": {},
   "source": [
    "Если необходимо проверить, установлена ли библиотека Mediascope-api-lib, выполните ячейку ниже"
   ]
  },
  {
   "cell_type": "code",
   "execution_count": null,
   "metadata": {},
   "outputs": [],
   "source": [
    "!pip3 show mediascope-api-lib"
   ]
  },
  {
   "cell_type": "markdown",
   "metadata": {},
   "source": [
    "### Обновление библиотеки\n",
    "\n",
    "Мы периодически выпускаем обновления библиотеки mediascope-api-lib. Проверить ее актуальность можно по адресу:\n",
    "```\n",
    "https://pypi.org/project/mediascope-api-lib/\n",
    "```\n",
    "Для обновления библиотеки выполните следующую ячейку"
   ]
  },
  {
   "cell_type": "code",
   "execution_count": null,
   "metadata": {},
   "outputs": [],
   "source": [
    "!pip3 install --upgrade mediascope-api-lib"
   ]
  },
  {
   "cell_type": "markdown",
   "metadata": {},
   "source": [
    "### Логин и пароль пользователя\n",
    "Для работы с API Cross Web у вас должен быть логин и пароль.\n",
    "\n",
    "_Хранить пароль непосредственно в ноутбуке небезопасно, мы будем хранить его в отдельном файле настроек, рядом с ноутбуками._\n",
    "\n",
    "Откройте файл __\"settings.json\"__ и укажите ваш логин и пароль:\n",
    "```json\n",
    "{\n",
    "\t\"username\": \"your login\",\n",
    "\t\"passw\": \"your password\"\n",
    "}\n",
    "```\n",
    "\n",
    "## Примеры работы со справочниками Cross Web\n",
    "\n",
    "- [Справочники](catalogs.ipynb)\n",
    "\n",
    "## Примеры отчетов\n",
    "\n",
    "- [Audience](audience.ipynb)\n",
    "- [Total Internet](audience_total.ipynb)\n",
    "- [Demography](demography.ipynb)\n",
    "- [Dynamic](dynamic.ipynb)\n",
    "- [Duplication](duplication.ipynb)\n",
    "- [Тематики](audience_theme.ipynb)\n",
    "- [Иерархия холдинга](hierarchy.ipynb)\n",
    "- [Пользовательские демографические группы](custom_audiences.ipynb)\n",
    "- [Статистики со шкалами](audience_scales.ipynb)\n",
    "- [Расчет структуры по нескольким соц.-дем. переменным](several_demography.ipynb)\n",
    "- [Расчет по группам проектов](group_of_projects.ipynb)\n",
    "- [Расчет по нескольким гео](several_geo.ipynb)\n",
    "- [Расчет по нескольким ЦА](several_target_audiences.ipynb)\n",
    "- [Рекламные кампании](advertisement.ipynb)"
   ]
  }
 ],
 "metadata": {
  "kernelspec": {
   "display_name": "Python 3 (ipykernel)",
   "language": "python",
   "name": "python3"
  },
  "language_info": {
   "codemirror_mode": {
    "name": "ipython",
    "version": 3
   },
   "file_extension": ".py",
   "mimetype": "text/x-python",
   "name": "python",
   "nbconvert_exporter": "python",
   "pygments_lexer": "ipython3",
   "version": "3.9.7"
  }
 },
 "nbformat": 4,
 "nbformat_minor": 4
}
