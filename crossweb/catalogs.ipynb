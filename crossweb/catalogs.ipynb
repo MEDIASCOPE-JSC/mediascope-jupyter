{
 "cells": [
  {
   "cell_type": "markdown",
   "metadata": {},
   "source": [
    "# Справочники Cross Web\n",
    "Пример ноутбука для работы со справочниками Cross Web."
   ]
  },
  {
   "cell_type": "markdown",
   "metadata": {},
   "source": [
    "## Инициализация\n",
    "\n",
    "При построении отчета первый шаг в любом ноутбуке - загрузка библиотек, которые помогут обращаться к API Cross Web и работать с данными.\n",
    "\n",
    "Выполните следующую ячейку, для этого перейдите в нее и нажмите Ctrl+Enter "
   ]
  },
  {
   "cell_type": "code",
   "execution_count": null,
   "metadata": {},
   "outputs": [],
   "source": [
    "%reload_ext autoreload\n",
    "%autoreload 2\n",
    "\n",
    "import sys\n",
    "import os\n",
    "import re\n",
    "import json\n",
    "import datetime\n",
    "import time\n",
    "import pandas as pd\n",
    "from pathlib import Path\n",
    "from IPython.display import JSON\n",
    "\n",
    "from mediascope_api.core import net as msnet\n",
    "from mediascope_api.crossweb import catalogs as cwc\n",
    "from mediascope_api.crossweb import tasks as cwts\n",
    "\n",
    "\n",
    "mnet = msnet.MediascopeApiNetwork()\n",
    "cats = cwc.CrossWebCats()"
   ]
  },
  {
   "cell_type": "markdown",
   "metadata": {},
   "source": [
    "# Доступные атрибуты для параметров\n",
    "\n",
    "При формировании задания можно указать следующие параметры:\n",
    "\n",
    "- **filters** - Фильтры\n",
    "- **slices** - Срезы\n",
    "- **statistics** - Статистики\n",
    "- **scales** - Шкалы, если заданы статистики со шкалами (drfd, reachN)\n",
    "\n",
    "Доступные атрибуты и допустимые для них значения можно получить методом `get_media_unit()`:"
   ]
  },
  {
   "cell_type": "code",
   "execution_count": null,
   "metadata": {},
   "outputs": [],
   "source": [
    "cats.get_media_unit()"
   ]
  },
  {
   "cell_type": "markdown",
   "metadata": {},
   "source": [
    "# Доступный период данных\n",
    "\n",
    "Узнать доступный период данных можно после выполнения ячейки ниже"
   ]
  },
  {
   "cell_type": "code",
   "execution_count": null,
   "metadata": {},
   "outputs": [],
   "source": [
    "cats.get_date_range()"
   ]
  },
  {
   "cell_type": "markdown",
   "metadata": {},
   "source": [
    "# Типы пользования интернетом\n",
    "Получить список типов пользования интернетом (usetype) можно после выполнения ячейки ниже"
   ]
  },
  {
   "cell_type": "code",
   "execution_count": null,
   "metadata": {},
   "outputs": [],
   "source": [
    "cats.get_usetype()"
   ]
  },
  {
   "cell_type": "markdown",
   "metadata": {},
   "source": [
    "# Социально-демографические и географические переменные"
   ]
  },
  {
   "cell_type": "markdown",
   "metadata": {},
   "source": [
    "Получим список всех переменных, доступных в проекте Cross Web"
   ]
  },
  {
   "cell_type": "code",
   "execution_count": null,
   "metadata": {},
   "outputs": [],
   "source": [
    "df_demo = cats.get_property()\n",
    "df_demo"
   ]
  },
  {
   "cell_type": "markdown",
   "metadata": {},
   "source": [
    "Экспорт справочника в Excel. Файл сохраняется в директорию, в которой лежат текущие ноутбуки."
   ]
  },
  {
   "cell_type": "code",
   "execution_count": null,
   "metadata": {},
   "outputs": [],
   "source": [
    "demo_cat = cats.get_property()\n",
    "writer = pd.ExcelWriter('demo_cat.xlsx')\n",
    "demo_cat.to_excel(writer, 'demo_cat', index=False)\n",
    "writer.save()"
   ]
  },
  {
   "cell_type": "markdown",
   "metadata": {},
   "source": [
    "### Важно!\n",
    "Demo и geo переменные, которые используются в заданиях, должны быть прописаны строго в следующем формате: \n",
    "\n",
    "__demoVariable__\n",
    "\n",
    "То есть первое слово в переменной должно быть написано со строчной буквы, второе - с заглавной. Пример: __ageGroup__"
   ]
  },
  {
   "cell_type": "markdown",
   "metadata": {},
   "source": [
    "### Поиск переменных\n",
    "\n",
    "Поиск переменных осуществляется с помощью функции `cats.find_property()`, которая находит все переменные, содержащие заданный текст как в самом ее названии, так и в ее названии для API Cross Web (поля 'name' и 'entityTitle'). \n",
    "\n",
    "Если нужно найти переменную без входящих в нее категорий, то необходимо передать в эту функцию дополнительный параметр\n",
    "\n",
    "```\n",
    "    expand=False\n",
    "```\n",
    "\n",
    "Если нужно найти переменную с входящими в нее категориями, то можно не передавать параметр expand. В таком случае для него автоматически проставится значение True.\n",
    "\n",
    "Найдем переменные, которые содержат текст \"Пол\""
   ]
  },
  {
   "cell_type": "code",
   "execution_count": null,
   "metadata": {},
   "outputs": [],
   "source": [
    "cats.find_property('Sex')"
   ]
  },
  {
   "cell_type": "markdown",
   "metadata": {},
   "source": [
    "Рассмотрим географические переменные.\n",
    "\n",
    "Численность населенного пункта (cityPop) и численность населенного пункта 100k+ или 100k- (cityPop100)"
   ]
  },
  {
   "cell_type": "code",
   "execution_count": null,
   "metadata": {},
   "outputs": [],
   "source": [
    "cats.find_property('cityPop', expand=True)"
   ]
  },
  {
   "cell_type": "markdown",
   "metadata": {},
   "source": [
    "Федеральный округ (federalOkrug)"
   ]
  },
  {
   "cell_type": "code",
   "execution_count": null,
   "metadata": {},
   "outputs": [],
   "source": [
    "cats.find_property('federalOkrug', expand=True)"
   ]
  },
  {
   "cell_type": "markdown",
   "metadata": {},
   "source": [
    "# Медиа справочник\n",
    "\n",
    "Получим весь медиа справочник и отобразим первые пять записей.\n",
    "\n",
    "### Важно!\n",
    "\n",
    "**Загрузка всего медиа справочника может потребовать много памяти и времени. Для экономии памяти и ускорения загрузки, пожалуйста, пользуйтесь поиском по медиа справочнику.**"
   ]
  },
  {
   "cell_type": "code",
   "execution_count": null,
   "metadata": {
    "scrolled": true
   },
   "outputs": [],
   "source": [
    "df_media = cats.get_media()\n",
    "df_media.head()"
   ]
  },
  {
   "cell_type": "markdown",
   "metadata": {},
   "source": [
    "Экспорт медиа справочника в Excel. Файл сохраняется в директорию, в которой лежат текущие ноутбуки."
   ]
  },
  {
   "cell_type": "code",
   "execution_count": null,
   "metadata": {},
   "outputs": [],
   "source": [
    "media_cat = cats.get_media()\n",
    "writer = pd.ExcelWriter('media_cat.xlsx')\n",
    "media_cat.to_excel(writer, 'media_cat', index=False)\n",
    "writer.save()"
   ]
  },
  {
   "cell_type": "markdown",
   "metadata": {},
   "source": [
    "**В Cross Web трехуровневая иерархия медиа объектов:**\n",
    "\n",
    "- Холдинг (holding) = Холдинг\n",
    "- Ресурс (resource) = Проект/Сайт\n",
    "- Медиа продукт (product) = Сабсекция\n",
    "\n",
    "Медиа продукт - это раздел в десктопном и мобильном вебе или приложение. Разделы в десктопном и мобильном вебе определяются регулярным выражением.\n",
    "\n",
    "В проекте Cross Web определяется тематика (themeName) на уровне медиа продукта. Таким образом, разные разделы одного ресурса могут относиться к разным тематикам."
   ]
  },
  {
   "cell_type": "markdown",
   "metadata": {},
   "source": [
    "### Холдинги\n",
    "Получим список холдингов"
   ]
  },
  {
   "cell_type": "code",
   "execution_count": null,
   "metadata": {},
   "outputs": [],
   "source": [
    "df_holdings = cats.get_holding()\n",
    "df_holdings"
   ]
  },
  {
   "cell_type": "markdown",
   "metadata": {},
   "source": [
    "### Ресурсы\n",
    "Получим список ресурсов и отобразим первые пять записей"
   ]
  },
  {
   "cell_type": "code",
   "execution_count": null,
   "metadata": {},
   "outputs": [],
   "source": [
    "df_resources = cats.get_resource()\n",
    "df_resources.head()"
   ]
  },
  {
   "cell_type": "markdown",
   "metadata": {},
   "source": [
    "### Медиа продукты\n",
    "Получим список медиа продуктов и отобразим первые 5 записей"
   ]
  },
  {
   "cell_type": "code",
   "execution_count": null,
   "metadata": {},
   "outputs": [],
   "source": [
    "df_products = cats.get_product()\n",
    "df_products.head()"
   ]
  },
  {
   "cell_type": "markdown",
   "metadata": {},
   "source": [
    "### Тематики\n",
    "Получим список тематик и отобразим первые 5 записей"
   ]
  },
  {
   "cell_type": "code",
   "execution_count": null,
   "metadata": {},
   "outputs": [],
   "source": [
    "df_thematics = cats.get_theme()\n",
    "df_thematics.head()"
   ]
  },
  {
   "cell_type": "markdown",
   "metadata": {},
   "source": [
    "### Поиск в медиа справочнике\n",
    "\n",
    "Поиск в медиа справочнике осуществляется с помощью следующих методов: \n",
    "\n",
    "- **get_media()** - отображает все поля медиа справочника; \n",
    "- **get_holding()** - отображает название холдинга и его id; \n",
    "- **get_resource()** - отображает название ресурса и его id; \n",
    "- **get_product()** - отображает название медиа продукта и его id; \n",
    "- **get_theme()** - отображает название тематики и ее id. \n",
    "\n",
    "Для всех перечисленных выше методов поддерживается поиск по следующим параметрам:\n",
    "\n",
    "- **holding** - поиск по названию холдинга. Возможно задавать часть названия.\n",
    "- **holding_ids** - поиск по cписку идентификаторов холдингов.\n",
    "- **resource** - поиск по названию ресурса. Возможно задавать часть названия.\n",
    "- **resource_ids** - поиск по cписку идентификаторов ресурсов.\n",
    "- **product** - поиск по названию медиа продукта. Возможно задавать часть названия.\n",
    "- **product_ids** - поиск по cписку идентификаторов медиа продуктов.\n",
    "- **theme** - поиск по названию тематики. Возможно задавать часть названия.\n",
    "- **theme_ids** - поиск по cписку идентификаторов тематик.\n",
    "\n",
    "\n",
    "#### Поиск по названию\n",
    "Найдем холдинг \"Авито\" в медиа справочнике и выведем всю информацию по его медиа объектам"
   ]
  },
  {
   "cell_type": "code",
   "execution_count": null,
   "metadata": {},
   "outputs": [],
   "source": [
    "df_avito = cats.get_media(holding='Авито')\n",
    "df_avito"
   ]
  },
  {
   "cell_type": "markdown",
   "metadata": {},
   "source": [
    "#### Поиск по идентификатору\n",
    "Найдем все медиа объекты с идентификаторами тематик\n",
    "- id 20 - Почта\n",
    "- id 42 - Работа"
   ]
  },
  {
   "cell_type": "code",
   "execution_count": null,
   "metadata": {},
   "outputs": [],
   "source": [
    "df_media_by_id = cats.get_media(theme_ids=[20, 42])\n",
    "df_media_by_id"
   ]
  },
  {
   "cell_type": "markdown",
   "metadata": {},
   "source": [
    "#### Поиск по нескольким параметрам\n",
    "\n",
    "Параметры поиска можно комбинировать. \n",
    "\n",
    "Добавим к предыдущему примеру еще один параметр поиска - название ресурса Avito. "
   ]
  },
  {
   "cell_type": "code",
   "execution_count": null,
   "metadata": {},
   "outputs": [],
   "source": [
    "df_media_by_id_resource = cats.get_media(theme_ids=[20, 42], resource='Avito')\n",
    "df_media_by_id_resource"
   ]
  }
 ],
 "metadata": {
  "kernelspec": {
   "display_name": "Python 3",
   "language": "python",
   "name": "python3"
  },
  "language_info": {
   "codemirror_mode": {
    "name": "ipython",
    "version": 3
   },
   "file_extension": ".py",
   "mimetype": "text/x-python",
   "name": "python",
   "nbconvert_exporter": "python",
   "pygments_lexer": "ipython3",
   "version": "3.8.8"
  }
 },
 "nbformat": 4,
 "nbformat_minor": 4
}
