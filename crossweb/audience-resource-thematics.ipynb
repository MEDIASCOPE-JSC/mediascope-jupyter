{
 "cells": [
  {
   "cell_type": "markdown",
   "metadata": {},
   "source": [
    "# Audience Resource Thematics\n",
    "Пример отчета по расчету аудитории интернет-ресурсов (Сross Web) для выбранных тематик ресурсов.\n",
    "\n",
    "## Описание задачи\n",
    "\n",
    "Посчитаем аудиторию в разбивке на типы пользования интернетом и ресурсы:\n",
    "- найдем все тематики ресурсов, которые относятся к агрегаторам (\"Агрегатор\");\n",
    "- получим их идентификаторы\n",
    "- расчитаем отчет\n",
    "\n",
    "Общие параметры:\n",
    "- Период: Май 2022\n",
    "- География: Россия 0+\n",
    "- Население: 12+\n",
    "- Тип пользования интернетом: ограничения нет, считаем по всем (Web Desktop, Web Mobile, App Mobile)\n",
    "\n",
    "Статистики:\n",
    "- Reach (reach)"
   ]
  },
  {
   "cell_type": "markdown",
   "metadata": {},
   "source": [
    "# Инициализация\n",
    "\n",
    "При построении отчета первый шаг в любом ноутбуке - загрузка библиотек, которые помогут обращаться к API Cross Web и работать с данными.\n",
    "\n",
    "Выполните следующую ячейку, для этого перейдите в нее и нажмите Ctrl+Enter"
   ]
  },
  {
   "cell_type": "code",
   "execution_count": null,
   "metadata": {},
   "outputs": [],
   "source": [
    "%reload_ext autoreload\n",
    "%autoreload 2\n",
    "\n",
    "import sys\n",
    "import os\n",
    "import re\n",
    "import json\n",
    "import datetime\n",
    "import time\n",
    "import pandas as pd\n",
    "#import matplotlib.pyplot as plt\n",
    "from IPython.display import JSON\n",
    "\n",
    "from mediascope_api.core import net as mscore\n",
    "from mediascope_api.crossweb import tasks as cwt\n",
    "from mediascope_api.crossweb import catalogs as cwc\n",
    "\n",
    "# Настраиваем отображение\n",
    "\n",
    "# Включаем отображение всех колонок\n",
    "pd.set_option('display.max_columns', None)\n",
    "# Задаем максимальное количество выводимых строк. Раскомментируйте нужную строку\n",
    "# 200 строк\n",
    "# pd.set_option(\"display.max_rows\", 200)\n",
    "# Отображаем все строки. ВАЖНО! Отображение большого DataFrame требует много ресурсов\n",
    "# pd.set_option(\"display.max_rows\", None)\n",
    "\n",
    "# Cоздаем объекты для работы с API Cross Web\n",
    "mnet = mscore.MediascopeApiNetwork()\n",
    "mtask = cwt.CrossWebTask()\n",
    "cats = cwc.CrossWebCats()"
   ]
  },
  {
   "cell_type": "markdown",
   "metadata": {},
   "source": [
    "## Формируем задания\n",
    "\n",
    "Необходимо сформировать три задания для API Cross Web:\n",
    "- расчет аудитории ресурса Avito\n",
    "- расчет совокупной аудитории ресурсов Avito, Ivi\n",
    "- расчет аудитории Total Internet"
   ]
  },
  {
   "cell_type": "markdown",
   "metadata": {},
   "source": [
    "### Общие параметры для заданий\n",
    "\n",
    "Для начала зададим общие параметры"
   ]
  },
  {
   "cell_type": "code",
   "execution_count": null,
   "metadata": {},
   "outputs": [],
   "source": [
    "# Задаем период\n",
    "# Период указывается в виде списка ('Начало', 'Конец'). Можно указать несколько периодов\n",
    "date_filter = [('2022-05-01', '2022-05-31')]\n",
    "\n",
    "# Задаем фильтр по типам пользования интернетом\n",
    "usetype_filter = [1,2,3]"
   ]
  },
  {
   "cell_type": "markdown",
   "metadata": {},
   "source": [
    "### Получим ID тематик ресурсов\n",
    "Для построения отчета найдем все тематики ресурсов со словом __Агрегатор__.\n",
    "\n",
    "Для этого воспользуемся методами поиска в медиа справочнике. Работа с медиа справочником подробно описана в ноутбуке [catalogs](catalogs.ipynb). \n"
   ]
  },
  {
   "cell_type": "code",
   "execution_count": null,
   "metadata": {},
   "outputs": [],
   "source": [
    "cats.get_resource_theme(resource_theme='Агрегатор')"
   ]
  },
  {
   "cell_type": "markdown",
   "metadata": {},
   "source": [
    "Таким образом, необходимые идентификаторы следующие:\n",
    "\n",
    "- **Агрегаторы товаров и услуг (c2c)**  crossMediaResourceThemeId = 39\n",
    "- **Агрегаторы товаров и услуг: товарные маркетплейсы**  crossMediaResourceThemeId = 26"
   ]
  },
  {
   "cell_type": "markdown",
   "metadata": {
    "tags": []
   },
   "source": [
    "## Задания\n",
    "\n",
    "Перейдем к формированию заданий.\n",
    "\n",
    "\n",
    "### Задание №1. Расчет аудитории ресурса Avito"
   ]
  },
  {
   "cell_type": "code",
   "execution_count": null,
   "metadata": {
    "scrolled": true
   },
   "outputs": [],
   "source": [
    "# Задаем название ресурса для отображения в DataFrame\n",
    "project_name = 'Agg'\n",
    "\n",
    "# Задаем фильтр по географии, в нашем случае он не требуется\n",
    "geo_filter = None\n",
    "\n",
    "# Задаем фильтр по демографии, в нашем случае он не требуется\n",
    "demo_filter = None\n",
    "\n",
    "# Задаем фильтр тематикам ресурсов\n",
    "mart_filter = 'crossMediaResourceThemeId in (39, 26)'\n",
    "\n",
    "# Указываем список срезов, чтобы сформировать структуру расчета\n",
    "slices = [\"researchMonth\", \"useTypeName\", \"crossMediaResourceName\"]\n",
    "\n",
    "# Указываем список статистик для расчета\n",
    "statistics = ['reach'] \n",
    "\n",
    "# Формируем задание для API Cross Web в формате JSON\n",
    "task_json = mtask.build_task('media', project_name, date_filter, usetype_filter, geo_filter,\n",
    "                                      demo_filter, mart_filter, slices, statistics)\n",
    "\n",
    "# Отправляем задание на расчет и ждем выполнения\n",
    "task_audience = mtask.wait_task(mtask.send_audience_task(task_json))\n",
    "\n",
    "# Получаем результат\n",
    "df_result = mtask.result2table(mtask.get_result(task_audience), project_name = project_name)\n",
    "df_result"
   ]
  },
  {
   "cell_type": "markdown",
   "metadata": {},
   "source": [
    "## Сохраняем в Excel"
   ]
  },
  {
   "cell_type": "code",
   "execution_count": null,
   "metadata": {},
   "outputs": [],
   "source": [
    "writer = pd.ExcelWriter(mtask.get_excel_filename('audience-agg-resource-thematics'))\n",
    "df_info = mtask.get_report_info()\n",
    "df_result.to_excel(writer, 'Report', index=False)\n",
    "df_info.to_excel(writer, 'Info', index=False)\n",
    "writer.save()"
   ]
  }
 ],
 "metadata": {
  "kernelspec": {
   "display_name": "Python 3 (ipykernel)",
   "language": "python",
   "name": "python3"
  },
  "language_info": {
   "codemirror_mode": {
    "name": "ipython",
    "version": 3
   },
   "file_extension": ".py",
   "mimetype": "text/x-python",
   "name": "python",
   "nbconvert_exporter": "python",
   "pygments_lexer": "ipython3",
   "version": "3.9.12"
  }
 },
 "nbformat": 4,
 "nbformat_minor": 4
}
