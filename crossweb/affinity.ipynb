{
 "cells": [
  {
   "cell_type": "markdown",
   "metadata": {},
   "source": [
    "# Affinity\n",
    "Пример отчета по расчету индекса аффинитивности для интернет-ресурсов (Сross Web).\n",
    "\n",
    "## Описание задачи\n",
    "\n",
    "Посчитаем статистики аффинитивности с разными вариантами ограничения на фильтры:\n",
    "- индекс аффинитивности по ресурсу Wildberries по стандартной соц-дем переменной \"Пол\" относительно генеральной совокупности (жителей России 0+ старше 12 лет) с разбивкой на типы пользования Интернетом (данный вид расчета аффинитивности доступен в остальных ноутбуках для расчета аудитории интернет-ресурсов Cross Web);\n",
    "- индекс аффинитивности по ресурсу ВКонтакте по кастомной переменной «жители Южного и/или Северо-Кавказского ФО с семейным положением: женат/ замужем/ гражданский брак» относительно генеральной совокупности (жителей России 0+ старше 12 лет);\n",
    "- индекс аффинитивности по ресурсам Wildberries и Ozon по кастомной переменной «жители Большой Москвы старше 25 лет с уровнем дохода BC» относительно жителей России 100k+ старше 12 лет.\n",
    "- индекс аффинитивности по ресурсу Ozon по кастомной переменной «жители Большой Москвы старше 25 лет с уровнем дохода BC» относительно жителей России 100k+ старше 25 лет.\n",
    "\n",
    "\n",
    "Статистики:\n",
    "- Affinity (affinity)\n",
    "- Affinity ADR (affinityAdr)\n",
    "- Affinity ADR Internet (affinityAdrInternet)\n",
    "- Affinity Internet (affinityInternet)"
   ]
  },
  {
   "cell_type": "markdown",
   "metadata": {},
   "source": [
    "# Инициализация\n",
    "\n",
    "При построении отчета первый шаг в любом ноутбуке - загрузка библиотек, которые помогут обращаться к API Cross Web и работать с данными.\n",
    "\n",
    "Выполните следующую ячейку, для этого перейдите в нее и нажмите Ctrl+Enter"
   ]
  },
  {
   "cell_type": "code",
   "execution_count": null,
   "metadata": {},
   "outputs": [],
   "source": [
    "%reload_ext autoreload\n",
    "%autoreload 2\n",
    "\n",
    "import sys\n",
    "import os\n",
    "import re\n",
    "import json\n",
    "import datetime\n",
    "import time\n",
    "import pandas as pd\n",
    "#import matplotlib.pyplot as plt\n",
    "from IPython.display import JSON\n",
    "\n",
    "from mediascope_api.core import net as mscore\n",
    "from mediascope_api.crossweb import tasks as cwt\n",
    "from mediascope_api.crossweb import catalogs as cwc\n",
    "\n",
    "# Настраиваем отображение\n",
    "\n",
    "# Включаем отображение всех колонок\n",
    "pd.set_option('display.max_columns', None)\n",
    "# Задаем максимальное количество выводимых строк. Раскомментируйте нужную строку\n",
    "# 200 строк\n",
    "# pd.set_option(\"display.max_rows\", 200)\n",
    "# Отображаем все строки. ВАЖНО! Отображение большого DataFrame требует много ресурсов\n",
    "# pd.set_option(\"display.max_rows\", None)\n",
    "\n",
    "# Cоздаем объекты для работы с API Cross Web\n",
    "mnet = mscore.MediascopeApiNetwork()\n",
    "mtask = cwt.CrossWebTask(check_version=False)\n",
    "cats = cwc.CrossWebCats()"
   ]
  },
  {
   "cell_type": "markdown",
   "metadata": {},
   "source": [
    "## Формируем задания"
   ]
  },
  {
   "cell_type": "markdown",
   "metadata": {},
   "source": [
    "### Общие параметры для заданий\n",
    "\n",
    "Для начала зададим общие параметры"
   ]
  },
  {
   "cell_type": "code",
   "execution_count": null,
   "metadata": {},
   "outputs": [],
   "source": [
    "# Задаем период\n",
    "# Период указывается в виде списка ('Начало', 'Конец'). Можно указать несколько периодов\n",
    "date_filter = [('2024-12-01', '2024-12-31')]\n",
    "\n",
    "# Задаем фильтр по типам пользования интернетом\n",
    "usetype_filter = [1,2,3]"
   ]
  },
  {
   "cell_type": "markdown",
   "metadata": {},
   "source": [
    "### Получим ID ресурсов\n",
    "Для построения отчета необходимо получить идентификаторы ресурсов __Wildberries__, __ВКонтакте__ и __Ozon__.\n",
    "\n",
    "Для этого воспользуемся методами поиска в медиа справочнике. Работа с медиа справочником подробно описана в ноутбуке [catalogs](catalogs.ipynb). \n",
    "\n",
    "Получим идентификатор ресурса **Wildberries**"
   ]
  },
  {
   "cell_type": "code",
   "execution_count": null,
   "metadata": {},
   "outputs": [],
   "source": [
    "cats.get_resource(resource='Wildberries')"
   ]
  },
  {
   "cell_type": "markdown",
   "metadata": {},
   "source": [
    "Получим идентификатор ресурса **ВКонтакте**"
   ]
  },
  {
   "cell_type": "code",
   "execution_count": null,
   "metadata": {},
   "outputs": [],
   "source": [
    "cats.get_resource(resource='ВКонтакте')"
   ]
  },
  {
   "cell_type": "markdown",
   "metadata": {},
   "source": [
    "Получим идентификатор ресурса **Ozon**"
   ]
  },
  {
   "cell_type": "code",
   "execution_count": null,
   "metadata": {},
   "outputs": [],
   "source": [
    "cats.get_resource(resource='Ozon')"
   ]
  },
  {
   "cell_type": "markdown",
   "metadata": {},
   "source": [
    "Таким образом, необходимые идентификаторы следующие:\n",
    "\n",
    "- **Wildberries**  resourceId = 3768\n",
    "- **ВКонтакте**  resourceId = 1150\n",
    "- **Ozon**  resourceId = 1094"
   ]
  },
  {
   "attachments": {
    "%D0%A4%D0%BE%D1%80%D0%BC%D1%83%D0%BB%D0%B01.jpg": {
     "image/jpeg": "[encoded data removed]"
    }
   },
   "cell_type": "markdown",
   "metadata": {},
   "source": [
    "## Как рассчитываются статистики:\n",
    "### 1) Affinity\n",
    "1) Статистика __affinity__ показывает, на сколько соц.-дем. группа представлена в аудитории медиа объекта больше / меньше, чем в населении анализируемой географии в целом. Рассчитывается как соотношение доли демографии в аудитории медиа объекта относительно доли этой демографии в населении.![%D0%A4%D0%BE%D1%80%D0%BC%D1%83%D0%BB%D0%B01.jpg](attachment:%D0%A4%D0%BE%D1%80%D0%BC%D1%83%D0%BB%D0%B01.jpg)"
   ]
  },
  {
   "attachments": {
    "%D0%A4%D0%BE%D1%80%D0%BC%D1%83%D0%BB%D0%B02.jpg": {
     "image/jpeg": "[encoded data removed]"
    }
   },
   "cell_type": "markdown",
   "metadata": {},
   "source": [
    "где:\n",
    "![%D0%A4%D0%BE%D1%80%D0%BC%D1%83%D0%BB%D0%B02.jpg](attachment:%D0%A4%D0%BE%D1%80%D0%BC%D1%83%D0%BB%D0%B02.jpg) - доля демографии в аудитории медиа объекта (Reach ц. а. медиа объекта (параметр ц. а. которого задается в фильтре __demo_filter__ и/или параметр географии которого задается  в фильтре __geo_filter__) / Reach Total медиа объекта (параметр total которого задается в фильтре __base_demo_filter__ и/или параметр географии которого задается в фильтре __base_geo_filter__))"
   ]
  },
  {
   "attachments": {
    "%D0%A4%D0%BE%D1%80%D0%BC%D1%83%D0%BB%D0%B03.jpg": {
     "image/jpeg": "[encoded data removed]"
    }
   },
   "cell_type": "markdown",
   "metadata": {},
   "source": [
    "![%D0%A4%D0%BE%D1%80%D0%BC%D1%83%D0%BB%D0%B03.jpg](attachment:%D0%A4%D0%BE%D1%80%D0%BC%D1%83%D0%BB%D0%B03.jpg) - доля демографии в населении (Universe ц. а. (параметр ц. а. которого задается в фильтре __demo_filter__ и/или параметр географии которого задается  в фильтре __geo_filter__) / Universe (параметр демографии которого задается в фильтре __base_demo_filter__ и/или параметр географии которого задается в фильтре __base_geo_filter__))"
   ]
  },
  {
   "cell_type": "markdown",
   "metadata": {},
   "source": [
    "### 2) Affinity ADR\n",
    "Статистика __affinityAdr__ показывает, на сколько соц.-дем. группа представлена в среднедневной аудитории медиа объекта больше / меньше, чем в населении анализируемой географии в целом.\n",
    "Рассчитывается как соотношение доли демографии в среднедневной аудитории медиа объекта относительно доли этой демографии в населении."
   ]
  },
  {
   "attachments": {
    "1713361916989-566.png": {
     "image/png": "[encoded data removed]"
    }
   },
   "cell_type": "markdown",
   "metadata": {},
   "source": [
    "![1713361916989-566.png](attachment:1713361916989-566.png)"
   ]
  },
  {
   "attachments": {
    "%D0%A4%D0%BE%D1%80%D0%BC%D1%83%D0%BB%D0%B02.jpg": {
     "image/jpeg": "[encoded data removed]"
    }
   },
   "cell_type": "markdown",
   "metadata": {},
   "source": [
    "где:\n",
    "![%D0%A4%D0%BE%D1%80%D0%BC%D1%83%D0%BB%D0%B02.jpg](attachment:%D0%A4%D0%BE%D1%80%D0%BC%D1%83%D0%BB%D0%B02.jpg) - доля демографии в среднедневной аудитории медиа объекта (ADR ц. а. медиа объекта (параметр ц. а. которого задается в фильтре __demo_filter__ и/или параметр географии которого задается  в фильтре __geo_filter__) / ADR Total медиа объекта (параметр total которого задается в фильтре __base_demo_filter__ и/или параметр географии которого задается в фильтре __base_geo_filter__))"
   ]
  },
  {
   "attachments": {
    "%D0%A4%D0%BE%D1%80%D0%BC%D1%83%D0%BB%D0%B03.jpg": {
     "image/jpeg": "[encoded data removed]"
    }
   },
   "cell_type": "markdown",
   "metadata": {},
   "source": [
    "![%D0%A4%D0%BE%D1%80%D0%BC%D1%83%D0%BB%D0%B03.jpg](attachment:%D0%A4%D0%BE%D1%80%D0%BC%D1%83%D0%BB%D0%B03.jpg) - доля демографии в населении (Universe ц. а. (параметр ц. а. которого задается в фильтре __demo_filter__ и/или параметр географии которого задается  в фильтре __geo_filter__) / Universe (параметр демографии которого задается в фильтре __base_demo_filter__ и/или параметр географии которого задается в фильтре __base_geo_filter__))"
   ]
  },
  {
   "attachments": {
    "Affinity%20Internet.jpg": {
     "image/jpeg": "[encoded data removed]"
    }
   },
   "cell_type": "markdown",
   "metadata": {},
   "source": [
    "### 3) Affinity Internet\n",
    "Статистика __affinityInternet__ показывает, на сколько соц.-дем. группа представлена в аудитории медиа объекта больше / меньше, чем в аудитории интернета по анализируемой географии в целом.\n",
    "Рассчитывается как соотношение доли демографии в аудитории медиа объекта относительно доли этой демографии в Total Internet.\n",
    "![Affinity%20Internet.jpg](attachment:Affinity%20Internet.jpg)"
   ]
  },
  {
   "attachments": {
    "%D0%A4%D0%BE%D1%80%D0%BC%D1%83%D0%BB%D0%B02.jpg": {
     "image/jpeg": "[encoded data removed]"
    }
   },
   "cell_type": "markdown",
   "metadata": {},
   "source": [
    "где:\n",
    "![%D0%A4%D0%BE%D1%80%D0%BC%D1%83%D0%BB%D0%B02.jpg](attachment:%D0%A4%D0%BE%D1%80%D0%BC%D1%83%D0%BB%D0%B02.jpg) - доля демографии в аудитории медиа объекта (Reach ц. а. медиа объекта (параметр ц. а. которого задается в фильтре __demo_filter__ и/или параметр географии которого задается  в фильтре __geo_filter__) / Reach Total медиа объекта (параметр total которого задается в фильтре __base_demo_filter__ и/или параметр географии которого задается в фильтре __base_geo_filter__))"
   ]
  },
  {
   "attachments": {
    "%D0%A4%D0%BE%D1%80%D0%BC%D1%83%D0%BB%D0%B03.jpg": {
     "image/jpeg": "[encoded data removed]"
    }
   },
   "cell_type": "markdown",
   "metadata": {},
   "source": [
    "![%D0%A4%D0%BE%D1%80%D0%BC%D1%83%D0%BB%D0%B03.jpg](attachment:%D0%A4%D0%BE%D1%80%D0%BC%D1%83%D0%BB%D0%B03.jpg) - доля демографии в аудитории интернета (Reach ц. а. Internet (параметр ц. а. которого задается в фильтре __demo_filter__ и/или параметр географии которого задается  в фильтре __geo_filter__) / Reach Total Internet (параметр total которого задается в фильтре __base_demo_filter__ и/или параметр географии которого задается в фильтре __base_geo_filter__))"
   ]
  },
  {
   "attachments": {
    "1713361898146-841.png": {
     "image/png": "[encoded data removed]"
    }
   },
   "cell_type": "markdown",
   "metadata": {},
   "source": [
    "### 4) \tAffinity ADR Internet\n",
    "Статистика __affinityAdrInternet__ показывает, на сколько соц.-дем. группа представлена в среднедневной аудитории медиа объекта больше / меньше, чем в среднедневной аудитории интернета по анализируемой географии в целом.\n",
    "Рассчитывается как соотношение доли демографии в среднедневной аудитории медиа объекта относительно доли этой демографии в среднедневной аудитории Total Internet.\n",
    "![1713361898146-841.png](attachment:1713361898146-841.png)"
   ]
  },
  {
   "attachments": {
    "%D0%A4%D0%BE%D1%80%D0%BC%D1%83%D0%BB%D0%B02.jpg": {
     "image/jpeg": "[encoded data removed]"
    }
   },
   "cell_type": "markdown",
   "metadata": {},
   "source": [
    "где:\n",
    "![%D0%A4%D0%BE%D1%80%D0%BC%D1%83%D0%BB%D0%B02.jpg](attachment:%D0%A4%D0%BE%D1%80%D0%BC%D1%83%D0%BB%D0%B02.jpg) - доля демографии в среднедневной аудитории медиа объекта (ADR ц. а. медиа объекта (параметр ц. а. которого задается в фильтре __demo_filter__ и/или параметр географии которого задается  в фильтре __geo_filter__) / ADR Total медиа объекта (параметр total которого задается в фильтре __base_demo_filter__ и/или параметр географии которого задается в фильтре __base_geo_filter__))"
   ]
  },
  {
   "attachments": {
    "%D0%A4%D0%BE%D1%80%D0%BC%D1%83%D0%BB%D0%B03.jpg": {
     "image/jpeg": "[encoded data removed]"
    }
   },
   "cell_type": "markdown",
   "metadata": {},
   "source": [
    "![%D0%A4%D0%BE%D1%80%D0%BC%D1%83%D0%BB%D0%B03.jpg](attachment:%D0%A4%D0%BE%D1%80%D0%BC%D1%83%D0%BB%D0%B03.jpg) - доля демографии в среднедневной аудитории интернета (ADR ц. а. Internet (параметр ц. а. которого задается в фильтре __demo_filter__ и/или параметр географии которого задается  в фильтре __geo_filter__) / ADR Total Internet (параметр total которого задается в фильтре __base_demo_filter__ и/или параметр географии которого задается в фильтре __base_geo_filter__))"
   ]
  },
  {
   "cell_type": "markdown",
   "metadata": {},
   "source": [
    "### Важно!\n",
    "- Таким образом, фильтры __geo_filter__ и __demo_filter__ необходимы для ограничения отчета на ц. а., а фильтры __base_geo_filter__ и __base_demo_filter__ - для ограничения на то, относительно чего должны рассчитаться индексы аффинитивности по выбранным ц. а. К примеру, если необходимо рассчитать индекс аффинитивности какой-либо ц. а. относительно генеральной совокупности (жители России 0+ старше 12 лет), то необходимо в фильтре __base_geo_filter__ и __base_demo_filter__ оставить значение __None__. \n",
    "\n",
    "- Если расчет происходит по стандартным демографическим переменным, то фильтры __geo_filter__ и __demo_filter__ должны иметь значение __None__ (пример в задании №1).\n",
    "\n",
    "- Обращаем внимание, что фильтры __base_geo_filter__ и __base_demo_filter__ являются приоритетнее, поэтому для корректного расчета аффинитивности фильтры __base_geo_filter__ и __base_demo_filter__ должны быть шире, чем __geo_filter__ и __demo_filter__. Например, __base_geo_filter__ - \"Россиия 100k+\", а __geo_filter__ - \"Большая Москва\". Таким образом будет рассчитан индекс аффинитивности жителей Большой Москвы относительно жителей России 100k+.\n"
   ]
  },
  {
   "cell_type": "markdown",
   "metadata": {},
   "source": [
    "# Задания\n",
    "\n",
    "Перейдем к формированию заданий.\n",
    "\n",
    "\n",
    "### Задание №1. Расчет индекса аффинитивности по ресурсу Wildberries по стандартной соц-дем переменной \"Пол\" относительно генеральной совокупности в разбивке на типы пользования Интернетом"
   ]
  },
  {
   "cell_type": "code",
   "execution_count": null,
   "metadata": {
    "scrolled": true
   },
   "outputs": [],
   "source": [
    "# Задаем название ресурса для отображения в DataFrame\n",
    "project_name = 'Affinity standard'\n",
    "\n",
    "# Задаем фильтр по географии, в нашем случае он не требуется\n",
    "geo_filter = None\n",
    "\n",
    "# Задаем базовый фильтр по географии, в нашем случае он не требуется\n",
    "base_geo_filter = None\n",
    "\n",
    "# Задаем фильтр по демографии, в нашем случае он не требуется\n",
    "demo_filter = None\n",
    "\n",
    "# Задаем базовый фильтр по демографии, в нашем случае он не требуется\n",
    "base_demo_filter = None\n",
    "\n",
    "# Задаем фильтр по медиа, в нашем случае это ID ресурса Wildberries\n",
    "mart_filter = 'crossMediaResourceId IN (3768)'\n",
    "\n",
    "# Указываем список срезов, чтобы сформировать структуру расчета\n",
    "slices = [\"researchMonth\", \"useTypeName\", \"crossMediaResourceId\", \"crossMediaResourceName\", \"sex\"]\n",
    "\n",
    "# Указываем список статистик для расчета\n",
    "statistics = ['affinity', 'affinityAdr', 'affinityAdrInternet', 'affinityInternet'] \n",
    "\n",
    "# Формируем задание для API Cross Web в формате JSON\n",
    "task_json = mtask.build_task(\n",
    "    task_type='media', task_name=project_name, date_filter=date_filter, usetype_filter=usetype_filter, \n",
    "    geo_filter=geo_filter, base_geo_filter=base_geo_filter, demo_filter=demo_filter, base_demo_filter=base_demo_filter, \n",
    "    mart_filter=mart_filter, slices=slices, statistics=statistics)\n",
    "\n",
    "# Отправляем задание на расчет и ждем выполнения\n",
    "task_audience = mtask.wait_task(mtask.send_audience_task(task_json))\n",
    "\n",
    "# Получаем результат\n",
    "df_result1 = mtask.result2table(mtask.get_result(task_audience), project_name = project_name)\n",
    "df_result1"
   ]
  },
  {
   "cell_type": "markdown",
   "metadata": {},
   "source": [
    "#### Пример интерпретации статистик:\n",
    "\n",
    "1)  Affinity: `Индекс 113 для группы «мужчины» в Desktop аудитории Wildberries означает, что в декабре 2024 года в Desktop аудитории Wildberries доля мужчин в 1.13 раза больше, чем в населении России старше 12 лет.`\n",
    "\n",
    "\n",
    "2) Affinity ADR: `Индекс 106 для группы «мужчины» в Desktop аудитории Wildberries означает, что в декабре 2024 года в Desktop аудитории Wildberries доля мужчин в среднедневной аудитории ресурса в 1.06 раза больше, чем в населении России старше 12 лет.`\n",
    "\n",
    "\n",
    "3)  Affinity Internet: `Индекс 115 для группы «женщины» в Mobile App аудитории Wildberries означает, что в декабре 2024 года в Mobile App аудитории Wildberries доля женщин в 1.15 раза больше, чем в Mobile App аудитории интернета России старше 12 лет.`\n",
    "\n",
    "\n",
    "3)  Affinity ADR Internet: `Индекс 134 для группы «женщины» в Mobile App аудитории Wildberries означает, что в декабре 2024 года в Mobile App аудитории Wildberries доля женщин в среднедневной аудитории ресурса в 1.34 раза больше, чем в среднедневной Mobile App аудитории интернета России старше 12 лет.`"
   ]
  },
  {
   "cell_type": "code",
   "execution_count": null,
   "metadata": {},
   "outputs": [],
   "source": [
    "# Сохраняем результат в Excel:\n",
    "writer = pd.ExcelWriter(mtask.get_excel_filename('Affinity_Wildberries'))\n",
    "df_info = mtask.get_report_info()\n",
    "df_result1.to_excel(writer, 'Report', index=False)\n",
    "df_info.to_excel(writer, 'Info', index=False)\n",
    "writer.save()"
   ]
  },
  {
   "cell_type": "markdown",
   "metadata": {},
   "source": [
    "### Задание №2. Расчет индекса аффинитивности по ресурсу ВКонтакте по кастомной переменной «жители Южного и/или Северо-Кавказского ФО с семейным положением: женат/ замужем/ гражданский брак» относительно генеральной совокупности"
   ]
  },
  {
   "cell_type": "code",
   "execution_count": null,
   "metadata": {
    "scrolled": true
   },
   "outputs": [],
   "source": [
    "# Задаем название ресурса для отображения в DataFrame\n",
    "project_name = 'Affinity geo_demo'\n",
    "\n",
    "# Задаем фильтр по географии\n",
    "geo_filter = 'federalOkrug = 3'\n",
    "\n",
    "# Задаем базовый фильтр по географии, в нашем случае он не требуется\n",
    "base_geo_filter = None\n",
    "\n",
    "# Задаем фильтр по демографии\n",
    "demo_filter = 'familyStatus = 1'\n",
    "\n",
    "# Задаем базовый фильтр по демографии, в нашем случае он не требуется\n",
    "base_demo_filter = None\n",
    "\n",
    "# Задаем фильтр по медиа, в нашем случае это ID ресурса ВКонтакте\n",
    "mart_filter = 'crossMediaResourceId IN (1150)'\n",
    "\n",
    "# Указываем список срезов, чтобы сформировать структуру расчета\n",
    "slices = [\"researchMonth\", \"crossMediaResourceId\", \"crossMediaResourceName\"]\n",
    "\n",
    "# Указываем список статистик для расчета\n",
    "statistics = ['affinity', 'affinityAdr', 'affinityAdrInternet', 'affinityInternet'] \n",
    "\n",
    "# Формируем задание для API Cross Web в формате JSON\n",
    "task_json = mtask.build_task(\n",
    "    task_type='media', task_name=project_name, date_filter=date_filter, usetype_filter=usetype_filter, \n",
    "    geo_filter=geo_filter, base_geo_filter=base_geo_filter, demo_filter=demo_filter, base_demo_filter=base_demo_filter, \n",
    "    mart_filter=mart_filter, slices=slices, statistics=statistics)\n",
    "\n",
    "# Отправляем задание на расчет и ждем выполнения\n",
    "task_audience = mtask.wait_task(mtask.send_audience_task(task_json))\n",
    "\n",
    "# Получаем результат\n",
    "df_result2 = mtask.result2table(mtask.get_result(task_audience), project_name = project_name)\n",
    "df_result2"
   ]
  },
  {
   "cell_type": "markdown",
   "metadata": {},
   "source": [
    "#### Пример интерпретации статистик:\n",
    "\n",
    "1)  Affinity: `Индекс 91 для группы «жители Южного и/или Северо-Кавказского ФО с семейным положением: женат/ замужем/ гражданский брак» в десктопной и/или мобильной аудитории ВКонтакте означает, что в декабре 2024 года в десктопной и/или мобильной аудитории ВКонтакте доля анализируемой группы в 0.91 раза меньше, чем в населении России старше 12 лет.`\n",
    "\n",
    "\n",
    "2) Affinity ADR: `Индекс 73 для группы «жители Южного и/или Северо-Кавказского ФО с семейным положением: женат/ замужем/ гражданский брак» в десктопной и/или мобильной аудитории ВКонтакте означает, что в декабре 2024 года в десктопной и/или мобильной аудитории ВКонтакте доля анализируемой группы в среднедневной аудитории ресурса в 0.73 раза меньше, чем в населении России старше 12 лет.`\n",
    "\n",
    "\n",
    "3)  Affinity Internet: `Индекс 92 для группы «жители Южного и/или Северо-Кавказского ФО с семейным положением: женат/ замужем/ гражданский брак» в десктопной и/или мобильной аудитории ВКонтакте означает, что в декабре 2024 года в десктопной и/или мобильной аудитории ВКонтакте доля анализируемой группы в 0.92 раза меньше, чем в десктопной и/или мобильной аудитории интернета России старше 12 лет.`\n",
    "\n",
    "\n",
    "3)  Affinity ADR Internet: `Индекс 73 для группы «жители Южного и/или Северо-Кавказского ФО с семейным положением: женат/ замужем/ гражданский брак» в десктопной и/или мобильной аудитории ВКонтакте означает, что в декабре 2024 года в десктопной и/или мобильной аудитории ВКонтакте доля анализируемой группы в среднедневной аудитории ресурса в 0.73 раза меньше, чем в десктопной и/или мобильной среднедневной аудитории интернета России старше 12 лет.`"
   ]
  },
  {
   "cell_type": "code",
   "execution_count": null,
   "metadata": {},
   "outputs": [],
   "source": [
    "# Сохраняем результат в Excel:\n",
    "writer = pd.ExcelWriter(mtask.get_excel_filename('Affinity ВКонтакте'))\n",
    "df_info = mtask.get_report_info()\n",
    "df_result2.to_excel(writer, 'Report', index=False)\n",
    "df_info.to_excel(writer, 'Info', index=False)\n",
    "writer.save()"
   ]
  },
  {
   "cell_type": "markdown",
   "metadata": {},
   "source": [
    "### Задание №3. Расчет индекса аффинитивности по ресурсам Wildberries и Ozon по кастомной переменной «жители Большой Москвы старше 25 лет с уровнем дохода BC» относительно жителей России 100k+ старше 12 лет."
   ]
  },
  {
   "cell_type": "code",
   "execution_count": null,
   "metadata": {},
   "outputs": [],
   "source": [
    "# Задаем название ресурса для отображения в DataFrame\n",
    "project_name = 'Affinity geo_demo base'\n",
    "\n",
    "# Задаем фильтр по географии\n",
    "geo_filter = 'cityPop = 1'\n",
    "\n",
    "# Задаем базовый фильтр по географии\n",
    "base_geo_filter = 'cityPop100 = 1'\n",
    "\n",
    "# Задаем фильтр по демографии\n",
    "demo_filter = 'age >= 25 AND incomeGroup IN (3,4,5)'\n",
    "\n",
    "# Задаем базовый фильтр по демографии, в нашем случае он не требуется\n",
    "base_demo_filter = None\n",
    "\n",
    "# Задаем фильтр по медиа, в нашем случае это ID ресурсов Wildberries и Ozon\n",
    "mart_filter = 'crossMediaResourceId IN (1094, 3768)'\n",
    "\n",
    "# Указываем список срезов, чтобы сформировать структуру расчета\n",
    "slices = [\"researchMonth\"]\n",
    "\n",
    "# Указываем список статистик для расчета\n",
    "statistics = ['affinity', 'affinityAdr', 'affinityAdrInternet', 'affinityInternet'] \n",
    "\n",
    "# Формируем задание для API Cross Web в формате JSON\n",
    "task_json = mtask.build_task(\n",
    "    task_type='media', task_name=project_name, date_filter=date_filter, usetype_filter=usetype_filter, \n",
    "    geo_filter=geo_filter, base_geo_filter=base_geo_filter, demo_filter=demo_filter, base_demo_filter=base_demo_filter, \n",
    "    mart_filter=mart_filter, slices=slices, statistics=statistics)\n",
    "\n",
    "# Отправляем задание на расчет и ждем выполнения\n",
    "task_audience = mtask.wait_task(mtask.send_audience_task(task_json))\n",
    "\n",
    "# Получаем результат\n",
    "df_result3 = mtask.result2table(mtask.get_result(task_audience), project_name = project_name)\n",
    "df_result3"
   ]
  },
  {
   "cell_type": "markdown",
   "metadata": {},
   "source": [
    "#### Пример интерпретации статистик:\n",
    "\n",
    "1)  Affinity: `Индекс 103 для группы «жители Большой Москвы старше 25 лет с уровнем дохода BC» в десктопной и/или мобильной аудитории Ozon и/или Wildberries означает, что в декабре 2024 года в десктопной и/или мобильной аудитории Ozon и/или Wildberries доля анализируемой группы в 1.03 раза больше, чем в населении России 100k+ старше 12 лет.`\n",
    "\n",
    "\n",
    "2) Affinity ADR: `Индекс 102 для группы «жители Большой Москвы старше 25 лет с уровнем дохода BC» в десктопной и/или мобильной аудитории Ozon и/или Wildberries означает, что в декабре 2024 года в десктопной и/или мобильной аудитории Ozon и/или Wildberries доля анализируемой группы в среднедневной аудитории ресурса в 1.02 раза больше, чем в населении России 100k+ старше 12 лет.`\n",
    "\n",
    "\n",
    "3)  Affinity Internet: `Индекс 100 для группы «жители Большой Москвы старше 25 лет с уровнем дохода BC» в десктопной и/или мобильной аудитории Ozon и/или Wildberries означает, что в декабре 2024 года в десктопной и/или мобильной аудитории Ozon и/или Wildberries доля анализируемой группы соответствует доле этой группы в десктопной и/или мобильной аудитории интернета России 100k+ старше 12 лет.`\n",
    "\n",
    "\n",
    "3)  Affinity ADR Internet: `Индекс 99 для группы «жители Большой Москвы старше 25 лет с уровнем дохода BC» в десктопной и/или мобильной аудитории Ozon и/или Wildberries означает, что в декабре 2024 года в десктопной и/или мобильной аудитории Ozon и/или Wildberries доля анализируемой группы в среднедневной аудитории ресурса в 0.99 раза меньше, чем в десктопной и/или мобильной среднедневной аудитории интернета России 100k+ старше 12 лет.`"
   ]
  },
  {
   "cell_type": "code",
   "execution_count": null,
   "metadata": {},
   "outputs": [],
   "source": [
    "# Сохраняем результат в Excel:\n",
    "writer = pd.ExcelWriter(mtask.get_excel_filename('Affinity Wildberries&Ozon'))\n",
    "df_info = mtask.get_report_info()\n",
    "df_result3.to_excel(writer, 'Report', index=False)\n",
    "df_info.to_excel(writer, 'Info', index=False)\n",
    "writer.save()"
   ]
  },
  {
   "cell_type": "markdown",
   "metadata": {},
   "source": [
    "### Задание №4. Расчет индекса аффинитивности по ресурсу Ozon по кастомной переменной «жители Большой Москвы старше 25 лет с уровнем дохода BC» относительно жителей России 100k+ старше 25 лет"
   ]
  },
  {
   "cell_type": "code",
   "execution_count": null,
   "metadata": {},
   "outputs": [],
   "source": [
    "# Задаем название ресурса для отображения в DataFrame\n",
    "project_name = 'Affinity geo_demo base'\n",
    "\n",
    "# Задаем фильтр по географии\n",
    "geo_filter = 'cityPop = 1'\n",
    "\n",
    "# Задаем базовый фильтр по географии\n",
    "base_geo_filter = 'cityPop100 = 1'\n",
    "\n",
    "# Задаем фильтр по демографии\n",
    "demo_filter = 'age >= 25 AND incomeGroup IN (3,4,5)'\n",
    "\n",
    "# Задаем базовый фильтр по демографии\n",
    "base_demo_filter = 'age >= 25'\n",
    "\n",
    "# Задаем фильтр по медиа, в нашем случае это ID ресурса Ozon\n",
    "mart_filter = 'crossMediaResourceId IN (1094)'\n",
    "\n",
    "# Указываем список срезов, чтобы сформировать структуру расчета\n",
    "slices = [\"researchMonth\", \"crossMediaResourceId\", \"crossMediaResourceName\"]\n",
    "\n",
    "# Указываем список статистик для расчета\n",
    "statistics = ['affinity', 'affinityAdr', 'affinityAdrInternet', 'affinityInternet'] \n",
    "\n",
    "# Формируем задание для API Cross Web в формате JSON\n",
    "task_json = mtask.build_task(\n",
    "    task_type='media', task_name=project_name, date_filter=date_filter, usetype_filter=usetype_filter, \n",
    "    geo_filter=geo_filter, base_geo_filter=base_geo_filter, demo_filter=demo_filter, base_demo_filter=base_demo_filter, \n",
    "    mart_filter=mart_filter, slices=slices, statistics=statistics)\n",
    "\n",
    "# Отправляем задание на расчет и ждем выполнения\n",
    "task_audience = mtask.wait_task(mtask.send_audience_task(task_json))\n",
    "\n",
    "# Получаем результат\n",
    "df_result4 = mtask.result2table(mtask.get_result(task_audience), project_name = project_name)\n",
    "df_result4"
   ]
  },
  {
   "cell_type": "markdown",
   "metadata": {},
   "source": [
    "#### Пример интерпретации статистик:\n",
    "\n",
    "1)  Affinity: `Индекс 108 для группы «жители Большой Москвы старше 25 лет с уровнем дохода BC» в десктопной и/или мобильной аудитории Ozon означает, что в декабре 2024 года в десктопной и/или мобильной аудитории Ozon доля анализируемой группы в 1.08 раза больше, чем в населении России 100k+ старше 25 лет.`\n",
    "\n",
    "\n",
    "2) Affinity ADR: `Индекс 108 для группы «жители Большой Москвы старше 25 лет с уровнем дохода BC» в десктопной и/или мобильной аудитории Ozon означает, что в декабре 2024 года в десктопной и/или мобильной аудитории Ozon доля анализируемой группы в среднедневной аудитории ресурса в 1.08 раза больше, чем в населении России 100k+ старше 25 лет.`\n",
    "\n",
    "\n",
    "3)  Affinity Internet: `Индекс 103 для группы «жители Большой Москвы старше 25 лет с уровнем дохода BC» в десктопной и/или мобильной аудитории Ozon означает, что в декабре 2024 года в десктопной и/или мобильной аудитории Ozon доля анализируемой группы в 1.03 раза больше, чем в десктопной и/или мобильной аудитории интернета России 100k+ старше 25 лет.`\n",
    "\n",
    "\n",
    "3)  Affinity ADR Internet: `Индекс 103 для группы «жители Большой Москвы старше 25 лет с уровнем дохода BC» в десктопной и/или мобильной аудитории Ozon означает, что в декабре 2024 года в десктопной и/или мобильной аудитории Ozon доля анализируемой группы в среднедневной аудитории ресурса в 1.03 раза больше, чем в десктопной и/или мобильной среднедневной аудитории интернета России 100k+ старше 25 лет.`"
   ]
  },
  {
   "cell_type": "code",
   "execution_count": null,
   "metadata": {},
   "outputs": [],
   "source": [
    "# Сохраняем результат в Excel:\n",
    "writer = pd.ExcelWriter(mtask.get_excel_filename('Affinity Ozon'))\n",
    "df_info = mtask.get_report_info()\n",
    "df_result4.to_excel(writer, 'Report', index=False)\n",
    "df_info.to_excel(writer, 'Info', index=False)\n",
    "writer.save()"
   ]
  }
 ],
 "metadata": {
  "kernelspec": {
   "display_name": "Python 3 (ipykernel)",
   "language": "python",
   "name": "python3"
  },
  "language_info": {
   "codemirror_mode": {
    "name": "ipython",
    "version": 3
   },
   "file_extension": ".py",
   "mimetype": "text/x-python",
   "name": "python",
   "nbconvert_exporter": "python",
   "pygments_lexer": "ipython3",
   "version": "3.9.7"
  }
 },
 "nbformat": 4,
 "nbformat_minor": 4
}
