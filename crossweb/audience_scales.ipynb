{
 "cells": [
  {
   "cell_type": "markdown",
   "metadata": {},
   "source": [
    "# Cтатистики со шкалами\n",
    "Пример отчета по расчету статистик со шкалами.\n",
    "\n",
    "## Описание задачи\n",
    "\n",
    "Посчитаем данные по интернет-ресурсу **Ivi**.\n",
    "\n",
    "Общие параметры:\n",
    "- Период: Сентябрь 2021\n",
    "- География: Россия 0+\n",
    "- Население: 12+\n",
    "- Тип пользования интернетом: ограничения нет, считаем по всем (Web Desktop, Web Mobile, App Mobile)\n",
    "\n",
    "Статистики:\n",
    "- **Days Reached Frequency Distribution (drfd)** - количество человек, которые заходили на ресурс **Ivi** от 1 до 5 дней и от 10 до 20 дней.\n",
    "- **Reach N+ Distribution (reachN)** - количество человек, которые заходили на ресурс **Ivi** от 2 до 10 раз и от 20 до 50 раз. \n",
    "- **Reach Average Daily Duration (reachAdd)** - количество человек, которые провели на ресурсе **Ivi** от 0 до 30 минут и от 30 до 60 минут за средний день указанного периода."
   ]
  },
  {
   "cell_type": "markdown",
   "metadata": {},
   "source": [
    "# Инициализация\n",
    "\n",
    "При построении отчета первый шаг в любом ноутбуке - загрузка библиотек, которые помогут обращаться к API Cross Web и работать с данными.\n",
    "\n",
    "Выполните следующую ячейку, для этого перейдите в нее и нажмите Ctrl+Enter"
   ]
  },
  {
   "cell_type": "code",
   "execution_count": null,
   "metadata": {},
   "outputs": [],
   "source": [
    "%reload_ext autoreload\n",
    "%autoreload 2\n",
    "\n",
    "import sys\n",
    "import os\n",
    "import re\n",
    "import json\n",
    "import datetime\n",
    "import time\n",
    "import pandas as pd\n",
    "#import matplotlib.pyplot as plt\n",
    "from IPython.display import JSON\n",
    "\n",
    "from mediascope_api.core import net as mscore\n",
    "from mediascope_api.crossweb import tasks as cwt\n",
    "from mediascope_api.crossweb import catalogs as cwc\n",
    "\n",
    "# Настраиваем отображение\n",
    "\n",
    "# Включаем отображение всех колонок\n",
    "pd.set_option('display.max_columns', None)\n",
    "# Задаем максимальное количество выводимых строк. Раскомментируйте нужную строку\n",
    "# 200 строк\n",
    "# pd.set_option(\"display.max_rows\", 200)\n",
    "# Отображаем все строки. ВАЖНО! Отображение большого DataFrame требует много ресурсов\n",
    "# pd.set_option(\"display.max_rows\", None)\n",
    "\n",
    "# Создаем объекты для работы с API Cross Web\n",
    "mnet = mscore.MediascopeApiNetwork()\n",
    "mtask = cwt.CrossWebTask()\n",
    "cats = cwc.CrossWebCats()"
   ]
  },
  {
   "cell_type": "markdown",
   "metadata": {},
   "source": [
    "## Формируем задания\n",
    "\n",
    "Для расчета статистик со шкалами обязательно нужно указать эти шкалы в переменной **scales**, а также прописать ее в параметрах, передаваемых в функцию **build_task**."
   ]
  },
  {
   "cell_type": "markdown",
   "metadata": {},
   "source": [
    "### Общие параметры для заданий\n",
    "\n",
    "Для начала зададим общие параметры"
   ]
  },
  {
   "cell_type": "code",
   "execution_count": null,
   "metadata": {},
   "outputs": [],
   "source": [
    "# Задаем период\n",
    "# Период указывается в виде списка ('Начало', 'Конец'). Можно указать несколько периодов\n",
    "date_filter = [('2021-09-01', '2021-09-30')]\n",
    "\n",
    "# Задаем фильтр по типам пользования интернетом\n",
    "usetype_filter = [1,2,3]"
   ]
  },
  {
   "cell_type": "markdown",
   "metadata": {},
   "source": [
    "### Получим ID ресурса\n",
    "Для построения отчета необходимо получить идентификатор ресурса __Ivi__.\n",
    "\n",
    "Для этого воспользуемся методом поиска в медиа справочнике. Работа с медиа справочником подробно описана в ноутбуке [catalogs](catalogs.ipynb). \n",
    "\n",
    "Получим идентификатор ресурса **Ivi**"
   ]
  },
  {
   "cell_type": "code",
   "execution_count": null,
   "metadata": {},
   "outputs": [],
   "source": [
    "cats.get_resource(resource='Ivi')"
   ]
  },
  {
   "cell_type": "markdown",
   "metadata": {},
   "source": [
    "Таким образом, необходимый идентификатор следующий:\n",
    "\n",
    "- **Ivi**  resourceId = 1067"
   ]
  },
  {
   "cell_type": "markdown",
   "metadata": {},
   "source": [
    "## Задания\n",
    "\n",
    "Перейдем к формированию заданий.\n",
    "\n",
    "\n",
    "### Задание №1. Расчет статистик со шкалами для ресурса Ivi"
   ]
  },
  {
   "cell_type": "code",
   "execution_count": null,
   "metadata": {
    "scrolled": true
   },
   "outputs": [],
   "source": [
    "# Задаем название ресурса для отображения в DataFrame\n",
    "project_name = 'Ivi'\n",
    "\n",
    "# Задаем фильтр по географии, в нашем случае он не требуется\n",
    "geo_filter = None\n",
    "\n",
    "# Задаем фильтр по демографии, в нашем случае он не требуется\n",
    "demo_filter = None\n",
    "\n",
    "# Задаем фильтр по медиа, в нашем случае это ID ресурса Ivi\n",
    "mart_filter = 'crossMediaResourceId = 1067'\n",
    "\n",
    "# Указываем список срезов, чтобы сформировать структуру расчета\n",
    "slices = [\"researchMonth\", \"crossMediaResourceId\"]\n",
    "\n",
    "# Указываем список статистик для расчета\n",
    "statistics = ['drfd', 'reachN', 'reachAdd']\n",
    "\n",
    "# Так как указаны статистики drfd, reachN и reachAdd, зададим для них шкалы\n",
    "scales = {'drfd':[(1, 5), (10, 20)], \n",
    "          'reachN':[(2, 10), (20, 50)],\n",
    "          'reachAdd':[(0, 30), (30, 60)]}\n",
    "\n",
    "# Формируем задание для API Cross Web в формате JSON\n",
    "task_json = mtask.build_task('media', project_name, date_filter, usetype_filter, geo_filter,\n",
    "                             demo_filter, mart_filter, slices, statistics, scales)\n",
    "\n",
    "# Отправляем задание на расчет и ждем выполнения\n",
    "task_audience = mtask.wait_task(mtask.send_audience_task(task_json))\n",
    "\n",
    "# Получаем результат\n",
    "df_ivi = mtask.result2table(mtask.get_result(task_audience), project_name = project_name)\n",
    "df_ivi"
   ]
  },
  {
   "cell_type": "markdown",
   "metadata": {},
   "source": [
    "## Сохраняем в Excel"
   ]
  },
  {
   "cell_type": "code",
   "execution_count": null,
   "metadata": {},
   "outputs": [],
   "source": [
    "writer = pd.ExcelWriter(mtask.get_excel_filename('audience-scales'))\n",
    "df_info = mtask.get_report_info()\n",
    "df_ivi.to_excel(writer, 'Report', index=False)\n",
    "df_info.to_excel(writer, 'Info', index=False)\n",
    "writer.save()"
   ]
  }
 ],
 "metadata": {
  "kernelspec": {
   "display_name": "Python 3 (ipykernel)",
   "language": "python",
   "name": "python3"
  },
  "language_info": {
   "codemirror_mode": {
    "name": "ipython",
    "version": 3
   },
   "file_extension": ".py",
   "mimetype": "text/x-python",
   "name": "python",
   "nbconvert_exporter": "python",
   "pygments_lexer": "ipython3",
   "version": "3.9.12"
  }
 },
 "nbformat": 4,
 "nbformat_minor": 4
}
