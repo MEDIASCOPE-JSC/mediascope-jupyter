{
 "cells": [
  {
   "cell_type": "markdown",
   "id": "measured-arcade",
   "metadata": {},
   "source": [
    "# Mediascope JupyterHUB\n",
    "\n",
    "[Онлайн сервис](https://jhub.mediascope.net) для работы с jupyter ноутбуками, в превую очередь ориентирован на использование Mediascope Jupyter Notebooks.\n",
    "\n",
    "## Особенности использования\n",
    "\n",
    "В начале работы в корневой папке представлены две папки:\n",
    "- mediascope-jupyter\n",
    "- examples\n",
    "\n",
    "В корне допускается создание других папок на усмотрение пользователя.\n",
    "\n",
    "### Папка mediascope-jupyter\n",
    "\n",
    "Основная рабочая папка с ноутбуками. Папка доступна на чтение/запись, все внесенные изменения сохраняются.\n",
    "\n",
    "Для начала работы - перейдите в соответствующий проект/папку (responusum) и отредактируйте файл settings.json. Необходимо указать ваши логин и пароль:\n",
    "\n",
    "```json\n",
    "    \"username\": \"youlogin\",\n",
    "    \"passw\": \"youpassword\",\n",
    "```\n",
    "\n",
    "Не бойтесь экспериментировать - если вдруг вы что-то удалили или испортили исходный ноутбук, всегда можно воспользоваться папкой examples.\n",
    "\n",
    "\n",
    "### Папка examples\n",
    "\n",
    "Папка содержит последнюю версию Mediascope Jupyter Notebooks. Версия обновляется при каждом запуске виртуального окружения.\n",
    "\n",
    "__Важно! Папка examples доступна только на чтение.__ Это необходимо, чтобы у вас под рукой были доступны оригинальные примеры, а также чтобы вы случайно не сохранили вашу работу в папку, которая удаляется/обновляется при рестарте.\n",
    "\n",
    "По мере развития набора jupyter-ноутбуков и появления новых проектов, в __examples__ будут появляться __новые версии ноутбуков и новые папки__. Просто копируйте их в свою рабочую папку и используйте на ваше усмотрение.\n",
    "\n",
    "## Ссылки\n",
    "\n",
    "- [Документация Responsum API 2.0](https://docs.mediascope.net/display/BIGDATA/Responsum+API+2.0)\n",
    "- [Mediascope Jupyter Notebooks](https://github.com/MEDIASCOPE-JSC/mediascope-jupyter)\n",
    "- [Mediascope API Lib](https://github.com/MEDIASCOPE-JSC/mediascope-api-lib)\n",
    "\n"
   ]
  }
 ],
 "metadata": {
  "kernelspec": {
   "display_name": "Python 3",
   "language": "python",
   "name": "python3"
  },
  "language_info": {
   "codemirror_mode": {
    "name": "ipython",
    "version": 3
   },
   "file_extension": ".py",
   "mimetype": "text/x-python",
   "name": "python",
   "nbconvert_exporter": "python",
   "pygments_lexer": "ipython3",
   "version": "3.7.7"
  }
 },
 "nbformat": 4,
 "nbformat_minor": 5
}
