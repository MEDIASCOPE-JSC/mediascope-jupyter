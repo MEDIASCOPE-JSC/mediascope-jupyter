{
 "cells": [
  {
   "cell_type": "markdown",
   "metadata": {},
   "source": [
    "# Каталоги Responsum\n",
    "Пример ноутбука для работы с каталогами Responsum"
   ]
  },
  {
   "cell_type": "markdown",
   "metadata": {},
   "source": [
    "### Зададим тип установки"
   ]
  },
  {
   "cell_type": "code",
   "execution_count": null,
   "metadata": {},
   "outputs": [],
   "source": [
    "facility = 'mobile' # возможные значения: 'desktop', 'mobile', 'desktop_pre'"
   ]
  },
  {
   "cell_type": "markdown",
   "metadata": {},
   "source": [
    "## Инициализация\n",
    "\n",
    "При построении отчета первый шаг в любом ноутбуке - загрузка библиотек, которые помогут обращаться к API Responsum и работать с данными.\n",
    "\n",
    "Выполните следующую ячейку, для этого перейдите в нее и нажмите Ctrl+Enter "
   ]
  },
  {
   "cell_type": "code",
   "execution_count": null,
   "metadata": {},
   "outputs": [],
   "source": [
    "%reload_ext autoreload\n",
    "%autoreload 2\n",
    "\n",
    "import os\n",
    "import re\n",
    "import json\n",
    "import datetime\n",
    "import time\n",
    "import pandas as pd\n",
    "from pathlib import Path\n",
    "from IPython.display import JSON\n",
    "\n",
    "from mediascope_api.core import net as msnet\n",
    "from mediascope_api.responsum import catalogs as rc\n",
    "\n",
    "# создаем объекты для работы с каталогами и заданиями,\n",
    "# а так же загружаем каталоги\n",
    "rcats = rc.ResponsumCats(facility)\n",
    "\n",
    "print(f\"Объектов в media-каталоге: {rcats.holdings.shape[0]}\")"
   ]
  },
  {
   "cell_type": "markdown",
   "metadata": {},
   "source": [
    "# Социально-демографические переменные"
   ]
  },
  {
   "cell_type": "markdown",
   "metadata": {},
   "source": [
    "### Все социально-демографические переменные\n",
    "Получим список всех социально-демографических переменных в WEB-Index"
   ]
  },
  {
   "cell_type": "code",
   "execution_count": null,
   "metadata": {
    "scrolled": true
   },
   "outputs": [],
   "source": [
    "demo_cat = rcats.get_demo()\n",
    "demo_cat"
   ]
  },
  {
   "cell_type": "markdown",
   "metadata": {},
   "source": [
    "Экспорт каталога в Excel. Файл сохраняется в директорию, в которой лежат текущие ноутбуки."
   ]
  },
  {
   "cell_type": "code",
   "execution_count": null,
   "metadata": {},
   "outputs": [],
   "source": [
    "writer = pd.ExcelWriter('demo_cat.xlsx')\n",
    "demo_cat.to_excel(writer, 'demo_cat', index=False)\n",
    "writer.save()"
   ]
  },
  {
   "cell_type": "markdown",
   "metadata": {},
   "source": [
    "Экспорт каталога в csv. Файл сохраняется в директорию, в которой лежат текущие ноутбуки."
   ]
  },
  {
   "cell_type": "code",
   "execution_count": null,
   "metadata": {},
   "outputs": [],
   "source": [
    "demo_cat.to_csv('demo_cat.csv', encoding = 'utf-16')"
   ]
  },
  {
   "cell_type": "markdown",
   "metadata": {},
   "source": [
    "### Поиск по социально-демографическим переменным\n",
    "\n",
    "Найдем переменные, которые содержат текст \"Численность\""
   ]
  },
  {
   "cell_type": "code",
   "execution_count": null,
   "metadata": {},
   "outputs": [],
   "source": [
    "rcats.get_demo(find_text='численность')"
   ]
  },
  {
   "cell_type": "markdown",
   "metadata": {},
   "source": [
    "# Работа с медиа-каталогом\n",
    "\n",
    "## Получить медиа-каталог\n",
    "\n",
    "Медиа-каталог загружается на шаге инициализации и доступен через DataFrame: __rcats.holdings__"
   ]
  },
  {
   "cell_type": "code",
   "execution_count": null,
   "metadata": {},
   "outputs": [],
   "source": [
    "rcats.holdings"
   ]
  },
  {
   "cell_type": "markdown",
   "metadata": {},
   "source": [
    "### Выгрузить медиа-каталог в Excel\n",
    "\n",
    "Выгрузим медиа-каталог в Excel, но не на один лист, а каждую ветвь (holding, network, agency) - на отдельный лист .\n",
    "\n",
    "Выгружать будем в папку с Excel: __../excel/media_catalog.xlsx__"
   ]
  },
  {
   "cell_type": "code",
   "execution_count": null,
   "metadata": {},
   "outputs": [],
   "source": [
    "writer = pd.ExcelWriter('../excel/media_catalog.xlsx')\n",
    "for b in rcats.holdings['branch'].drop_duplicates().to_list():\n",
    "    rcats.holdings[rcats.holdings['branch'] == b].to_excel(writer, b, index=False)\n",
    "writer.save()"
   ]
  },
  {
   "cell_type": "markdown",
   "metadata": {},
   "source": [
    "## Поиск в медиа-каталоге"
   ]
  },
  {
   "cell_type": "markdown",
   "metadata": {},
   "source": [
    "### Поиск идентификатора сайта avito.ru\n",
    "Найдем все сайты, в названия которых входит текст \"avito.ru\" (поиск выполняется без учета регистра).\n",
    "\n",
    "Искать будем только в названиях сайтов ветки \"holding\", для этого зададим \n",
    "\n",
    "```\n",
    "branch = 'holding'\n",
    "find_in = ['site']\n",
    "```\n",
    "<a id=’catalogs_site_avito’></a>"
   ]
  },
  {
   "cell_type": "code",
   "execution_count": null,
   "metadata": {},
   "outputs": [],
   "source": [
    "site_avito = rcats.find_media('avito.ru', branch = 'holding', find_in=['site'])\n",
    "site_avito"
   ]
  },
  {
   "cell_type": "markdown",
   "metadata": {},
   "source": [
    "Из полученного результата видим, что нас интересует сайт с __ID = 15828__."
   ]
  },
  {
   "cell_type": "markdown",
   "metadata": {},
   "source": [
    "Экспорт каталога в Excel. Файл сохраняется в директорию, в которой лежат текущие ноутбуки."
   ]
  },
  {
   "cell_type": "code",
   "execution_count": null,
   "metadata": {},
   "outputs": [],
   "source": [
    "writer = pd.ExcelWriter('site_avito.xlsx')\n",
    "site_avito.to_excel(writer, 'site_avito', index=False)\n",
    "writer.save()"
   ]
  },
  {
   "cell_type": "markdown",
   "metadata": {},
   "source": [
    "Экспорт каталога в csv. Файл сохраняется в директорию, в которой лежат текущие ноутбуки."
   ]
  },
  {
   "cell_type": "code",
   "execution_count": null,
   "metadata": {},
   "outputs": [],
   "source": [
    "site_avito.to_csv('site_avito.csv', encoding = 'utf-16')"
   ]
  },
  {
   "cell_type": "markdown",
   "metadata": {},
   "source": [
    "### Поиск идентификатора сайта Ivi.ru\n",
    "Найдем все сайты, в названия которых входит текст \"ivi.ru\" (поиск выполняется без учета регистра).\n",
    "\n",
    "Искать будем только в названиях сайтов ветки \"holding\", для этого зададим \n",
    "\n",
    "```\n",
    "branch = 'holding'\n",
    "find_in = ['site']\n",
    "```\n",
    "\n",
    "<a id=’catalogs_site_ivi’></a>"
   ]
  },
  {
   "cell_type": "code",
   "execution_count": null,
   "metadata": {},
   "outputs": [],
   "source": [
    "site_ivi = rcats.find_media('ivi.ru', branch = 'holding', find_in=['site'])\n",
    "site_ivi"
   ]
  },
  {
   "cell_type": "markdown",
   "metadata": {},
   "source": [
    "Из полученного результата видим, что нас интересует сайт с __ID = 15869__."
   ]
  },
  {
   "cell_type": "markdown",
   "metadata": {},
   "source": [
    "Экспорт каталога в Excel"
   ]
  },
  {
   "cell_type": "code",
   "execution_count": null,
   "metadata": {},
   "outputs": [],
   "source": [
    "writer = pd.ExcelWriter('site_ivi.xlsx')\n",
    "site_ivi.to_excel(writer, 'site_ivi', index=False)\n",
    "writer.save()"
   ]
  },
  {
   "cell_type": "markdown",
   "metadata": {},
   "source": [
    "Экспорт каталога в csv"
   ]
  },
  {
   "cell_type": "code",
   "execution_count": null,
   "metadata": {},
   "outputs": [],
   "source": [
    "site_ivi.to_csv('site_ivi.csv', encoding = 'utf-16')"
   ]
  },
  {
   "cell_type": "markdown",
   "metadata": {},
   "source": [
    "### Поиск идентификатора сайта Kommersant.ru\n",
    "Найдем все сайты, в названия которых входит текст \"kommersant.ru\" (поиск выполняется без учета регистра).\n",
    "\n",
    "Искать будем только в названиях сайтов ветки \"holding\", для этого зададим \n",
    "\n",
    "```\n",
    "branch = 'holding'\n",
    "find_in = ['site']\n",
    "```"
   ]
  },
  {
   "cell_type": "code",
   "execution_count": null,
   "metadata": {},
   "outputs": [],
   "source": [
    "site_kommersant = rcats.find_media('kommersant.ru', branch = 'holding', find_in=['site'])\n",
    "site_kommersant.head()"
   ]
  },
  {
   "cell_type": "markdown",
   "metadata": {},
   "source": [
    "Из полученного результата видим, что нас интересует сайт с __ID = 118__."
   ]
  },
  {
   "cell_type": "markdown",
   "metadata": {},
   "source": [
    "### Поиск идентификатора сайта Vk.com\n",
    "Найдем все сайты, в названия которых входит текст \"vk.com\" (поиск выполняется без учета регистра).\n",
    "\n",
    "Искать будем только в названиях сайтов ветки \"holding\", для этого зададим \n",
    "\n",
    "```\n",
    "branch = 'holding'\n",
    "find_in = ['site']\n",
    "```"
   ]
  },
  {
   "cell_type": "code",
   "execution_count": null,
   "metadata": {},
   "outputs": [],
   "source": [
    "site_vk = rcats.find_media('Vk.com', branch = 'holding', find_in='site')\n",
    "site_vk"
   ]
  },
  {
   "cell_type": "markdown",
   "metadata": {},
   "source": [
    "Из полученного результата видим, что нас интересует сайт с __ID = 16571__."
   ]
  },
  {
   "cell_type": "markdown",
   "metadata": {},
   "source": [
    "### Поиск идентификатора сайта Odnoklassniki.ru\n",
    "Найдем все сайты, в названия которых входит текст \"odnoklassniki.ru\" (поиск выполняется без учета регистра).\n",
    "\n",
    "Искать будем только в названиях сайтов ветки \"holding\", для этого зададим \n",
    "\n",
    "```\n",
    "branch = 'holding'\n",
    "find_in = ['site']\n",
    "```"
   ]
  },
  {
   "cell_type": "code",
   "execution_count": null,
   "metadata": {},
   "outputs": [],
   "source": [
    "holding_ok = rcats.find_media('Odnoklassniki.ru', branch = 'holding', find_in='site')\n",
    "holding_ok"
   ]
  },
  {
   "cell_type": "markdown",
   "metadata": {},
   "source": [
    "Из полученного результата видим, что нас интересует сайт с __ID = 12808__."
   ]
  },
  {
   "cell_type": "markdown",
   "metadata": {},
   "source": [
    "### Поиск идентификатора холдинга Google\n",
    "Найдем все холдинги, в названия которых входит текст \"google\" (поиск выполняется без учета регистра).\n",
    "\n",
    "Искать будем только по ветке \"holding\", для этого зададим \n",
    "\n",
    "```\n",
    "branch = 'holding'\n",
    "find_in = ['holding']\n",
    "```"
   ]
  },
  {
   "cell_type": "code",
   "execution_count": null,
   "metadata": {},
   "outputs": [],
   "source": [
    "holding_ok = rcats.find_media('google', branch='holding', find_in=['holding'])\n",
    "holding_ok"
   ]
  },
  {
   "cell_type": "markdown",
   "metadata": {},
   "source": [
   ]
  },
  {
   "cell_type": "markdown",
   "metadata": {},
   "source": [
    "### Поиск идентификатора бренда для рекламных кампаний\n",
    "Также можно найти идентификатор нужного бренда.\n",
    "Для рекламных кампаний соответствие следующее:\n",
    "\n",
    "- Holding - AdAgency\n",
    "- Site - Brand\n",
    "- Section - Subbrand\n",
    "- Subsection - Position\n",
    "\n",
    "Искать ID бренда будем только в поле \"site\" (brand) ветки agency \n",
    "\n",
    "```\n",
    "branch = 'agency'\n",
    "find_in = ['site']\n",
    "```"
   ]
  },
  {
   "cell_type": "code",
   "execution_count": null,
   "metadata": {},
   "outputs": [],
   "source": [
    "# шаблон запроса на поиск идентификатора бренда\n",
    "brand_x = rcats.find_media(find_text='VI', branch = 'agency', find_in=['site'])\n",
    "brand_x"
   ]
  },
  {
   "cell_type": "markdown",
   "metadata": {},
   "source": [
    "### Пример поиска названия сайта по ID \n",
    "\n",
    "В примере ниже найдем название сайта по его ID 16571 - это Vk.com\n"
   ]
  },
  {
   "cell_type": "code",
   "execution_count": null,
   "metadata": {},
   "outputs": [],
   "source": [
    "rcats.find_media('16571', find_in=['site'])"
   ]
  }
 ],
 "metadata": {
  "kernelspec": {
   "display_name": "Python 3",
   "language": "python",
   "name": "python3"
  },
  "language_info": {
   "codemirror_mode": {
    "name": "ipython",
    "version": 3
   },
   "file_extension": ".py",
   "mimetype": "text/x-python",
   "name": "python",
   "nbconvert_exporter": "python",
   "pygments_lexer": "ipython3",
   "version": "3.8.8"
  }
 },
 "nbformat": 4,
 "nbformat_minor": 4
}
