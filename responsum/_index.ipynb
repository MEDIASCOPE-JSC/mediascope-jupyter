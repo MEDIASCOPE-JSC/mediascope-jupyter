{
 "cells": [
  {
   "cell_type": "markdown",
   "metadata": {},
   "source": [
    "# Responsum Jupyter\n",
    "\n",
    "## [Справка](help.ipynb)\n",
    "\n",
    "## Настройки\n",
    "\n",
    "### Установка библиотеки Mediascope-API-lib\n",
    "Для работы с ноутбуками нам потребуется установить библиотеку, которая упростит работу с Mediascope API. Это нужно сделать один раз в самом начале использования.\n",
    "\n",
    "Для этого выполните следующую ячейку"
   ]
  },
  {
   "cell_type": "code",
   "execution_count": null,
   "metadata": {},
   "outputs": [],
   "source": [
    "!pip3 install mediascope-api-lib"
   ]
  },
  {
   "cell_type": "markdown",
   "metadata": {},
   "source": [
    "### Обновление библиотеки\n",
    "\n",
    "Мы переодически выпускаем обновления библиотеки mediascope-api-lib, проверить актуальность библиотеки можно по адресу:\n",
    "```\n",
    "https://pypi.org/project/mediascope-api-lib/\n",
    "```\n",
    "Для обновления библиотеки, выполните:"
   ]
  },
  {
   "cell_type": "code",
   "execution_count": null,
   "metadata": {},
   "outputs": [],
   "source": [
    "!pip3 install --upgrade mediascope-api-lib"
   ]
  },
  {
   "cell_type": "markdown",
   "metadata": {},
   "source": [
    "### Логин и пароль пользователя\n",
    "Для работы с API у вас должен быть логин и пароль.\n",
    "\n",
    "_Хранить пароль напрямую в ноутбуке небезопасно, мы будем хранить его в отдельном файле настроек, рядом с ноутбуком,_\n",
    "\n",
    "Откройте файл: __\"settings.json\"__, который расположен в директории со всеми ноутбуками, и укажите ваш логин и пароль:\n",
    "```json\n",
    "{\n",
    "\t\"username\": \"you login\",\n",
    "\t\"passw\": \"you password\"\n",
    "}\n",
    "```\n",
    "\n",
    "## Примеры раборты с каталогами Респонсум\n",
    "\n",
    "- [Каталоги](catalogs.ipynb)\n",
    "\n",
    "## Примеры отчетов\n",
    "\n",
    "- [Audience](audience.ipynb)\n",
    "- [Demography](demography.ipynb)\n",
    "- [Duplication](duplication.ipynb)\n",
    "- [Dynamic](dynamic.ipynb)\n",
    "- [Иерархия холдинга](hierarchy.ipynb)\n",
    "- [Post-campaign](post-campaign.ipynb)\n",
    "- [Пользовательские демографические группы](custom_audience.ipynb)"
   ]
  }
 ],
 "metadata": {
  "kernelspec": {
   "display_name": "Python 3",
   "language": "python",
   "name": "python3"
  },
  "language_info": {
   "codemirror_mode": {
    "name": "ipython",
    "version": 3
   },
   "file_extension": ".py",
   "mimetype": "text/x-python",
   "name": "python",
   "nbconvert_exporter": "python",
   "pygments_lexer": "ipython3",
   "version": "3.7.7"
  }
 },
 "nbformat": 4,
 "nbformat_minor": 4
}
