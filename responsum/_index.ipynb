{
 "cells": [
  {
   "cell_type": "markdown",
   "metadata": {},
   "source": [
    "# Responsum Jupyter\n",
    "\n",
    "## [Справка](help.ipynb)\n",
    "\n",
    "## Настройки\n",
    "\n",
    "### Логин и пароль пользователя\n",
    "Для работы с API у вас должен логин и пароль.\n",
    "\n",
    "_Хранить пароль напрямую в ноутбуке небезопасно, мы будем хранить его в отдельном файле настроек, рядом с ноутбуком,_\n",
    "\n",
    "Откройте файл: __\"settings.json\"__ и укажите ваш логин и пароль:\n",
    "```json\n",
    "{\n",
    "\t\"username\": \"you login\",\n",
    "\t\"passw\": \"you password\"\n",
    "}\n",
    "```\n",
    "\n",
    "## Примеры отчетов\n",
    "\n",
    "- [Audience](audience.ipynb)\n",
    "- [Duplication](duplications.ipynb)"
   ]
  }
 ],
 "metadata": {
  "kernelspec": {
   "display_name": "Python 3",
   "language": "python",
   "name": "python3"
  },
  "language_info": {
   "codemirror_mode": {
    "name": "ipython",
    "version": 3
   },
   "file_extension": ".py",
   "mimetype": "text/x-python",
   "name": "python",
   "nbconvert_exporter": "python",
   "pygments_lexer": "ipython3",
   "version": "3.7.7"
  }
 },
 "nbformat": 4,
 "nbformat_minor": 4
}
