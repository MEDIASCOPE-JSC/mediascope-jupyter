{
 "cells": [
  {
   "cell_type": "markdown",
   "metadata": {},
   "source": [
    "# Demography\n",
    "Пример отчета по расчету социально-демографической структуры аудитории интернет-проектов.\n",
    "\n",
    "\n",
    "## Описание задачи\n",
    "\n",
    "\n",
    "Посчитаем аудиторию проекта Kommersant.ru с разбивкой по социально-демографическим переменным:\n",
    "- Пол\n",
    "- Пол / Возраст\n",
    "- Род занятий\n",
    "\n",
    "\n",
    "\n",
    "Общие параметры:\n",
    "- Период: Май 2020\n",
    "- География: Россия 0+\n",
    "- Население: 12+\n",
    "- Фильтр по типу использования: нет, считаем по всем (Web Desktop, Web Mobile, App Online, App Offline)\n",
    "\n",
    "В этом ноутбуке приведен пример расчета Reach Row%, Reach Column%.\n",
    "\n",
    "\n",
    "Список статистик для расчета:\n",
    "- Universe (Uni)\n",
    "- Unweighted Reach (UnwReach)\n",
    "- Reach\n",
    "- Reach% (ReachPer)\n",
    "- Reach Row%\n",
    "- Reach Column%"
   ]
  },
  {
   "cell_type": "markdown",
   "metadata": {},
   "source": [
    "## Инициализация\n",
    "\n",
    "При построении отчета первый шаг в любом ноутбуке - загрузка библиотек, которые помогут обращаться к API Responsum и работать с данными.\n",
    "\n",
    "Выполните следующую ячейку, для этого перейдите в нее и нажмите Ctrl+Enter"
   ]
  },
  {
   "cell_type": "code",
   "execution_count": null,
   "metadata": {},
   "outputs": [],
   "source": [
    "%reload_ext autoreload\n",
    "%autoreload 2\n",
    "\n",
    "import sys\n",
    "import os\n",
    "import re\n",
    "import json\n",
    "import datetime\n",
    "import time\n",
    "import pandas as pd\n",
    "#import matplotlib.pyplot as plt\n",
    "import seaborn as sns\n",
    "from pathlib import Path\n",
    "from bokeh.io import output_notebook, show\n",
    "from bokeh.plotting import figure\n",
    "from IPython.display import JSON\n",
    "from bokeh.models import HoverTool\n",
    "from bokeh.layouts import gridplot\n",
    "import logging\n",
    "\n",
    "from mediascope_api.core import net as msnet\n",
    "from mediascope_api.responsum import catalogs as rc\n",
    "from mediascope_api.responsum import tasks as rt\n",
    "\n",
    "logging.basicConfig(format='%(asctime)s %(levelname)s:%(message)s', level=logging.INFO, datefmt='%I:%M:%S')\n",
    "logger = logging.getLogger()\n",
    "logger.setLevel(logging.INFO)\n",
    "\n",
    "# pd.set_option(\"display.max_rows\", 200)\n",
    "# pd.set_option(\"display.max_colwidth\", 50)\n",
    "# pd.set_option(\"display.precision\", 6)\n",
    "output_notebook()"
   ]
  },
  {
   "cell_type": "markdown",
   "metadata": {},
   "source": [
    "## Формируем задания\n",
    "\n",
    "Необходимо сформировать три задания для Responsum:\n",
    "- расчет аудитории по проекту Kommersant.ru с разбивкой по соц.-дему\n",
    "- расчет аудитории Total Internet без разбивки по соц.-дему\n",
    "- расчет аудитории по проекту Kommersant.ru без разбивки по соц.-дему"
   ]
  },
  {
   "cell_type": "markdown",
   "metadata": {},
   "source": [
    "### Общие параметры для заданий\n",
    "\n",
    "Для начала зададим общие параметры"
   ]
  },
  {
   "cell_type": "code",
   "execution_count": null,
   "metadata": {},
   "outputs": [],
   "source": [
    "# задаем параметры\n",
    "# выбираем тип установки mobile, т.к. в расчетах участвуют все типы устройств (Web Desktop, Web Mobile, App Online, App Offline)\n",
    "facility = 'mobile' # возможные значения: 'desktop', 'mobile', 'desktop_pre'\n",
    "\n",
    "# создаем объекты для работы с каталогами и заданиями,\n",
    "# а так же загружаем каталоги\n",
    "rcats = rc.ResponsumCats(facility)\n",
    "rtask = rt.ResponsumTask(facility)\n",
    "\n",
    "\n",
    "# задаем период расчета\n",
    "date_from = '2020-05-01'\n",
    "date_to = '2020-05-31'\n",
    "\n",
    "# задаем типы пользования Интернетом\n",
    "usetypes = rcats.get_usetype('all')\n",
    "\n",
    "# Проверяем, что значения параметров установлены верно\n",
    "rtask.save_report_info(facility, date_from, date_to, usetypes)\n",
    "rtask.show_report_info()\n",
    "print(f\"Объектов в media-каталоге: {rcats.holdings.shape[0]}\")"
   ]
  },
  {
   "cell_type": "markdown",
   "metadata": {},
   "source": [
    "## Социально-демографические переменные\n",
    "Найдем названия социально-демографических переменных для следущих атрибутов:\n",
    "\n",
    "- Пол\n",
    "- Пол / Возраст\n",
    "- Род занятий\n",
    "\n",
    "Они необходимы для указания разбивки. Для этого воспользуемся ноутбуком, в котором приведены примеры работы с [каталогами](catalogs.ipynb)\n",
    "\n",
    "Получили:\n",
    "\n",
    "- Пол  = SEX\n",
    "- Пол / Возраст = SEXAGE\n",
    "- Род занятий = OCCUPATION2"
   ]
  },
  {
   "cell_type": "markdown",
   "metadata": {},
   "source": [
    "### Получим ID проектов\n",
    "Для построения отчета нам необходимо получить идентификатор проекта __Kommersant.ru__, для этого воспользуемся ноутбуком, в котором приведены примеры работы с [каталогами](catalogs.ipynb):\n",
    "\n",
    "- Kommersant.ru  site_id = 118"
   ]
  },
  {
   "cell_type": "markdown",
   "metadata": {},
   "source": [
    "## Задания\n",
    "Перейдем к формированию заданий.\n",
    "\n",
    "### Задание №1. Статистики по проекту Kommersant.ru с разбивкой по соц.-дему\n",
    "\n",
    "Рассчитаем статистики с разбивкой по проекту и соц.-дему."
   ]
  },
  {
   "cell_type": "code",
   "execution_count": null,
   "metadata": {},
   "outputs": [],
   "source": [
    "# задаем название проекта для отображения в DataFrame\n",
    "project_name = 'kommersant'\n",
    "\n",
    "# задаем медиа фильтр, в нашем случае это ID проекта Kommersant.ru\n",
    "media_filter = \"site = 118\"\n",
    "\n",
    "# фильтр по демографии отсутствует\n",
    "demo_filter = None\n",
    "\n",
    "# задаем список статистик для расчета\n",
    "statistics = [\"UnwReach\", \"Reach\", \"ReachPer\"]\n",
    "\n",
    "# указываем разбивки, в нашем случае это разбивка по соц.-дем. переменным:\n",
    "structure =  {\n",
    "    \"media\": [\"site\"],\n",
    "    \"usetype\": False,\n",
    "    \"demo\": [\"SEX\", \"SEXAGE\", \"OCCUPATION2\"]\n",
    "  }\n",
    "\n",
    "# формируем из заданных параметров задание для Responsum в формате JSON\n",
    "task_json = rtask.build_audience_task(task_name=project_name, facility=facility, date_from=date_from, date_to=date_to, usetype_filter=usetypes, media_filter=media_filter, demo_filter=demo_filter, statistics=statistics, structure=structure)\n",
    "\n",
    "# отправляем задание на расчет и ждем выполнения\n",
    "task_audience = rtask.wait_task(rtask.send_audience_task(task_json))\n",
    "\n",
    "# получаем результат\n",
    "df_kommersant = rtask.result2table(rtask.get_result(task_audience), project_name=project_name, axis_y=['demo'])\n",
    "df_kommersant"
   ]
  },
  {
   "cell_type": "markdown",
   "metadata": {},
   "source": [
    "### Дополнительные задания\n",
    "Также необходимо посчитать статистики Reach Row% и Reach Column% для каждой соц.-дем. группы, для этого сформируем дополнительные задания."
   ]
  },
  {
   "cell_type": "markdown",
   "metadata": {},
   "source": [
    "### Задание №2. Статистики по всему Интернету с разбивкой по соц.-дему\n",
    "\n",
    "Расчет данных по всем проектам займет достаточно много времени у Responsum, поэтому воспользуемся технической страницей WEB-Index, в которой учитывается вся аудитория.\n",
    "Техническая страница WEB-Index __site_id = 101__\n",
    "\n",
    "Важно учитывать в случае расчета статистики OTS:\n",
    "- если считать с ограничением по Технической странице в медиа-фильтре, то полученная статистика OTS будет показывать общее количество заходов в Интернет за указанный период;\n",
    "- если считать без ограничений в медиа-фильтре (media_filter = None), то полученная статистика OTS будет показывать общее количество загрузок страниц интернет-проектов, содержащихся в вашем медиа-каталоге, за указанный период;\n",
    "- статистика OTS корректна для работы с десктопными данными и данными по рекламным кампаниям."
   ]
  },
  {
   "cell_type": "code",
   "execution_count": null,
   "metadata": {},
   "outputs": [],
   "source": [
    "# задаем название проекта для отображения в DataFrame\n",
    "project_name = 'total_demo'\n",
    "\n",
    "# задаем техническую страницу WEB-Index в качестве медиа фильтра\n",
    "media_filter = 'site = 101'\n",
    "\n",
    "# фильтр по демографии отсутствует\n",
    "demo_filter = None\n",
    "\n",
    "# задаем список статистик для расчета\n",
    "statistics = [\"Uni\", \"UnwReach\", \"Reach\", \"ReachPer\"]\n",
    "\n",
    "# указываем порядок разбивки\n",
    "structure =  {\n",
    "    \"usetype\": False,\n",
    "    \"demo\": [\"SEX\", \"SEXAGE\", \"OCCUPATION2\"]\n",
    "  }\n",
    "\n",
    "# формируем из заданных параметров задание для Responsum в формате JSON\n",
    "task_json = rtask.build_audience_task(task_name=project_name, facility=facility, date_from=date_from, date_to=date_to, usetype_filter=usetypes, media_filter=media_filter, demo_filter=demo_filter, statistics=statistics, structure=structure)\n",
    "\n",
    "# отправляем задание на расчет и ждем выполнения\n",
    "task_audience = rtask.wait_task(rtask.send_audience_task(task_json))\n",
    "\n",
    "# получаем результат\n",
    "df_total_demo = rtask.result2table(rtask.get_result(task_audience), project_name=project_name, axis_y=['demo'])\n",
    "df_total_demo"
   ]
  },
  {
   "cell_type": "markdown",
   "metadata": {},
   "source": [
    "### Задание №3. Статистики по проекту Kommersant.ru без разбивки по соц.-дему"
   ]
  },
  {
   "cell_type": "code",
   "execution_count": null,
   "metadata": {},
   "outputs": [],
   "source": [
    "# задаем название проекта для отображения в DataFrame\n",
    "project_name = 'total_project'\n",
    "\n",
    "# задаем медиа фильтр, в нашем случае это ID проекта Kommersant.ru\n",
    "media_filter = \"(site = 118)\"\n",
    "\n",
    "# фильтр по демографии отсутствует\n",
    "demo_filter = None\n",
    "\n",
    "# задаем список статистик для расчета\n",
    "statistics = [\"UnwReach\", \"Reach\", \"ReachPer\"]\n",
    "\n",
    "# указываем порядок разбивки\n",
    "structure =  {\n",
    "    \"usetype\": False,\n",
    "    \"media\": [\"site\"]\n",
    "  }\n",
    "\n",
    "# формируем из заданных параметров задание для Responsum в формате JSON\n",
    "task_json = rtask.build_audience_task(task_name=project_name, facility=facility, date_from=date_from, date_to=date_to, usetype_filter=usetypes, media_filter=media_filter, demo_filter=demo_filter, statistics=statistics, structure=structure)\n",
    "\n",
    "# отправляем задание на расчет и ждем выполнения\n",
    "task_audience = rtask.wait_task(rtask.send_audience_task(task_json))\n",
    "\n",
    "# получаем результат\n",
    "df_total_prj = rtask.result2table(rtask.get_result(task_audience), project_name=project_name, axis_y=['demo'])\n",
    "df_total_prj"
   ]
  },
  {
   "cell_type": "markdown",
   "metadata": {},
   "source": [
    "# Расчет статистик Reach Row% и Reach Column%  \n",
    "\n",
    "Для этого воспользуемся методом библиотеки Mediascope _calc_row_col_.\n",
    "\n",
    "Для этого метода на вход передаются три DataFrame:\n",
    "- данные по проекту/проектам с разбивкой по соц.-дему\n",
    "- данные по Total Internet с разбивкой по соц.-дему\n",
    "- данные по проекту/проектам без разбивки по соц.-дему"
   ]
  },
  {
   "cell_type": "code",
   "execution_count": null,
   "metadata": {},
   "outputs": [],
   "source": [
    "df_result = rtask.calc_row_col(df_kommersant, df_total_prj, df_total_demo)\n",
    "df_result"
   ]
  },
  {
   "cell_type": "markdown",
   "metadata": {},
   "source": [
    "## Экспорт в Excel"
   ]
  },
  {
   "cell_type": "code",
   "execution_count": null,
   "metadata": {},
   "outputs": [],
   "source": [
    "writer = pd.ExcelWriter(rtask.get_excel_filename('demography-kommersant'))\n",
    "df_info = rtask.get_report_info()\n",
    "df_result.to_excel(writer, 'Report', index=False)\n",
    "df_info.to_excel(writer, 'Info', index=False)\n",
    "writer.save()"
   ]
  }
 ],
 "metadata": {
  "kernelspec": {
   "display_name": "Python 3",
   "language": "python",
   "name": "python3"
  },
  "language_info": {
   "codemirror_mode": {
    "name": "ipython",
    "version": 3
   },
   "file_extension": ".py",
   "mimetype": "text/x-python",
   "name": "python",
   "nbconvert_exporter": "python",
   "pygments_lexer": "ipython3",
   "version": "3.7.3"
  }
 },
 "nbformat": 4,
 "nbformat_minor": 4
}
