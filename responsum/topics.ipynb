{
 "cells": [
  {
   "cell_type": "markdown",
   "metadata": {},
   "source": [
    "# Расчет по тематикам (по объединению проектов)"
   ]
  },
  {
   "cell_type": "markdown",
   "metadata": {},
   "source": [
    "## Инициализация\n",
    "\n",
    "При построении отчета первый шаг в любом ноутбуке - загрузка библиотек, которые помогут обращаться к API Responsum и работать с данными.\n",
    "\n",
    "Выполните следующую ячейку, для этого перейдите в нее и нажмите Ctrl+Enter"
   ]
  },
  {
   "cell_type": "code",
   "execution_count": null,
   "metadata": {},
   "outputs": [],
   "source": [
    "import sys\n",
    "%reload_ext autoreload\n",
    "%autoreload 2\n",
    "\n",
    "import os\n",
    "import re\n",
    "import json\n",
    "import datetime\n",
    "import time\n",
    "import pandas as pd\n",
    "#import matplotlib.pyplot as plt\n",
    "from pathlib import Path\n",
    "from bokeh.io import output_notebook, show\n",
    "from bokeh.plotting import figure\n",
    "from IPython.display import JSON\n",
    "from bokeh.models import HoverTool\n",
    "from bokeh.layouts import gridplot\n",
    "import logging\n",
    "\n",
    "from mediascope_api.core import net as msnet\n",
    "from mediascope_api.responsum import catalogs as rc\n",
    "from mediascope_api.responsum import tasks as rt\n",
    "\n",
    "logging.basicConfig(format='%(asctime)s %(levelname)s:%(message)s', level=logging.INFO, datefmt='%I:%M:%S')\n",
    "logger = logging.getLogger()\n",
    "logger.setLevel(logging.INFO)\n",
    "\n",
    "# pd.set_option(\"display.max_rows\", 200)\n",
    "# pd.set_option(\"display.max_colwidth\", 50)\n",
    "# pd.set_option(\"display.precision\", 6)\n",
    "output_notebook()\n"
   ]
  },
  {
   "cell_type": "markdown",
   "metadata": {},
   "source": [
    "## Формируем задания"
   ]
  },
  {
   "cell_type": "markdown",
   "metadata": {},
   "source": [
    "### Общие параметры для заданий"
   ]
  },
  {
   "cell_type": "code",
   "execution_count": null,
   "metadata": {},
   "outputs": [],
   "source": [
    "# задаем параметры\n",
    "facility = 'mobile' # возможные значения: 'desktop', 'mobile', 'desktop_pre'\n",
    "\n",
    "# создаем объекты для работы с каталогами и заданиями,\n",
    "# а так же загружаем каталоги\n",
    "rcats = rc.ResponsumCats(facility)\n",
    "rtask = rt.ResponsumTask(facility)\n",
    "\n",
    "# задаем период расчета\n",
    "date_from = '2021-03-01'\n",
    "date_to = '2021-03-31'\n",
    "\n",
    "# задаем список статистик для расчета\n",
    "statistics = ['Reach', 'ReachPer', 'ADR', 'ADRPer', 'UnwReach']\n",
    "\n",
    "# задаем демо фильтр\n",
    "demo_filter = None\n",
    "\n",
    "# создаем словарь для нужных нам типов пользования Интернетом:\n",
    "ut = {'Desktop&Mobile':[1,2,3,4], 'Desktop':[1], 'Mobile':[2,3,4]}\n",
    "\n",
    "# проверяем, что значения параметров установлены верно\n",
    "rtask.save_report_info(facility, date_from, date_to)\n",
    "rtask.show_report_info()\n",
    "print(f\"Объектов в media-каталоге: {rcats.holdings.shape[0]}\")"
   ]
  },
  {
   "cell_type": "markdown",
   "metadata": {},
   "source": [
    "## Создаем словарь с нужными проектами\n",
    "\n",
    "Для этого подготовим тематики и проекты, входящие в них, в файле в Excel. Для примера смотрите файл в папке с ноутбуками: __Состав тематик.xlsx__\n",
    "\n",
    "__ВАЖНО!__ Словарь нужно сохранить в папку с ноутбуками\n",
    " \n",
    "__При изменении названия файла/ листа/ колонок, следует внести изменения в код ниже - указать правильное название листа и колонок__"
   ]
  },
  {
   "cell_type": "code",
   "execution_count": null,
   "metadata": {},
   "outputs": [],
   "source": [
    "sostav = pd.read_excel('Состав тематик.xlsx', sheet_name='тематики')[['Тематика', 'Для словаря']]\n",
    "\n",
    "topics = {}\n",
    "\n",
    "for _, t in sostav.iterrows():\n",
    "    if t['Тематика'] not in topics:\n",
    "        topics[t['Тематика']] = f\"{t['Для словаря']} OR \"\n",
    "    else:\n",
    "        topics[t['Тематика']] += f\"{t['Для словаря']} OR \"\n",
    "for key, value in topics.items():\n",
    "    topics[key] = value[:-4]\n",
    "print('Словарь готов')"
   ]
  },
  {
   "cell_type": "markdown",
   "metadata": {},
   "source": [
    "## Расчёт Total по тематикам"
   ]
  },
  {
   "cell_type": "code",
   "execution_count": null,
   "metadata": {},
   "outputs": [],
   "source": [
    "%%time\n",
    "\n",
    "# посчитаем данные в циклах\n",
    "tasks = []\n",
    "print('Отправка задач ')\n",
    "\n",
    "for utype, usetypes in ut.items():\n",
    "    for topic, filter_obj in topics.items():\n",
    "        project_name = f\"{topic}\"\n",
    "        media_filter = f\"{filter_obj}\"\n",
    "        structure = {\n",
    "            \"date\": \"month\",\n",
    "            \"usetype\": False,\n",
    "        }\n",
    "\n",
    "        # формируем из заданных параметров задание для Responsum в формате JSON для каждого из этапов цикла\n",
    "        task_json = rtask.build_audience_task(task_name=project_name, facility=facility, date_from=date_from, date_to=date_to, usetype_filter=usetypes, media_filter=media_filter, demo_filter=demo_filter, statistics=statistics, structure=structure)\n",
    "\n",
    "        # для каждого этапа цикла формируем словарь с параметрами и отправленным заданием на расчет\n",
    "        tsk = {}\n",
    "        tsk['project_name'] = project_name\n",
    "        tsk['usetype'] = f\"{utype}\"\n",
    "        tsk['task'] = rtask.send_audience_task(task_json) \n",
    "        tasks.append(tsk)\n",
    "        time.sleep(2)\n",
    "        print('.', end = '')\n",
    "print('')\n",
    "\n",
    "# ждем выполнения\n",
    "tsks = rtask.wait_task(tasks)\n",
    "print('Расчет завершен, получаем результат')\n",
    "\n",
    "# получаем результат\n",
    "results = []\n",
    "print('Собираем таблицу')\n",
    "for t in tasks:\n",
    "    tsk = t['task'] \n",
    "    df = rtask.result2table(rtask.get_result(tsk), project_name = t['project_name'])\n",
    "    df['usetype'] = t['usetype']\n",
    "    results.append(df)\n",
    "    print('.', end = '')\n",
    "df_result = pd.concat(results)\n",
    "df_result"
   ]
  },
  {
   "cell_type": "markdown",
   "metadata": {},
   "source": [
    "#### Сохраняем полученные результаты в Excel"
   ]
  },
  {
   "cell_type": "code",
   "execution_count": null,
   "metadata": {},
   "outputs": [],
   "source": [
    "writer = pd.ExcelWriter(rtask.get_excel_filename('Тематики'))\n",
    "df_result.to_excel(writer, 'Тематики', index=False)\n",
    "writer.save()"
   ]
  },
  {
   "cell_type": "markdown",
   "metadata": {},
   "source": [
    "## Расчёт тематик с разбивкой на проекты"
   ]
  },
  {
   "cell_type": "code",
   "execution_count": null,
   "metadata": {},
   "outputs": [],
   "source": [
    "%%time\n",
    "\n",
    "# посчитаем данные в циклах\n",
    "tasks_sep = []\n",
    "print('Отправка задач ')\n",
    "\n",
    "for utype, num in ut.items():\n",
    "    for topic, filter_obj in topics.items():\n",
    "        usetypes = num\n",
    "        project_name = f\"{topic}\"\n",
    "        media_filter = f\"{filter_obj}\"\n",
    "        structure = {\n",
    "            \"date\": \"month\",\n",
    "            \"media\": [\"site\"],\n",
    "            \"usetype\": False,\n",
    "        }\n",
    "\n",
    "        # формируем из заданных параметров задание для Responsum в формате JSON для каждого из этапов цикла\n",
    "        task_json = rtask.build_audience_task(task_name=project_name, facility=facility, date_from=date_from, date_to=date_to, usetype_filter=usetypes, media_filter=media_filter, demo_filter=demo_filter, statistics=statistics, structure=structure)\n",
    "\n",
    "        # для каждого этапа цикла формируем словарь с параметрами и отправленным заданием на расчет\n",
    "        tsk = {}\n",
    "        tsk['project_name'] = project_name\n",
    "        tsk['usetype'] = f\"{utype}\"\n",
    "        tsk['task'] = rtask.send_audience_task(task_json)\n",
    "        tasks_sep.append(tsk)\n",
    "        time.sleep(2)\n",
    "        print('.', end = '')\n",
    "\n",
    "# ждем выполнения\n",
    "tsks = rtask.wait_task(tasks_sep)\n",
    "print('Расчет завершен, получаем результат')\n",
    "\n",
    "# получаем результат\n",
    "results_sep = []\n",
    "print('Собираем таблицу')\n",
    "for t in tasks_sep:\n",
    "    tsk = t['task'] \n",
    "    df_result_sep = rtask.result2table(rtask.get_result(tsk), project_name = t['project_name'])\n",
    "    df_result_sep['usetype'] = t['usetype']\n",
    "    results_sep.append(df_result_sep)\n",
    "    print('.', end = '')\n",
    "df_sep = pd.concat(results_sep)\n",
    "df_sep"
   ]
  },
  {
   "cell_type": "markdown",
   "metadata": {},
   "source": [
    "#### Сохраняем полученные результаты в Excel"
   ]
  },
  {
   "cell_type": "code",
   "execution_count": null,
   "metadata": {},
   "outputs": [],
   "source": [
    "writer = pd.ExcelWriter(rtask.get_excel_filename('Тематики с разбивкой на проекты'))\n",
    "df_sep.to_excel(writer, 'Тематики', index=False)\n",
    "writer.save()"
   ]
  }
 ],
 "metadata": {
  "kernelspec": {
   "display_name": "Python 3",
   "language": "python",
   "name": "python3"
  },
  "language_info": {
   "codemirror_mode": {
    "name": "ipython",
    "version": 3
   },
   "file_extension": ".py",
   "mimetype": "text/x-python",
   "name": "python",
   "nbconvert_exporter": "python",
   "pygments_lexer": "ipython3",
   "version": "3.8.8"
  }
 },
 "nbformat": 4,
 "nbformat_minor": 4
}
