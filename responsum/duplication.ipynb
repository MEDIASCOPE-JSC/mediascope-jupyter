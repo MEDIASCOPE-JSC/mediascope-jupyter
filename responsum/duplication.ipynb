{
 "cells": [
  {
   "cell_type": "markdown",
   "metadata": {},
   "source": [
    "# Duplication\n",
    "\n",
    "Пример отчета по пересечению аудитории интернет-проектов (WEB-Index).\n",
    "\n",
    "## Описание задачи\n",
    "\n",
    "Посчитаем пересечение аудитории проектов:\n",
    "- Vk.com\n",
    "- Odnoklassniki.ru\n",
    "\n",
    "Общие параметры:\n",
    "- Период: Февраль 2020\n",
    "- География: Россия 100 000+\n",
    "- Население: 12+\n",
    "- Фильтр по типу использования: нет, считаем по всем (Web Desktop, Web Mobile, App Online, App Offline)\n",
    "\n",
    "Статистики:\n",
    "\n",
    "- Reach\n",
    "- Reach Column%\n",
    "- Reach Row%\n",
    "\n",
    "\n",
    "Для расчета потребуется сформировать три задания для Responsum:\n",
    " \n",
    "- данные по пересечению аудитории проектов\n",
    "- данные по аудитории проектов\n",
    "- данные по аудитории всего Интернета\n",
    "    "
   ]
  },
  {
   "cell_type": "code",
   "execution_count": null,
   "metadata": {},
   "outputs": [],
   "source": [
    "%reload_ext autoreload\n",
    "%autoreload 2\n",
    "\n",
    "import sys\n",
    "import os\n",
    "import re\n",
    "import json\n",
    "import datetime\n",
    "import time\n",
    "import pandas as pd\n",
    "import matplotlib.pyplot as plt\n",
    "from pathlib import Path\n",
    "from bokeh.io import output_notebook, show\n",
    "from bokeh.plotting import figure\n",
    "from IPython.display import JSON\n",
    "from bokeh.models import HoverTool\n",
    "from bokeh.layouts import gridplot\n",
    "import logging\n",
    "import seaborn as sns\n",
    "# from ipywidgets import interact, interactive, fixed, interact_manual\n",
    "# import ipywidgets as widgets\n",
    "from mediascope_api.core import net as msnet\n",
    "from mediascope_api.responsum import catalogs as rc\n",
    "from mediascope_api.responsum import tasks as rt\n",
    "\n",
    "logging.basicConfig(format='%(asctime)s %(levelname)s:%(message)s', level=logging.INFO, datefmt='%I:%M:%S')\n",
    "logger = logging.getLogger()\n",
    "logger.setLevel(logging.INFO)\n",
    "\n",
    "# pd.set_option(\"display.max_rows\", 200)\n",
    "# pd.set_option(\"display.max_colwidth\", 50)\n",
    "# pd.set_option(\"display.precision\", 6)\n",
    "output_notebook()"
   ]
  },
  {
   "cell_type": "markdown",
   "metadata": {},
   "source": [
    "## Общие параметры для заданий\n",
    "\n",
    "Для начала зададим общие параметры"
   ]
  },
  {
   "cell_type": "code",
   "execution_count": null,
   "metadata": {},
   "outputs": [],
   "source": [
    "# задаем параметры\n",
    "# выбираем тип установки mobile\n",
    "facility = 'mobile' # возможные значения: 'desktop', 'mobile', 'desktop_pre'\n",
    "\n",
    "# создаем объекты для работы с каталогами и заданиями,\n",
    "# а так же загружаем каталоги\n",
    "rcats = rc.ResponsumCats(facility)\n",
    "rtask = rt.ResponsumTask(facility)\n",
    "\n",
    "# задаем период расчета\n",
    "date_from = '2020-02-01'\n",
    "date_to = '2020-02-29'\n",
    "\n",
    "# задаем типы пользования Интернетом\n",
    "usetypes = rcats.get_usetype('all')\n",
    "\n",
    "# проверяем, что значения параметров установлены верно\n",
    "rtask.save_report_info(facility, date_from, date_to, usetypes)\n",
    "rtask.show_report_info()\n",
    "print(f\"Объектов в media-каталоге: {rcats.holdings.shape[0]}\")"
   ]
  },
  {
   "cell_type": "markdown",
   "metadata": {},
   "source": [
    "### Получим ID проектов\n",
    "Для построения отчета нам необходимо получить идентификаторы сайтов __Vk.com__ и __Odnoklassniki.ru__, для этого воспользуемся ноутбуком, в котором приведены примеры работы с [каталогами](catalogs.ipynb):\n",
    "\n",
    "- Vk.com  site_id = 16571\n",
    "- Odnoklassniki.ru site_id = 12808"
   ]
  },
  {
   "cell_type": "markdown",
   "metadata": {},
   "source": [
    "## Задания\n",
    "Перейдем к формированию заданий.\n",
    "\n",
    "\n",
    "### Задание №1. Расчет пересечения аудитории проектов"
   ]
  },
  {
   "cell_type": "code",
   "execution_count": null,
   "metadata": {},
   "outputs": [],
   "source": [
    "# задаем название проекта для отображения в DataFrame\n",
    "project_name = 'dup'\n",
    "\n",
    "# задаем медиа фильтр и duplication фильтр, в нашем случае это ID проекта VK.com и Odnoklassniki.ru\n",
    "media_filter = \"site = 16571\"\n",
    "dup_media_filter = \"site = 12808\"\n",
    "\n",
    "# задаем фильтр, нас интересуют города России с населением 100 тыс. чел. и больше\n",
    "demo_filter = \"CITY_TYPE2 != 4\"\n",
    "\n",
    "# задаем список статистик для расчета\n",
    "statistics = [\"Reach\"]\n",
    "\n",
    "# указываем порядок группировки\n",
    "structure =  {\n",
    "    \"usetype\": False,\n",
    "    \"media\": [\"site\"],\n",
    "    \"duplication\": [\"site\"]\n",
    "  }\n",
    "\n",
    "# формируем из заданных параметров задание для Responsum в формате JSON\n",
    "task_json = rtask.build_duplication_task(task_name=project_name, facility=facility, date_from=date_from, date_to=date_to, usetype_filter=usetypes, \n",
    "                                         media_filter=media_filter, dup_media_filter=dup_media_filter, \n",
    "                                         demo_filter=demo_filter, statistics=statistics, structure=structure)\n",
    "\n",
    "# oтправляем задание на расчет и ждем выполнения\n",
    "task_dup = rtask.wait_task(rtask.send_duplication_task(task_json))\n",
    "\n",
    "# получаем результат\n",
    "df_dup = rtask.result2table(rtask.get_result(task_dup), project_name=project_name)\n",
    "# df_uni\n",
    "df_dup"
   ]
  },
  {
   "cell_type": "markdown",
   "metadata": {},
   "source": [
    "Посчитаем дополнительные отчеты, необходимые для расчета Reach Row% и Reach Column%.\n",
    "\n",
    "\n",
    "### Задание №2. Расчет Total для проектов"
   ]
  },
  {
   "cell_type": "code",
   "execution_count": null,
   "metadata": {},
   "outputs": [],
   "source": [
    "# задаем название проекта для отображения в DataFrame\n",
    "project_name = 'total_project'\n",
    "\n",
    "# задаем фильтр по медиа\n",
    "media_filter = \"site = 16571 OR site = 12808\"\n",
    "\n",
    "# задаем фильтр, нас интересуют города России с населением 100 тыс. чел. и больше\n",
    "demo_filter = \"CITY_TYPE2 != 4\"\n",
    "\n",
    "# задаем список статистик для расчета\n",
    "statistics = [\"Reach\"]\n",
    "\n",
    "# указываем порядок разбивки по сайтам\n",
    "structure =  {\n",
    "    \"usetype\": False,\n",
    "    \"media\": [\"site\"]\n",
    "  }\n",
    "\n",
    "# формируем из заданных параметров задание для Responsum в формате JSON\n",
    "task_json = rtask.build_audience_task(task_name=project_name, facility=facility, date_from=date_from, date_to=date_to, usetype_filter=usetypes, media_filter=media_filter, demo_filter=demo_filter, statistics=statistics, structure=structure)\n",
    "\n",
    "# отправляем задание на расчет и ждем выполнения\n",
    "task_audience = rtask.wait_task(rtask.send_audience_task(task_json))\n",
    "\n",
    "# получаем результат\n",
    "df_total_prj = rtask.result2table(rtask.get_result(task_audience), project_name=project_name)\n",
    "df_total_prj"
   ]
  },
  {
   "cell_type": "markdown",
   "metadata": {},
   "source": [
    "### Задание №3. Расчет Total Internet\n",
    "\n",
    "Расчет данных по всем проектам займет достаточно много времени у Responsum, поэтому воспользуемся технической страницей WEB-Index, в которой учитывается вся аудитория.\n",
    "Техническая страница WEB-Index __site_id = 101__\n",
    "\n",
    "Важно учитывать в случае расчета статистики OTS:\n",
    "- если считать с ограничением по Технической странице в медиа-фильтре, то полученная статистика OTS будет показывать общее количество заходов в Интернет за указанный период;\n",
    "- если считать без ограничений в медиа-фильтре (media_filter = None), то полученная статистика OTS будет показывать общее количество загрузок страниц интернет-проектов, содержащихся в вашем медиа-каталоге, за указанный период;\n",
    "- статистика OTS корректна для работы с десктопными данными и данными по рекламным кампаниям."
   ]
  },
  {
   "cell_type": "code",
   "execution_count": null,
   "metadata": {},
   "outputs": [],
   "source": [
    "# задаем название проекта для отображения в DataFrame\n",
    "project_name = 'total'\n",
    "\n",
    "# задаем техническую страницу WEB-Index в качестве медиа фильтра\n",
    "media_filter = 'site = 101'\n",
    "\n",
    "# задаем фильтр, нас интересуют города России с населением 100 тыс. чел. и больше\n",
    "demo_filter = \"CITY_TYPE2 != 4\"\n",
    "\n",
    "# задаем список статистик для расчета\n",
    "statistics = [\"Reach\"]\n",
    "\n",
    "# указываем порядок группировки, в нашем случае ее нет\n",
    "structure =  {\n",
    "    \"usetype\": False\n",
    "  }\n",
    "\n",
    "# формируем из заданных параметров задание для Responsum в формате JSON\n",
    "task_json = rtask.build_audience_task(task_name=project_name, facility=facility, date_from=date_from, date_to=date_to, usetype_filter=usetypes, media_filter=media_filter, demo_filter=demo_filter, statistics=statistics, structure=structure)\n",
    "\n",
    "# отправляем задание на расчет и ждем выполнения\n",
    "task_audience = rtask.wait_task(rtask.send_audience_task(task_json))\n",
    "\n",
    "# получаем результат\n",
    "df_total = rtask.result2table(rtask.get_result(task_audience), project_name=project_name)\n",
    "df_total"
   ]
  },
  {
   "cell_type": "markdown",
   "metadata": {},
   "source": [
    "### Формируем итоговую таблицу\n",
    "\n",
    "Объединим полученные результаты и посчитаем доли.\n",
    "\n",
    "Для этого воспользуемся методом библиотеки Mediascope _calc_duplication_row_col_.\n",
    "\n",
    "Для этого метода на вход передаются три DataFrame:\n",
    "\n",
    "- данные по пересечению аудитории проектов\n",
    "- Total для проектов\n",
    "- Total Internet"
   ]
  },
  {
   "cell_type": "code",
   "execution_count": null,
   "metadata": {},
   "outputs": [],
   "source": [
    "df_duplication = rtask.calc_duplication_row_col(df_dup, df_total_prj, df_total)\n",
    "df_duplication"
   ]
  },
  {
   "cell_type": "markdown",
   "metadata": {},
   "source": [
    "#### Округлим полученные значения до второго знака\n",
    "Воспользуемся стандартным методом библиотеки pandas"
   ]
  },
  {
   "cell_type": "code",
   "execution_count": null,
   "metadata": {},
   "outputs": [],
   "source": [
    "df_duplication[['rnd_reach', 'rnd_prc_reach']] = df_duplication[['media_stat_reach', 'stat_prc_reach']].round(2)\n",
    "df_duplication"
   ]
  },
  {
   "cell_type": "markdown",
   "metadata": {},
   "source": [
    "## Экспорт в Excel"
   ]
  },
  {
   "cell_type": "code",
   "execution_count": null,
   "metadata": {},
   "outputs": [],
   "source": [
    "writer = pd.ExcelWriter(rtask.get_excel_filename('duplication-VK-OK'))\n",
    "df_info = rtask.get_report_info()\n",
    "df_duplication.to_excel(writer, 'Report')\n",
    "df_info.to_excel(writer, 'Info', index=False)\n",
    "writer.save()"
   ]
  }
 ],
 "metadata": {
  "kernelspec": {
   "display_name": "Python 3",
   "language": "python",
   "name": "python3"
  },
  "language_info": {
   "codemirror_mode": {
    "name": "ipython",
    "version": 3
   },
   "file_extension": ".py",
   "mimetype": "text/x-python",
   "name": "python",
   "nbconvert_exporter": "python",
   "pygments_lexer": "ipython3",
   "version": "3.7.3"
  }
 },
 "nbformat": 4,
 "nbformat_minor": 4
}
