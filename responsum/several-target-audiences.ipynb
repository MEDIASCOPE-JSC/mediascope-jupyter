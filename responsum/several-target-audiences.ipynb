{
 "cells": [
  {
   "cell_type": "markdown",
   "metadata": {},
   "source": [
    "# Расчет данных по нескольким ЦА"
   ]
  },
  {
   "cell_type": "markdown",
   "metadata": {},
   "source": [
    "## Инициализация\n",
    "\n",
    "При построении отчета первый шаг в любом ноутбуке - загрузка библиотек, которые помогут обращаться к API Responsum и работать с данными.\n",
    "\n",
    "Выполните следующую ячейку, для этого перейдите в нее и нажмите Ctrl+Enter"
   ]
  },
  {
   "cell_type": "code",
   "execution_count": null,
   "metadata": {},
   "outputs": [],
   "source": [
    "%reload_ext autoreload\n",
    "%autoreload 2\n",
    "import sys\n",
    "import os\n",
    "import re\n",
    "import json\n",
    "import datetime\n",
    "import time\n",
    "import pandas as pd\n",
    "#import matplotlib.pyplot as plt\n",
    "from pathlib import Path\n",
    "from bokeh.io import output_notebook, show\n",
    "from bokeh.plotting import figure\n",
    "from IPython.display import JSON\n",
    "from bokeh.models import HoverTool\n",
    "from bokeh.layouts import gridplot\n",
    "import logging\n",
    "\n",
    "from mediascope_api.core import net as msnet\n",
    "from mediascope_api.responsum import catalogs as rc\n",
    "from mediascope_api.responsum import tasks as rt\n",
    "\n",
    "logging.basicConfig(format='%(asctime)s %(levelname)s:%(message)s', level=logging.INFO, datefmt='%I:%M:%S')\n",
    "logger = logging.getLogger()\n",
    "logger.setLevel(logging.INFO)\n",
    "\n",
    "# pd.set_option(\"display.max_rows\", 200)\n",
    "# pd.set_option(\"display.max_colwidth\", 50)\n",
    "# pd.set_option(\"display.precision\", 6)\n",
    "output_notebook()\n"
   ]
  },
  {
   "cell_type": "markdown",
   "metadata": {},
   "source": [
    "# Формируем задания\n",
    "\n",
    "## Общие параметры для заданий\n",
    "\n",
    "Для похожих отчетов часто используются одни и те же параметры, удобно их вынести в отдельные переменные, и затем использовать в коде. Если вдруг понадобится какой-то параметр изменить, его нужно поменять в одном месте.\n",
    "\n",
    "###  Расчет аудитории Total Internet\n",
    "\n",
    "Расчет данных по всем проектам займет достаточно много времени у Responsum, поэтому воспользуемся технической страницей WEB-Index, в которой учитывается вся аудитория.\n",
    "Техническая страница WEB-Index __site_id = 101__\n",
    "\n",
    "Важно учитывать в случае расчета статистики OTS:\n",
    "- если считать с ограничением по Технической странице в медиа-фильтре, то полученная статистика OTS будет показывать общее количество заходов в Интернет за указанный период;\n",
    "- если считать без ограничений в медиа-фильтре (media_filter = None), то полученная статистика OTS будет показывать общее количество загрузок страниц интернет-проектов, содержащихся в вашем медиа-каталоге, за указанный период;\n",
    "- статистика OTS корректна для работы с десктопными данными и данными по рекламным кампаниям."
   ]
  },
  {
   "cell_type": "code",
   "execution_count": null,
   "metadata": {},
   "outputs": [],
   "source": [
    "# задаем параметры\n",
    "facility = 'mobile' # возможные значения: 'desktop', 'mobile', 'desktop_pre'\n",
    "\n",
    "# создаем объекты для работы с каталогами и заданиями,\n",
    "# а так же загружаем каталоги\n",
    "rcats = rc.ResponsumCats(facility)\n",
    "rtask = rt.ResponsumTask(facility)\n",
    "\n",
    "# задаем период расчета\n",
    "date_from = '2021-03-01'\n",
    "date_to = '2021-03-31'\n",
    "\n",
    "# задаем типы пользования Интернетом\n",
    "usetypes = rcats.get_usetype('all')\n",
    "\n",
    "# задаем список статистик для расчета\n",
    "statistics = [\"UnwReach\"]\n",
    "\n",
    "# задаем техническую страницу WEB-Index в качестве медиа фильтра\n",
    "media_filter = 'site = 101'\n",
    "\n",
    "# создаем словарь для демо переменных\n",
    "\n",
    "groups = {'12+': 'AGE_GROUPS IN(1, 2, 3, 4, 5, 6, 7)',\n",
    "          '12-24':'AGE_GROUPS IN(1, 2)', \n",
    "          '25-34':'AGE_GROUPS = 3', \n",
    "          '35-44':'AGE_GROUPS = 4', \n",
    "          '45-54':'AGE_GROUPS = 5', \n",
    "          '55+':'AGE_GROUPS IN(6, 7)', \n",
    "          'Муж.12+':'SEX = 1', \n",
    "          'Жен.12+':'SEX = 2'}\n",
    "\n",
    "# проверяем, что значения параметров установлены верно\n",
    "rtask.save_report_info(facility, date_from, date_to, usetypes)\n",
    "rtask.show_report_info()\n",
    "print(f\"Объектов в media-каталоге: {rcats.holdings.shape[0]}\")"
   ]
  },
  {
   "cell_type": "markdown",
   "metadata": {},
   "source": [
    "# Расчет для нескольких ЦА с разбивкой и без разбивки по Usetype"
   ]
  },
  {
   "cell_type": "code",
   "execution_count": null,
   "metadata": {},
   "outputs": [],
   "source": [
    "%%time\n",
    "\n",
    "# посчитаем данные в циклах\n",
    "tasks = []\n",
    "for agegroup, logical in groups.items():\n",
    "    \n",
    "    # формируем задание на расчет ЦА без рабивки по Usetype\n",
    "    project_name = f\"Desktop&Mobile {agegroup}\"\n",
    "    demo_filter = f\"{logical}\"\n",
    "    structure = {\n",
    "        \"usetype\": False,\n",
    "        \"date\": \"month\"\n",
    "    }\n",
    "    print(f\"Отправляем на расчет: {project_name}\")\n",
    "\n",
    "    # формируем из заданных параметров задание для Responsum в формате JSON для каждого из этапов цикла\n",
    "    task_json = rtask.build_audience_task(task_name=project_name, facility=facility, date_from=date_from, date_to=date_to, usetype_filter=usetypes, media_filter=media_filter, demo_filter=demo_filter, statistics=statistics, structure=structure)\n",
    "    \n",
    "    # для каждого этапа цикла формируем словарь с параметрами и отправленным заданием на расчет\n",
    "    tsk = {}\n",
    "    tsk['project_name'] = project_name\n",
    "    tsk['task'] = rtask.send_audience_task(task_json) \n",
    "    tasks.append(tsk)\n",
    "\n",
    "    \n",
    "    # формируем задание на расчет ЦА c рабивкой по Usetype\n",
    "    project_name = f\"Desktop и Mobile отдельно {agegroup}\"\n",
    "    demo_filter = f\"{logical}\"\n",
    "    structure = {\n",
    "        \"usetype\": True,\n",
    "        \"date\": \"month\"\n",
    "    }\n",
    "    print(f\"Отправляем на расчет: {project_name}\")\n",
    "\n",
    "    # формируем из заданных параметров задание для Responsum в формате JSON для каждого из этапов цикла\n",
    "    task_json = rtask.build_audience_task(task_name=project_name, facility=facility, date_from=date_from, date_to=date_to, usetype_filter=usetypes, media_filter=media_filter, demo_filter=demo_filter, statistics=statistics, structure=structure)\n",
    "    \n",
    "    # для каждого этапа цикла формируем словарь с параметрами и отправленным заданием на расчет\n",
    "    tsk = {}\n",
    "    tsk['project_name'] = project_name\n",
    "    tsk['task'] = rtask.send_audience_task(task_json)\n",
    "    tasks.append(tsk)\n",
    "    \n",
    "# ждем выполнения\n",
    "tsks = rtask.wait_task(tasks)\n",
    "print('Расчет завершен, получаем результат')\n",
    "\n",
    "# получаем результат\n",
    "results = []\n",
    "for t in tasks:\n",
    "    tsk = t['task']\n",
    "    df_result = rtask.result2table(rtask.get_result(tsk), project_name = t['project_name'])\n",
    "    results.append(df_result)\n",
    "df_result = pd.concat(results).fillna('desktop&mobile')\n",
    "df_result"
   ]
  },
  {
   "cell_type": "code",
   "execution_count": null,
   "metadata": {},
   "outputs": [],
   "source": [
    "# выгружаем в Excel\n",
    "writer = pd.ExcelWriter(rtask.get_excel_filename('UnwReach+TA_202103'))\n",
    "df_result.to_excel(writer, 'Report', index=False)\n",
    "writer.save()"
   ]
  }
 ],
 "metadata": {
  "kernelspec": {
   "display_name": "Python 3",
   "language": "python",
   "name": "python3"
  },
  "language_info": {
   "codemirror_mode": {
    "name": "ipython",
    "version": 3
   },
   "file_extension": ".py",
   "mimetype": "text/x-python",
   "name": "python",
   "nbconvert_exporter": "python",
   "pygments_lexer": "ipython3",
   "version": "3.8.8"
  }
 },
 "nbformat": 4,
 "nbformat_minor": 4
}
