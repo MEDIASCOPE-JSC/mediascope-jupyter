{
 "cells": [
  {
   "cell_type": "markdown",
   "metadata": {},
   "source": [
    "# Пользовательские демографические группы\n",
    "Ноутбук с примерами формирования пользовательских демографических групп\n",
    "\n",
    "Общие принципы формирования демографических групп:\n",
    "- формируются на основе значений каталога демографических переменных\n",
    "- Доступные операторы:\n",
    "    ```\n",
    "    = (равенство)\n",
    "    != (неравенство)\n",
    "    > (больше)\n",
    "    < (меньше)\n",
    "    AND (И)\n",
    "    OR (ИЛИ)\n",
    "    IN() (вхождение в список значений)\n",
    "    NOTIN() (невхождение в список значений)\n",
    "    ```\n",
    "- если в демографической группе, передаваемой в demo_filter, есть отбор по __возрасту__, то переменной __ages__ должно быть присвоено значение None\n",
    "    \n",
    "    ```python\n",
    "    ages = None\n",
    "    ```\n",
    "    \n",
    "\n",
    "- если в демографической группе, передаваемой в demo_filter, есть отбор по __численности населения города__, то переменной __population__ должно быть присвоено значение None\n",
    "\n",
    "    ```python\n",
    "    population = None\n",
    "    ```\n",
    "\n",
    "Рассмотрим подробнее на примере следующих демографических групп:\n",
    "1. Мужчины 35-44 лет\n",
    "2. Мужчины 18-24 лет или женщины 25-34 лет\n",
    "3. Все 20-56 лет\n",
    "4. 25-54 не руководители\n",
    "5. Жители городов 700+ с доходом BC"
   ]
  },
  {
   "cell_type": "markdown",
   "metadata": {},
   "source": [
    "## Инициализация\n",
    "Загрузим библиотеки, которые нам помогут обращаться к API Responsum и работать с данными"
   ]
  },
  {
   "cell_type": "code",
   "execution_count": 1,
   "metadata": {},
   "outputs": [],
   "source": [
    "%reload_ext autoreload\n",
    "%autoreload 2\n",
    "\n",
    "import os\n",
    "import re\n",
    "import json\n",
    "import datetime\n",
    "import time\n",
    "import pandas as pd\n",
    "from pathlib import Path\n",
    "from IPython.display import JSON\n",
    "\n",
    "from mediascope_api.core import net as msnet\n",
    "from mediascope_api.responsum import catalogs as rc\n",
    "from mediascope_api.responsum import tasks as rt"
   ]
  },
  {
   "cell_type": "code",
   "execution_count": 2,
   "metadata": {},
   "outputs": [
    {
     "name": "stdout",
     "output_type": "stream",
     "text": [
      "Объектов в media-каталоге: 4716\n"
     ]
    }
   ],
   "source": [
    "#Зададим тип установки\n",
    "facility = 'mobile' # возможные значения: 'desktop', 'mobile', 'desktop_pre'\n",
    "\n",
    "# создадим объекты для работы с каталогами и заданиями,\n",
    "# а так же загружаем каталоги\n",
    "rcats = rc.ResponsumCats(facility)\n",
    "rtask = rt.ResponsumTask(facility)\n",
    "\n",
    "print(f\"Объектов в media-каталоге: {rcats.holdings.shape[0]}\")"
   ]
  },
  {
   "cell_type": "markdown",
   "metadata": {},
   "source": [
    "## Список демографических переменных\n",
    "Для формирования синтаксиса демографических групп, нам понадобится каталог демографических переменных"
   ]
  },
  {
   "cell_type": "markdown",
   "metadata": {},
   "source": [
    "Загрузим каталог (подробнее работа с каталогами описана в [ноутбуке](catalogs.ipynb#catalogs_site_avito))"
   ]
  },
  {
   "cell_type": "code",
   "execution_count": 3,
   "metadata": {},
   "outputs": [
    {
     "data": {
      "text/html": [
       "<div>\n",
       "<style scoped>\n",
       "    .dataframe tbody tr th:only-of-type {\n",
       "        vertical-align: middle;\n",
       "    }\n",
       "\n",
       "    .dataframe tbody tr th {\n",
       "        vertical-align: top;\n",
       "    }\n",
       "\n",
       "    .dataframe thead th {\n",
       "        text-align: right;\n",
       "    }\n",
       "</style>\n",
       "<table border=\"1\" class=\"dataframe\">\n",
       "  <thead>\n",
       "    <tr style=\"text-align: right;\">\n",
       "      <th></th>\n",
       "      <th>varId</th>\n",
       "      <th>varName</th>\n",
       "      <th>varTitle</th>\n",
       "      <th>categories</th>\n",
       "      <th>from</th>\n",
       "      <th>to</th>\n",
       "      <th>catNum</th>\n",
       "      <th>catTitle</th>\n",
       "    </tr>\n",
       "  </thead>\n",
       "  <tbody>\n",
       "    <tr>\n",
       "      <th>0</th>\n",
       "      <td>106</td>\n",
       "      <td>SEX</td>\n",
       "      <td>Пол</td>\n",
       "      <td>[{'varId': 106, 'catNum': 1, 'title': 'Мужчины...</td>\n",
       "      <td>None</td>\n",
       "      <td>None</td>\n",
       "      <td>1</td>\n",
       "      <td>Мужчины</td>\n",
       "    </tr>\n",
       "    <tr>\n",
       "      <th>1</th>\n",
       "      <td>106</td>\n",
       "      <td>SEX</td>\n",
       "      <td>Пол</td>\n",
       "      <td>[{'varId': 106, 'catNum': 1, 'title': 'Мужчины...</td>\n",
       "      <td>None</td>\n",
       "      <td>None</td>\n",
       "      <td>2</td>\n",
       "      <td>Женщины</td>\n",
       "    </tr>\n",
       "    <tr>\n",
       "      <th>2</th>\n",
       "      <td>107</td>\n",
       "      <td>CITY</td>\n",
       "      <td>Город проживания до 01.02.2019</td>\n",
       "      <td>[{'varId': 107, 'catNum': 1, 'title': 'Москва'...</td>\n",
       "      <td>None</td>\n",
       "      <td>None</td>\n",
       "      <td>1</td>\n",
       "      <td>Москва</td>\n",
       "    </tr>\n",
       "    <tr>\n",
       "      <th>3</th>\n",
       "      <td>107</td>\n",
       "      <td>CITY</td>\n",
       "      <td>Город проживания до 01.02.2019</td>\n",
       "      <td>[{'varId': 107, 'catNum': 1, 'title': 'Москва'...</td>\n",
       "      <td>None</td>\n",
       "      <td>None</td>\n",
       "      <td>2</td>\n",
       "      <td>Санкт-Петербург</td>\n",
       "    </tr>\n",
       "    <tr>\n",
       "      <th>4</th>\n",
       "      <td>107</td>\n",
       "      <td>CITY</td>\n",
       "      <td>Город проживания до 01.02.2019</td>\n",
       "      <td>[{'varId': 107, 'catNum': 1, 'title': 'Москва'...</td>\n",
       "      <td>None</td>\n",
       "      <td>None</td>\n",
       "      <td>27</td>\n",
       "      <td>Казань</td>\n",
       "    </tr>\n",
       "    <tr>\n",
       "      <th>...</th>\n",
       "      <td>...</td>\n",
       "      <td>...</td>\n",
       "      <td>...</td>\n",
       "      <td>...</td>\n",
       "      <td>...</td>\n",
       "      <td>...</td>\n",
       "      <td>...</td>\n",
       "      <td>...</td>\n",
       "    </tr>\n",
       "    <tr>\n",
       "      <th>93</th>\n",
       "      <td>719</td>\n",
       "      <td>CITY_BM</td>\n",
       "      <td>Город проживания</td>\n",
       "      <td>[{'varId': 719, 'catNum': 1, 'title': 'Большая...</td>\n",
       "      <td>None</td>\n",
       "      <td>None</td>\n",
       "      <td>2</td>\n",
       "      <td>Санкт-Петербург</td>\n",
       "    </tr>\n",
       "    <tr>\n",
       "      <th>94</th>\n",
       "      <td>719</td>\n",
       "      <td>CITY_BM</td>\n",
       "      <td>Город проживания</td>\n",
       "      <td>[{'varId': 719, 'catNum': 1, 'title': 'Большая...</td>\n",
       "      <td>None</td>\n",
       "      <td>None</td>\n",
       "      <td>27</td>\n",
       "      <td>Казань</td>\n",
       "    </tr>\n",
       "    <tr>\n",
       "      <th>95</th>\n",
       "      <td>719</td>\n",
       "      <td>CITY_BM</td>\n",
       "      <td>Город проживания</td>\n",
       "      <td>[{'varId': 719, 'catNum': 1, 'title': 'Большая...</td>\n",
       "      <td>None</td>\n",
       "      <td>None</td>\n",
       "      <td>47</td>\n",
       "      <td>Екатеринбург</td>\n",
       "    </tr>\n",
       "    <tr>\n",
       "      <th>96</th>\n",
       "      <td>719</td>\n",
       "      <td>CITY_BM</td>\n",
       "      <td>Город проживания</td>\n",
       "      <td>[{'varId': 719, 'catNum': 1, 'title': 'Большая...</td>\n",
       "      <td>None</td>\n",
       "      <td>None</td>\n",
       "      <td>64</td>\n",
       "      <td>Новосибирск</td>\n",
       "    </tr>\n",
       "    <tr>\n",
       "      <th>97</th>\n",
       "      <td>719</td>\n",
       "      <td>CITY_BM</td>\n",
       "      <td>Город проживания</td>\n",
       "      <td>[{'varId': 719, 'catNum': 1, 'title': 'Большая...</td>\n",
       "      <td>None</td>\n",
       "      <td>None</td>\n",
       "      <td>666</td>\n",
       "      <td>Другие города</td>\n",
       "    </tr>\n",
       "  </tbody>\n",
       "</table>\n",
       "<p>98 rows × 8 columns</p>\n",
       "</div>"
      ],
      "text/plain": [
       "    varId  varName                        varTitle  \\\n",
       "0     106      SEX                             Пол   \n",
       "1     106      SEX                             Пол   \n",
       "2     107     CITY  Город проживания до 01.02.2019   \n",
       "3     107     CITY  Город проживания до 01.02.2019   \n",
       "4     107     CITY  Город проживания до 01.02.2019   \n",
       "..    ...      ...                             ...   \n",
       "93    719  CITY_BM                Город проживания   \n",
       "94    719  CITY_BM                Город проживания   \n",
       "95    719  CITY_BM                Город проживания   \n",
       "96    719  CITY_BM                Город проживания   \n",
       "97    719  CITY_BM                Город проживания   \n",
       "\n",
       "                                           categories  from    to catNum  \\\n",
       "0   [{'varId': 106, 'catNum': 1, 'title': 'Мужчины...  None  None      1   \n",
       "1   [{'varId': 106, 'catNum': 1, 'title': 'Мужчины...  None  None      2   \n",
       "2   [{'varId': 107, 'catNum': 1, 'title': 'Москва'...  None  None      1   \n",
       "3   [{'varId': 107, 'catNum': 1, 'title': 'Москва'...  None  None      2   \n",
       "4   [{'varId': 107, 'catNum': 1, 'title': 'Москва'...  None  None     27   \n",
       "..                                                ...   ...   ...    ...   \n",
       "93  [{'varId': 719, 'catNum': 1, 'title': 'Большая...  None  None      2   \n",
       "94  [{'varId': 719, 'catNum': 1, 'title': 'Большая...  None  None     27   \n",
       "95  [{'varId': 719, 'catNum': 1, 'title': 'Большая...  None  None     47   \n",
       "96  [{'varId': 719, 'catNum': 1, 'title': 'Большая...  None  None     64   \n",
       "97  [{'varId': 719, 'catNum': 1, 'title': 'Большая...  None  None    666   \n",
       "\n",
       "           catTitle  \n",
       "0           Мужчины  \n",
       "1           Женщины  \n",
       "2            Москва  \n",
       "3   Санкт-Петербург  \n",
       "4            Казань  \n",
       "..              ...  \n",
       "93  Санкт-Петербург  \n",
       "94           Казань  \n",
       "95     Екатеринбург  \n",
       "96      Новосибирск  \n",
       "97    Другие города  \n",
       "\n",
       "[98 rows x 8 columns]"
      ]
     },
     "execution_count": 3,
     "metadata": {},
     "output_type": "execute_result"
    }
   ],
   "source": [
    "demo_cat = rcats.get_demo()\n",
    "demo_cat"
   ]
  },
  {
   "cell_type": "markdown",
   "metadata": {},
   "source": [
    "Для удобства можно выгрузить каталог в Excel и работать с ним там. Файл созраняется в директорию с ноутбуком."
   ]
  },
  {
   "cell_type": "code",
   "execution_count": 4,
   "metadata": {},
   "outputs": [],
   "source": [
    "writer = pd.ExcelWriter('demo_cat.xlsx')\n",
    "demo_cat.to_excel(writer, 'demo_cat', index=False)\n",
    "writer.save()"
   ]
  },
  {
   "cell_type": "markdown",
   "metadata": {},
   "source": [
    "\n",
    "## 1. Мужчины 35-44 лет"
   ]
  },
  {
   "cell_type": "markdown",
   "metadata": {},
   "source": [
    "Из каталога видим, что для отбора мужчин нам нужно значение 1 переменной SEX\n",
    "```\n",
    "    SEX = 1\n",
    "```\n",
    "Возрастной группе 35-44 соответствует значение 4 переменной AGE_GROUPS\n",
    "```\n",
    "    AGE_GROUPS = 4\n",
    "```\n",
    "Объединяем выражения через оператор AND\n",
    "```\n",
    "    SEX = 1 AND AGE_GROUPS = 4\n",
    "```"
   ]
  },
  {
   "cell_type": "markdown",
   "metadata": {},
   "source": [
    "### Задаем параметры расчета\n",
    "\n",
    "__NB__ Если в демографической переменной используется __возраст__ (как в нашем случае), то переменной __ages__ должно быть присвоено значение __None__"
   ]
  },
  {
   "cell_type": "code",
   "execution_count": 5,
   "metadata": {},
   "outputs": [
    {
     "name": "stdout",
     "output_type": "stream",
     "text": [
      "Дата/время расчета: 2021-03-23 10:44:49\n",
      "Тип установки: mobile\n",
      "Начало периода: 2020-05-01\n",
      "Конец периода: 2020-05-31\n",
      "Типы пользования Интернетом: [1, 2, 3, 4]\n",
      "Население: [1, 2, 3]\n",
      "Возрастные группы: None\n",
      "Объектов в media-каталоге: 4716\n"
     ]
    }
   ],
   "source": [
    "# задаем период расчета\n",
    "date_from = '2020-05-01'\n",
    "date_to = '2020-05-31'\n",
    "\n",
    "# задаем Типы пользования Интернетом\n",
    "usetypes = rcats.get_usetype('all')\n",
    "\n",
    "# задаем Население, например, Россия 100+\n",
    "population = rcats.get_population('Russia100+')\n",
    "\n",
    "# присваиваем переменной ages значение None\n",
    "ages = None\n",
    "\n",
    "# Провеяем, что значения парамеров установлены верно\n",
    "rtask.save_report_info(facility, date_from, date_to, usetypes, population, ages)\n",
    "rtask.show_report_info()\n",
    "print(f\"Объектов в media-каталоге: {rcats.holdings.shape[0]}\")"
   ]
  },
  {
   "cell_type": "markdown",
   "metadata": {},
   "source": [
    "### Формируем задание на расчет\n",
    "\n",
    "В demo_filter передаем сформированный синтакисиc переменной в кавычках"
   ]
  },
  {
   "cell_type": "code",
   "execution_count": 6,
   "metadata": {},
   "outputs": [
    {
     "name": "stdout",
     "output_type": "stream",
     "text": [
      "Задача <62763c07-2dd5-46a7-a141-c1bb5e84e87e> поступила в обработку\n",
      "Расчет задачи [= = = = ] время расчета: 0:00:13.502242\n"
     ]
    },
    {
     "data": {
      "text/html": [
       "<div>\n",
       "<style scoped>\n",
       "    .dataframe tbody tr th:only-of-type {\n",
       "        vertical-align: middle;\n",
       "    }\n",
       "\n",
       "    .dataframe tbody tr th {\n",
       "        vertical-align: top;\n",
       "    }\n",
       "\n",
       "    .dataframe thead th {\n",
       "        text-align: right;\n",
       "    }\n",
       "</style>\n",
       "<table border=\"1\" class=\"dataframe\">\n",
       "  <thead>\n",
       "    <tr style=\"text-align: right;\">\n",
       "      <th></th>\n",
       "      <th>prj_name</th>\n",
       "      <th>stat_unwreach</th>\n",
       "    </tr>\n",
       "  </thead>\n",
       "  <tbody>\n",
       "    <tr>\n",
       "      <th>0</th>\n",
       "      <td>M35-44</td>\n",
       "      <td>2069.0</td>\n",
       "    </tr>\n",
       "  </tbody>\n",
       "</table>\n",
       "</div>"
      ],
      "text/plain": [
       "  prj_name  stat_unwreach\n",
       "0   M35-44         2069.0"
      ]
     },
     "execution_count": 6,
     "metadata": {},
     "output_type": "execute_result"
    }
   ],
   "source": [
    "# Задаем название проекта для отображения в DataFrame\n",
    "project_name = 'M35-44'\n",
    "\n",
    "# Фильтр по медиа отсутствует\n",
    "media_filter = None\n",
    "\n",
    "# Задаем демографическую группу в demo_filter\n",
    "demo_filter = \"SEX = 1 AND AGE_GROUPS = 4\"\n",
    "\n",
    "# Задаем список статистик для расчета\n",
    "statistics=[\"UnwReach\"]\n",
    "\n",
    "# Указываем порядок группировки, в нашем случае ее нет\n",
    "structure =  {\n",
    "    \"usetype\": False\n",
    "}\n",
    "\n",
    "# Формируем из-заданных параметров заданние для Responsum в формате JSON\n",
    "task_json = rtask.build_audience_task(task_name=project_name, facility=facility, date_from=date_from, date_to=date_to, usetype_filter=usetypes, population_filter=population, ages_filter=ages, media_filter=media_filter, demo_filter=demo_filter, statistics=statistics, structure=structure)\n",
    "# Отправляем задание на расчет и ждем выполнения\n",
    "task_audience = rtask.wait_task(rtask.send_audience_task(task_json))\n",
    "# Получаем результат\n",
    "df_total = rtask.result2table(rtask.get_result(task_audience), project_name=project_name)\n",
    "df_total"
   ]
  },
  {
   "cell_type": "markdown",
   "metadata": {},
   "source": [
    "## 2. Мужчины 18-24 лет или женщины 25-34 лет"
   ]
  },
  {
   "cell_type": "markdown",
   "metadata": {},
   "source": [
    "Возвращаемся к каталогу демографических переменных. Для отбора мужчин 18-24 лет нам нужно значение 1 переменной SEX и значение 2 переменной AGE_GROUPS\n",
    "```\n",
    "SEX = 1 AND AGE_GROUPS = 2\n",
    "```\n",
    "Для отбора женщин 25-34 лет синтаксис будет следующим:\n",
    "```\n",
    "SEX = 2 AND AGE_GROUPS = 3\n",
    "```\n",
    "Объединяем через оператор OR\n",
    "```\n",
    "(SEX = 1 AND AGE_GROUPS = 2) OR (SEX = 2 AND AGE_GROUPS = 3)\n",
    "```"
   ]
  },
  {
   "cell_type": "markdown",
   "metadata": {},
   "source": [
    "### Задаем параметры расчета\n",
    "\n",
    "__NB__ Если в демографической переменной используется __возраст__ (как в нашем случае), то переменной __ages__ должно быть присвоено значение __None__"
   ]
  },
  {
   "cell_type": "code",
   "execution_count": 7,
   "metadata": {},
   "outputs": [
    {
     "name": "stdout",
     "output_type": "stream",
     "text": [
      "Дата/время расчета: 2021-03-16 12:08:50\n",
      "Тип установки: mobile\n",
      "Начало периода: 2020-05-01\n",
      "Конец периода: 2020-05-31\n",
      "Типы пользования Интернетом: [1, 2, 3, 4]\n",
      "Население: [1, 2, 3]\n",
      "Возрастные группы: None\n",
      "Объектов в media-каталоге: 4716\n"
     ]
    }
   ],
   "source": [
    "# задаем период расчета\n",
    "date_from = '2020-05-01'\n",
    "date_to = '2020-05-31'\n",
    "\n",
    "# задаем Типы пользования Интернетом\n",
    "usetypes = rcats.get_usetype('all')\n",
    "\n",
    "# задаем Население, например, Россия 100+\n",
    "population = rcats.get_population('Russia100+')\n",
    "\n",
    "# присваиваем переменной ages значение None\n",
    "ages = None\n",
    "\n",
    "# Провеяем, что значения парамеров установлены верно\n",
    "rtask.save_report_info(facility, date_from, date_to, usetypes, population, ages)\n",
    "rtask.show_report_info()\n",
    "print(f\"Объектов в media-каталоге: {rcats.holdings.shape[0]}\")"
   ]
  },
  {
   "cell_type": "markdown",
   "metadata": {},
   "source": [
    "### Формируем задание на расчет"
   ]
  },
  {
   "cell_type": "markdown",
   "metadata": {},
   "source": [
    "В demo_filter передаем сформированный синтакисиc переменной в кавычках"
   ]
  },
  {
   "cell_type": "code",
   "execution_count": 7,
   "metadata": {},
   "outputs": [
    {
     "name": "stdout",
     "output_type": "stream",
     "text": [
      "Задача <27538ab8-17ee-4abf-acdc-8b6238000a14> поступила в обработку\n",
      "Расчет задачи [= = = = = = ] время расчета: 0:00:20.243647\n"
     ]
    },
    {
     "data": {
      "text/html": [
       "<div>\n",
       "<style scoped>\n",
       "    .dataframe tbody tr th:only-of-type {\n",
       "        vertical-align: middle;\n",
       "    }\n",
       "\n",
       "    .dataframe tbody tr th {\n",
       "        vertical-align: top;\n",
       "    }\n",
       "\n",
       "    .dataframe thead th {\n",
       "        text-align: right;\n",
       "    }\n",
       "</style>\n",
       "<table border=\"1\" class=\"dataframe\">\n",
       "  <thead>\n",
       "    <tr style=\"text-align: right;\">\n",
       "      <th></th>\n",
       "      <th>prj_name</th>\n",
       "      <th>stat_unwreach</th>\n",
       "    </tr>\n",
       "  </thead>\n",
       "  <tbody>\n",
       "    <tr>\n",
       "      <th>0</th>\n",
       "      <td>M18-24_F25-34</td>\n",
       "      <td>2771.0</td>\n",
       "    </tr>\n",
       "  </tbody>\n",
       "</table>\n",
       "</div>"
      ],
      "text/plain": [
       "        prj_name  stat_unwreach\n",
       "0  M18-24_F25-34         2771.0"
      ]
     },
     "execution_count": 7,
     "metadata": {},
     "output_type": "execute_result"
    }
   ],
   "source": [
    "# Задаем название проекта для отображения в DataFrame\n",
    "project_name = 'M18-24_F25-34'\n",
    "\n",
    "# Фильтр по медиа отсутствует\n",
    "media_filter = None\n",
    "\n",
    "# Задаем демографическую группу в demo_filter\n",
    "demo_filter = \"(SEX = 1 AND AGE_GROUPS = 2) OR (SEX = 2 AND AGE_GROUPS = 3)\"\n",
    "\n",
    "# Задаем список статистик для расчета\n",
    "statistics=[\"UnwReach\"]\n",
    "\n",
    "# Указываем порядок группировки, в нашем случае ее нет\n",
    "structure =  {\n",
    "    \"usetype\": False\n",
    "}\n",
    "\n",
    "# Формируем из-заданных параметров заданние для Responsum в формате JSON\n",
    "task_json = rtask.build_audience_task(task_name=project_name, facility=facility, date_from=date_from, date_to=date_to, usetype_filter=usetypes, population_filter=population, ages_filter=ages, media_filter=media_filter, demo_filter=demo_filter, statistics=statistics, structure=structure)\n",
    "# Отправляем задание на расчет и ждем выполнения\n",
    "task_audience = rtask.wait_task(rtask.send_audience_task(task_json))\n",
    "# Получаем результат\n",
    "df_total = rtask.result2table(rtask.get_result(task_audience), project_name=project_name)\n",
    "df_total"
   ]
  },
  {
   "cell_type": "markdown",
   "metadata": {},
   "source": [
    "## 3. Все 20-56 лет"
   ]
  },
  {
   "cell_type": "markdown",
   "metadata": {},
   "source": [
    "Возраст 20-56 лет не получится собрать из переменной AGE_GROUPS, нам понадобится переменная AGE\n",
    "\n",
    "Зададим диапазон возраста.\n",
    "Можно использовать только операторы сравнения \"больше\"(>) и \"меньше\"(<), поэтому наше выражение будет выглядеть так:\n",
    "```\n",
    "AGE > 19 AND AGE < 57\n",
    "```"
   ]
  },
  {
   "cell_type": "markdown",
   "metadata": {},
   "source": [
    "### Задаем параметры расчета\n",
    "\n",
    "__NB__ Если в демографической переменной используется __возраст__ (как в нашем случае), то переменной __ages__ должно быть присвоено значение __None__"
   ]
  },
  {
   "cell_type": "code",
   "execution_count": 8,
   "metadata": {},
   "outputs": [
    {
     "name": "stdout",
     "output_type": "stream",
     "text": [
      "Дата/время расчета: 2021-03-23 10:45:43\n",
      "Тип установки: mobile\n",
      "Начало периода: 2020-05-01\n",
      "Конец периода: 2020-05-31\n",
      "Типы пользования Интернетом: [1, 2, 3, 4]\n",
      "Население: [1, 2, 3]\n",
      "Возрастные группы: None\n",
      "Объектов в media-каталоге: 4716\n"
     ]
    }
   ],
   "source": [
    "# задаем период расчета\n",
    "date_from = '2020-05-01'\n",
    "date_to = '2020-05-31'\n",
    "\n",
    "# задаем Типы пользования Интернетом\n",
    "usetypes = rcats.get_usetype('all')\n",
    "\n",
    "# задаем Население, например, Россия 100+\n",
    "population = rcats.get_population('Russia100+')\n",
    "\n",
    "# присваиваем переменной ages значение None\n",
    "ages = None\n",
    "\n",
    "# Провеяем, что значения парамеров установлены верно\n",
    "rtask.save_report_info(facility, date_from, date_to, usetypes, population, ages)\n",
    "rtask.show_report_info()\n",
    "print(f\"Объектов в media-каталоге: {rcats.holdings.shape[0]}\")"
   ]
  },
  {
   "cell_type": "markdown",
   "metadata": {},
   "source": [
    "### Формируем задание на расчет"
   ]
  },
  {
   "cell_type": "markdown",
   "metadata": {},
   "source": [
    "В demo_filter передаем сформированный синтакисиc переменной в кавычках"
   ]
  },
  {
   "cell_type": "code",
   "execution_count": 9,
   "metadata": {},
   "outputs": [
    {
     "name": "stdout",
     "output_type": "stream",
     "text": [
      "Задача <27cbf234-8488-41fd-815f-9ac7f01533c9> поступила в обработку\n",
      "Расчет задачи [= = = = = = ] время расчета: 0:00:19.734733\n"
     ]
    },
    {
     "data": {
      "text/html": [
       "<div>\n",
       "<style scoped>\n",
       "    .dataframe tbody tr th:only-of-type {\n",
       "        vertical-align: middle;\n",
       "    }\n",
       "\n",
       "    .dataframe tbody tr th {\n",
       "        vertical-align: top;\n",
       "    }\n",
       "\n",
       "    .dataframe thead th {\n",
       "        text-align: right;\n",
       "    }\n",
       "</style>\n",
       "<table border=\"1\" class=\"dataframe\">\n",
       "  <thead>\n",
       "    <tr style=\"text-align: right;\">\n",
       "      <th></th>\n",
       "      <th>prj_name</th>\n",
       "      <th>stat_unwreach</th>\n",
       "    </tr>\n",
       "  </thead>\n",
       "  <tbody>\n",
       "    <tr>\n",
       "      <th>0</th>\n",
       "      <td>All20-56</td>\n",
       "      <td>12254.0</td>\n",
       "    </tr>\n",
       "  </tbody>\n",
       "</table>\n",
       "</div>"
      ],
      "text/plain": [
       "   prj_name  stat_unwreach\n",
       "0  All20-56        12254.0"
      ]
     },
     "execution_count": 9,
     "metadata": {},
     "output_type": "execute_result"
    }
   ],
   "source": [
    "# Задаем название проекта для отображения в DataFrame\n",
    "project_name = 'All20-56'\n",
    "\n",
    "# Фильтр по медиа отсутствует\n",
    "media_filter = None\n",
    "\n",
    "# Задаем демографическую группу в demo_filter\n",
    "demo_filter = \"(AGE > 19 AND AGE < 57)\"\n",
    "\n",
    "# Задаем список статистик для расчета\n",
    "statistics=[\"UnwReach\"]\n",
    "\n",
    "# Указываем порядок группировки, в нашем случае ее нет\n",
    "structure =  {\n",
    "    \"usetype\": False\n",
    "}\n",
    "\n",
    "# Формируем из-заданных параметров заданние для Responsum в формате JSON\n",
    "task_json = rtask.build_audience_task(task_name=project_name, facility=facility, date_from=date_from, date_to=date_to, usetype_filter=usetypes, population_filter=population, ages_filter=ages, media_filter=media_filter, demo_filter=demo_filter, statistics=statistics, structure=structure)\n",
    "# Отправляем задание на расчет и ждем выполнения\n",
    "task_audience = rtask.wait_task(rtask.send_audience_task(task_json))\n",
    "# Получаем результат\n",
    "df_total = rtask.result2table(rtask.get_result(task_audience), project_name=project_name)\n",
    "df_total"
   ]
  },
  {
   "cell_type": "markdown",
   "metadata": {},
   "source": [
    "## 4. 25-54 не руководители"
   ]
  },
  {
   "cell_type": "markdown",
   "metadata": {},
   "source": [
    "Для отбора возрастной группы 25-54 нам понадобятся значения 3, 4 и 5 переменной AGE_GROUPS. Чтобы не мучиться с написанием трех условий через OR, воспользуемся оператором IN\n",
    "```\n",
    "AGE_GROUPS IN (3, 4, 5)\n",
    "```\n",
    "Условие \"не руководители\" можно также коротко задать при помощи оператора неравенства \"!=\"\n",
    "```\n",
    "OCCUPATION2 != 1\n",
    "```\n",
    "Объединяем через оператор AND\n",
    "```\n",
    "AGE_GROUPS IN (3, 4, 5) AND OCCUPATION2 != 1\n",
    "```"
   ]
  },
  {
   "cell_type": "markdown",
   "metadata": {},
   "source": [
    "### Задаем параметры расчета\n",
    "\n",
    "__NB__ Если в демографической переменной используется __возраст__ (как в нашем случае), то переменной __ages__ должно быть присвоено значение __None__"
   ]
  },
  {
   "cell_type": "code",
   "execution_count": 11,
   "metadata": {},
   "outputs": [
    {
     "name": "stdout",
     "output_type": "stream",
     "text": [
      "Дата/время расчета: 2021-03-16 12:10:16\n",
      "Тип установки: mobile\n",
      "Начало периода: 2020-05-01\n",
      "Конец периода: 2020-05-31\n",
      "Типы пользования Интернетом: [1, 2, 3, 4]\n",
      "Население: [1, 2, 3]\n",
      "Возрастные группы: None\n",
      "Объектов в media-каталоге: 4716\n"
     ]
    }
   ],
   "source": [
    "# задаем период расчета\n",
    "date_from = '2020-05-01'\n",
    "date_to = '2020-05-31'\n",
    "\n",
    "# задаем Типы пользования Интернетом\n",
    "usetypes = rcats.get_usetype('all')\n",
    "\n",
    "# задаем Население, например, Россия 100+\n",
    "population = rcats.get_population('Russia100+')\n",
    "\n",
    "# присваиваем переменной ages значение None\n",
    "ages = None\n",
    "\n",
    "# Провеяем, что значения парамеров установлены верно\n",
    "rtask.save_report_info(facility, date_from, date_to, usetypes, population, ages)\n",
    "rtask.show_report_info()\n",
    "print(f\"Объектов в media-каталоге: {rcats.holdings.shape[0]}\")"
   ]
  },
  {
   "cell_type": "markdown",
   "metadata": {},
   "source": [
    "### Формируем задание на расчет"
   ]
  },
  {
   "cell_type": "markdown",
   "metadata": {},
   "source": [
    "В demo_filter передаем сформированный синтакисиc переменной в кавычках"
   ]
  },
  {
   "cell_type": "code",
   "execution_count": 12,
   "metadata": {},
   "outputs": [
    {
     "name": "stdout",
     "output_type": "stream",
     "text": [
      "Задача <02e471e3-9a48-41c1-8d6e-62f445139e69> поступила в обработку\n",
      "Расчет задачи [= = = = = ] время расчета: 0:00:16.807679\n"
     ]
    },
    {
     "data": {
      "text/html": [
       "<div>\n",
       "<style scoped>\n",
       "    .dataframe tbody tr th:only-of-type {\n",
       "        vertical-align: middle;\n",
       "    }\n",
       "\n",
       "    .dataframe tbody tr th {\n",
       "        vertical-align: top;\n",
       "    }\n",
       "\n",
       "    .dataframe thead th {\n",
       "        text-align: right;\n",
       "    }\n",
       "</style>\n",
       "<table border=\"1\" class=\"dataframe\">\n",
       "  <thead>\n",
       "    <tr style=\"text-align: right;\">\n",
       "      <th></th>\n",
       "      <th>prj_name</th>\n",
       "      <th>stat_unwreach</th>\n",
       "    </tr>\n",
       "  </thead>\n",
       "  <tbody>\n",
       "    <tr>\n",
       "      <th>0</th>\n",
       "      <td>25-54_not_dir</td>\n",
       "      <td>9086.0</td>\n",
       "    </tr>\n",
       "  </tbody>\n",
       "</table>\n",
       "</div>"
      ],
      "text/plain": [
       "        prj_name  stat_unwreach\n",
       "0  25-54_not_dir         9086.0"
      ]
     },
     "execution_count": 12,
     "metadata": {},
     "output_type": "execute_result"
    }
   ],
   "source": [
    "# Задаем название проекта для отображения в DataFrame\n",
    "project_name = '25-54_not_dir'\n",
    "\n",
    "# Фильтр по медиа отсутствует\n",
    "media_filter = None\n",
    "\n",
    "# Задаем демографическую группу в demo_filter\n",
    "demo_filter = \"AGE_GROUPS IN (3, 4, 5) AND OCCUPATION2 != 1\"\n",
    "\n",
    "# Задаем список статистик для расчета\n",
    "statistics=[\"UnwReach\"]\n",
    "\n",
    "# Указываем порядок группировки, в нашем случае ее нет\n",
    "structure =  {\n",
    "    \"usetype\": False\n",
    "}\n",
    "\n",
    "# Формируем из-заданных параметров заданние для Responsum в формате JSON\n",
    "task_json = rtask.build_audience_task(task_name=project_name, facility=facility, date_from=date_from, date_to=date_to, usetype_filter=usetypes, population_filter=population, ages_filter=ages, media_filter=media_filter, demo_filter=demo_filter, statistics=statistics, structure=structure)\n",
    "# Отправляем задание на расчет и ждем выполнения\n",
    "task_audience = rtask.wait_task(rtask.send_audience_task(task_json))\n",
    "# Получаем результат\n",
    "df_total = rtask.result2table(rtask.get_result(task_audience), project_name=project_name)\n",
    "df_total"
   ]
  },
  {
   "cell_type": "markdown",
   "metadata": {},
   "source": [
    "## 5. Жители городов 700+ с доходом BC"
   ]
  },
  {
   "cell_type": "markdown",
   "metadata": {},
   "source": [
    "Размер города 700+ зададим при помощи переменной CITY_TYPE2\n",
    "```\n",
    "CITY_TYPE2 = 1\n",
    "```\n",
    "Для отбора респондентов с доходом BC (средний и выше среднего) нам потребуется переменная INCOME_GROUPS\n",
    "```\n",
    "INCOME_GROUPS IN (2, 3)\n",
    "```\n",
    "Объединим выражения через оператор AND\n",
    "```\n",
    "CITY_TYPE2 = 1 AND INCOME_GROUPS IN (2, 3)\n",
    "```"
   ]
  },
  {
   "cell_type": "markdown",
   "metadata": {},
   "source": [
    "### Задаем параметры расчета\n",
    "\n",
    "__NB__ Если в демографической переменной используется __численность населения города__ (как в нашем случае), то переменной __population__ должно быть присвоено значение __None__"
   ]
  },
  {
   "cell_type": "code",
   "execution_count": 13,
   "metadata": {},
   "outputs": [
    {
     "name": "stdout",
     "output_type": "stream",
     "text": [
      "Дата/время расчета: 2021-03-16 12:10:44\n",
      "Тип установки: mobile\n",
      "Начало периода: 2020-05-01\n",
      "Конец периода: 2020-05-31\n",
      "Типы пользования Интернетом: [1, 2, 3, 4]\n",
      "Население: [1, 2, 3]\n",
      "Возрастные группы: [1, 2, 3, 4, 5, 6, 7]\n",
      "Объектов в media-каталоге: 4716\n"
     ]
    }
   ],
   "source": [
    "# задаем период расчета\n",
    "date_from = '2020-05-01'\n",
    "date_to = '2020-05-31'\n",
    "\n",
    "# задаем Типы пользования Интернетом\n",
    "usetypes = rcats.get_usetype('all')\n",
    "\n",
    "# выбираем города с населением 100 тыс и более\n",
    "population = rcats.get_population('Russia100+')\n",
    "\n",
    "# задаем Возврастные группы, нас интересует 12+\n",
    "ages = rcats.get_age_groups('12+')\n",
    "\n",
    "# Провеяем, что значения парамеров установлены верно\n",
    "rtask.save_report_info(facility, date_from, date_to, usetypes, population, ages)\n",
    "rtask.show_report_info()\n",
    "print(f\"Объектов в media-каталоге: {rcats.holdings.shape[0]}\")"
   ]
  },
  {
   "cell_type": "markdown",
   "metadata": {},
   "source": [
    "### Формируем задание на расчет"
   ]
  },
  {
   "cell_type": "markdown",
   "metadata": {},
   "source": [
    "В demo_filter передаем сформированный синтакисиc переменной в кавычках"
   ]
  },
  {
   "cell_type": "code",
   "execution_count": 14,
   "metadata": {},
   "outputs": [
    {
     "name": "stdout",
     "output_type": "stream",
     "text": [
      "Задача <e8dae1f1-98bd-4832-8952-cebad76c2873> поступила в обработку\n",
      "Расчет задачи [= = = = = = = ] время расчета: 0:00:23.467137\n"
     ]
    },
    {
     "data": {
      "text/html": [
       "<div>\n",
       "<style scoped>\n",
       "    .dataframe tbody tr th:only-of-type {\n",
       "        vertical-align: middle;\n",
       "    }\n",
       "\n",
       "    .dataframe tbody tr th {\n",
       "        vertical-align: top;\n",
       "    }\n",
       "\n",
       "    .dataframe thead th {\n",
       "        text-align: right;\n",
       "    }\n",
       "</style>\n",
       "<table border=\"1\" class=\"dataframe\">\n",
       "  <thead>\n",
       "    <tr style=\"text-align: right;\">\n",
       "      <th></th>\n",
       "      <th>prj_name</th>\n",
       "      <th>stat_unwreach</th>\n",
       "    </tr>\n",
       "  </thead>\n",
       "  <tbody>\n",
       "    <tr>\n",
       "      <th>0</th>\n",
       "      <td>All700+BC</td>\n",
       "      <td>8810.0</td>\n",
       "    </tr>\n",
       "  </tbody>\n",
       "</table>\n",
       "</div>"
      ],
      "text/plain": [
       "    prj_name  stat_unwreach\n",
       "0  All700+BC         8810.0"
      ]
     },
     "execution_count": 14,
     "metadata": {},
     "output_type": "execute_result"
    }
   ],
   "source": [
    "# Задаем название проекта для отображения в DataFrame\n",
    "project_name = 'All700+BC'\n",
    "\n",
    "# Фильтр по медиа отсутствует\n",
    "media_filter = None\n",
    "\n",
    "# Задаем демографическую группу в demo_filter\n",
    "demo_filter = \"CITY_TYPE2 = 1 AND INCOME_GROUPS IN (2, 3)\"\n",
    "\n",
    "# Задаем список статистик для расчета\n",
    "statistics=[\"UnwReach\"]\n",
    "\n",
    "# Указываем порядок группировки, в нашем случае ее нет\n",
    "structure =  {\n",
    "    \"usetype\": False\n",
    "}\n",
    "\n",
    "# Формируем из-заданных параметров заданние для Responsum в формате JSON\n",
    "task_json = rtask.build_audience_task(task_name=project_name, facility=facility, date_from=date_from, date_to=date_to, usetype_filter=usetypes, population_filter=population, ages_filter=ages, media_filter=media_filter, demo_filter=demo_filter, statistics=statistics, structure=structure)\n",
    "# Отправляем задание на расчет и ждем выполнения\n",
    "task_audience = rtask.wait_task(rtask.send_audience_task(task_json))\n",
    "# Получаем результат\n",
    "df_total = rtask.result2table(rtask.get_result(task_audience), project_name=project_name)\n",
    "df_total"
   ]
  }
 ],
 "metadata": {
  "kernelspec": {
   "display_name": "Python 3",
   "language": "python",
   "name": "python3"
  },
  "language_info": {
   "codemirror_mode": {
    "name": "ipython",
    "version": 3
   },
   "file_extension": ".py",
   "mimetype": "text/x-python",
   "name": "python",
   "nbconvert_exporter": "python",
   "pygments_lexer": "ipython3",
   "version": "3.7.7"
  }
 },
 "nbformat": 4,
 "nbformat_minor": 4
}
