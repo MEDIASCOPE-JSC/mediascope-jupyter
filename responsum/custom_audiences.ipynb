{
 "cells": [
  {
   "cell_type": "markdown",
   "metadata": {},
   "source": [
    "# Пользовательские демографические группы\n",
    "Ноутбук с примерами формирования пользовательских демографических групп.\n",
    "\n",
    "Общие принципы формирования демографических групп:\n",
    "- формируются на основе значений каталога социально-демографических переменных\n",
    "- доступные операторы:\n",
    "    ```\n",
    "    = (равенство)\n",
    "    != (неравенство)\n",
    "    > (больше)\n",
    "    < (меньше)\n",
    "    AND (И)\n",
    "    OR (ИЛИ)\n",
    "    IN() (вхождение в список значений)\n",
    "    NOTIN() (невхождение в список значений)\n",
    "    ```\n",
    "\n",
    "Рассмотрим подробнее на примере следующих демографических групп:\n",
    "1. Мужчины 35-44 лет\n",
    "2. Мужчины 18-24 лет или женщины 25-34 лет\n",
    "3. Все 20-56 лет\n",
    "4. 25-54 не руководители\n",
    "5. Жители городов России 700 000+ со средним уровнем дохода или выше среднего (BC)"
   ]
  },
  {
   "cell_type": "markdown",
   "metadata": {},
   "source": [
    "## Инициализация\n",
    "Загрузим библиотеки, которые нам помогут обращаться к API Responsum и работать с данными"
   ]
  },
  {
   "cell_type": "code",
   "execution_count": null,
   "metadata": {},
   "outputs": [],
   "source": [
    "%reload_ext autoreload\n",
    "%autoreload 2\n",
    "\n",
    "import os\n",
    "import re\n",
    "import json\n",
    "import datetime\n",
    "import time\n",
    "import pandas as pd\n",
    "from pathlib import Path\n",
    "from IPython.display import JSON\n",
    "\n",
    "from mediascope_api.core import net as msnet\n",
    "from mediascope_api.responsum import catalogs as rc\n",
    "from mediascope_api.responsum import tasks as rt"
   ]
  },
  {
   "cell_type": "code",
   "execution_count": null,
   "metadata": {},
   "outputs": [],
   "source": [
    "# зададим тип установки\n",
    "facility = 'mobile' # возможные значения: 'desktop', 'mobile', 'desktop_pre'\n",
    "\n",
    "# создадим объекты для работы с каталогами и заданиями,\n",
    "# а так же загрузим каталоги\n",
    "rcats = rc.ResponsumCats(facility)\n",
    "rtask = rt.ResponsumTask(facility)\n",
    "\n",
    "print(f\"Объектов в media-каталоге: {rcats.holdings.shape[0]}\")"
   ]
  },
  {
   "cell_type": "markdown",
   "metadata": {},
   "source": [
    "## Список социально-демографических переменных\n",
    "Для формирования синтаксиса демографических групп нам понадобится каталог социально-демографических переменных."
   ]
  },
  {
   "cell_type": "markdown",
   "metadata": {},
   "source": [
    "Загрузим каталог (подробнее работа с каталогами описана в [ноутбуке](catalogs.ipynb#catalogs_site_avito))"
   ]
  },
  {
   "cell_type": "code",
   "execution_count": null,
   "metadata": {},
   "outputs": [],
   "source": [
    "demo_cat = rcats.get_demo()\n",
    "demo_cat"
   ]
  },
  {
   "cell_type": "markdown",
   "metadata": {},
   "source": [
    "Для удобства можно выгрузить каталог в Excel и работать с ним там. Файл сохраняется в директорию с ноутбуком."
   ]
  },
  {
   "cell_type": "code",
   "execution_count": null,
   "metadata": {},
   "outputs": [],
   "source": [
    "writer = pd.ExcelWriter('demo_cat.xlsx')\n",
    "demo_cat.to_excel(writer, 'demo_cat', index=False)\n",
    "writer.save()"
   ]
  },
  {
   "cell_type": "markdown",
   "metadata": {},
   "source": [
    "### Расчет аудитории Интернета\n",
    "\n",
    "Расчет данных по всем проектам займет достаточно много времени у Responsum, поэтому воспользуемся технической страницей WEB-Index, в которой учитывается вся аудитория.\n",
    "Техническая страница WEB-Index __site_id = 101__\n",
    "\n",
    "Важно учитывать в случае расчета статистики OTS:\n",
    "- если считать с ограничением по Технической странице в медиа-фильтре, то полученная статистика OTS будет показывать общее количество заходов в Интернет за указанный период;\n",
    "- если считать без ограничений в медиа-фильтре (media_filter = None), то полученная статистика OTS будет показывать общее количество загрузок страниц интернет-проектов, содержащихся в вашем медиа-каталоге, за указанный период;\n",
    "- статистика OTS корректна для работы с десктопными данными и данными по рекламным кампаниям."
   ]
  },
  {
   "cell_type": "markdown",
   "metadata": {},
   "source": [
    "\n",
    "## 1. Мужчины 35-44 лет"
   ]
  },
  {
   "cell_type": "markdown",
   "metadata": {},
   "source": [
    "Из каталога видим, что для отбора мужчин нам нужно значение 1 переменной SEX\n",
    "```\n",
    "    SEX = 1\n",
    "```\n",
    "Возрастной группе 35-44 соответствует значение 4 переменной AGE_GROUPS\n",
    "```\n",
    "    AGE_GROUPS = 4\n",
    "```\n",
    "Объединяем выражения через оператор AND\n",
    "```\n",
    "    SEX = 1 AND AGE_GROUPS = 4\n",
    "```"
   ]
  },
  {
   "cell_type": "markdown",
   "metadata": {},
   "source": [
    "### Задаем параметры расчета"
   ]
  },
  {
   "cell_type": "code",
   "execution_count": null,
   "metadata": {},
   "outputs": [],
   "source": [
    "# задаем период расчета\n",
    "date_from = '2020-05-01'\n",
    "date_to = '2020-05-31'\n",
    "\n",
    "# задаем типы пользования Интернетом\n",
    "usetypes = rcats.get_usetype('all')\n",
    "\n",
    "# проверяем, что значения параметров установлены верно\n",
    "rtask.save_report_info(facility, date_from, date_to, usetypes)\n",
    "rtask.show_report_info()\n",
    "print(f\"Объектов в media-каталоге: {rcats.holdings.shape[0]}\")"
   ]
  },
  {
   "cell_type": "markdown",
   "metadata": {},
   "source": [
    "### Формируем задание на расчет\n",
    "\n",
    "В demo_filter передаем сформированный синтаксиc переменной в кавычках"
   ]
  },
  {
   "cell_type": "code",
   "execution_count": null,
   "metadata": {},
   "outputs": [],
   "source": [
    "# задаем название проекта для отображения в DataFrame\n",
    "project_name = 'M35-44'\n",
    "\n",
    "# задаем техническую страницу WEB-Index в качестве медиа фильтра\n",
    "media_filter = 'site = 101'\n",
    "\n",
    "# задаем социально-демографическую группу в demo_filter\n",
    "demo_filter = \"SEX = 1 AND AGE_GROUPS = 4\"\n",
    "\n",
    "# задаем список статистик для расчета\n",
    "statistics = [\"UnwReach\"]\n",
    "\n",
    "# указываем порядок группировки, в нашем случае ее нет\n",
    "structure =  {\n",
    "    \"usetype\": False\n",
    "    }\n",
    "\n",
    "# формируем из заданных параметров задание для Responsum в формате JSON\n",
    "task_json = rtask.build_audience_task(task_name=project_name, facility=facility, date_from=date_from, date_to=date_to, usetype_filter=usetypes, media_filter=media_filter, demo_filter=demo_filter, statistics=statistics, structure=structure)\n",
    "\n",
    "# отправляем задание на расчет и ждем выполнения\n",
    "task_audience = rtask.wait_task(rtask.send_audience_task(task_json))\n",
    "\n",
    "# получаем результат\n",
    "df_total = rtask.result2table(rtask.get_result(task_audience), project_name=project_name)\n",
    "df_total"
   ]
  },
  {
   "cell_type": "markdown",
   "metadata": {},
   "source": [
    "## 2. Мужчины 18-24 лет или женщины 25-34 лет"
   ]
  },
  {
   "cell_type": "markdown",
   "metadata": {},
   "source": [
    "Возвращаемся к каталогу социально-демографических переменных. Для отбора мужчин 18-24 лет нам нужно значение 1 переменной SEX и значение 2 переменной AGE_GROUPS\n",
    "```\n",
    "SEX = 1 AND AGE_GROUPS = 2\n",
    "```\n",
    "Для отбора женщин 25-34 лет синтаксис будет следующим:\n",
    "```\n",
    "SEX = 2 AND AGE_GROUPS = 3\n",
    "```\n",
    "Объединяем через оператор OR\n",
    "```\n",
    "(SEX = 1 AND AGE_GROUPS = 2) OR (SEX = 2 AND AGE_GROUPS = 3)\n",
    "```"
   ]
  },
  {
   "cell_type": "markdown",
   "metadata": {},
   "source": [
    "### Задаем параметры расчета"
   ]
  },
  {
   "cell_type": "code",
   "execution_count": null,
   "metadata": {},
   "outputs": [],
   "source": [
    "# задаем период расчета\n",
    "date_from = '2020-05-01'\n",
    "date_to = '2020-05-31'\n",
    "\n",
    "# задаем типы пользования Интернетом\n",
    "usetypes = rcats.get_usetype('all')\n",
    "\n",
    "# проверяем, что значения параметров установлены верно\n",
    "rtask.save_report_info(facility, date_from, date_to, usetypes)\n",
    "rtask.show_report_info()\n",
    "print(f\"Объектов в media-каталоге: {rcats.holdings.shape[0]}\")"
   ]
  },
  {
   "cell_type": "markdown",
   "metadata": {},
   "source": [
    "### Формируем задание на расчет"
   ]
  },
  {
   "cell_type": "markdown",
   "metadata": {},
   "source": [
    "В demo_filter передаем сформированный синтаксиc переменной в кавычках"
   ]
  },
  {
   "cell_type": "code",
   "execution_count": null,
   "metadata": {},
   "outputs": [],
   "source": [
    "# задаем название проекта для отображения в DataFrame\n",
    "project_name = 'M18-24_F25-34'\n",
    "\n",
    "# задаем техническую страницу WEB-Index в качестве медиа фильтра\n",
    "media_filter = 'site = 101'\n",
    "\n",
    "# задаем социально-демографическую группу в demo_filter\n",
    "demo_filter = \"(SEX = 1 AND AGE_GROUPS = 2) OR (SEX = 2 AND AGE_GROUPS = 3)\"\n",
    "\n",
    "# задаем список статистик для расчета\n",
    "statistics = [\"UnwReach\"]\n",
    "\n",
    "# Указываем порядок группировки, в нашем случае ее нет\n",
    "structure =  {\n",
    "    \"usetype\": False\n",
    "    }\n",
    "\n",
    "# формируем из заданных параметров задание для Responsum в формате JSON\n",
    "task_json = rtask.build_audience_task(task_name=project_name, facility=facility, date_from=date_from, date_to=date_to, usetype_filter=usetypes, media_filter=media_filter, demo_filter=demo_filter, statistics=statistics, structure=structure)\n",
    "\n",
    "# отправляем задание на расчет и ждем выполнения\n",
    "task_audience = rtask.wait_task(rtask.send_audience_task(task_json))\n",
    "\n",
    "# получаем результат\n",
    "df_total = rtask.result2table(rtask.get_result(task_audience), project_name=project_name)\n",
    "df_total"
   ]
  },
  {
   "cell_type": "markdown",
   "metadata": {},
   "source": [
    "## 3. Все 20-56 лет"
   ]
  },
  {
   "cell_type": "markdown",
   "metadata": {},
   "source": [
    "Возраст 20-56 лет не получится собрать из переменной AGE_GROUPS, нам понадобится переменная AGE.\n",
    "\n",
    "Зададим диапазон возраста.\n",
    "Можно использовать только операторы строгого сравнения \"больше\"(>) и \"меньше\"(<), поэтому наше выражение будет выглядеть так:\n",
    "```\n",
    "AGE > 19 AND AGE < 57\n",
    "```"
   ]
  },
  {
   "cell_type": "markdown",
   "metadata": {},
   "source": [
    "### Задаем параметры расчета"
   ]
  },
  {
   "cell_type": "code",
   "execution_count": null,
   "metadata": {},
   "outputs": [],
   "source": [
    "# задаем период расчета\n",
    "date_from = '2020-05-01'\n",
    "date_to = '2020-05-31'\n",
    "\n",
    "# задаем типы пользования Интернетом\n",
    "usetypes = rcats.get_usetype('all')\n",
    "\n",
    "# Проверяем, что значения параметров установлены верно\n",
    "rtask.save_report_info(facility, date_from, date_to, usetypes)\n",
    "rtask.show_report_info()\n",
    "print(f\"Объектов в media-каталоге: {rcats.holdings.shape[0]}\")"
   ]
  },
  {
   "cell_type": "markdown",
   "metadata": {},
   "source": [
    "### Формируем задание на расчет"
   ]
  },
  {
   "cell_type": "markdown",
   "metadata": {},
   "source": [
    "В demo_filter передаем сформированный синтаксиc переменной в кавычках"
   ]
  },
  {
   "cell_type": "code",
   "execution_count": null,
   "metadata": {},
   "outputs": [],
   "source": [
    "# задаем название проекта для отображения в DataFrame\n",
    "project_name = 'All20-56'\n",
    "\n",
    "# задаем техническую страницу WEB-Index в качестве медиа фильтра\n",
    "media_filter = 'site = 101'\n",
    "\n",
    "# задаем социально-демографическую группу в demo_filter\n",
    "demo_filter = \"(AGE > 19 AND AGE < 57)\"\n",
    "\n",
    "# задаем список статистик для расчета\n",
    "statistics = [\"UnwReach\"]\n",
    "\n",
    "# указываем порядок группировки, в нашем случае ее нет\n",
    "structure =  {\n",
    "    \"usetype\": False\n",
    "}\n",
    "\n",
    "# формируем из заданных параметров задание для Responsum в формате JSON\n",
    "task_json = rtask.build_audience_task(task_name=project_name, facility=facility, date_from=date_from, date_to=date_to, usetype_filter=usetypes, media_filter=media_filter, demo_filter=demo_filter, statistics=statistics, structure=structure)\n",
    "\n",
    "# отправляем задание на расчет и ждем выполнения\n",
    "task_audience = rtask.wait_task(rtask.send_audience_task(task_json))\n",
    "\n",
    "# получаем результат\n",
    "df_total = rtask.result2table(rtask.get_result(task_audience), project_name=project_name)\n",
    "df_total"
   ]
  },
  {
   "cell_type": "markdown",
   "metadata": {},
   "source": [
    "## 4. 25-54 не руководители"
   ]
  },
  {
   "cell_type": "markdown",
   "metadata": {},
   "source": [
    "Для отбора возрастной группы 25-54 нам понадобятся значения 3, 4 и 5 переменной AGE_GROUPS. Для упрощения мы не будем составлять три условия через OR, а воспользуемся оператором IN\n",
    "```\n",
    "AGE_GROUPS IN (3, 4, 5)\n",
    "```\n",
    "Условие \"не руководители\" можно также коротко задать при помощи оператора неравенства \"!=\"\n",
    "```\n",
    "OCCUPATION2 != 1\n",
    "```\n",
    "Объединяем через оператор AND\n",
    "```\n",
    "AGE_GROUPS IN (3, 4, 5) AND OCCUPATION2 != 1\n",
    "```"
   ]
  },
  {
   "cell_type": "markdown",
   "metadata": {},
   "source": [
    "### Задаем параметры расчета"
   ]
  },
  {
   "cell_type": "code",
   "execution_count": null,
   "metadata": {},
   "outputs": [],
   "source": [
    "# задаем период расчета\n",
    "date_from = '2020-05-01'\n",
    "date_to = '2020-05-31'\n",
    "\n",
    "# задаем типы пользования Интернетом\n",
    "usetypes = rcats.get_usetype('all')\n",
    "\n",
    "# проверяем, что значения параметров установлены верно\n",
    "rtask.save_report_info(facility, date_from, date_to, usetypes)\n",
    "rtask.show_report_info()\n",
    "print(f\"Объектов в media-каталоге: {rcats.holdings.shape[0]}\")"
   ]
  },
  {
   "cell_type": "markdown",
   "metadata": {},
   "source": [
    "### Формируем задание на расчет"
   ]
  },
  {
   "cell_type": "markdown",
   "metadata": {},
   "source": [
    "В demo_filter передаем сформированный синтаксиc переменной в кавычках"
   ]
  },
  {
   "cell_type": "code",
   "execution_count": null,
   "metadata": {},
   "outputs": [],
   "source": [
    "# задаем название проекта для отображения в DataFrame\n",
    "project_name = '25-54_not_dir'\n",
    "\n",
    "# задаем техническую страницу WEB-Index в качестве медиа фильтра\n",
    "media_filter = 'site = 101'\n",
    "\n",
    "# задаем социально-демографическую группу в demo_filter\n",
    "demo_filter = \"AGE_GROUPS IN (3, 4, 5) AND OCCUPATION2 != 1\"\n",
    "\n",
    "# задаем список статистик для расчета\n",
    "statistics = [\"UnwReach\"]\n",
    "\n",
    "# указываем порядок группировки, в нашем случае ее нет\n",
    "structure =  {\n",
    "    \"usetype\": False\n",
    "    }\n",
    "\n",
    "# формируем из заданных параметров задание для Responsum в формате JSON\n",
    "task_json = rtask.build_audience_task(task_name=project_name, facility=facility, date_from=date_from, date_to=date_to, usetype_filter=usetypes, media_filter=media_filter, demo_filter=demo_filter, statistics=statistics, structure=structure)\n",
    "\n",
    "# отправляем задание на расчет и ждем выполнения\n",
    "task_audience = rtask.wait_task(rtask.send_audience_task(task_json))\n",
    "\n",
    "# получаем результат\n",
    "df_total = rtask.result2table(rtask.get_result(task_audience), project_name=project_name)\n",
    "df_total"
   ]
  },
  {
   "cell_type": "markdown",
   "metadata": {},
   "source": [
    "## 5. Жители городов России 700 000+ со средним уровнем дохода или выше среднего (BC)"
   ]
  },
  {
   "cell_type": "markdown",
   "metadata": {},
   "source": [
    "Численность населения городов России 700 000+ зададим при помощи переменной CITY_TYPE2\n",
    "```\n",
    "CITY_TYPE2 = 1\n",
    "```\n",
    "Для ограничения на уровень дохода BC (средний и выше среднего) нам потребуется переменная INCOME_GROUPS\n",
    "```\n",
    "INCOME_GROUPS IN (2, 3)\n",
    "```\n",
    "Объединим выражения через оператор AND\n",
    "```\n",
    "CITY_TYPE2 = 1 AND INCOME_GROUPS IN (2, 3)\n",
    "```"
   ]
  },
  {
   "cell_type": "markdown",
   "metadata": {},
   "source": [
    "### Задаем параметры расчета"
   ]
  },
  {
   "cell_type": "code",
   "execution_count": null,
   "metadata": {},
   "outputs": [],
   "source": [
    "# задаем период расчета\n",
    "date_from = '2020-05-01'\n",
    "date_to = '2020-05-31'\n",
    "\n",
    "# задаем типы пользования Интернетом\n",
    "usetypes = rcats.get_usetype('all')\n",
    "\n",
    "# проверяем, что значения параметров установлены верно\n",
    "rtask.save_report_info(facility, date_from, date_to, usetypes)\n",
    "rtask.show_report_info()\n",
    "print(f\"Объектов в media-каталоге: {rcats.holdings.shape[0]}\")"
   ]
  },
  {
   "cell_type": "markdown",
   "metadata": {},
   "source": [
    "### Формируем задание на расчет"
   ]
  },
  {
   "cell_type": "markdown",
   "metadata": {},
   "source": [
    "В demo_filter передаем сформированный синтаксиc переменной в кавычках"
   ]
  },
  {
   "cell_type": "code",
   "execution_count": null,
   "metadata": {},
   "outputs": [],
   "source": [
    "# задаем название проекта для отображения в DataFrame\n",
    "project_name = 'All700+BC'\n",
    "\n",
    "# задаем техническую страницу WEB-Index в качестве медиа фильтра\n",
    "media_filter = 'site = 101'\n",
    "\n",
    "# задаем социально-демографическую группу в demo_filter\n",
    "demo_filter = \"CITY_TYPE2 = 1 AND INCOME_GROUPS IN (2, 3)\"\n",
    "\n",
    "# задаем список статистик для расчета\n",
    "statistics = [\"UnwReach\"]\n",
    "\n",
    "# указываем порядок группировки, в нашем случае ее нет\n",
    "structure =  {\n",
    "    \"usetype\": False\n",
    "}\n",
    "\n",
    "# формируем из заданных параметров задание для Responsum в формате JSON\n",
    "task_json = rtask.build_audience_task(task_name=project_name, facility=facility, date_from=date_from, date_to=date_to, usetype_filter=usetypes, media_filter=media_filter, demo_filter=demo_filter, statistics=statistics, structure=structure)\n",
    "\n",
    "# отправляем задание на расчет и ждем выполнения\n",
    "task_audience = rtask.wait_task(rtask.send_audience_task(task_json))\n",
    "\n",
    "# получаем результат\n",
    "df_total = rtask.result2table(rtask.get_result(task_audience), project_name=project_name)\n",
    "df_total"
   ]
  }
 ],
 "metadata": {
  "kernelspec": {
   "display_name": "Python 3",
   "language": "python",
   "name": "python3"
  },
  "language_info": {
   "codemirror_mode": {
    "name": "ipython",
    "version": 3
   },
   "file_extension": ".py",
   "mimetype": "text/x-python",
   "name": "python",
   "nbconvert_exporter": "python",
   "pygments_lexer": "ipython3",
   "version": "3.7.3"
  }
 },
 "nbformat": 4,
 "nbformat_minor": 4
}
