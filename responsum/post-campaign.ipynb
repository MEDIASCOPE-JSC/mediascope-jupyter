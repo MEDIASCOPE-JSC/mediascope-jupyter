{
 "cells": [
  {
   "cell_type": "markdown",
   "metadata": {},
   "source": [
    "# Post campaign\n",
    "Пример анализа аудитории рекламной кампании.\n",
    "\n",
    "## Описание задачи\n",
    "\n",
    "Посчитаем аудиторию рекламных кампаний для бренда __Х__ за май-июнь 2020 года.\n",
    "\n",
    "Общие параметры:\n",
    "- Период: 1 мая - 30 июня 2020 года\n",
    "- География: Россия 100 000+\n",
    "- Население: 12+\n",
    "- Фильтр по типу использования: нет, считаем по всем (Web Desktop, Web Mobile, App Online, App Offline).\n",
    "\n",
    "Статистики:\n",
    "- Unweighted Reach (UnwReach)\n",
    "- Reach\n",
    "- Reach% (ReachPer)\n",
    "- Reach N Distribution 1-2 (ReachN)\n",
    "- Reach N Distribution 3-4 (ReachN)\n",
    "- Reach N Distribution 5+ (ReachN)\n"
   ]
  },
  {
   "cell_type": "markdown",
   "metadata": {},
   "source": [
    "## Инициализация\n",
    "\n",
    "При построении отчета первый шаг в любом ноутбуке - загрузка библиотек, которые помогут обращаться к API Responsum и работать с данными.\n",
    "\n",
    "Выполните следующую ячейку, для этого перейдите в нее и нажмите Ctrl+Enter"
   ]
  },
  {
   "cell_type": "code",
   "execution_count": null,
   "metadata": {
    "tags": []
   },
   "outputs": [],
   "source": [
    "%reload_ext autoreload\n",
    "%autoreload 2\n",
    "\n",
    "import os\n",
    "import re\n",
    "import json\n",
    "import datetime\n",
    "import time\n",
    "import pandas as pd\n",
    "#import matplotlib.pyplot as plt\n",
    "from pathlib import Path\n",
    "from bokeh.io import output_notebook, show\n",
    "from bokeh.plotting import figure\n",
    "from IPython.display import JSON\n",
    "from bokeh.models import HoverTool\n",
    "from bokeh.layouts import gridplot\n",
    "import logging\n",
    "\n",
    "# from ipywidgets import interact, interactive, fixed, interact_manual\n",
    "# import ipywidgets as widgets\n",
    "from mediascope_api.core import net as msnet\n",
    "from mediascope_api.responsum import catalogs as rc\n",
    "from mediascope_api.responsum import tasks as rt\n",
    "\n",
    "logging.basicConfig(format='%(asctime)s %(levelname)s:%(message)s', level=logging.INFO, datefmt='%I:%M:%S')\n",
    "logger = logging.getLogger()\n",
    "logger.setLevel(logging.INFO)\n",
    "\n",
    "pd.set_option(\"display.max_rows\", 200)\n",
    "# pd.set_option(\"display.max_colwidth\", 50)\n",
    "# pd.set_option(\"display.precision\", 6)\n",
    "output_notebook()"
   ]
  },
  {
   "cell_type": "markdown",
   "metadata": {},
   "source": [
    "### Общие параметры для задания\n",
    "\n",
    "Для начала зададим общие параметры"
   ]
  },
  {
   "cell_type": "code",
   "execution_count": null,
   "metadata": {
    "tags": []
   },
   "outputs": [],
   "source": [
    "# задаем параметры\n",
    "# выбираем тип установки mobile, т.к. в расчетах участвуют все типы устройств (Web Desktop, Web Mobile, App Online, App Offline)\n",
    "facility = 'mobile' # возможные значения: 'desktop', 'mobile', 'desktop_pre'\n",
    "\n",
    "# создаем объекты для работы с каталогами и заданиями,\n",
    "# а так же загружаем каталоги\n",
    "rcats = rc.ResponsumCats(facility)\n",
    "rtask = rt.ResponsumTask(facility)\n",
    "\n",
    "# задаем период расчета\n",
    "date_from = '2020-05-01'\n",
    "date_to = '2020-06-30'\n",
    "\n",
    "# задаем типы пользования Интернетом\n",
    "usetypes = rcats.get_usetype('all')\n",
    "\n",
    "# проверяем, что значения параметров установлены верно\n",
    "rtask.save_report_info(facility, date_from, date_to, usetypes)\n",
    "rtask.show_report_info()\n",
    "print(f\"Объектов в media-каталоге: {rcats.holdings.shape[0]}\")"
   ]
  },
  {
   "cell_type": "markdown",
   "metadata": {},
   "source": [
    "### Получим ID бренда\n",
    "Для построения отчета нам необходимо получить идентификатор бренда, для этого воспользуемся ноутбуком, в котором приведены примеры работы с [каталогами](catalogs.ipynb)."
   ]
  },
  {
   "cell_type": "markdown",
   "metadata": {},
   "source": [
    "## Задание\n",
    "Перейдем к формированию задания.\n",
    "\n",
    "### Задание №1. Аудитория рекламных кампаний\n"
   ]
  },
  {
   "cell_type": "code",
   "execution_count": null,
   "metadata": {},
   "outputs": [],
   "source": [
    "# задаем название проекта для отображения в DataFrame\n",
    "project_name = 'х'\n",
    "\n",
    "# в медиа фильтр нужно задать идентификатор вашего бренда\n",
    "media_filter = \"(brand = )\"\n",
    "\n",
    "# фильтр по демографии отсутствует\n",
    "demo_filter = None\n",
    "\n",
    "# задаем список статистик для расчета\n",
    "statistics = [\"UnwReach\", \"Reach\", \"ReachPer\", \"ReachN\"]\n",
    "\n",
    "# так как в отчете указана статистика ReachN, зададим для неё шкалу:\n",
    "reach_n = [\n",
    "         {\"from\": 1, \"to\": 2},\n",
    "         {\"from\": 3, \"to\": 4},\n",
    "         {\"from\": 5, \"to\": 255}\n",
    "          ]\n",
    "\n",
    "# указываем порядок группировки по брендам и позициям \n",
    "structure =  {\n",
    "    \"usetype\": False,\n",
    "    \"media\": [\"brand\", \"position\"]\n",
    "  }\n",
    "\n",
    "# формируем из заданных параметров задание для Responsum в формате JSON\n",
    "task_json = rtask.build_audience_task(task_name=project_name, facility=facility, date_from=date_from, date_to=date_to, usetype_filter=usetypes, media_filter=media_filter, demo_filter=demo_filter, statistics=statistics, structure=structure, reach_n=reach_n)\n",
    "\n",
    "# отправляем задание на расчет и ждем выполнения\n",
    "task_audience = rtask.wait_task(rtask.send_audience_task(task_json))\n",
    "\n",
    "# получаем результат\n",
    "df_project = rtask.result2table(rtask.get_result(task_audience), project_name=project_name)\n",
    "df_result = rtask.rename_reachn_columns(reach_n, df_project)\n",
    "df_result"
   ]
  },
  {
   "cell_type": "markdown",
   "metadata": {},
   "source": [
    "## Экспорт в Excel"
   ]
  },
  {
   "cell_type": "code",
   "execution_count": null,
   "metadata": {},
   "outputs": [],
   "source": [
    "writer = pd.ExcelWriter(rtask.get_excel_filename('post-campaign-Х'))\n",
    "df_info = rtask.get_report_info()\n",
    "df_result.to_excel(writer, 'Report', index=False)\n",
    "df_info.to_excel(writer, 'Info', index=False)\n",
    "writer.save()"
   ]
  }
 ],
 "metadata": {
  "kernelspec": {
   "display_name": "Python 3",
   "language": "python",
   "name": "python3"
  },
  "language_info": {
   "codemirror_mode": {
    "name": "ipython",
    "version": 3
   },
   "file_extension": ".py",
   "mimetype": "text/x-python",
   "name": "python",
   "nbconvert_exporter": "python",
   "pygments_lexer": "ipython3",
   "version": "3.8.8"
  }
 },
 "nbformat": 4,
 "nbformat_minor": 4
}
