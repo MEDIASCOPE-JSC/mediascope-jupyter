{
 "cells": [
  {
   "cell_type": "markdown",
   "metadata": {},
   "source": [
    "# Audience\n",
    "Пример отчета по расчету аудитории интернет-проектов (WEB-Index).\n",
    "\n",
    "## Описание задачи\n",
    "\n",
    "Посчитаем аудиторию по интернет-проектам:\n",
    "- данные по одному проекту Avito.ru\n",
    "- данные по двум проектам Avito.ru, Ivi.ru, т.е. количество людей, которые посетили хотя бы один проект (Avito.ru)OR(Ivi.ru)\n",
    "- данные по Total Internet - Total\n",
    "\n",
    "Общие параметры:\n",
    "- Период: Май 2020\n",
    "- География: Россия 0+\n",
    "- Население: 12+\n",
    "- Тип использования: ограничения нет, считаем по всем (Web Desktop, Web Mobile, App Online, App Offline)\n",
    "\n",
    "Статистики:\n",
    "- Unweighted Reach (UnwReach)\n",
    "- Reach\n",
    "- Reach% (ReachPer)\n",
    "- Average Daily Reach (ADR)\n",
    "- Average Daily Reach% (ADRPer)\n",
    "- Average Weekly Reach (AWR)\n",
    "- Average Weekly Reach% (AWRPer)\n",
    "\n",
    "Для расчета данного отчета потребуется сформировать несколько заданий для Responsum.\n",
    "В отчете присутствуют кастомные переменные (Avito.ru, Ivi.ru), а также Total Internet - все это отдельные задания.\n"
   ]
  },
  {
   "cell_type": "markdown",
   "metadata": {},
   "source": [
    "## Инициализация\n",
    "\n",
    "При построении отчета первый шаг в любом ноутбуке - загрузка библиотек, которые помогут обращаться к API Responsum и работать с данными.\n",
    "\n",
    "Выполните следующую ячейку, для этого перейдите в нее и нажмите Ctrl+Enter"
   ]
  },
  {
   "cell_type": "code",
   "execution_count": null,
   "metadata": {
    "tags": []
   },
   "outputs": [],
   "source": [
    "%reload_ext autoreload\n",
    "%autoreload 2\n",
    "\n",
    "import os\n",
    "import re\n",
    "import json\n",
    "import datetime\n",
    "import time\n",
    "import pandas as pd\n",
    "#import matplotlib.pyplot as plt\n",
    "from pathlib import Path\n",
    "from bokeh.io import output_notebook, show\n",
    "from bokeh.plotting import figure\n",
    "from IPython.display import JSON\n",
    "from bokeh.models import HoverTool\n",
    "from bokeh.layouts import gridplot\n",
    "import logging\n",
    "\n",
    "from mediascope_api.core import net as msnet\n",
    "from mediascope_api.responsum import catalogs as rc\n",
    "from mediascope_api.responsum import tasks as rt\n",
    "\n",
    "logging.basicConfig(format='%(asctime)s %(levelname)s:%(message)s', level=logging.INFO, datefmt='%I:%M:%S')\n",
    "logger = logging.getLogger()\n",
    "logger.setLevel(logging.INFO)\n",
    "\n",
    "# pd.set_option(\"display.max_rows\", 200)\n",
    "# pd.set_option(\"display.max_colwidth\", 50)\n",
    "# pd.set_option(\"display.precision\", 6)\n",
    "output_notebook()"
   ]
  },
  {
   "cell_type": "markdown",
   "metadata": {},
   "source": [
    "## Формируем задания\n",
    "\n",
    "Необходимо сформировать три задания для Responsum:\n",
    "- расчет аудитории проекта Avito.ru\n",
    "- расчет совокупной аудитории проектов Avito.ru, Ivi.ru\n",
    "- расчет аудитории Total Internet"
   ]
  },
  {
   "cell_type": "markdown",
   "metadata": {},
   "source": [
    "### Общие параметры для заданий\n",
    "\n",
    "Для начала зададим общие параметры"
   ]
  },
  {
   "cell_type": "code",
   "execution_count": null,
   "metadata": {
    "tags": []
   },
   "outputs": [],
   "source": [
    "# задаем параметры\n",
    "# выбираем тип установки mobile, т.к. в расчетах участвуют все типы устройств (Web Desktop, Web Mobile, App Online, App Offline)\n",
    "facility = 'mobile' # возможные значения: 'desktop', 'mobile', 'desktop_pre'\n",
    "\n",
    "# создаем объекты для работы с каталогами и заданиями,\n",
    "# а так же загружаем каталоги\n",
    "rcats = rc.ResponsumCats(facility)\n",
    "rtask = rt.ResponsumTask(facility)\n",
    "\n",
    "# задаем период расчета\n",
    "date_from = '2020-05-01'\n",
    "date_to = '2020-05-31'\n",
    "\n",
    "# задаем типы пользования Интернетом\n",
    "usetypes = rcats.get_usetype('all')\n",
    "\n",
    "# проверяем, что значения параметров установлены верно\n",
    "rtask.save_report_info(facility, date_from, date_to, usetypes)\n",
    "rtask.show_report_info()\n",
    "print(f\"Объектов в media-каталоге: {rcats.holdings.shape[0]}\")"
   ]
  },
  {
   "cell_type": "markdown",
   "metadata": {},
   "source": [
    "### Получим ID проектов\n",
    "Для построения отчета необходимо получить идентификаторы сайтов __Avito.ru__ и __Ivi.ru__.\n",
    "Для этого воспользуемся ноутбуком, в котором приведены примеры работы с [каталогами](catalogs.ipynb#catalogs_site_avito):\n",
    "\n",
    "- Avito.ru  site_id = 15828\n",
    "- Ivi.ru  site_id = 15869\n"
   ]
  },
  {
   "cell_type": "markdown",
   "metadata": {},
   "source": [
    "## Задания\n",
    "\n",
    "Перейдем к формированию заданий\n",
    "\n",
    "# Дополнительный фильтр по демографии отсутствует\n",
    "media_filter = None\n",
    "\n",
    "### Задание №1. Расчет аудитории проекта Avito.ru"
   ]
  },
  {
   "cell_type": "code",
   "execution_count": null,
   "metadata": {},
   "outputs": [],
   "source": [
    "# задаем название проекта для отображения в DataFrame\n",
    "project_name = 'avito.ru'\n",
    "\n",
    "# задаем медиа фильтр, в нашем случае это ID проекта Avito.ru\n",
    "media_filter = \"site = 15828\"\n",
    "\n",
    "# дополнительный фильтр по демографии отсутствует\n",
    "demo_filter = None\n",
    "\n",
    "# задаем список статистик для расчета\n",
    "statistics = [\"UnwReach\", \"Reach\", \"ADR\", \"AWR\", \"ReachPer\", \"ADRPer\", \"AWRPer\"]\n",
    "\n",
    "# указываем порядок группировки, в нашем случае ее нет\n",
    "structure =  {\n",
    "    \"usetype\": False,\n",
    "    }\n",
    "\n",
    "# формируем из заданных параметров задание для Responsum в формате JSON\n",
    "task_json = rtask.build_audience_task(task_name=project_name, facility=facility, date_from=date_from, date_to=date_to, usetype_filter=usetypes, media_filter=media_filter, demo_filter=demo_filter, statistics=statistics, structure=structure)\n",
    "\n",
    "# отправляем задание на расчет и ждем выполнения\n",
    "task_audience = rtask.wait_task(rtask.send_audience_task(task_json))\n",
    "\n",
    "# получаем результат\n",
    "df_avito = rtask.result2table(rtask.get_result(task_audience), project_name=project_name)\n",
    "df_avito"
   ]
  },
  {
   "cell_type": "markdown",
   "metadata": {},
   "source": [
    "### Задание №2. Расчет совокупной аудитории проектов Avito.ru и Ivi.ru"
   ]
  },
  {
   "cell_type": "code",
   "execution_count": null,
   "metadata": {},
   "outputs": [],
   "source": [
    "# задаем название проекта для отображения в DataFrame\n",
    "project_name = 'avito.ru+ivi.ru'\n",
    "\n",
    "# задаем медиа фильтр, в нашем случае это ID проектов Avito.ru и Ivi.ru\n",
    "media_filter = rtask.get_sql_from_list(\"site\", [15828, 15869])\n",
    "\n",
    "# дополнительный фильтр по демографии отсутствует\n",
    "demo_filter = None\n",
    "\n",
    "# задаем список статистик для расчета\n",
    "statistics = [\"UnwReach\", \"Reach\", \"ADR\", \"AWR\", \"ReachPer\", \"ADRPer\", \"AWRPer\"]\n",
    "\n",
    "# указываем порядок группировки, в нашем случае ее нет\n",
    "structure =  {\n",
    "    \"usetype\": False,\n",
    "  }\n",
    "\n",
    "# формируем из заданных параметров задание для Responsum в формате JSON\n",
    "task_json = rtask.build_audience_task(task_name=project_name, facility=facility, date_from=date_from, date_to=date_to, usetype_filter=usetypes, media_filter=media_filter, demo_filter=demo_filter, statistics=statistics, structure=structure)\n",
    "\n",
    "# отправляем задание на расчет и ждем выполнения\n",
    "task_audience = rtask.wait_task(rtask.send_audience_task(task_json))\n",
    "\n",
    "# получаем результат\n",
    "df_avito_ivi = rtask.result2table(rtask.get_result(task_audience), project_name=project_name)\n",
    "df_avito_ivi"
   ]
  },
  {
   "cell_type": "markdown",
   "metadata": {},
   "source": [
    "### Задание №3. Расчет аудитории Total Internet\n",
    "\n",
    "Расчет данных по всем проектам займет достаточно много времени у Responsum, поэтому воспользуемся технической страницей WEB-Index, в которой учитывается вся аудитория.\n",
    "Техническая страница WEB-Index __site_id = 101__\n",
    "\n",
    "Важно учитывать в случае расчета статистики OTS:\n",
    "- если считать с ограничением по Технической странице в медиа-фильтре, то полученная статистика OTS будет показывать общее количество заходов в Интернет за указанный период;\n",
    "- если считать без ограничений в медиа-фильтре (media_filter = None), то полученная статистика OTS будет показывать общее количество загрузок страниц интернет-проектов, содержащихся в вашем медиа-каталоге, за указанный период;\n",
    "- статистика OTS корректна для работы с десктопными данными и данными по рекламным кампаниям."
   ]
  },
  {
   "cell_type": "code",
   "execution_count": null,
   "metadata": {},
   "outputs": [],
   "source": [
    "# задаем название проекта для отображения в DataFrame\n",
    "project_name = 'total'\n",
    "\n",
    "# задаем техническую страницу WEB-Index в качестве медиа фильтра\n",
    "media_filter = 'site = 101'\n",
    "\n",
    "# фильтр по демографии отсутствует\n",
    "demo_filter = None\n",
    "\n",
    "# задаем список статистик для расчета\n",
    "statistics = [\"UnwReach\", \"Reach\", \"ADR\", \"AWR\", \"ReachPer\", \"ADRPer\", \"AWRPer\"]\n",
    "\n",
    "# указываем порядок группировки, в нашем случае ее нет\n",
    "structure =  {\n",
    "    \"usetype\": False\n",
    "}\n",
    "\n",
    "# формируем из заданных параметров задание для Responsum в формате JSON\n",
    "task_json = rtask.build_audience_task(task_name=project_name, facility=facility, date_from=date_from, date_to=date_to, usetype_filter=usetypes, media_filter=media_filter, demo_filter=demo_filter, statistics=statistics, structure=structure)\n",
    "\n",
    "# отправляем задание на расчет и ждем выполнения\n",
    "task_audience = rtask.wait_task(rtask.send_audience_task(task_json))\n",
    "\n",
    "# получаем результат\n",
    "df_total = rtask.result2table(rtask.get_result(task_audience), project_name=project_name)\n",
    "df_total"
   ]
  },
  {
   "cell_type": "markdown",
   "metadata": {},
   "source": [
    "### Формирование итоговой таблицы\n",
    "\n",
    "Следующим шагом соберем полученные результаты в один DataFrame"
   ]
  },
  {
   "cell_type": "code",
   "execution_count": null,
   "metadata": {},
   "outputs": [],
   "source": [
    "# объединим наши DataFrame'ы\n",
    "df_result = pd.concat([df_avito, df_avito_ivi, df_total])\n",
    "df_result"
   ]
  },
  {
   "cell_type": "markdown",
   "metadata": {},
   "source": [
    "## Экспорт в Excel"
   ]
  },
  {
   "cell_type": "code",
   "execution_count": null,
   "metadata": {},
   "outputs": [],
   "source": [
    "writer = pd.ExcelWriter(rtask.get_excel_filename('audience-avito-ivi'))\n",
    "df_info = rtask.get_report_info()\n",
    "df_result.to_excel(writer, 'Report', index=False)\n",
    "df_info.to_excel(writer, 'Info', index=False)\n",
    "writer.save()"
   ]
  }
 ],
 "metadata": {
  "kernelspec": {
   "display_name": "Python 3",
   "language": "python",
   "name": "python3"
  },
  "language_info": {
   "codemirror_mode": {
    "name": "ipython",
    "version": 3
   },
   "file_extension": ".py",
   "mimetype": "text/x-python",
   "name": "python",
   "nbconvert_exporter": "python",
   "pygments_lexer": "ipython3",
   "version": "3.8.8"
  }
 },
 "nbformat": 4,
 "nbformat_minor": 4
}
