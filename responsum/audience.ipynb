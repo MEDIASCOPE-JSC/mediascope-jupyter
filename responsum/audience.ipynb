{
 "cells": [
  {
   "cell_type": "markdown",
   "metadata": {},
   "source": [
    "# Audience\n",
    "Пример отчета по аудитории Web-Index.\n",
    "\n",
    "## Описание задания\n",
    "\n",
    "Задача посчитать аудиторию проектов:\n",
    "- Avito.ru – аудитория одного проекта\n",
    "- Avito.ru, Ivi.ru – аудиторию 2-х проектов, т.е. количество людей, которые посетили хотя бы один проект (Avito.ru)OR(Ivi.ru)\n",
    "- Total – Total Internet\n",
    "\n",
    "за период: Май 2020\n",
    "\n",
    "список статистик, который будем считать:\n",
    "- Unweighted Reach\n",
    "- Reach\n",
    "- Reach%\n",
    "- Average Daily Reach\n",
    "- Average Daily Reach%\n",
    "- Average Weekly Reach\n",
    "- Average Weekly Reach%\n",
    "\n",
    "\n",
    "Ограничений по типам устройст нет, считаем по всем (Web Desktop,Web Mobile,App Online,App Offline).\n",
    "\n",
    "\n",
    "Для расчета данного отчета потребуется сформировать несколько заданий для Responsum, т.к. он умеет считать только native статистики (Unweighted Reach, Reach, Average Daily Reach,...), а процентные статистики можно будет посчитать на основе полученных данных по native.\n",
    "Кроме этого в отчете присутствуют кастомыне переменные (Avito.ru, Ivi.ru), а так же Total Internet - это тоже отдельные задания\n"
   ]
  },
  {
   "cell_type": "markdown",
   "metadata": {},
   "source": [
    "## Инициализация\n",
    "\n",
    "Первым шагом любого ноутбука для построения отчетов необходимо загрузить библиотеки, которые нам помогут обращаться к API Responsum и работать с данными.\n",
    "\n",
    "Выполните следующую ячейку, для этого перейдите в нее и нажмите Ctrl+Enter"
   ]
  },
  {
   "cell_type": "code",
   "execution_count": 1,
   "metadata": {
    "tags": []
   },
   "outputs": [
    {
     "output_type": "display_data",
     "data": {
      "text/html": "\n    <div class=\"bk-root\">\n        <a href=\"https://bokeh.org\" target=\"_blank\" class=\"bk-logo bk-logo-small bk-logo-notebook\"></a>\n        <span id=\"1001\">Loading BokehJS ...</span>\n    </div>"
     },
     "metadata": {}
    },
    {
     "output_type": "display_data",
     "data": {
      "application/javascript": "\n(function(root) {\n  function now() {\n    return new Date();\n  }\n\n  var force = true;\n\n  if (typeof root._bokeh_onload_callbacks === \"undefined\" || force === true) {\n    root._bokeh_onload_callbacks = [];\n    root._bokeh_is_loading = undefined;\n  }\n\n  var JS_MIME_TYPE = 'application/javascript';\n  var HTML_MIME_TYPE = 'text/html';\n  var EXEC_MIME_TYPE = 'application/vnd.bokehjs_exec.v0+json';\n  var CLASS_NAME = 'output_bokeh rendered_html';\n\n  /**\n   * Render data to the DOM node\n   */\n  function render(props, node) {\n    var script = document.createElement(\"script\");\n    node.appendChild(script);\n  }\n\n  /**\n   * Handle when an output is cleared or removed\n   */\n  function handleClearOutput(event, handle) {\n    var cell = handle.cell;\n\n    var id = cell.output_area._bokeh_element_id;\n    var server_id = cell.output_area._bokeh_server_id;\n    // Clean up Bokeh references\n    if (id != null && id in Bokeh.index) {\n      Bokeh.index[id].model.document.clear();\n      delete Bokeh.index[id];\n    }\n\n    if (server_id !== undefined) {\n      // Clean up Bokeh references\n      var cmd = \"from bokeh.io.state import curstate; print(curstate().uuid_to_server['\" + server_id + \"'].get_sessions()[0].document.roots[0]._id)\";\n      cell.notebook.kernel.execute(cmd, {\n        iopub: {\n          output: function(msg) {\n            var id = msg.content.text.trim();\n            if (id in Bokeh.index) {\n              Bokeh.index[id].model.document.clear();\n              delete Bokeh.index[id];\n            }\n          }\n        }\n      });\n      // Destroy server and session\n      var cmd = \"import bokeh.io.notebook as ion; ion.destroy_server('\" + server_id + \"')\";\n      cell.notebook.kernel.execute(cmd);\n    }\n  }\n\n  /**\n   * Handle when a new output is added\n   */\n  function handleAddOutput(event, handle) {\n    var output_area = handle.output_area;\n    var output = handle.output;\n\n    // limit handleAddOutput to display_data with EXEC_MIME_TYPE content only\n    if ((output.output_type != \"display_data\") || (!output.data.hasOwnProperty(EXEC_MIME_TYPE))) {\n      return\n    }\n\n    var toinsert = output_area.element.find(\".\" + CLASS_NAME.split(' ')[0]);\n\n    if (output.metadata[EXEC_MIME_TYPE][\"id\"] !== undefined) {\n      toinsert[toinsert.length - 1].firstChild.textContent = output.data[JS_MIME_TYPE];\n      // store reference to embed id on output_area\n      output_area._bokeh_element_id = output.metadata[EXEC_MIME_TYPE][\"id\"];\n    }\n    if (output.metadata[EXEC_MIME_TYPE][\"server_id\"] !== undefined) {\n      var bk_div = document.createElement(\"div\");\n      bk_div.innerHTML = output.data[HTML_MIME_TYPE];\n      var script_attrs = bk_div.children[0].attributes;\n      for (var i = 0; i < script_attrs.length; i++) {\n        toinsert[toinsert.length - 1].firstChild.setAttribute(script_attrs[i].name, script_attrs[i].value);\n        toinsert[toinsert.length - 1].firstChild.textContent = bk_div.children[0].textContent\n      }\n      // store reference to server id on output_area\n      output_area._bokeh_server_id = output.metadata[EXEC_MIME_TYPE][\"server_id\"];\n    }\n  }\n\n  function register_renderer(events, OutputArea) {\n\n    function append_mime(data, metadata, element) {\n      // create a DOM node to render to\n      var toinsert = this.create_output_subarea(\n        metadata,\n        CLASS_NAME,\n        EXEC_MIME_TYPE\n      );\n      this.keyboard_manager.register_events(toinsert);\n      // Render to node\n      var props = {data: data, metadata: metadata[EXEC_MIME_TYPE]};\n      render(props, toinsert[toinsert.length - 1]);\n      element.append(toinsert);\n      return toinsert\n    }\n\n    /* Handle when an output is cleared or removed */\n    events.on('clear_output.CodeCell', handleClearOutput);\n    events.on('delete.Cell', handleClearOutput);\n\n    /* Handle when a new output is added */\n    events.on('output_added.OutputArea', handleAddOutput);\n\n    /**\n     * Register the mime type and append_mime function with output_area\n     */\n    OutputArea.prototype.register_mime_type(EXEC_MIME_TYPE, append_mime, {\n      /* Is output safe? */\n      safe: true,\n      /* Index of renderer in `output_area.display_order` */\n      index: 0\n    });\n  }\n\n  // register the mime type if in Jupyter Notebook environment and previously unregistered\n  if (root.Jupyter !== undefined) {\n    var events = require('base/js/events');\n    var OutputArea = require('notebook/js/outputarea').OutputArea;\n\n    if (OutputArea.prototype.mime_types().indexOf(EXEC_MIME_TYPE) == -1) {\n      register_renderer(events, OutputArea);\n    }\n  }\n\n  \n  if (typeof (root._bokeh_timeout) === \"undefined\" || force === true) {\n    root._bokeh_timeout = Date.now() + 5000;\n    root._bokeh_failed_load = false;\n  }\n\n  var NB_LOAD_WARNING = {'data': {'text/html':\n     \"<div style='background-color: #fdd'>\\n\"+\n     \"<p>\\n\"+\n     \"BokehJS does not appear to have successfully loaded. If loading BokehJS from CDN, this \\n\"+\n     \"may be due to a slow or bad network connection. Possible fixes:\\n\"+\n     \"</p>\\n\"+\n     \"<ul>\\n\"+\n     \"<li>re-rerun `output_notebook()` to attempt to load from CDN again, or</li>\\n\"+\n     \"<li>use INLINE resources instead, as so:</li>\\n\"+\n     \"</ul>\\n\"+\n     \"<code>\\n\"+\n     \"from bokeh.resources import INLINE\\n\"+\n     \"output_notebook(resources=INLINE)\\n\"+\n     \"</code>\\n\"+\n     \"</div>\"}};\n\n  function display_loaded() {\n    var el = document.getElementById(\"1001\");\n    if (el != null) {\n      el.textContent = \"BokehJS is loading...\";\n    }\n    if (root.Bokeh !== undefined) {\n      if (el != null) {\n        el.textContent = \"BokehJS \" + root.Bokeh.version + \" successfully loaded.\";\n      }\n    } else if (Date.now() < root._bokeh_timeout) {\n      setTimeout(display_loaded, 100)\n    }\n  }\n\n\n  function run_callbacks() {\n    try {\n      root._bokeh_onload_callbacks.forEach(function(callback) {\n        if (callback != null)\n          callback();\n      });\n    } finally {\n      delete root._bokeh_onload_callbacks\n    }\n    console.debug(\"Bokeh: all callbacks have finished\");\n  }\n\n  function load_libs(css_urls, js_urls, callback) {\n    if (css_urls == null) css_urls = [];\n    if (js_urls == null) js_urls = [];\n\n    root._bokeh_onload_callbacks.push(callback);\n    if (root._bokeh_is_loading > 0) {\n      console.debug(\"Bokeh: BokehJS is being loaded, scheduling callback at\", now());\n      return null;\n    }\n    if (js_urls == null || js_urls.length === 0) {\n      run_callbacks();\n      return null;\n    }\n    console.debug(\"Bokeh: BokehJS not loaded, scheduling load and callback at\", now());\n    root._bokeh_is_loading = css_urls.length + js_urls.length;\n\n    function on_load() {\n      root._bokeh_is_loading--;\n      if (root._bokeh_is_loading === 0) {\n        console.debug(\"Bokeh: all BokehJS libraries/stylesheets loaded\");\n        run_callbacks()\n      }\n    }\n\n    function on_error() {\n      console.error(\"failed to load \" + url);\n    }\n\n    for (var i = 0; i < css_urls.length; i++) {\n      var url = css_urls[i];\n      const element = document.createElement(\"link\");\n      element.onload = on_load;\n      element.onerror = on_error;\n      element.rel = \"stylesheet\";\n      element.type = \"text/css\";\n      element.href = url;\n      console.debug(\"Bokeh: injecting link tag for BokehJS stylesheet: \", url);\n      document.body.appendChild(element);\n    }\n\n    const hashes = {\"https://cdn.bokeh.org/bokeh/release/bokeh-2.0.1.min.js\": \"JpP8FXbgAZLkfur7LiK3j9AGBhHNIvF742meBJrjO2ShJDhCG2I1uVvW+0DUtrmc\", \"https://cdn.bokeh.org/bokeh/release/bokeh-widgets-2.0.1.min.js\": \"xZlADit0Q04ISQEdKg2k3L4W9AwQBAuDs9nJL9fM/WwzL1tEU9VPNezOFX0nLEAz\", \"https://cdn.bokeh.org/bokeh/release/bokeh-tables-2.0.1.min.js\": \"4BuPRZkdMKSnj3zoxiNrQ86XgNw0rYmBOxe7nshquXwwcauupgBF2DHLVG1WuZlV\", \"https://cdn.bokeh.org/bokeh/release/bokeh-gl-2.0.1.min.js\": \"Dv1SQ87hmDqK6S5OhBf0bCuwAEvL5QYL0PuR/F1SPVhCS/r/abjkbpKDYL2zeM19\"};\n\n    for (var i = 0; i < js_urls.length; i++) {\n      var url = js_urls[i];\n      var element = document.createElement('script');\n      element.onload = on_load;\n      element.onerror = on_error;\n      element.async = false;\n      element.src = url;\n      if (url in hashes) {\n        element.crossOrigin = \"anonymous\";\n        element.integrity = \"sha384-\" + hashes[url];\n      }\n      console.debug(\"Bokeh: injecting script tag for BokehJS library: \", url);\n      document.head.appendChild(element);\n    }\n  };var element = document.getElementById(\"1001\");\n  if (element == null) {\n    console.error(\"Bokeh: ERROR: autoload.js configured with elementid '1001' but no matching script tag was found. \")\n    return false;\n  }\n\n  function inject_raw_css(css) {\n    const element = document.createElement(\"style\");\n    element.appendChild(document.createTextNode(css));\n    document.body.appendChild(element);\n  }\n\n  \n  var js_urls = [\"https://cdn.bokeh.org/bokeh/release/bokeh-2.0.1.min.js\", \"https://cdn.bokeh.org/bokeh/release/bokeh-widgets-2.0.1.min.js\", \"https://cdn.bokeh.org/bokeh/release/bokeh-tables-2.0.1.min.js\", \"https://cdn.bokeh.org/bokeh/release/bokeh-gl-2.0.1.min.js\"];\n  var css_urls = [];\n  \n\n  var inline_js = [\n    function(Bokeh) {\n      Bokeh.set_log_level(\"info\");\n    },\n    function(Bokeh) {\n    \n    \n    }\n  ];\n\n  function run_inline_js() {\n    \n    if (root.Bokeh !== undefined || force === true) {\n      \n    for (var i = 0; i < inline_js.length; i++) {\n      inline_js[i].call(root, root.Bokeh);\n    }\n    if (force === true) {\n        display_loaded();\n      }} else if (Date.now() < root._bokeh_timeout) {\n      setTimeout(run_inline_js, 100);\n    } else if (!root._bokeh_failed_load) {\n      console.log(\"Bokeh: BokehJS failed to load within specified timeout.\");\n      root._bokeh_failed_load = true;\n    } else if (force !== true) {\n      var cell = $(document.getElementById(\"1001\")).parents('.cell').data().cell;\n      cell.output_area.append_execute_result(NB_LOAD_WARNING)\n    }\n\n  }\n\n  if (root._bokeh_is_loading === 0) {\n    console.debug(\"Bokeh: BokehJS loaded, going straight to plotting\");\n    run_inline_js();\n  } else {\n    load_libs(css_urls, js_urls, function() {\n      console.debug(\"Bokeh: BokehJS plotting callback run at\", now());\n      run_inline_js();\n    });\n  }\n}(window));",
      "application/vnd.bokehjs_load.v0+json": "\n(function(root) {\n  function now() {\n    return new Date();\n  }\n\n  var force = true;\n\n  if (typeof root._bokeh_onload_callbacks === \"undefined\" || force === true) {\n    root._bokeh_onload_callbacks = [];\n    root._bokeh_is_loading = undefined;\n  }\n\n  \n\n  \n  if (typeof (root._bokeh_timeout) === \"undefined\" || force === true) {\n    root._bokeh_timeout = Date.now() + 5000;\n    root._bokeh_failed_load = false;\n  }\n\n  var NB_LOAD_WARNING = {'data': {'text/html':\n     \"<div style='background-color: #fdd'>\\n\"+\n     \"<p>\\n\"+\n     \"BokehJS does not appear to have successfully loaded. If loading BokehJS from CDN, this \\n\"+\n     \"may be due to a slow or bad network connection. Possible fixes:\\n\"+\n     \"</p>\\n\"+\n     \"<ul>\\n\"+\n     \"<li>re-rerun `output_notebook()` to attempt to load from CDN again, or</li>\\n\"+\n     \"<li>use INLINE resources instead, as so:</li>\\n\"+\n     \"</ul>\\n\"+\n     \"<code>\\n\"+\n     \"from bokeh.resources import INLINE\\n\"+\n     \"output_notebook(resources=INLINE)\\n\"+\n     \"</code>\\n\"+\n     \"</div>\"}};\n\n  function display_loaded() {\n    var el = document.getElementById(\"1001\");\n    if (el != null) {\n      el.textContent = \"BokehJS is loading...\";\n    }\n    if (root.Bokeh !== undefined) {\n      if (el != null) {\n        el.textContent = \"BokehJS \" + root.Bokeh.version + \" successfully loaded.\";\n      }\n    } else if (Date.now() < root._bokeh_timeout) {\n      setTimeout(display_loaded, 100)\n    }\n  }\n\n\n  function run_callbacks() {\n    try {\n      root._bokeh_onload_callbacks.forEach(function(callback) {\n        if (callback != null)\n          callback();\n      });\n    } finally {\n      delete root._bokeh_onload_callbacks\n    }\n    console.debug(\"Bokeh: all callbacks have finished\");\n  }\n\n  function load_libs(css_urls, js_urls, callback) {\n    if (css_urls == null) css_urls = [];\n    if (js_urls == null) js_urls = [];\n\n    root._bokeh_onload_callbacks.push(callback);\n    if (root._bokeh_is_loading > 0) {\n      console.debug(\"Bokeh: BokehJS is being loaded, scheduling callback at\", now());\n      return null;\n    }\n    if (js_urls == null || js_urls.length === 0) {\n      run_callbacks();\n      return null;\n    }\n    console.debug(\"Bokeh: BokehJS not loaded, scheduling load and callback at\", now());\n    root._bokeh_is_loading = css_urls.length + js_urls.length;\n\n    function on_load() {\n      root._bokeh_is_loading--;\n      if (root._bokeh_is_loading === 0) {\n        console.debug(\"Bokeh: all BokehJS libraries/stylesheets loaded\");\n        run_callbacks()\n      }\n    }\n\n    function on_error() {\n      console.error(\"failed to load \" + url);\n    }\n\n    for (var i = 0; i < css_urls.length; i++) {\n      var url = css_urls[i];\n      const element = document.createElement(\"link\");\n      element.onload = on_load;\n      element.onerror = on_error;\n      element.rel = \"stylesheet\";\n      element.type = \"text/css\";\n      element.href = url;\n      console.debug(\"Bokeh: injecting link tag for BokehJS stylesheet: \", url);\n      document.body.appendChild(element);\n    }\n\n    const hashes = {\"https://cdn.bokeh.org/bokeh/release/bokeh-2.0.1.min.js\": \"JpP8FXbgAZLkfur7LiK3j9AGBhHNIvF742meBJrjO2ShJDhCG2I1uVvW+0DUtrmc\", \"https://cdn.bokeh.org/bokeh/release/bokeh-widgets-2.0.1.min.js\": \"xZlADit0Q04ISQEdKg2k3L4W9AwQBAuDs9nJL9fM/WwzL1tEU9VPNezOFX0nLEAz\", \"https://cdn.bokeh.org/bokeh/release/bokeh-tables-2.0.1.min.js\": \"4BuPRZkdMKSnj3zoxiNrQ86XgNw0rYmBOxe7nshquXwwcauupgBF2DHLVG1WuZlV\", \"https://cdn.bokeh.org/bokeh/release/bokeh-gl-2.0.1.min.js\": \"Dv1SQ87hmDqK6S5OhBf0bCuwAEvL5QYL0PuR/F1SPVhCS/r/abjkbpKDYL2zeM19\"};\n\n    for (var i = 0; i < js_urls.length; i++) {\n      var url = js_urls[i];\n      var element = document.createElement('script');\n      element.onload = on_load;\n      element.onerror = on_error;\n      element.async = false;\n      element.src = url;\n      if (url in hashes) {\n        element.crossOrigin = \"anonymous\";\n        element.integrity = \"sha384-\" + hashes[url];\n      }\n      console.debug(\"Bokeh: injecting script tag for BokehJS library: \", url);\n      document.head.appendChild(element);\n    }\n  };var element = document.getElementById(\"1001\");\n  if (element == null) {\n    console.error(\"Bokeh: ERROR: autoload.js configured with elementid '1001' but no matching script tag was found. \")\n    return false;\n  }\n\n  function inject_raw_css(css) {\n    const element = document.createElement(\"style\");\n    element.appendChild(document.createTextNode(css));\n    document.body.appendChild(element);\n  }\n\n  \n  var js_urls = [\"https://cdn.bokeh.org/bokeh/release/bokeh-2.0.1.min.js\", \"https://cdn.bokeh.org/bokeh/release/bokeh-widgets-2.0.1.min.js\", \"https://cdn.bokeh.org/bokeh/release/bokeh-tables-2.0.1.min.js\", \"https://cdn.bokeh.org/bokeh/release/bokeh-gl-2.0.1.min.js\"];\n  var css_urls = [];\n  \n\n  var inline_js = [\n    function(Bokeh) {\n      Bokeh.set_log_level(\"info\");\n    },\n    function(Bokeh) {\n    \n    \n    }\n  ];\n\n  function run_inline_js() {\n    \n    if (root.Bokeh !== undefined || force === true) {\n      \n    for (var i = 0; i < inline_js.length; i++) {\n      inline_js[i].call(root, root.Bokeh);\n    }\n    if (force === true) {\n        display_loaded();\n      }} else if (Date.now() < root._bokeh_timeout) {\n      setTimeout(run_inline_js, 100);\n    } else if (!root._bokeh_failed_load) {\n      console.log(\"Bokeh: BokehJS failed to load within specified timeout.\");\n      root._bokeh_failed_load = true;\n    } else if (force !== true) {\n      var cell = $(document.getElementById(\"1001\")).parents('.cell').data().cell;\n      cell.output_area.append_execute_result(NB_LOAD_WARNING)\n    }\n\n  }\n\n  if (root._bokeh_is_loading === 0) {\n    console.debug(\"Bokeh: BokehJS loaded, going straight to plotting\");\n    run_inline_js();\n  } else {\n    load_libs(css_urls, js_urls, function() {\n      console.debug(\"Bokeh: BokehJS plotting callback run at\", now());\n      run_inline_js();\n    });\n  }\n}(window));"
     },
     "metadata": {}
    }
   ],
   "source": [
    "%reload_ext autoreload\n",
    "%autoreload 2\n",
    "import os\n",
    "import re\n",
    "import json\n",
    "import datetime\n",
    "import time\n",
    "import pandas as pd\n",
    "#import matplotlib.pyplot as plt\n",
    "from pathlib import Path\n",
    "from bokeh.io import output_notebook, show\n",
    "from bokeh.plotting import figure\n",
    "from IPython.display import JSON\n",
    "from bokeh.models import HoverTool\n",
    "from bokeh.layouts import gridplot\n",
    "import logging\n",
    "\n",
    "from mediascope_api.core import net as msnet\n",
    "from mediascope_api.responsum import catalogs as rc\n",
    "from mediascope_api.responsum import tasks as rt\n",
    "\n",
    "logging.basicConfig(format='%(asctime)s %(levelname)s:%(message)s', level=logging.INFO, datefmt='%I:%M:%S')\n",
    "logger = logging.getLogger()\n",
    "logger.setLevel(logging.INFO)\n",
    "\n",
    "\n",
    "# получаем список демографических переменных\n",
    "#demo_ds = rc.get_demo()\n",
    "#demo_dict = rc.get_demo_dict(demo_ds)\n",
    "\n",
    "# pd.set_option(\"display.max_rows\", 200)\n",
    "# pd.set_option(\"display.max_colwidth\", 50)\n",
    "# pd.set_option(\"display.precision\", 6)\n",
    "output_notebook()"
   ]
  },
  {
   "cell_type": "code",
   "execution_count": 4,
   "metadata": {},
   "outputs": [
    {
     "output_type": "error",
     "ename": "SyntaxError",
     "evalue": "invalid syntax (<ipython-input-4-b55ec94b6161>, line 3)",
     "traceback": [
      "\u001b[0;36m  File \u001b[0;32m\"<ipython-input-4-b55ec94b6161>\"\u001b[0;36m, line \u001b[0;32m3\u001b[0m\n\u001b[0;31m    Нам понадобиться сформировать три задания для Responsum:\u001b[0m\n\u001b[0m                   ^\u001b[0m\n\u001b[0;31mSyntaxError\u001b[0m\u001b[0;31m:\u001b[0m invalid syntax\n"
     ]
    }
   ],
   "source": [
    "## Формируем задания\n",
    "\n",
    "Нам понадобиться сформировать три задания для Responsum:\n",
    "- расчет аудитории для проекта Avito.ru\n",
    "- расчет аудитории по проектам Avito.ru, Ivi.ru\n",
    "- расчет аудитории Total Internet"
   ]
  },
  {
   "cell_type": "markdown",
   "metadata": {},
   "source": [
    "### Общие параметры для заданий\n",
    "\n",
    "Для начала зададим общие параметры"
   ]
  },
  {
   "cell_type": "code",
   "execution_count": 2,
   "metadata": {
    "tags": []
   },
   "outputs": [
    {
     "output_type": "stream",
     "name": "stdout",
     "text": "../.cache/b64ddd38624a01074f8c070115df740e.cache\n../.cache/0231f39eb4750320e57a2a8641218d9f.cache\n../.cache/b64ddd38624a01074f8c070115df740e.cache\n"
    }
   ],
   "source": [
    "# выбираем тип установки mobile, т.к. в расчетах учавствуют все типу устройств (Web Desktop,Web Mobile,App Online,App Offline)\n",
    "facility = 'mobile'\n",
    "# задаем период расчета\n",
    "date_from = '2020-01-01'\n",
    "date_to = '2020-01-31'\n",
    "\n",
    "rcats = rc.ResponsumCats(facility)\n",
    "rtask = rt.ResponsumTask(facility)\n"
   ]
  },
  {
   "cell_type": "code",
   "execution_count": 5,
   "metadata": {
    "tags": []
   },
   "outputs": [
    {
     "output_type": "execute_result",
     "data": {
      "text/plain": "'/Users/psv/Projects/responsum-note/mediascope_api/core/net.py'"
     },
     "metadata": {},
     "execution_count": 5
    }
   ],
   "source": [
    "msnet.__file__"
   ]
  },
  {
   "cell_type": "code",
   "execution_count": 40,
   "metadata": {
    "tags": []
   },
   "outputs": [
    {
     "output_type": "stream",
     "name": "stdout",
     "text": "init RepsonsumNetwork: <resp.net.RepsonsumNetwork object at 0x7f8a03cce550>\n"
    }
   ],
   "source": [
    "rnet = msnet.MediascopeApiNetwork()\n",
    "data = msnet.send_raw_request('get', '/media/holdings?facility_id={}'.format(facility))    \n",
    "# https://api.mediascope.net/responsum/api/v1/media/holdings?facility_id=mobile"
   ]
  },
  {
   "cell_type": "code",
   "execution_count": 17,
   "metadata": {},
   "outputs": [
    {
     "output_type": "execute_result",
     "data": {
      "text/plain": "'[{\"id\":16351,\"title\":\"Mindshareworld\",\"sites\":[{\"id\":24213,\"title\":\"279954_apr_11_LG_SmartTV (25.04.'"
     },
     "metadata": {},
     "execution_count": 17
    }
   ],
   "source": [
    "data[:100]"
   ]
  },
  {
   "cell_type": "markdown",
   "metadata": {},
   "source": [
    "### Получим ID проектов\n",
    "Для продолжения расчетов, нам необходимо получить идентификаторы проектов Avito.ru и Ivi.ru из медиа-дерева"
   ]
  },
  {
   "cell_type": "code",
   "execution_count": 10,
   "metadata": {
    "tags": []
   },
   "outputs": [
    {
     "output_type": "stream",
     "name": "stdout",
     "text": "../.cache/b64ddd38624a01074f8c070115df740e.cache\n"
    },
    {
     "output_type": "execute_result",
     "data": {
      "text/plain": "    varId        varName                                           varTitle  \\\n0     106            SEX                                                Пол   \n1     107           CITY                     Город проживания до 01.02.2019   \n2     148            AGE                                            Возраст   \n3     157        Mat_pol                       Материальное положение семьи   \n4     159         SEXAGE                                      Пол / Возраст   \n5     161        PERSNUM                         Количество человек в семье   \n6     170     AGE_GROUPS                                  Возрастные группы   \n7     171  INCOME_GROUPS                               Уровень дохода семьи   \n8     172          EDUC2                                        Образование   \n9     173          WORK2                                          Занятость   \n10    175    OCCUPATION2                                        Род занятий   \n11    205         FAM_ST                                 Семейное положение   \n12    206       CHIL_FAM                Наличие в семье детей младше 16 лет   \n13    245          OKRUG                                  Федеральный округ   \n14    246      CITY_TYPE         Численность населения города до 02.02.2014   \n15    296      BuyOnline  Покупки в Интернете за год (только для России ...   \n16    297  MethodPayment  Способы оплаты покупок в Интернете (только для...   \n17    299    TripsAbroad  Количество поездок за границу за год (только д...   \n18    308       TV_Group  Группы телесмотрения ( только для России 100 0...   \n19    350     CITY_TYPE2                       Численность населения города   \n20    719        CITY_BM                                   Город проживания   \n\n                                           categories  from    to  \n0   [{'varId': 106, 'catNum': 1, 'title': 'Мужчины...  None  None  \n1   [{'varId': 107, 'catNum': 1, 'title': 'Москва'...  None  None  \n2   [{'varId': 148, 'title': '', 'usetypes': [{'us...  None  None  \n3   [{'varId': 157, 'catNum': 1, 'title': 'не хват...  None  None  \n4   [{'varId': 159, 'catNum': 1, 'title': 'Мужчины...  None  None  \n5   [{'varId': 161, 'catNum': 1, 'title': '1', 'or...  None  None  \n6   [{'varId': 170, 'catNum': 1, 'title': '12-17',...  None  None  \n7   [{'varId': 171, 'catNum': 1, 'title': 'Ниже ср...  None  None  \n8   [{'varId': 172, 'catNum': 1, 'title': 'н.средн...  None  None  \n9   [{'varId': 173, 'catNum': 1, 'title': 'работае...  None  None  \n10  [{'varId': 175, 'catNum': 1, 'title': 'руковод...  None  None  \n11  [{'varId': 205, 'catNum': 1, 'title': 'женат/з...  None  None  \n12  [{'varId': 206, 'catNum': 1, 'title': 'есть де...  None  None  \n13  [{'varId': 245, 'catNum': 1, 'title': 'Централ...  None  None  \n14  [{'varId': 246, 'catNum': 1, 'title': '800 тыс...  None  None  \n15  [{'varId': 296, 'catNum': 1, 'title': 'Да', 'o...  None  None  \n16  [{'varId': 297, 'catNum': 1, 'title': 'Только ...  None  None  \n17  [{'varId': 299, 'catNum': 1, 'title': 'Не сове...  None  None  \n18  [{'varId': 308, 'catNum': 1, 'title': 'смотрят...  None  None  \n19  [{'varId': 350, 'catNum': 1, 'title': '700 тыс...  None  None  \n20  [{'varId': 719, 'catNum': 1, 'title': 'Большая...  None  None  ",
      "text/html": "<div>\n<style scoped>\n    .dataframe tbody tr th:only-of-type {\n        vertical-align: middle;\n    }\n\n    .dataframe tbody tr th {\n        vertical-align: top;\n    }\n\n    .dataframe thead th {\n        text-align: right;\n    }\n</style>\n<table border=\"1\" class=\"dataframe\">\n  <thead>\n    <tr style=\"text-align: right;\">\n      <th></th>\n      <th>varId</th>\n      <th>varName</th>\n      <th>varTitle</th>\n      <th>categories</th>\n      <th>from</th>\n      <th>to</th>\n    </tr>\n  </thead>\n  <tbody>\n    <tr>\n      <th>0</th>\n      <td>106</td>\n      <td>SEX</td>\n      <td>Пол</td>\n      <td>[{'varId': 106, 'catNum': 1, 'title': 'Мужчины...</td>\n      <td>None</td>\n      <td>None</td>\n    </tr>\n    <tr>\n      <th>1</th>\n      <td>107</td>\n      <td>CITY</td>\n      <td>Город проживания до 01.02.2019</td>\n      <td>[{'varId': 107, 'catNum': 1, 'title': 'Москва'...</td>\n      <td>None</td>\n      <td>None</td>\n    </tr>\n    <tr>\n      <th>2</th>\n      <td>148</td>\n      <td>AGE</td>\n      <td>Возраст</td>\n      <td>[{'varId': 148, 'title': '', 'usetypes': [{'us...</td>\n      <td>None</td>\n      <td>None</td>\n    </tr>\n    <tr>\n      <th>3</th>\n      <td>157</td>\n      <td>Mat_pol</td>\n      <td>Материальное положение семьи</td>\n      <td>[{'varId': 157, 'catNum': 1, 'title': 'не хват...</td>\n      <td>None</td>\n      <td>None</td>\n    </tr>\n    <tr>\n      <th>4</th>\n      <td>159</td>\n      <td>SEXAGE</td>\n      <td>Пол / Возраст</td>\n      <td>[{'varId': 159, 'catNum': 1, 'title': 'Мужчины...</td>\n      <td>None</td>\n      <td>None</td>\n    </tr>\n    <tr>\n      <th>5</th>\n      <td>161</td>\n      <td>PERSNUM</td>\n      <td>Количество человек в семье</td>\n      <td>[{'varId': 161, 'catNum': 1, 'title': '1', 'or...</td>\n      <td>None</td>\n      <td>None</td>\n    </tr>\n    <tr>\n      <th>6</th>\n      <td>170</td>\n      <td>AGE_GROUPS</td>\n      <td>Возрастные группы</td>\n      <td>[{'varId': 170, 'catNum': 1, 'title': '12-17',...</td>\n      <td>None</td>\n      <td>None</td>\n    </tr>\n    <tr>\n      <th>7</th>\n      <td>171</td>\n      <td>INCOME_GROUPS</td>\n      <td>Уровень дохода семьи</td>\n      <td>[{'varId': 171, 'catNum': 1, 'title': 'Ниже ср...</td>\n      <td>None</td>\n      <td>None</td>\n    </tr>\n    <tr>\n      <th>8</th>\n      <td>172</td>\n      <td>EDUC2</td>\n      <td>Образование</td>\n      <td>[{'varId': 172, 'catNum': 1, 'title': 'н.средн...</td>\n      <td>None</td>\n      <td>None</td>\n    </tr>\n    <tr>\n      <th>9</th>\n      <td>173</td>\n      <td>WORK2</td>\n      <td>Занятость</td>\n      <td>[{'varId': 173, 'catNum': 1, 'title': 'работае...</td>\n      <td>None</td>\n      <td>None</td>\n    </tr>\n    <tr>\n      <th>10</th>\n      <td>175</td>\n      <td>OCCUPATION2</td>\n      <td>Род занятий</td>\n      <td>[{'varId': 175, 'catNum': 1, 'title': 'руковод...</td>\n      <td>None</td>\n      <td>None</td>\n    </tr>\n    <tr>\n      <th>11</th>\n      <td>205</td>\n      <td>FAM_ST</td>\n      <td>Семейное положение</td>\n      <td>[{'varId': 205, 'catNum': 1, 'title': 'женат/з...</td>\n      <td>None</td>\n      <td>None</td>\n    </tr>\n    <tr>\n      <th>12</th>\n      <td>206</td>\n      <td>CHIL_FAM</td>\n      <td>Наличие в семье детей младше 16 лет</td>\n      <td>[{'varId': 206, 'catNum': 1, 'title': 'есть де...</td>\n      <td>None</td>\n      <td>None</td>\n    </tr>\n    <tr>\n      <th>13</th>\n      <td>245</td>\n      <td>OKRUG</td>\n      <td>Федеральный округ</td>\n      <td>[{'varId': 245, 'catNum': 1, 'title': 'Централ...</td>\n      <td>None</td>\n      <td>None</td>\n    </tr>\n    <tr>\n      <th>14</th>\n      <td>246</td>\n      <td>CITY_TYPE</td>\n      <td>Численность населения города до 02.02.2014</td>\n      <td>[{'varId': 246, 'catNum': 1, 'title': '800 тыс...</td>\n      <td>None</td>\n      <td>None</td>\n    </tr>\n    <tr>\n      <th>15</th>\n      <td>296</td>\n      <td>BuyOnline</td>\n      <td>Покупки в Интернете за год (только для России ...</td>\n      <td>[{'varId': 296, 'catNum': 1, 'title': 'Да', 'o...</td>\n      <td>None</td>\n      <td>None</td>\n    </tr>\n    <tr>\n      <th>16</th>\n      <td>297</td>\n      <td>MethodPayment</td>\n      <td>Способы оплаты покупок в Интернете (только для...</td>\n      <td>[{'varId': 297, 'catNum': 1, 'title': 'Только ...</td>\n      <td>None</td>\n      <td>None</td>\n    </tr>\n    <tr>\n      <th>17</th>\n      <td>299</td>\n      <td>TripsAbroad</td>\n      <td>Количество поездок за границу за год (только д...</td>\n      <td>[{'varId': 299, 'catNum': 1, 'title': 'Не сове...</td>\n      <td>None</td>\n      <td>None</td>\n    </tr>\n    <tr>\n      <th>18</th>\n      <td>308</td>\n      <td>TV_Group</td>\n      <td>Группы телесмотрения ( только для России 100 0...</td>\n      <td>[{'varId': 308, 'catNum': 1, 'title': 'смотрят...</td>\n      <td>None</td>\n      <td>None</td>\n    </tr>\n    <tr>\n      <th>19</th>\n      <td>350</td>\n      <td>CITY_TYPE2</td>\n      <td>Численность населения города</td>\n      <td>[{'varId': 350, 'catNum': 1, 'title': '700 тыс...</td>\n      <td>None</td>\n      <td>None</td>\n    </tr>\n    <tr>\n      <th>20</th>\n      <td>719</td>\n      <td>CITY_BM</td>\n      <td>Город проживания</td>\n      <td>[{'varId': 719, 'catNum': 1, 'title': 'Большая...</td>\n      <td>None</td>\n      <td>None</td>\n    </tr>\n  </tbody>\n</table>\n</div>"
     },
     "metadata": {},
     "execution_count": 10
    }
   ],
   "source": [
    "# Найдем все холдинги в названия которых входит название avito.ru (пойск выполняется без учета регистра)\n",
    "\n",
    "\n",
    "d = rcats.get_demo()\n",
    "d"
   ]
  },
  {
   "cell_type": "code",
   "execution_count": 11,
   "metadata": {},
   "outputs": [
    {
     "output_type": "error",
     "ename": "AttributeError",
     "evalue": "module 'mediascope_api.responsum.catalogs' has no attribute 'get_holdings'",
     "traceback": [
      "\u001b[0;31m---------------------------------------------------------------------------\u001b[0m",
      "\u001b[0;31mAttributeError\u001b[0m                            Traceback (most recent call last)",
      "\u001b[0;32m<ipython-input-11-b72c853c20a3>\u001b[0m in \u001b[0;36m<module>\u001b[0;34m\u001b[0m\n\u001b[1;32m      1\u001b[0m \u001b[0;31m# Найдем все холдинги в названия которых входит название avito.ru (пойск выполняется без учета регистра)\u001b[0m\u001b[0;34m\u001b[0m\u001b[0;34m\u001b[0m\u001b[0;34m\u001b[0m\u001b[0m\n\u001b[0;32m----> 2\u001b[0;31m \u001b[0mdf_holdings\u001b[0m \u001b[0;34m=\u001b[0m \u001b[0mrc\u001b[0m\u001b[0;34m.\u001b[0m\u001b[0mget_holdings\u001b[0m\u001b[0;34m(\u001b[0m\u001b[0mfacility_id\u001b[0m\u001b[0;34m=\u001b[0m\u001b[0mfacility\u001b[0m\u001b[0;34m,\u001b[0m \u001b[0mfind_text\u001b[0m\u001b[0;34m=\u001b[0m\u001b[0;34m'avito.ru'\u001b[0m\u001b[0;34m)\u001b[0m\u001b[0;34m\u001b[0m\u001b[0;34m\u001b[0m\u001b[0m\n\u001b[0m\u001b[1;32m      3\u001b[0m \u001b[0mdf_holdings\u001b[0m\u001b[0;34m\u001b[0m\u001b[0;34m\u001b[0m\u001b[0m\n",
      "\u001b[0;31mAttributeError\u001b[0m: module 'mediascope_api.responsum.catalogs' has no attribute 'get_holdings'"
     ]
    }
   ],
   "source": [
    "# Найдем все холдинги в названия которых входит название avito.ru (пойск выполняется без учета регистра)\n",
    "df_holdings = rc.get_holdings(facility_id=facility, find_text='avito.ru')\n",
    "df_holdings"
   ]
  },
  {
   "cell_type": "code",
   "execution_count": 12,
   "metadata": {},
   "outputs": [
    {
     "output_type": "error",
     "ename": "NameError",
     "evalue": "name 'df_holdings' is not defined",
     "traceback": [
      "\u001b[0;31m---------------------------------------------------------------------------\u001b[0m",
      "\u001b[0;31mNameError\u001b[0m                                 Traceback (most recent call last)",
      "\u001b[0;32m<ipython-input-12-27ea7df0eed4>\u001b[0m in \u001b[0;36m<module>\u001b[0;34m\u001b[0m\n\u001b[0;32m----> 1\u001b[0;31m \u001b[0mdf_holdings\u001b[0m\u001b[0;34m\u001b[0m\u001b[0;34m\u001b[0m\u001b[0m\n\u001b[0m",
      "\u001b[0;31mNameError\u001b[0m: name 'df_holdings' is not defined"
     ]
    }
   ],
   "source": [
    "df_holdings"
   ]
  },
  {
   "cell_type": "markdown",
   "metadata": {},
   "source": [
    "Из полученного результата видим, что нас интересует холдинг с __ID = 15827__\n",
    "\n",
    "Получим подробную информацию по холдингу:"
   ]
  },
  {
   "cell_type": "code",
   "execution_count": 10,
   "metadata": {},
   "outputs": [
    {
     "data": {
      "text/html": [
       "<div>\n",
       "<style scoped>\n",
       "    .dataframe tbody tr th:only-of-type {\n",
       "        vertical-align: middle;\n",
       "    }\n",
       "\n",
       "    .dataframe tbody tr th {\n",
       "        vertical-align: top;\n",
       "    }\n",
       "\n",
       "    .dataframe thead th {\n",
       "        text-align: right;\n",
       "    }\n",
       "</style>\n",
       "<table border=\"1\" class=\"dataframe\">\n",
       "  <thead>\n",
       "    <tr style=\"text-align: right;\">\n",
       "      <th></th>\n",
       "      <th>profileName</th>\n",
       "      <th>messages</th>\n",
       "    </tr>\n",
       "  </thead>\n",
       "  <tbody>\n",
       "    <tr>\n",
       "      <th>0</th>\n",
       "      <td>responsum_mediascope</td>\n",
       "      <td>400 : [{\"stackTrace\":[{\"methodName\":\"lambda$ge...</td>\n",
       "    </tr>\n",
       "  </tbody>\n",
       "</table>\n",
       "</div>"
      ],
      "text/plain": [
       "            profileName                                           messages\n",
       "0  responsum_mediascope  400 : [{\"stackTrace\":[{\"methodName\":\"lambda$ge..."
      ]
     },
     "execution_count": 10,
     "metadata": {},
     "output_type": "execute_result"
    }
   ],
   "source": [
    "df_holding = rc.get_holding(facility_id=facility,id=15827)\n",
    "df_holding"
   ]
  },
  {
   "cell_type": "markdown",
   "metadata": {},
   "source": [
    "Нас интересует Проект - он же site, из полученных данных видим, что ID проекта \n",
    "\n",
    "__Avito.ru = 15828__\n",
    "\n",
    "#### Найдем ID для Ivi.ru"
   ]
  },
  {
   "cell_type": "code",
   "execution_count": 129,
   "metadata": {},
   "outputs": [
    {
     "data": {
      "text/html": [
       "<div>\n",
       "<style scoped>\n",
       "    .dataframe tbody tr th:only-of-type {\n",
       "        vertical-align: middle;\n",
       "    }\n",
       "\n",
       "    .dataframe tbody tr th {\n",
       "        vertical-align: top;\n",
       "    }\n",
       "\n",
       "    .dataframe thead th {\n",
       "        text-align: right;\n",
       "    }\n",
       "</style>\n",
       "<table border=\"1\" class=\"dataframe\">\n",
       "  <thead>\n",
       "    <tr style=\"text-align: right;\">\n",
       "      <th></th>\n",
       "      <th>id</th>\n",
       "      <th>title</th>\n",
       "      <th>sites</th>\n",
       "      <th>adAgency</th>\n",
       "      <th>network</th>\n",
       "    </tr>\n",
       "  </thead>\n",
       "  <tbody>\n",
       "    <tr>\n",
       "      <th>82</th>\n",
       "      <td>211127</td>\n",
       "      <td>Рекламные кампании Ivi.ru</td>\n",
       "      <td>[{'id': 363149, 'title': 'Сентябрь 2017', 'sec...</td>\n",
       "      <td>True</td>\n",
       "      <td>False</td>\n",
       "    </tr>\n",
       "    <tr>\n",
       "      <th>412</th>\n",
       "      <td>34496</td>\n",
       "      <td>Рекламные кампании Ivi.ru</td>\n",
       "      <td>[{'id': 206392, 'title': 'Июль 2014', 'section...</td>\n",
       "      <td>True</td>\n",
       "      <td>False</td>\n",
       "    </tr>\n",
       "    <tr>\n",
       "      <th>1469</th>\n",
       "      <td>15868</td>\n",
       "      <td>Ivi.ru</td>\n",
       "      <td>[{'id': 15869, 'title': 'Ivi.ru', 'sections': ...</td>\n",
       "      <td>False</td>\n",
       "      <td>False</td>\n",
       "    </tr>\n",
       "  </tbody>\n",
       "</table>\n",
       "</div>"
      ],
      "text/plain": [
       "          id                      title  \\\n",
       "82    211127  Рекламные кампании Ivi.ru   \n",
       "412    34496  Рекламные кампании Ivi.ru   \n",
       "1469   15868                     Ivi.ru   \n",
       "\n",
       "                                                  sites  adAgency  network  \n",
       "82    [{'id': 363149, 'title': 'Сентябрь 2017', 'sec...      True    False  \n",
       "412   [{'id': 206392, 'title': 'Июль 2014', 'section...      True    False  \n",
       "1469  [{'id': 15869, 'title': 'Ivi.ru', 'sections': ...     False    False  "
      ]
     },
     "execution_count": 129,
     "metadata": {},
     "output_type": "execute_result"
    }
   ],
   "source": [
    "# Найдем все холдинги в названия которых входит название avito.ru (пойск выполняется без учета регистра)\n",
    "df_holdings = rc.get_holdings(facility_id=facility,find_text='ivi.ru')\n",
    "df_holdings"
   ]
  },
  {
   "cell_type": "markdown",
   "metadata": {},
   "source": [
    "Из полученного результата видим, что нас интересует холдинг с __ID = 15868__\n",
    "\n",
    "Получим подробную информацию по холдингу:"
   ]
  },
  {
   "cell_type": "code",
   "execution_count": 135,
   "metadata": {},
   "outputs": [
    {
     "data": {
      "text/html": [
       "<div>\n",
       "<style scoped>\n",
       "    .dataframe tbody tr th:only-of-type {\n",
       "        vertical-align: middle;\n",
       "    }\n",
       "\n",
       "    .dataframe tbody tr th {\n",
       "        vertical-align: top;\n",
       "    }\n",
       "\n",
       "    .dataframe thead th {\n",
       "        text-align: right;\n",
       "    }\n",
       "</style>\n",
       "<table border=\"1\" class=\"dataframe\">\n",
       "  <thead>\n",
       "    <tr style=\"text-align: right;\">\n",
       "      <th></th>\n",
       "      <th>id</th>\n",
       "      <th>title</th>\n",
       "      <th>site_id</th>\n",
       "      <th>site_title</th>\n",
       "      <th>section_id</th>\n",
       "      <th>section_title</th>\n",
       "      <th>subsection_id</th>\n",
       "      <th>subsection_title</th>\n",
       "    </tr>\n",
       "  </thead>\n",
       "  <tbody>\n",
       "    <tr>\n",
       "      <th>211</th>\n",
       "      <td>34496</td>\n",
       "      <td>Рекламные кампании Ivi.ru</td>\n",
       "      <td>170536</td>\n",
       "      <td>Самореклама Ivi ноябрь 2013</td>\n",
       "      <td>171479</td>\n",
       "      <td>ivi_samoognipritona</td>\n",
       "      <td>83741</td>\n",
       "      <td>ivi_samoognipritona</td>\n",
       "    </tr>\n",
       "    <tr>\n",
       "      <th>212</th>\n",
       "      <td>34496</td>\n",
       "      <td>Рекламные кампании Ivi.ru</td>\n",
       "      <td>170536</td>\n",
       "      <td>Самореклама Ivi ноябрь 2013</td>\n",
       "      <td>170541</td>\n",
       "      <td>ivi_samoparanoidpark</td>\n",
       "      <td>82553</td>\n",
       "      <td>ivi_samoparanoidpark</td>\n",
       "    </tr>\n",
       "    <tr>\n",
       "      <th>213</th>\n",
       "      <td>34496</td>\n",
       "      <td>Рекламные кампании Ivi.ru</td>\n",
       "      <td>170536</td>\n",
       "      <td>Самореклама Ivi ноябрь 2013</td>\n",
       "      <td>171475</td>\n",
       "      <td>ivi_samo5nevest</td>\n",
       "      <td>83766</td>\n",
       "      <td>ivi_samo5nevest</td>\n",
       "    </tr>\n",
       "    <tr>\n",
       "      <th>214</th>\n",
       "      <td>34496</td>\n",
       "      <td>Рекламные кампании Ivi.ru</td>\n",
       "      <td>170536</td>\n",
       "      <td>Самореклама Ivi ноябрь 2013</td>\n",
       "      <td>170538</td>\n",
       "      <td>ivi_samooceanseleven</td>\n",
       "      <td>82530</td>\n",
       "      <td>ivi_samooceanseleven</td>\n",
       "    </tr>\n",
       "    <tr>\n",
       "      <th>215</th>\n",
       "      <td>34496</td>\n",
       "      <td>Рекламные кампании Ivi.ru</td>\n",
       "      <td>170536</td>\n",
       "      <td>Самореклама Ivi ноябрь 2013</td>\n",
       "      <td>170537</td>\n",
       "      <td>ivi_samomissunshine</td>\n",
       "      <td>82537</td>\n",
       "      <td>ivi_samomissunshine</td>\n",
       "    </tr>\n",
       "    <tr>\n",
       "      <th>...</th>\n",
       "      <td>...</td>\n",
       "      <td>...</td>\n",
       "      <td>...</td>\n",
       "      <td>...</td>\n",
       "      <td>...</td>\n",
       "      <td>...</td>\n",
       "      <td>...</td>\n",
       "      <td>...</td>\n",
       "    </tr>\n",
       "    <tr>\n",
       "      <th>1559</th>\n",
       "      <td>34496</td>\n",
       "      <td>Рекламные кампании Ivi.ru</td>\n",
       "      <td>56029</td>\n",
       "      <td>Ноябрь 2011</td>\n",
       "      <td>46505</td>\n",
       "      <td>Always/Always Super Premium_ivi.ru_пре-ролл_21...</td>\n",
       "      <td>17485</td>\n",
       "      <td>Always/Always Super Premium_ivi.ru_пре-ролл_21...</td>\n",
       "    </tr>\n",
       "    <tr>\n",
       "      <th>1560</th>\n",
       "      <td>34496</td>\n",
       "      <td>Рекламные кампании Ivi.ru</td>\n",
       "      <td>56029</td>\n",
       "      <td>Ноябрь 2011</td>\n",
       "      <td>44772</td>\n",
       "      <td>УКО-сбербанк онлайн_ivi.ru _постролл_01.11-06.11</td>\n",
       "      <td>16465</td>\n",
       "      <td>УКО-сбербанк онлайн_ivi.ru _постролл_01.11-06.11</td>\n",
       "    </tr>\n",
       "    <tr>\n",
       "      <th>1561</th>\n",
       "      <td>34496</td>\n",
       "      <td>Рекламные кампании Ivi.ru</td>\n",
       "      <td>56029</td>\n",
       "      <td>Ноябрь 2011</td>\n",
       "      <td>46508</td>\n",
       "      <td>Fairy/Regenerist15_ivi.ru_пре-ролл_03.11-13.11</td>\n",
       "      <td>17477</td>\n",
       "      <td>Fairy/Regenerist15_ivi.ru_пре-ролл_03.11-13.11</td>\n",
       "    </tr>\n",
       "    <tr>\n",
       "      <th>1562</th>\n",
       "      <td>34496</td>\n",
       "      <td>Рекламные кампании Ivi.ru</td>\n",
       "      <td>56029</td>\n",
       "      <td>Ноябрь 2011</td>\n",
       "      <td>46502</td>\n",
       "      <td>часы Ника_ivi.ru_пре-ролл_21.11-27.11</td>\n",
       "      <td>17468</td>\n",
       "      <td>часы Ника_ivi.ru_пре-ролл_21.11-27.11</td>\n",
       "    </tr>\n",
       "    <tr>\n",
       "      <th>1563</th>\n",
       "      <td>34496</td>\n",
       "      <td>Рекламные кампании Ivi.ru</td>\n",
       "      <td>56029</td>\n",
       "      <td>Ноябрь 2011</td>\n",
       "      <td>46514</td>\n",
       "      <td>Microsoft_Multi-product_Holiday_nov2011-jan201...</td>\n",
       "      <td>17480</td>\n",
       "      <td>Microsoft_Multi-product_Holiday_nov2011-jan201...</td>\n",
       "    </tr>\n",
       "  </tbody>\n",
       "</table>\n",
       "<p>150 rows × 8 columns</p>\n",
       "</div>"
      ],
      "text/plain": [
       "         id                      title site_id                   site_title  \\\n",
       "211   34496  Рекламные кампании Ivi.ru  170536  Самореклама Ivi ноябрь 2013   \n",
       "212   34496  Рекламные кампании Ivi.ru  170536  Самореклама Ivi ноябрь 2013   \n",
       "213   34496  Рекламные кампании Ivi.ru  170536  Самореклама Ivi ноябрь 2013   \n",
       "214   34496  Рекламные кампании Ivi.ru  170536  Самореклама Ivi ноябрь 2013   \n",
       "215   34496  Рекламные кампании Ivi.ru  170536  Самореклама Ivi ноябрь 2013   \n",
       "...     ...                        ...     ...                          ...   \n",
       "1559  34496  Рекламные кампании Ivi.ru   56029                  Ноябрь 2011   \n",
       "1560  34496  Рекламные кампании Ivi.ru   56029                  Ноябрь 2011   \n",
       "1561  34496  Рекламные кампании Ivi.ru   56029                  Ноябрь 2011   \n",
       "1562  34496  Рекламные кампании Ivi.ru   56029                  Ноябрь 2011   \n",
       "1563  34496  Рекламные кампании Ivi.ru   56029                  Ноябрь 2011   \n",
       "\n",
       "     section_id                                      section_title  \\\n",
       "211      171479                                ivi_samoognipritona   \n",
       "212      170541                               ivi_samoparanoidpark   \n",
       "213      171475                                    ivi_samo5nevest   \n",
       "214      170538                               ivi_samooceanseleven   \n",
       "215      170537                                ivi_samomissunshine   \n",
       "...         ...                                                ...   \n",
       "1559      46505  Always/Always Super Premium_ivi.ru_пре-ролл_21...   \n",
       "1560      44772   УКО-сбербанк онлайн_ivi.ru _постролл_01.11-06.11   \n",
       "1561      46508     Fairy/Regenerist15_ivi.ru_пре-ролл_03.11-13.11   \n",
       "1562      46502              часы Ника_ivi.ru_пре-ролл_21.11-27.11   \n",
       "1563      46514  Microsoft_Multi-product_Holiday_nov2011-jan201...   \n",
       "\n",
       "     subsection_id                                   subsection_title  \n",
       "211          83741                                ivi_samoognipritona  \n",
       "212          82553                               ivi_samoparanoidpark  \n",
       "213          83766                                    ivi_samo5nevest  \n",
       "214          82530                               ivi_samooceanseleven  \n",
       "215          82537                                ivi_samomissunshine  \n",
       "...            ...                                                ...  \n",
       "1559         17485  Always/Always Super Premium_ivi.ru_пре-ролл_21...  \n",
       "1560         16465   УКО-сбербанк онлайн_ivi.ru _постролл_01.11-06.11  \n",
       "1561         17477     Fairy/Regenerist15_ivi.ru_пре-ролл_03.11-13.11  \n",
       "1562         17468              часы Ника_ivi.ru_пре-ролл_21.11-27.11  \n",
       "1563         17480  Microsoft_Multi-product_Holiday_nov2011-jan201...  \n",
       "\n",
       "[150 rows x 8 columns]"
      ]
     },
     "execution_count": 135,
     "metadata": {},
     "output_type": "execute_result"
    }
   ],
   "source": [
    "df_holding = rc.get_holding(facility_id=facility,id=34496, find_text='Ноябрь')\n",
    "df_holding"
   ]
  },
  {
   "cell_type": "markdown",
   "metadata": {},
   "source": [
    "Нас интересует Проект - он же site, из полученных данных видим, что ID проекта \n",
    "\n",
    "__Ivi.ru = 15869__"
   ]
  },
  {
   "cell_type": "markdown",
   "metadata": {},
   "source": [
    "Перейдем к формированию заданий\n",
    "\n",
    "\n",
    "### Задание №1 Расчет аудитории по проекту Avito.ru"
   ]
  },
  {
   "cell_type": "code",
   "execution_count": 136,
   "metadata": {},
   "outputs": [
    {
     "data": {
      "text/plain": [
       "{'profileName': 'responsum_mediascope',\n",
       " 'taskId': '35ed4d6e-3ecc-4fdd-904e-38e4f3af7499',\n",
       " 'operation': 'Расчет задачи.',\n",
       " 'messages': ['Задача <35ed4d6e-3ecc-4fdd-904e-38e4f3af7499> поступила в обработку']}"
      ]
     },
     "execution_count": 136,
     "metadata": {},
     "output_type": "execute_result"
    }
   ],
   "source": [
    "# Задаем название задания (может пригодиться для понимания, где какое задание среди посчитанных)\n",
    "task_name = 'Avito.ru may 2020'\n",
    "# Задаем медиа фильтр, в нашем случае это ID проекта Avito.ru\n",
    "media_filter = \"site = 15828\"\n",
    "# Фильтр по демографии отсутствует\n",
    "demo_filter = None\n",
    "# Задаем список статистик для расчета (указываем только нативные)\n",
    "statistics=[\"UnwReach\", \"Reach\", \"ADR\", \"AMR\"]\n",
    "# Указываем порядок группировки, в нашем случае ее нет\n",
    "structure =  {\n",
    "    \"usetype\": False\n",
    "  }\n",
    "\n",
    "# Формируем из-заданных параметров заданние для Responsum в формате JSON\n",
    "task_json = rt.build_audience_task(facility=facility, date_from=date_from, date_to=date_to, media_filter=media_filter, demo_filter=demo_filter, statistics=statistics, structure=structure)\n",
    "# Отправляем задание на расчет\n",
    "task_audience = rt.send_audience_task(task_json)\n",
    "task_audience"
   ]
  },
  {
   "cell_type": "markdown",
   "metadata": {},
   "source": [
    "#### Получаем результат"
   ]
  },
  {
   "cell_type": "code",
   "execution_count": 138,
   "metadata": {},
   "outputs": [
    {
     "data": {
      "text/plain": [
       "{'taskId': '35ed4d6e-3ecc-4fdd-904e-38e4f3af7499',\n",
       " 'profileName': 'responsum_mediascope',\n",
       " 'deliveryTypes': [],\n",
       " 'messageType': 'INFO',\n",
       " 'messages': [],\n",
       " 'cells': [{'coord': {'dtPoint': None,\n",
       "    'demoPoint': None,\n",
       "    'mediaPoint': None,\n",
       "    'usetypePoint': None},\n",
       "   'values': {'unwreach': 9007.0,\n",
       "    'reach': 39969.333508417185,\n",
       "    'adr': 8942.51682317758,\n",
       "    'amr': 39969.333508417214}}],\n",
       " 'resultAsJson': None,\n",
       " 'actual': True}"
      ]
     },
     "execution_count": 138,
     "metadata": {},
     "output_type": "execute_result"
    }
   ],
   "source": [
    "task_result = rt.get_result(task_audience['taskId'])\n",
    "task_result"
   ]
  },
  {
   "cell_type": "markdown",
   "metadata": {},
   "source": [
    "#### Преобразуем результат в DataFrame\n",
    "\n",
    "На данном шаге, важно дать уникальное название нашем DataFrame'у, т.к. он нам понадобиться для дальнейших расчетов. Пусть будет __df_avito__\n"
   ]
  },
  {
   "cell_type": "code",
   "execution_count": 139,
   "metadata": {},
   "outputs": [
    {
     "data": {
      "text/html": [
       "<div>\n",
       "<style scoped>\n",
       "    .dataframe tbody tr th:only-of-type {\n",
       "        vertical-align: middle;\n",
       "    }\n",
       "\n",
       "    .dataframe tbody tr th {\n",
       "        vertical-align: top;\n",
       "    }\n",
       "\n",
       "    .dataframe thead th {\n",
       "        text-align: right;\n",
       "    }\n",
       "</style>\n",
       "<table border=\"1\" class=\"dataframe\">\n",
       "  <thead>\n",
       "    <tr style=\"text-align: right;\">\n",
       "      <th></th>\n",
       "      <th>unwreach</th>\n",
       "      <th>reach</th>\n",
       "      <th>adr</th>\n",
       "      <th>amr</th>\n",
       "    </tr>\n",
       "  </thead>\n",
       "  <tbody>\n",
       "    <tr>\n",
       "      <th>0</th>\n",
       "      <td>9007.0</td>\n",
       "      <td>39969.333508</td>\n",
       "      <td>8942.516823</td>\n",
       "      <td>39969.333508</td>\n",
       "    </tr>\n",
       "  </tbody>\n",
       "</table>\n",
       "</div>"
      ],
      "text/plain": [
       "   unwreach         reach          adr           amr\n",
       "0    9007.0  39969.333508  8942.516823  39969.333508"
      ]
     },
     "execution_count": 139,
     "metadata": {},
     "output_type": "execute_result"
    }
   ],
   "source": [
    "df_avito = rt.result2table(task_result)\n",
    "df_avito"
   ]
  },
  {
   "cell_type": "markdown",
   "metadata": {},
   "source": [
    "### Задание №2 Расчет аудитории по проектам Avito.ru и Ivi.ru"
   ]
  },
  {
   "cell_type": "code",
   "execution_count": 156,
   "metadata": {},
   "outputs": [
    {
     "data": {
      "text/plain": [
       "{'profileName': 'responsum_mediascope',\n",
       " 'taskId': '6f5b5c2c-2490-4b19-a76a-9490ecf3f092',\n",
       " 'operation': 'Расчет задачи.',\n",
       " 'messages': ['Задача <6f5b5c2c-2490-4b19-a76a-9490ecf3f092> поступила в обработку']}"
      ]
     },
     "execution_count": 156,
     "metadata": {},
     "output_type": "execute_result"
    }
   ],
   "source": [
    "# Задаем название задания (может пригодиться для понимания, где какое задание среди посчитанных)\n",
    "task_name = 'Avito.ru + Ivi.ru may 2020'\n",
    "# Задаем медиа фильтр, в нашем случае это ID проектов Avito.ru и Ivi.ru\n",
    "media_filter = \"site = 15828 OR site = 15869\"\n",
    "# Фильтр по демографии отсутствует\n",
    "demo_filter = None\n",
    "# Задаем список статистик для расчета (указываем только нативные)\n",
    "statistics=[\"UnwReach\", \"Reach\", \"ADR\", \"AMR\"]\n",
    "# Указываем порядок группировки, в нашем случае ее нет\n",
    "structure =  {\n",
    "    \"usetype\": False,\n",
    "    \"media\": ['site']\n",
    "  }\n",
    "\n",
    "# Формируем из-заданных параметров заданние для Responsum в формате JSON\n",
    "task_json = rt.build_audience_task(facility=facility, date_from=date_from, date_to=date_to, media_filter=media_filter, demo_filter=demo_filter, statistics=statistics, structure=structure)\n",
    "# Отправляем задание на расчет\n",
    "task_audience = rt.send_audience_task(task_json)\n",
    "task_audience"
   ]
  },
  {
   "cell_type": "markdown",
   "metadata": {},
   "source": [
    "#### Получаем результат"
   ]
  },
  {
   "cell_type": "code",
   "execution_count": 169,
   "metadata": {},
   "outputs": [
    {
     "data": {
      "text/plain": [
       "{'taskId': '6f5b5c2c-2490-4b19-a76a-9490ecf3f092',\n",
       " 'profileName': 'responsum_mediascope',\n",
       " 'deliveryTypes': [],\n",
       " 'messageType': 'INFO',\n",
       " 'messages': [],\n",
       " 'cells': [{'coord': {'dtPoint': None,\n",
       "    'demoPoint': None,\n",
       "    'mediaPoint': {'type': 'site', 'val': 15869},\n",
       "    'usetypePoint': None},\n",
       "   'values': {'unwreach': 3277.0,\n",
       "    'reach': 14271.305170426656,\n",
       "    'adr': 1197.6400332212481,\n",
       "    'amr': 14271.305170426669}},\n",
       "  {'coord': {'dtPoint': None,\n",
       "    'demoPoint': None,\n",
       "    'mediaPoint': {'type': 'site', 'val': 15828},\n",
       "    'usetypePoint': None},\n",
       "   'values': {'unwreach': 9007.0,\n",
       "    'reach': 39969.333508417185,\n",
       "    'adr': 8942.51682317758,\n",
       "    'amr': 39969.333508417105}}],\n",
       " 'resultAsJson': None,\n",
       " 'actual': True}"
      ]
     },
     "execution_count": 169,
     "metadata": {},
     "output_type": "execute_result"
    }
   ],
   "source": [
    "task_result = rt.get_result(task_audience['taskId'])\n",
    "task_result"
   ]
  },
  {
   "cell_type": "markdown",
   "metadata": {},
   "source": [
    "#### Преобразуем результат в DataFrame\n",
    "\n",
    "На данном шаге, важно дать уникальное название нашем DataFrame'у, т.к. он нам понадобиться для дальнейших расчетов. Пусть будет __df_avito_ivi__"
   ]
  },
  {
   "cell_type": "code",
   "execution_count": 170,
   "metadata": {},
   "outputs": [
    {
     "data": {
      "text/html": [
       "<div>\n",
       "<style scoped>\n",
       "    .dataframe tbody tr th:only-of-type {\n",
       "        vertical-align: middle;\n",
       "    }\n",
       "\n",
       "    .dataframe tbody tr th {\n",
       "        vertical-align: top;\n",
       "    }\n",
       "\n",
       "    .dataframe thead th {\n",
       "        text-align: right;\n",
       "    }\n",
       "</style>\n",
       "<table border=\"1\" class=\"dataframe\">\n",
       "  <thead>\n",
       "    <tr style=\"text-align: right;\">\n",
       "      <th></th>\n",
       "      <th>site</th>\n",
       "      <th>unwreach</th>\n",
       "      <th>reach</th>\n",
       "      <th>adr</th>\n",
       "      <th>amr</th>\n",
       "    </tr>\n",
       "  </thead>\n",
       "  <tbody>\n",
       "    <tr>\n",
       "      <th>0</th>\n",
       "      <td>15869</td>\n",
       "      <td>3277.0</td>\n",
       "      <td>14271.305170</td>\n",
       "      <td>1197.640033</td>\n",
       "      <td>14271.305170</td>\n",
       "    </tr>\n",
       "    <tr>\n",
       "      <th>1</th>\n",
       "      <td>15828</td>\n",
       "      <td>9007.0</td>\n",
       "      <td>39969.333508</td>\n",
       "      <td>8942.516823</td>\n",
       "      <td>39969.333508</td>\n",
       "    </tr>\n",
       "  </tbody>\n",
       "</table>\n",
       "</div>"
      ],
      "text/plain": [
       "    site  unwreach         reach          adr           amr\n",
       "0  15869    3277.0  14271.305170  1197.640033  14271.305170\n",
       "1  15828    9007.0  39969.333508  8942.516823  39969.333508"
      ]
     },
     "execution_count": 170,
     "metadata": {},
     "output_type": "execute_result"
    }
   ],
   "source": [
    "df_avito_ivi = rt.result2table(task_result)\n",
    "df_avito_ivi"
   ]
  },
  {
   "cell_type": "markdown",
   "metadata": {},
   "source": [
    "### Задание №3 Расчет аудитории TotalInternet"
   ]
  },
  {
   "cell_type": "code",
   "execution_count": 148,
   "metadata": {},
   "outputs": [
    {
     "data": {
      "text/plain": [
       "{'profileName': 'responsum_mediascope',\n",
       " 'taskId': 'd2fa59c3-1032-4c99-b65a-74e2f6abc7f4',\n",
       " 'operation': 'Расчет задачи.',\n",
       " 'messages': ['Задача <d2fa59c3-1032-4c99-b65a-74e2f6abc7f4> поступила в обработку']}"
      ]
     },
     "execution_count": 148,
     "metadata": {},
     "output_type": "execute_result"
    }
   ],
   "source": [
    "# Задаем название задания (может пригодиться для понимания, где какое задание среди посчитанных)\n",
    "task_name = 'Total Internet may 2020'\n",
    "# Фильтр по медиа отсутствует\n",
    "media_filter = None\n",
    "# Фильтр по демографии отсутствует\n",
    "demo_filter = None\n",
    "# Задаем список статистик для расчета (указываем только нативные)\n",
    "statistics=[\"UnwReach\", \"Reach\", \"ADR\", \"AMR\"]\n",
    "# Указываем порядок группировки, в нашем случае ее нет\n",
    "structure =  {\n",
    "    \"usetype\": False\n",
    "  }\n",
    "\n",
    "# Формируем из-заданных параметров заданние для Responsum в формате JSON\n",
    "task_json = rt.build_audience_task(facility=facility, date_from=date_from, date_to=date_to, media_filter=media_filter, demo_filter=demo_filter, statistics=statistics, structure=structure)\n",
    "# Отправляем задание на расчет\n",
    "task_audience = rt.send_audience_task(task_json)\n",
    "task_audience"
   ]
  },
  {
   "cell_type": "markdown",
   "metadata": {},
   "source": [
    "#### Получаем результат"
   ]
  },
  {
   "cell_type": "code",
   "execution_count": 152,
   "metadata": {},
   "outputs": [
    {
     "data": {
      "text/plain": [
       "{'taskId': 'd2fa59c3-1032-4c99-b65a-74e2f6abc7f4',\n",
       " 'profileName': 'responsum_mediascope',\n",
       " 'deliveryTypes': [],\n",
       " 'messageType': 'INFO',\n",
       " 'messages': [],\n",
       " 'cells': [{'coord': {'dtPoint': None,\n",
       "    'demoPoint': None,\n",
       "    'mediaPoint': None,\n",
       "    'usetypePoint': None},\n",
       "   'values': {'unwreach': 19812.0,\n",
       "    'reach': 95336.20946921819,\n",
       "    'adr': 85375.43601236114,\n",
       "    'amr': 95336.2094692181}}],\n",
       " 'resultAsJson': None,\n",
       " 'actual': True}"
      ]
     },
     "execution_count": 152,
     "metadata": {},
     "output_type": "execute_result"
    }
   ],
   "source": [
    "task_result = rt.get_result(task_audience['taskId'])\n",
    "task_result"
   ]
  },
  {
   "cell_type": "markdown",
   "metadata": {},
   "source": [
    "#### Преобразуем результат в DataFrame\n",
    "\n",
    "На данном шаге, важно дать уникальное название нашем DataFrame'у, т.к. он нам понадобиться для дальнейших расчетов. Пусть будет __df_total__"
   ]
  },
  {
   "cell_type": "code",
   "execution_count": 153,
   "metadata": {},
   "outputs": [
    {
     "data": {
      "text/html": [
       "<div>\n",
       "<style scoped>\n",
       "    .dataframe tbody tr th:only-of-type {\n",
       "        vertical-align: middle;\n",
       "    }\n",
       "\n",
       "    .dataframe tbody tr th {\n",
       "        vertical-align: top;\n",
       "    }\n",
       "\n",
       "    .dataframe thead th {\n",
       "        text-align: right;\n",
       "    }\n",
       "</style>\n",
       "<table border=\"1\" class=\"dataframe\">\n",
       "  <thead>\n",
       "    <tr style=\"text-align: right;\">\n",
       "      <th></th>\n",
       "      <th>unwreach</th>\n",
       "      <th>reach</th>\n",
       "      <th>adr</th>\n",
       "      <th>amr</th>\n",
       "    </tr>\n",
       "  </thead>\n",
       "  <tbody>\n",
       "    <tr>\n",
       "      <th>0</th>\n",
       "      <td>19812.0</td>\n",
       "      <td>95336.209469</td>\n",
       "      <td>85375.436012</td>\n",
       "      <td>95336.209469</td>\n",
       "    </tr>\n",
       "  </tbody>\n",
       "</table>\n",
       "</div>"
      ],
      "text/plain": [
       "   unwreach         reach           adr           amr\n",
       "0   19812.0  95336.209469  85375.436012  95336.209469"
      ]
     },
     "execution_count": 153,
     "metadata": {},
     "output_type": "execute_result"
    }
   ],
   "source": [
    "df_total = rt.result2table(task_result)\n",
    "df_total"
   ]
  },
  {
   "cell_type": "markdown",
   "metadata": {},
   "source": [
    "### Формирование итоговой таблицы\n",
    "\n",
    "Следующим шагом соберем полученные результаты в один DataFrame, и расчитаем процентные статистики"
   ]
  },
  {
   "cell_type": "code",
   "execution_count": 154,
   "metadata": {},
   "outputs": [
    {
     "data": {
      "text/html": [
       "<div>\n",
       "<style scoped>\n",
       "    .dataframe tbody tr th:only-of-type {\n",
       "        vertical-align: middle;\n",
       "    }\n",
       "\n",
       "    .dataframe tbody tr th {\n",
       "        vertical-align: top;\n",
       "    }\n",
       "\n",
       "    .dataframe thead th {\n",
       "        text-align: right;\n",
       "    }\n",
       "</style>\n",
       "<table border=\"1\" class=\"dataframe\">\n",
       "  <thead>\n",
       "    <tr style=\"text-align: right;\">\n",
       "      <th></th>\n",
       "      <th>unwreach</th>\n",
       "      <th>reach</th>\n",
       "      <th>adr</th>\n",
       "      <th>amr</th>\n",
       "      <th>project</th>\n",
       "    </tr>\n",
       "  </thead>\n",
       "  <tbody>\n",
       "    <tr>\n",
       "      <th>0</th>\n",
       "      <td>9007.0</td>\n",
       "      <td>39969.333508</td>\n",
       "      <td>8942.516823</td>\n",
       "      <td>39969.333508</td>\n",
       "      <td>avito.ru</td>\n",
       "    </tr>\n",
       "    <tr>\n",
       "      <th>0</th>\n",
       "      <td>10385.0</td>\n",
       "      <td>46592.158751</td>\n",
       "      <td>9982.918132</td>\n",
       "      <td>46592.158751</td>\n",
       "      <td>avito.ru+ivi.ru</td>\n",
       "    </tr>\n",
       "    <tr>\n",
       "      <th>0</th>\n",
       "      <td>19812.0</td>\n",
       "      <td>95336.209469</td>\n",
       "      <td>85375.436012</td>\n",
       "      <td>95336.209469</td>\n",
       "      <td>total</td>\n",
       "    </tr>\n",
       "  </tbody>\n",
       "</table>\n",
       "</div>"
      ],
      "text/plain": [
       "   unwreach         reach           adr           amr          project\n",
       "0    9007.0  39969.333508   8942.516823  39969.333508         avito.ru\n",
       "0   10385.0  46592.158751   9982.918132  46592.158751  avito.ru+ivi.ru\n",
       "0   19812.0  95336.209469  85375.436012  95336.209469            total"
      ]
     },
     "execution_count": 154,
     "metadata": {},
     "output_type": "execute_result"
    }
   ],
   "source": [
    "# Для начала добавим название проектов в отдельный столбик\n",
    "df_avito['project'] = 'avito.ru'\n",
    "df_avito_ivi['project'] = 'avito.ru+ivi.ru'\n",
    "df_total['project'] = 'total'\n",
    "\n",
    "# Объединим наши DataFrame'ы\n",
    "df_result = pd.concat([df_avito, df_avito_ivi, df_total])\n",
    "df_result\n"
   ]
  },
  {
   "cell_type": "code",
   "execution_count": 1,
   "metadata": {},
   "outputs": [
    {
     "data": {
      "text/plain": [
       "64000000"
      ]
     },
     "execution_count": 1,
     "metadata": {},
     "output_type": "execute_result"
    }
   ],
   "source": [
    "32000 * 2000"
   ]
  },
  {
   "cell_type": "code",
   "execution_count": 2,
   "metadata": {},
   "outputs": [
    {
     "data": {
      "text/plain": [
       "30000000"
      ]
     },
     "execution_count": 2,
     "metadata": {},
     "output_type": "execute_result"
    }
   ],
   "source": [
    "30000 * 1000"
   ]
  }
 ],
 "metadata": {
  "kernelspec": {
   "display_name": "Python 3",
   "language": "python",
   "name": "python3"
  },
  "language_info": {
   "codemirror_mode": {
    "name": "ipython",
    "version": 3
   },
   "file_extension": ".py",
   "mimetype": "text/x-python",
   "name": "python",
   "nbconvert_exporter": "python",
   "pygments_lexer": "ipython3",
   "version": "3.7.7-final"
  }
 },
 "nbformat": 4,
 "nbformat_minor": 4
}